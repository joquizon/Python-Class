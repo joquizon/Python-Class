{
 "cells": [
  {
   "cell_type": "code",
   "execution_count": 1,
   "metadata": {},
   "outputs": [],
   "source": [
    "# map func is to run through your defined func thru an iterable like a list or dict and have it spit out a new list see ex."
   ]
  },
  {
   "cell_type": "code",
   "execution_count": 2,
   "metadata": {},
   "outputs": [],
   "source": [
    "def dudefunc(x):\n",
    "    return x+'ee'"
   ]
  },
  {
   "cell_type": "code",
   "execution_count": 3,
   "metadata": {},
   "outputs": [],
   "source": [
    "mylist= [\"L\",\"C\",\"D\",\"B\"]"
   ]
  },
  {
   "cell_type": "code",
   "execution_count": 4,
   "metadata": {},
   "outputs": [
    {
     "name": "stdout",
     "output_type": "stream",
     "text": [
      "Lee\n",
      "Cee\n",
      "Dee\n",
      "Bee\n"
     ]
    }
   ],
   "source": [
    "for w in map(dudefunc,mylist):\n",
    "    print(w)"
   ]
  },
  {
   "cell_type": "code",
   "execution_count": 5,
   "metadata": {},
   "outputs": [
    {
     "data": {
      "text/plain": [
       "['Lee', 'Cee', 'Dee', 'Bee']"
      ]
     },
     "execution_count": 5,
     "metadata": {},
     "output_type": "execute_result"
    }
   ],
   "source": [
    "list(map(dudefunc,mylist))"
   ]
  },
  {
   "cell_type": "code",
   "execution_count": 6,
   "metadata": {},
   "outputs": [],
   "source": [
    "def sixnineposlister(d):\n",
    "    sixnineposes=[]\n",
    "    for x in range(len(d)):\n",
    "        if d[x]==6:\n",
    "            sixnineposes.append(x)\n",
    "        elif d[x]==9:\n",
    "            sixnineposes.append(x)\n",
    "    return sixnineposes\n",
    "    \n",
    "        \n",
    "    "
   ]
  },
  {
   "cell_type": "code",
   "execution_count": 7,
   "metadata": {},
   "outputs": [],
   "source": [
    "numlist=[20,26,309,6,22,2,2,7,5,5,5,9,5,53,69,8,1],[53,6,9,8]"
   ]
  },
  {
   "cell_type": "code",
   "execution_count": 8,
   "metadata": {},
   "outputs": [
    {
     "name": "stdout",
     "output_type": "stream",
     "text": [
      "[3, 11]\n",
      "[1, 2]\n"
     ]
    }
   ],
   "source": [
    "for x in map(sixnineposlister,numlist):\n",
    "    print (x)"
   ]
  },
  {
   "cell_type": "code",
   "execution_count": 9,
   "metadata": {},
   "outputs": [],
   "source": [
    "#note that the function you create is passed in as an argument"
   ]
  },
  {
   "cell_type": "code",
   "execution_count": 10,
   "metadata": {},
   "outputs": [],
   "source": [
    "def fword(n):\n",
    "    fwordlist=[]\n",
    "    for x in range(len(n)):\n",
    "        n[x].lower()\n",
    "        y = n[x]\n",
    "        for z in range(len(y)):\n",
    "            if y[0]=='f':\n",
    "                fwordlist.append(y)\n",
    "                break\n",
    "    return fwordlist\n",
    "                "
   ]
  },
  {
   "cell_type": "code",
   "execution_count": 11,
   "metadata": {},
   "outputs": [],
   "source": [
    "wordlist= ['fork','nuts','soup','fuck','fornicate','fun','adios','fern','banana']"
   ]
  },
  {
   "cell_type": "code",
   "execution_count": 12,
   "metadata": {},
   "outputs": [
    {
     "data": {
      "text/plain": [
       "['fork', 'fuck', 'fornicate', 'fun', 'fern']"
      ]
     },
     "execution_count": 12,
     "metadata": {},
     "output_type": "execute_result"
    }
   ],
   "source": [
    "fword(wordlist)"
   ]
  },
  {
   "cell_type": "code",
   "execution_count": 13,
   "metadata": {},
   "outputs": [],
   "source": [
    "wordlistA= ['fork','nuts','soup','fuck','fornicate','fun','adios','fern','banana'],['fandango','fart','ant','bruin','cat','dingo','elephant','fan','fortress']"
   ]
  },
  {
   "cell_type": "code",
   "execution_count": 14,
   "metadata": {},
   "outputs": [
    {
     "data": {
      "text/plain": [
       "[['fork', 'fuck', 'fornicate', 'fun', 'fern'],\n",
       " ['fandango', 'fart', 'fan', 'fortress']]"
      ]
     },
     "execution_count": 14,
     "metadata": {},
     "output_type": "execute_result"
    }
   ],
   "source": [
    "list(map(fword,wordlistA))"
   ]
  },
  {
   "cell_type": "code",
   "execution_count": 15,
   "metadata": {},
   "outputs": [
    {
     "name": "stdout",
     "output_type": "stream",
     "text": [
      "['fork', 'fuck', 'fornicate', 'fun', 'fern']\n",
      "['fandango', 'fart', 'fan', 'fortress']\n"
     ]
    }
   ],
   "source": [
    "for x in map(fword,wordlistA):\n",
    "             print(x)"
   ]
  },
  {
   "cell_type": "code",
   "execution_count": 38,
   "metadata": {},
   "outputs": [],
   "source": [
    "def fwordTrue(n):\n",
    "    fwordlist=[]\n",
    "    deadlist=[]\n",
    "    for x in range(len(n)):\n",
    "        n[x].lower()\n",
    "        y = n[x][0]\n",
    "        if y=='f':\n",
    "            fwordlist.append(n)\n",
    "            print(f'{n} is an f-word so this list is valid')\n",
    "            break\n",
    "        if not fwordlist:\n",
    "            print(f'{n} is not an f-word')\n",
    "            deadlist.append(n)\n",
    "            break\n",
    "    if not fwordlist:\n",
    "        print('this list not valid')\n",
    "#checks if f is first letter. puts it in new fwordlist. goes to next word breaks \n",
    "#then goes to next word. if fwordlist is empty say list is not valid"
   ]
  },
  {
   "cell_type": "code",
   "execution_count": 17,
   "metadata": {},
   "outputs": [
    {
     "name": "stdout",
     "output_type": "stream",
     "text": [
      "['fork', 'nuts', 'soup', 'fuck', 'fornicate', 'fun', 'adios', 'fern', 'banana'] is an f-word so this list is valid\n"
     ]
    }
   ],
   "source": [
    "fwordTrue(wordlist)"
   ]
  },
  {
   "cell_type": "code",
   "execution_count": 18,
   "metadata": {},
   "outputs": [],
   "source": [
    "wordlistB= ['fork','nuts','soup','fuck','fornicate','fun','adios','fern','banana'],['tango','art','ant','bruin','cat','dingo','elephant','tan','actress'],['cart','dude','goat'],['far','fear','fat']"
   ]
  },
  {
   "cell_type": "code",
   "execution_count": 19,
   "metadata": {},
   "outputs": [
    {
     "name": "stdout",
     "output_type": "stream",
     "text": [
      "['fork', 'nuts', 'soup', 'fuck', 'fornicate', 'fun', 'adios', 'fern', 'banana'] is an f-word so this list is valid\n",
      "['tango', 'art', 'ant', 'bruin', 'cat', 'dingo', 'elephant', 'tan', 'actress'] is not an f-word\n",
      "this list not valid\n",
      "['cart', 'dude', 'goat'] is not an f-word\n",
      "this list not valid\n",
      "['far', 'fear', 'fat'] is an f-word so this list is valid\n"
     ]
    }
   ],
   "source": [
    "for x in filter(fwordTrue,wordlistB):\n",
    "    print (x)"
   ]
  },
  {
   "cell_type": "code",
   "execution_count": 20,
   "metadata": {},
   "outputs": [
    {
     "name": "stdout",
     "output_type": "stream",
     "text": [
      "['fork', 'nuts', 'soup', 'fuck', 'fornicate', 'fun', 'adios', 'fern', 'banana'] is an f-word so this list is valid\n",
      "['tango', 'art', 'ant', 'bruin', 'cat', 'dingo', 'elephant', 'tan', 'actress'] is not an f-word\n",
      "this list not valid\n",
      "['cart', 'dude', 'goat'] is not an f-word\n",
      "this list not valid\n",
      "['far', 'fear', 'fat'] is an f-word so this list is valid\n"
     ]
    },
    {
     "data": {
      "text/plain": [
       "[]"
      ]
     },
     "execution_count": 20,
     "metadata": {},
     "output_type": "execute_result"
    }
   ],
   "source": [
    "list(filter(fwordTrue,wordlistB))"
   ]
  },
  {
   "cell_type": "code",
   "execution_count": 21,
   "metadata": {},
   "outputs": [],
   "source": [
    "#lambda expressions are for functions used once and can beanonymous s"
   ]
  },
  {
   "cell_type": "code",
   "execution_count": 22,
   "metadata": {},
   "outputs": [],
   "source": [
    "def firstL(n):\n",
    "    x= n[0][0]\n",
    "    return x "
   ]
  },
  {
   "cell_type": "code",
   "execution_count": 23,
   "metadata": {},
   "outputs": [],
   "source": [
    "targets=['john','steve','dan']"
   ]
  },
  {
   "cell_type": "code",
   "execution_count": 24,
   "metadata": {},
   "outputs": [
    {
     "data": {
      "text/plain": [
       "'j'"
      ]
     },
     "execution_count": 24,
     "metadata": {},
     "output_type": "execute_result"
    }
   ],
   "source": [
    "firstL(targets)"
   ]
  },
  {
   "cell_type": "code",
   "execution_count": 25,
   "metadata": {},
   "outputs": [
    {
     "name": "stdout",
     "output_type": "stream",
     "text": [
      "j\n",
      "s\n",
      "d\n"
     ]
    }
   ],
   "source": [
    "for d in (map(firstL,targets)):\n",
    "    print(d)"
   ]
  },
  {
   "cell_type": "code",
   "execution_count": 26,
   "metadata": {},
   "outputs": [],
   "source": [
    "def firstL(n):\n",
    "    x= n[0][0]\n",
    "    return x "
   ]
  },
  {
   "cell_type": "code",
   "execution_count": 27,
   "metadata": {},
   "outputs": [],
   "source": [
    "def firstL(n):return n[0][0]"
   ]
  },
  {
   "cell_type": "code",
   "execution_count": 28,
   "metadata": {},
   "outputs": [],
   "source": [
    "targets =['steve','joe','fanny'],['nina','buboy','ann']"
   ]
  },
  {
   "cell_type": "code",
   "execution_count": 29,
   "metadata": {},
   "outputs": [
    {
     "data": {
      "text/plain": [
       "'steve'"
      ]
     },
     "execution_count": 29,
     "metadata": {},
     "output_type": "execute_result"
    }
   ],
   "source": [
    "firstL(targets)"
   ]
  },
  {
   "cell_type": "code",
   "execution_count": 30,
   "metadata": {},
   "outputs": [],
   "source": [
    "firstL = lambda g:g[0][0]"
   ]
  },
  {
   "cell_type": "code",
   "execution_count": 31,
   "metadata": {},
   "outputs": [
    {
     "data": {
      "text/plain": [
       "'steve'"
      ]
     },
     "execution_count": 31,
     "metadata": {},
     "output_type": "execute_result"
    }
   ],
   "source": [
    "firstL(targets)"
   ]
  },
  {
   "cell_type": "code",
   "execution_count": 32,
   "metadata": {},
   "outputs": [
    {
     "data": {
      "text/plain": [
       "['steve', 'nina']"
      ]
     },
     "execution_count": 32,
     "metadata": {},
     "output_type": "execute_result"
    }
   ],
   "source": [
    "list(map(lambda g:g[0],targets))"
   ]
  },
  {
   "cell_type": "code",
   "execution_count": 33,
   "metadata": {},
   "outputs": [],
   "source": [
    "def fcheck(x):\n",
    "    return x[0] == 'f'"
   ]
  },
  {
   "cell_type": "code",
   "execution_count": 34,
   "metadata": {},
   "outputs": [
    {
     "data": {
      "text/plain": [
       "False"
      ]
     },
     "execution_count": 34,
     "metadata": {},
     "output_type": "execute_result"
    }
   ],
   "source": [
    "fcheck('ore')"
   ]
  },
  {
   "cell_type": "code",
   "execution_count": 35,
   "metadata": {},
   "outputs": [
    {
     "data": {
      "text/plain": [
       "[['steve', 'joe', 'fanny'], ['nina', 'buboy', 'ann']]"
      ]
     },
     "execution_count": 35,
     "metadata": {},
     "output_type": "execute_result"
    }
   ],
   "source": [
    "list(filter(lambda x:x[2][2]== 'n',targets))"
   ]
  },
  {
   "cell_type": "code",
   "execution_count": 36,
   "metadata": {},
   "outputs": [],
   "source": [
    "dudes=['leo','don','raph','mike']"
   ]
  },
  {
   "cell_type": "code",
   "execution_count": 37,
   "metadata": {},
   "outputs": [
    {
     "data": {
      "text/plain": [
       "['l', 'd', 'r', 'm']"
      ]
     },
     "execution_count": 37,
     "metadata": {},
     "output_type": "execute_result"
    }
   ],
   "source": [
    "list(map(lambda t:t[0],dudes))\n",
    "#grabs kfirst initial of names on list"
   ]
  },
  {
   "cell_type": "code",
   "execution_count": null,
   "metadata": {},
   "outputs": [],
   "source": []
  }
 ],
 "metadata": {
  "kernelspec": {
   "display_name": "Python 3",
   "language": "python",
   "name": "python3"
  },
  "language_info": {
   "codemirror_mode": {
    "name": "ipython",
    "version": 3
   },
   "file_extension": ".py",
   "mimetype": "text/x-python",
   "name": "python",
   "nbconvert_exporter": "python",
   "pygments_lexer": "ipython3",
   "version": "3.7.6"
  }
 },
 "nbformat": 4,
 "nbformat_minor": 4
}
