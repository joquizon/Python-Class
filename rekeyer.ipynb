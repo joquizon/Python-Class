{
 "cells": [
  {
   "cell_type": "code",
   "execution_count": 23,
   "metadata": {},
   "outputs": [
    {
     "name": "stdout",
     "output_type": "stream",
     "text": [
      "b'gAZGajBxKgO77LSENKCi-q_D6wqxHveYlpBuLKIdmuU='\n"
     ]
    }
   ],
   "source": [
    "        \n",
    "def keycreate():\n",
    "    from cryptography.fernet import Fernet\n",
    "    key = Fernet.generate_key()\n",
    "    fkey = open('testdocs/filekey.NIGHT','wb')\n",
    "    fkey.write(key)\n",
    "    print (key)\n",
    "\n",
    "keycreate()"
   ]
  },
  {
   "cell_type": "code",
   "execution_count": 29,
   "metadata": {},
   "outputs": [
    {
     "name": "stdout",
     "output_type": "stream",
     "text": [
      "b'gAZGajBxKgO77LSENKCi-q_D6wqxHveYlpBuLKIdmuU='\n",
      "b'gAAAAABfGQV-vqTzIwc2wr7FYBD18bGw0nkwX4UMZqSZRUJ1bn_fPpWGdQI_vSLKTpCb7L_1H-waOGpJKCloHfU6aSeruQl0YQ=='\n",
      ">>>>>>>>>>>>>>>>>>>>>>>\n",
      "josequizon\n"
     ]
    }
   ],
   "source": [
    "def noclistencrypt(): \n",
    "    from cryptography.fernet import Fernet\n",
    "    #     this open encrypter key created by keycreate() as variable\n",
    "    fkey = open('testdocs/filekey.night','rb')\n",
    "    key = fkey.read()\n",
    "    print (key)\n",
    "    cipher = Fernet(key)\n",
    "\n",
    "#     opens created files to be encrypted and encrypts\n",
    "\n",
    "# >>>>>>>>>>>>>>>>>>>>>\n",
    "    Nocfile= 'testdocs/noclist.night'\n",
    "    with open(Nocfile,'rb')as e:\n",
    "        Nocfiletoencrypt = e.read()\n",
    "\n",
    "\n",
    "    Nocencryptedfile = cipher.encrypt(Nocfiletoencrypt) \n",
    "    with open(Nocfile,'wb') as ee:\n",
    "        ee.write(Nocencryptedfile)\n",
    "\n",
    "    with open('testdocs/noclist.night','rb') as df:\n",
    "        encryptedfile = df.read()\n",
    "        print(encryptedfile)\n",
    "        print('>>>>>>>>>>>>>>>>>>>>>>>')\n",
    "    decrypted_file = cipher.decrypt(encryptedfile)\n",
    "    print(decrypted_file.decode())  \n",
    "noclistencrypt()"
   ]
  },
  {
   "cell_type": "code",
   "execution_count": 32,
   "metadata": {},
   "outputs": [
    {
     "name": "stdout",
     "output_type": "stream",
     "text": [
      "b'gAZGajBxKgO77LSENKCi-q_D6wqxHveYlpBuLKIdmuU='\n",
      "b'gAAAAABfGRu8g0_KumDEmM169jllbh9IMbjy544qPLw7Bqa6hLC9BjGPpCCYOkswrm4UIfn5jrzAeEvZGDRrniKI5cYN4jIiq_tbx8UjE-PIrpeM_a370yCs33-TbF0ARZWGp0YDVBf9nybOER45G03kNm2h_YE_5FCOtM0pgufP8mDpRAmd_PlKY2p57rs0VrDz0Oaz43Nfi0Hef6MIm8Dj6kiEzWMwus13W6Qkb3y8N0dskQEUzbGUBXPSuuAYeoQk5YPNJw0Y384aLCRwMBeHYzATud34iRZNO8s4UBruLCErGOep3ssWOCaizN3EgYD_TAZ2nhEH'\n",
      ">>>>>>>>>>>>>>>>>>>>>>>\n",
      "jose\r\n",
      "quizon\r\n",
      "chico\r\n",
      "123456789\r\n",
      "1234567890\r\n",
      "123 bway\r\n",
      "ny\r\n",
      "NY\r\n",
      "11372\r\n",
      "3\r\n",
      "28\r\n",
      "2004\r\n",
      "FD\r\n",
      "*ntmgr\r\n",
      "28.653846153846153\r\n",
      "1146.1538461538462\r\n",
      "4584.615384615385\r\n",
      "59600.0\r\n",
      "0\r\n",
      "[0]\r\n",
      "0\r\n",
      "[0]\r\n",
      "0\r\n",
      "[0]\r\n",
      "\n"
     ]
    }
   ],
   "source": [
    "empname='josequizon'\n",
    "def filencrypter():  \n",
    "#         from cryptography.fernet import Fernet\n",
    "#         key = Fernet.generate_key()\n",
    "#         fkey = open('testdocs/filekey.night','wb')\n",
    "#         fkey.write(key)\n",
    "#         print (key)\n",
    "    #     this open encrypter key created by keycreate() as variable\n",
    "    from cryptography.fernet import Fernet\n",
    "    fkey = open('testdocs/filekey.night','rb')\n",
    "    key = fkey.read()\n",
    "    print (key)\n",
    "    cipher = Fernet(key)\n",
    "\n",
    "#     opens created files to be encrypted and encrypts\n",
    "\n",
    "\n",
    "# >>>>>>>>>>>>>>>>>>>>>\n",
    "    infofile= 'testdocs/'+ empname +'.night'\n",
    "    with open(infofile,'rb')as f:\n",
    "        filetoencrypt = f.read()\n",
    "\n",
    "\n",
    "    encryptedfile = cipher.encrypt(filetoencrypt) \n",
    "    with open(infofile,'wb') as ef:\n",
    "        ef.write(encryptedfile)\n",
    "\n",
    "\n",
    "# >>>>>>>>>>>>>>>>>>>>>          \n",
    "    sickfile= 'testdocs/'+ empname +'sickdates.night'\n",
    "    with open(sickfile,'rb')as ff:\n",
    "        sickfiletoencrypt = ff.read()\n",
    "\n",
    "    sickencryptedfile = cipher.encrypt(sickfiletoencrypt) \n",
    "    with open(sickfile,'wb') as eff:\n",
    "        eff.write(sickencryptedfile)\n",
    "\n",
    "\n",
    "# >>>>>>>>>>>>>>>>>>>>>          \n",
    "    persfile= 'testdocs/'+ empname +'persdates.night'\n",
    "    with open(persfile,'rb')as fff:\n",
    "        persfiletoencrypt = fff.read()\n",
    "\n",
    "    persencryptedfile = cipher.encrypt(persfiletoencrypt) \n",
    "    with open(persfile,'wb') as efff:\n",
    "        efff.write(persencryptedfile)\n",
    "\n",
    "\n",
    "# >>>>>>>>>>>>>>>>>>>>>      \n",
    "    vacfile= 'testdocs/'+ empname +'vacdates.night'\n",
    "    with open(vacfile,'rb')as ffff:\n",
    "        vacfiletoencrypt = ffff.read()\n",
    "\n",
    "    vacencryptedfile = cipher.encrypt(vacfiletoencrypt) \n",
    "    with open(vacfile,'wb') as effff:\n",
    "        effff.write(vacencryptedfile)\n",
    "\n",
    "\n",
    "    with open('testdocs/'+ empname +'.night','rb') as df:\n",
    "        encryptedfile = df.read()\n",
    "        print(encryptedfile)\n",
    "        print('>>>>>>>>>>>>>>>>>>>>>>>')\n",
    "    decrypted_file = cipher.decrypt(encryptedfile)\n",
    "    print(decrypted_file.decode()) \n",
    "filencrypter()"
   ]
  },
  {
   "cell_type": "code",
   "execution_count": null,
   "metadata": {},
   "outputs": [],
   "source": []
  }
 ],
 "metadata": {
  "kernelspec": {
   "display_name": "Python 3",
   "language": "python",
   "name": "python3"
  },
  "language_info": {
   "codemirror_mode": {
    "name": "ipython",
    "version": 3
   },
   "file_extension": ".py",
   "mimetype": "text/x-python",
   "name": "python",
   "nbconvert_exporter": "python",
   "pygments_lexer": "ipython3",
   "version": "3.7.6"
  }
 },
 "nbformat": 4,
 "nbformat_minor": 4
}
