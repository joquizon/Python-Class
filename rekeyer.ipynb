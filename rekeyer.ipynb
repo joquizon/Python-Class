{
 "cells": [
  {
   "cell_type": "code",
   "execution_count": 1,
   "metadata": {},
   "outputs": [
    {
     "name": "stdout",
     "output_type": "stream",
     "text": [
      "b'M0T9DUR6y6mb9XXhbXU22gUjxVO-rGnVUIEjP6iWi-A='\n"
     ]
    }
   ],
   "source": [
    "        \n",
    "def keycreate():\n",
    "    from cryptography.fernet import Fernet\n",
    "    key = Fernet.generate_key()\n",
    "    fkey = open('testdocs/filekey.NIGHT','wb')\n",
    "    fkey.write(key)\n",
    "    print (key)\n",
    "\n",
    "keycreate()"
   ]
  },
  {
   "cell_type": "code",
   "execution_count": 2,
   "metadata": {},
   "outputs": [
    {
     "name": "stdout",
     "output_type": "stream",
     "text": [
      "files created!\n"
     ]
    }
   ],
   "source": [
    "nlist = []\n",
    "def nocupdate():\n",
    "#     this creates txt files from list\n",
    "    with open(f'testdocs\\\\noclist.night',mode='w')as n:\n",
    "        for m in range(len(nlist)):\n",
    "            n.write(f'{nlist[m]}\\n')  \n",
    "    print('files created!')\n",
    "nocupdate()"
   ]
  },
  {
   "cell_type": "code",
   "execution_count": 3,
   "metadata": {},
   "outputs": [
    {
     "name": "stdout",
     "output_type": "stream",
     "text": [
      "b'M0T9DUR6y6mb9XXhbXU22gUjxVO-rGnVUIEjP6iWi-A='\n",
      "b'gAAAAABfwLRIPaZWgg4EP0l36qOjtOyy_5Kz2NssSlo1l7YYbjPgWulyyVGKKNF6BSLMH7y_sscjQtzG_vKapyuonjLux8s3zw=='\n",
      ">>>>>>>>>>>>>>>>>>>>>>>\n",
      "\n"
     ]
    }
   ],
   "source": [
    "def noclistencrypt(): \n",
    "    from cryptography.fernet import Fernet\n",
    "    #     this open encrypter key created by keycreate() as variable\n",
    "    fkey = open('testdocs/filekey.night','rb')\n",
    "    key = fkey.read()\n",
    "    print (key)\n",
    "    cipher = Fernet(key)\n",
    "\n",
    "#     opens created files to be encrypted and encrypts\n",
    "\n",
    "# >>>>>>>>>>>>>>>>>>>>>\n",
    "    Nocfile= 'testdocs/noclist.night'\n",
    "    with open(Nocfile,'rb')as e:\n",
    "        Nocfiletoencrypt = e.read()\n",
    "\n",
    "\n",
    "    Nocencryptedfile = cipher.encrypt(Nocfiletoencrypt) \n",
    "    with open(Nocfile,'wb') as ee:\n",
    "        ee.write(Nocencryptedfile)\n",
    "\n",
    "    with open('testdocs/noclist.night','rb') as df:\n",
    "        encryptedfile = df.read()\n",
    "        print(encryptedfile)\n",
    "        print('>>>>>>>>>>>>>>>>>>>>>>>')\n",
    "    decrypted_file = cipher.decrypt(encryptedfile)\n",
    "    print(decrypted_file.decode())  \n",
    "noclistencrypt()"
   ]
  },
  {
   "cell_type": "code",
   "execution_count": 3,
   "metadata": {},
   "outputs": [
    {
     "name": "stdout",
     "output_type": "stream",
     "text": [
      "b'M0T9DUR6y6mb9XXhbXU22gUjxVO-rGnVUIEjP6iWi-A='\n",
      "b'gAAAAABfwNvgbqlZAUu2I5dHu0LJyZT70FHP_YP9T-NGhRE6DDUOeM8aLkoVuigf2kCXS1juTQGmI0RjZQShqcyT5h4whUNhcA=='\n",
      ">>>>>>>>>>>>>>>>>>>>>>>\n",
      "21\n"
     ]
    }
   ],
   "source": [
    "# file for what year it is for yearly check\n",
    "def yearstoreencrypt(): \n",
    "    from cryptography.fernet import Fernet\n",
    "    #     this open encrypter key created by keycreate() as variable\n",
    "    fkey = open('testdocs/filekey.night','rb')\n",
    "    key = fkey.read()\n",
    "    print (key)\n",
    "    cipher = Fernet(key)\n",
    "\n",
    "#     opens created files to be encrypted and encrypts\n",
    "\n",
    "# >>>>>>>>>>>>>>>>>>>>>\n",
    "    Nocfile= 'testdocs/yearstore.night'\n",
    "    with open(Nocfile,'rb')as e:\n",
    "        Nocfiletoencrypt = e.read()\n",
    "\n",
    "\n",
    "    Nocencryptedfile = cipher.encrypt(Nocfiletoencrypt) \n",
    "    with open(Nocfile,'wb') as ee:\n",
    "        ee.write(Nocencryptedfile)\n",
    "\n",
    "    with open('testdocs/yearstore.night','rb') as df:\n",
    "        encryptedfile = df.read()\n",
    "        print(encryptedfile)\n",
    "        print('>>>>>>>>>>>>>>>>>>>>>>>')\n",
    "    decrypted_file = cipher.decrypt(encryptedfile)\n",
    "    print(decrypted_file.decode())  \n",
    "yearstoreencrypt()"
   ]
  },
  {
   "cell_type": "code",
   "execution_count": 2,
   "metadata": {},
   "outputs": [
    {
     "name": "stdout",
     "output_type": "stream",
     "text": [
      "b'M0T9DUR6y6mb9XXhbXU22gUjxVO-rGnVUIEjP6iWi-A='\n",
      "b'gAAAAABfwN_ScyEzC8-YTBFgC4q92az7djm8X-j1ECrwmbf2yMYifhz1SP7GyMPxmopDMFnQhXjOqftCg1rsmb22MA6newzTuA=='\n",
      ">>>>>>>>>>>>>>>>>>>>>>>\n",
      "11\n"
     ]
    }
   ],
   "source": [
    "# file for what month in adding sickday check\n",
    "def sickrunencrypt(): \n",
    "    from cryptography.fernet import Fernet\n",
    "    #     this open encrypter key created by keycreate() as variable\n",
    "    fkey = open('testdocs/filekey.night','rb')\n",
    "    key = fkey.read()\n",
    "    print (key)\n",
    "    cipher = Fernet(key)\n",
    "\n",
    "#     opens created files to be encrypted and encrypts\n",
    "\n",
    "# >>>>>>>>>>>>>>>>>>>>>\n",
    "    Nocfile= 'testdocs/sickrun.night'\n",
    "    with open(Nocfile,'rb')as e:\n",
    "        Nocfiletoencrypt = e.read()\n",
    "\n",
    "\n",
    "    Nocencryptedfile = cipher.encrypt(Nocfiletoencrypt) \n",
    "    with open(Nocfile,'wb') as ee:\n",
    "        ee.write(Nocencryptedfile)\n",
    "\n",
    "    with open('testdocs/sickrun.night','rb') as df:\n",
    "        encryptedfile = df.read()\n",
    "        print(encryptedfile)\n",
    "        print('>>>>>>>>>>>>>>>>>>>>>>>')\n",
    "    decrypted_file = cipher.decrypt(encryptedfile)\n",
    "    print(decrypted_file.decode())  \n",
    "sickrunencrypt()"
   ]
  },
  {
   "cell_type": "code",
   "execution_count": 5,
   "metadata": {},
   "outputs": [
    {
     "name": "stdout",
     "output_type": "stream",
     "text": [
      "b'M0T9DUR6y6mb9XXhbXU22gUjxVO-rGnVUIEjP6iWi-A='\n",
      "b'gAAAAABfwLRIPaZWgg4EP0l36qOjtOyy_5Kz2NssSlo1l7YYbjPgWulyyVGKKNF6BSLMH7y_sscjQtzG_vKapyuonjLux8s3zw=='\n",
      ">>>>>>>>>>>>>>>>>>>>>>>\n",
      "\n"
     ]
    }
   ],
   "source": [
    "def nocviewer():\n",
    "    from cryptography.fernet import Fernet\n",
    "    #     this open encrypter key created by keycreate() as variable\n",
    "    fkey = open('testdocs/filekey.night','rb')\n",
    "    key = fkey.read()\n",
    "    print (key)\n",
    "    cipher = Fernet(key)\n",
    "    with open('testdocs/noclist.night','rb') as df:\n",
    "        encryptedfile = df.read()\n",
    "        print(encryptedfile)\n",
    "        print('>>>>>>>>>>>>>>>>>>>>>>>')\n",
    "    decrypted_file = cipher.decrypt(encryptedfile)\n",
    "    print(decrypted_file.decode())  \n",
    "nocviewer()"
   ]
  },
  {
   "cell_type": "code",
   "execution_count": null,
   "metadata": {},
   "outputs": [
    {
     "name": "stdout",
     "output_type": "stream",
     "text": [
      "b'M0T9DUR6y6mb9XXhbXU22gUjxVO-rGnVUIEjP6iWi-A='\n"
     ]
    }
   ],
   "source": [
    "def empsetviewer():\n",
    "    from cryptography.fernet import Fernet\n",
    "    #     this open encrypter key created by keycreate() as variable\n",
    "    fkey = open('testdocs/filekey.night','rb')\n",
    "    key = fkey.read()\n",
    "    print (key)\n",
    "    cipher = Fernet(key)\n",
    "    \n",
    "    empchoice = input('employeename:')\n",
    "# main\n",
    "    with open('testdocs/'+empchoice+'.night','rb') as df:\n",
    "        encryptedfile = df.read()\n",
    "        print(encryptedfile)\n",
    "        print('>>>>>>>>>>>>>>>>>>>>>>>')\n",
    "    decrypted_file = cipher.decrypt(encryptedfile)\n",
    "    print('MAIN')\n",
    "    print(decrypted_file.decode())\n",
    "# sick\n",
    "    with open('testdocs/'+empchoice+'sickdates.night','rb') as sf:\n",
    "        encryptedfile = sf.read()\n",
    "        print(encryptedfile)\n",
    "        print('>>>>>>>>>>>>>>>>>>>>>>>')\n",
    "    decrypted_file = cipher.decrypt(encryptedfile)\n",
    "    print('SICK')\n",
    "    print(decrypted_file.decode())\n",
    "# pers\n",
    "    with open('testdocs/'+empchoice+'persdates.night','rb') as pf:\n",
    "        encryptedfile = pf.read()\n",
    "        print(encryptedfile)\n",
    "        print('>>>>>>>>>>>>>>>>>>>>>>>')\n",
    "    decrypted_file = cipher.decrypt(encryptedfile)\n",
    "    print('PERSONAL')\n",
    "    print(decrypted_file.decode())\n",
    "# vac\n",
    "    with open('testdocs/'+empchoice+'vacdates.night','rb') as vf:\n",
    "        encryptedfile = vf.read()\n",
    "        print(encryptedfile)\n",
    "        print('>>>>>>>>>>>>>>>>>>>>>>>')\n",
    "    decrypted_file = cipher.decrypt(encryptedfile)\n",
    "    print('VACATION')\n",
    "    print(decrypted_file.decode()) \n",
    "empsetviewer()"
   ]
  },
  {
   "cell_type": "code",
   "execution_count": 20,
   "metadata": {},
   "outputs": [
    {
     "name": "stdout",
     "output_type": "stream",
     "text": [
      "b'Va2CN6uO38q5zKEqpKLXYok1ODcFgJcuUdUsetXKNts='\n",
      "b'gAAAAABftktN7bI5gUgccLoyAS4NnsF5jUo6hy3L_DdrEuCillSl7i0bishblXsTbghLde8AxtbS2mOTmc9FWL1Zt9GQz7OWIwAcc2hB3AYgxtiVBSchyYTahja1hlNCaxjuwgNxMK-RHxa_z7b2Rprzwj-h1059SLOl4T1VJMpv5wkiWkFJmG2itb-e_fKrWA49FFNd_Ar37BoyS6jPbiEdV6OyGdjQilCG1x_Colm6UC3dUUHW8FCGB_vZyoQ2iRsUsLSBO81baC0bBhgkpKIZ-KCFbH3oQ9Rs9heH1_oWxbl5yy8Mj3f1-S2FiJeLv1eC9k9JtSRNHWfmBzRdHZac-LeUlyAjtSg5IhiVC2fRuTa96AFY5F9uL7IrflfI8huzkJh6q1rGj-Vjtcpw9WJX2cg29_z3Aw-yL6i4YPbt2e8QSbHxxS8r_uoy6b0fpMssDVA9qi6-RFGWx3M3rAZL2vnJEbP2YQYEwYlczuE9i_G2Dpa_i9yZkK0JwiOuFNXVub1clmhS'\n",
      ">>>>>>>>>>>>>>>>>>>>>>>\n",
      "gAAAAABftjU-9A8g3nZrFwlBpH_LqQD4zMDapzyT7jaZ9OXewy-CosfAQ2Gay_oI1mswl3eogoGEqg45gIhzEgSZ2b-QJaMheCa2xi_UDhhSJdYAkdu9Msb9kQgz1Or6jsb545Uq5cX_x_gRYvAr-DJkiT-9ZnYGrVZHnzQZMCOygcRwBc6X5lQ_p6TgZ2ol-b21J8PbBdp45q2aHBk5jUrpovKBRURR9jDAg03TTp3Z8DvJLHSCt_mOtPmV5OXdXgtCFgXfKuUjRjfydbw3OyEQQV7nsoCa_4o8Zn1OCHRzcN9bYwyKWcU5Y4wGS1QJRWB9IdSYMP5l\n"
     ]
    }
   ],
   "source": [
    "empname='0'\n",
    "def filencrypter():  \n",
    "#         from cryptography.fernet import Fernet\n",
    "#         key = Fernet.generate_key()\n",
    "#         fkey = open('testdocs/filekey.night','wb')\n",
    "#         fkey.write(key)\n",
    "#         print (key)\n",
    "    #     this open encrypter key created by keycreate() as variable\n",
    "    from cryptography.fernet import Fernet\n",
    "    fkey = open('testdocs/filekey.night','rb')\n",
    "    key = fkey.read()\n",
    "    print (key)\n",
    "    cipher = Fernet(key)\n",
    "\n",
    "#     opens created files to be encrypted and encrypts\n",
    "\n",
    "\n",
    "# >>>>>>>>>>>>>>>>>>>>>\n",
    "    infofile= 'testdocs/'+ empname +'.night'\n",
    "    with open(infofile,'rb')as f:\n",
    "        filetoencrypt = f.read()\n",
    "\n",
    "\n",
    "    encryptedfile = cipher.encrypt(filetoencrypt) \n",
    "    with open(infofile,'wb') as ef:\n",
    "        ef.write(encryptedfile)\n",
    "\n",
    "\n",
    "# >>>>>>>>>>>>>>>>>>>>>          \n",
    "    sickfile= 'testdocs/'+ empname +'sickdates.night'\n",
    "    with open(sickfile,'rb')as ff:\n",
    "        sickfiletoencrypt = ff.read()\n",
    "\n",
    "    sickencryptedfile = cipher.encrypt(sickfiletoencrypt) \n",
    "    with open(sickfile,'wb') as eff:\n",
    "        eff.write(sickencryptedfile)\n",
    "\n",
    "\n",
    "# >>>>>>>>>>>>>>>>>>>>>          \n",
    "    persfile= 'testdocs/'+ empname +'persdates.night'\n",
    "    with open(persfile,'rb')as fff:\n",
    "        persfiletoencrypt = fff.read()\n",
    "\n",
    "    persencryptedfile = cipher.encrypt(persfiletoencrypt) \n",
    "    with open(persfile,'wb') as efff:\n",
    "        efff.write(persencryptedfile)\n",
    "\n",
    "\n",
    "# >>>>>>>>>>>>>>>>>>>>>      \n",
    "    vacfile= 'testdocs/'+ empname +'vacdates.night'\n",
    "    with open(vacfile,'rb')as ffff:\n",
    "        vacfiletoencrypt = ffff.read()\n",
    "\n",
    "    vacencryptedfile = cipher.encrypt(vacfiletoencrypt) \n",
    "    with open(vacfile,'wb') as effff:\n",
    "        effff.write(vacencryptedfile)\n",
    "\n",
    "\n",
    "    with open('testdocs/'+ empname +'.night','rb') as df:\n",
    "        encryptedfile = df.read()\n",
    "        print(encryptedfile)\n",
    "        print('>>>>>>>>>>>>>>>>>>>>>>>')\n",
    "    decrypted_file = cipher.decrypt(encryptedfile)\n",
    "    print(decrypted_file.decode()) \n",
    "filencrypter()"
   ]
  },
  {
   "cell_type": "code",
   "execution_count": null,
   "metadata": {},
   "outputs": [],
   "source": []
  },
  {
   "cell_type": "code",
   "execution_count": 13,
   "metadata": {},
   "outputs": [
    {
     "name": "stdout",
     "output_type": "stream",
     "text": [
      "b'Va2CN6uO38q5zKEqpKLXYok1ODcFgJcuUdUsetXKNts='\n",
      "b'gAAAAABftjVttcA0iTHNE9Xg57ZWZpjeEDMO7MedIVRJ4Og6XRHMKqAGCqQnyy_8t52Qwri1UkvU-mDzpEjyYtVB06ssWKvzgYAzpbIjGKbdr_De9WUJV6peSO0AiQMi-xP3WZ01BV57uJE6eAMjLg3NGL_-0n-gAhJdIzQ0t2Wzj4RM8Y0K-n_OI_T045LgFyb8d8T7LQzKqShjjFUPyXDiQMlp-VfSaebLjLtcOaEBJoS8dRTaIbNDYCHzjgcwuabnAh2gCC9WCqQQ7guXc1F0eYZxDgE5dWctvwzWz2w8M8Q5fgkTMA5XmcQBkzxeDZYnjqFnKbjR'\n",
      ">>>>>>>>>>>>>>>>>>>>>>>\n",
      "chuck\r\n",
      "bartowski\r\n",
      "123456789\r\n",
      "1234567890\r\n",
      "po box 2\r\n",
      "tucaloosa\r\n",
      "al\r\n",
      "35405\r\n",
      "07\r\n",
      "15\r\n",
      "2020\r\n",
      "acct\r\n",
      "acctnt\r\n",
      "28.846153846153847\r\n",
      "1153.8461538461538\r\n",
      "4615.384615384615\r\n",
      "60000.0\r\n",
      "0\r\n",
      "0\r\n",
      "0\r\n",
      "\n"
     ]
    }
   ],
   "source": [
    "empname='chuckbartowski'\n",
    "def filencrypter():  \n",
    "#         from cryptography.fernet import Fernet\n",
    "#         key = Fernet.generate_key()\n",
    "#         fkey = open('testdocs/filekey.night','wb')\n",
    "#         fkey.write(key)\n",
    "#         print (key)\n",
    "    #     this open encrypter key created by keycreate() as variable\n",
    "    from cryptography.fernet import Fernet\n",
    "    fkey = open('testdocs/filekey.night','rb')\n",
    "    key = fkey.read()\n",
    "    print (key)\n",
    "    cipher = Fernet(key)\n",
    "\n",
    "#     opens created files to be encrypted and encrypts\n",
    "\n",
    "\n",
    "# >>>>>>>>>>>>>>>>>>>>>\n",
    "    infofile= 'testdocs/'+ empname +'.night'\n",
    "    with open(infofile,'rb')as f:\n",
    "        filetoencrypt = f.read()\n",
    "\n",
    "\n",
    "    encryptedfile = cipher.encrypt(filetoencrypt) \n",
    "    with open(infofile,'wb') as ef:\n",
    "        ef.write(encryptedfile)\n",
    "\n",
    "\n",
    "# >>>>>>>>>>>>>>>>>>>>>          \n",
    "    sickfile= 'testdocs/'+ empname +'sickdates.night'\n",
    "    with open(sickfile,'rb')as ff:\n",
    "        sickfiletoencrypt = ff.read()\n",
    "\n",
    "    sickencryptedfile = cipher.encrypt(sickfiletoencrypt) \n",
    "    with open(sickfile,'wb') as eff:\n",
    "        eff.write(sickencryptedfile)\n",
    "\n",
    "\n",
    "# >>>>>>>>>>>>>>>>>>>>>          \n",
    "    persfile= 'testdocs/'+ empname +'persdates.night'\n",
    "    with open(persfile,'rb')as fff:\n",
    "        persfiletoencrypt = fff.read()\n",
    "\n",
    "    persencryptedfile = cipher.encrypt(persfiletoencrypt) \n",
    "    with open(persfile,'wb') as efff:\n",
    "        efff.write(persencryptedfile)\n",
    "\n",
    "\n",
    "# >>>>>>>>>>>>>>>>>>>>>      \n",
    "    vacfile= 'testdocs/'+ empname +'vacdates.night'\n",
    "    with open(vacfile,'rb')as ffff:\n",
    "        vacfiletoencrypt = ffff.read()\n",
    "\n",
    "    vacencryptedfile = cipher.encrypt(vacfiletoencrypt) \n",
    "    with open(vacfile,'wb') as effff:\n",
    "        effff.write(vacencryptedfile)\n",
    "\n",
    "\n",
    "    with open('testdocs/'+ empname +'.night','rb') as df:\n",
    "        encryptedfile = df.read()\n",
    "        print(encryptedfile)\n",
    "        print('>>>>>>>>>>>>>>>>>>>>>>>')\n",
    "    decrypted_file = cipher.decrypt(encryptedfile)\n",
    "    print(decrypted_file.decode()) \n",
    "filencrypter()"
   ]
  },
  {
   "cell_type": "code",
   "execution_count": 21,
   "metadata": {},
   "outputs": [
    {
     "name": "stdout",
     "output_type": "stream",
     "text": [
      "b'Va2CN6uO38q5zKEqpKLXYok1ODcFgJcuUdUsetXKNts='\n",
      "b'gAAAAABftkr80yg4diz2LcxsDDdzl_wZrmfDKuDo0CodxcQ5gGU4WAh5s30W0GYXC_rCYSNZEUQ-39ICVlpWjKUJBRKjPXMOVxUP7Qy8JbD6uoLibuTAp-Q='\n",
      ">>>>>>>>>>>>>>>>>>>>>>>\n",
      "0\r\n",
      "ethanhunt\r\n",
      "sarawaler\r\n",
      "\n"
     ]
    }
   ],
   "source": [
    "def noclistdecrypt(): \n",
    "    from cryptography.fernet import Fernet\n",
    "    #     this open encrypter key created by keycreate() as variable\n",
    "    fkey = open('testdocs/filekey.night','rb')\n",
    "    key = fkey.read()\n",
    "    print (key)\n",
    "    cipher = Fernet(key)\n",
    "\n",
    "#     opens created files to be encrypted and encrypts\n",
    "\n",
    "\n",
    "    with open('testdocs/noclist.night','rb') as df:\n",
    "        encryptedfile = df.read()\n",
    "        print(encryptedfile)\n",
    "        print('>>>>>>>>>>>>>>>>>>>>>>>')\n",
    "    decrypted_file = cipher.decrypt(encryptedfile)\n",
    "    print(decrypted_file.decode())  \n",
    "noclistdecrypt()"
   ]
  },
  {
   "cell_type": "code",
   "execution_count": 9,
   "metadata": {},
   "outputs": [
    {
     "name": "stdout",
     "output_type": "stream",
     "text": [
      "b'M0T9DUR6y6mb9XXhbXU22gUjxVO-rGnVUIEjP6iWi-A='\n",
      "b'gAAAAABfwOpZSwdUKDo0PpoQWamC-DVTb2Ow6PONZnzfBcaGkJB7iSRsnz5GcUH1I2BXLZ4uaiiG_Q-23qjjDD2KTKKRRoHIXQ=='\n",
      ">>>>>>>>>>>>>>>>>>>>>>>\n",
      "18\n"
     ]
    }
   ],
   "source": [
    "def yearstoreencrypt(): \n",
    "    from cryptography.fernet import Fernet\n",
    "    #     this open encrypter key created by keycreate() as variable\n",
    "    fkey = open('testdocs/filekey.night','rb')\n",
    "    key = fkey.read()\n",
    "    print (key)\n",
    "    cipher = Fernet(key)\n",
    "\n",
    "#     opens created files to be encrypted and encrypts\n",
    "\n",
    "# >>>>>>>>>>>>>>>>>>>>>\n",
    "    Nocfile= 'testdocs/yearstore.night'\n",
    "    with open(Nocfile,'rb')as e:\n",
    "        Nocfiletoencrypt = e.read()\n",
    "\n",
    "\n",
    "    Nocencryptedfile = cipher.encrypt(Nocfiletoencrypt) \n",
    "    with open(Nocfile,'wb') as ee:\n",
    "        ee.write(Nocencryptedfile)\n",
    "\n",
    "    with open('testdocs/yearstore.night','rb') as df:\n",
    "        encryptedfile = df.read()\n",
    "        print(encryptedfile)\n",
    "        print('>>>>>>>>>>>>>>>>>>>>>>>')\n",
    "    decrypted_file = cipher.decrypt(encryptedfile)\n",
    "    print(decrypted_file.decode())  \n",
    "yearstoreencrypt()"
   ]
  },
  {
   "cell_type": "code",
   "execution_count": null,
   "metadata": {},
   "outputs": [],
   "source": [
    "def sickrunencrypt(): \n",
    "    from cryptography.fernet import Fernet\n",
    "    #     this open encrypter key created by keycreate() as variable\n",
    "    fkey = open('testdocs/filekey.night','rb')\n",
    "    key = fkey.read()\n",
    "    print (key)\n",
    "    cipher = Fernet(key)\n",
    "\n",
    "#     opens created files to be encrypted and encrypts\n",
    "\n",
    "# >>>>>>>>>>>>>>>>>>>>>\n",
    "    Nocfile= 'testdocs/sickrun.night'\n",
    "    with open(Nocfile,'rb')as e:\n",
    "        Nocfiletoencrypt = e.read()\n",
    "\n",
    "\n",
    "    Nocencryptedfile = cipher.encrypt(Nocfiletoencrypt) \n",
    "    with open(Nocfile,'wb') as ee:\n",
    "        ee.write(Nocencryptedfile)\n",
    "\n",
    "    with open('testdocs/sickrun.night','rb') as df:\n",
    "        encryptedfile = df.read()\n",
    "        print(encryptedfile)\n",
    "        print('>>>>>>>>>>>>>>>>>>>>>>>')\n",
    "    decrypted_file = cipher.decrypt(encryptedfile)\n",
    "    print(decrypted_file.decode())  \n",
    "sickrunencrypt()"
   ]
  },
  {
   "cell_type": "code",
   "execution_count": null,
   "metadata": {},
   "outputs": [],
   "source": []
  }
 ],
 "metadata": {
  "kernelspec": {
   "display_name": "Python 3",
   "language": "python",
   "name": "python3"
  },
  "language_info": {
   "codemirror_mode": {
    "name": "ipython",
    "version": 3
   },
   "file_extension": ".py",
   "mimetype": "text/x-python",
   "name": "python",
   "nbconvert_exporter": "python",
   "pygments_lexer": "ipython3",
   "version": "3.7.6"
  }
 },
 "nbformat": 4,
 "nbformat_minor": 4
}
