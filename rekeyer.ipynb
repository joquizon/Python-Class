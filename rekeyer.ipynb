{
 "cells": [
  {
   "cell_type": "code",
   "execution_count": 1,
   "metadata": {},
   "outputs": [
    {
     "name": "stdout",
     "output_type": "stream",
     "text": [
      "b'XB6Q_Mev41HSUYMsUAjxAYkvhwfLVaAXQon5NsOxuLM='\n"
     ]
    }
   ],
   "source": [
    "        \n",
    "def keycreate():\n",
    "    from cryptography.fernet import Fernet\n",
    "    key = Fernet.generate_key()\n",
    "    fkey = open('testdocs/filekey.NIGHT','wb')\n",
    "    fkey.write(key)\n",
    "    print (key)\n",
    "\n",
    "keycreate()"
   ]
  },
  {
   "cell_type": "code",
   "execution_count": 5,
   "metadata": {},
   "outputs": [
    {
     "name": "stdout",
     "output_type": "stream",
     "text": [
      "b'XB6Q_Mev41HSUYMsUAjxAYkvhwfLVaAXQon5NsOxuLM='\n",
      "b'gAAAAABfIXqgIh4WquzYx7TL-al6sl_C4d-ekGUhQ7c1Lw8t_aX7B8V0bz-rxkcEbbwwiGzvqb8bDmbfAd7Z6_Gc4h12Paqmm5vBPcJpbQkIR8ey-Pa_R0E='\n",
      ">>>>>>>>>>>>>>>>>>>>>>>\n",
      "josequizon\r\n",
      "jasonbourne\n"
     ]
    }
   ],
   "source": [
    "def noclistencrypt(): \n",
    "    from cryptography.fernet import Fernet\n",
    "    #     this open encrypter key created by keycreate() as variable\n",
    "    fkey = open('testdocs/filekey.night','rb')\n",
    "    key = fkey.read()\n",
    "    print (key)\n",
    "    cipher = Fernet(key)\n",
    "\n",
    "#     opens created files to be encrypted and encrypts\n",
    "\n",
    "# >>>>>>>>>>>>>>>>>>>>>\n",
    "    Nocfile= 'testdocs/noclist.night'\n",
    "    with open(Nocfile,'rb')as e:\n",
    "        Nocfiletoencrypt = e.read()\n",
    "\n",
    "\n",
    "    Nocencryptedfile = cipher.encrypt(Nocfiletoencrypt) \n",
    "    with open(Nocfile,'wb') as ee:\n",
    "        ee.write(Nocencryptedfile)\n",
    "\n",
    "    with open('testdocs/noclist.night','rb') as df:\n",
    "        encryptedfile = df.read()\n",
    "        print(encryptedfile)\n",
    "        print('>>>>>>>>>>>>>>>>>>>>>>>')\n",
    "    decrypted_file = cipher.decrypt(encryptedfile)\n",
    "    print(decrypted_file.decode())  \n",
    "noclistencrypt()"
   ]
  },
  {
   "cell_type": "code",
   "execution_count": 3,
   "metadata": {},
   "outputs": [
    {
     "name": "stdout",
     "output_type": "stream",
     "text": [
      "b'XB6Q_Mev41HSUYMsUAjxAYkvhwfLVaAXQon5NsOxuLM='\n",
      "b'gAAAAABfIXHMeR6VaDjLXjmNYXWUucJZk_JRkwElTo_u4-CKBjw_wx-ePDpdZNkhp9yJ7YRrXA4YNgENMQ7ZZPq3-pzXu8XzQm3j7vcRUevAewcSfii8EZtQPTRJoMCWm5m2n0NE33zeXxDDrpQXTDbkA6FKJcfyn2PTu8qKlDHRD3E4neHHT3aM2ipMazrypWOG_7wPUJKUAiceYXhDPSuaVaWvWrnLISREiTXUU3pUZf0i7GOpwCboaUXx0KQ1X6VmMa8rMlOn4PkEvI4AomKYBePe_nnzwmG0prP6slPb9yKeoeXe0qtrMNdO2DPeyOMWQ6Oz_YBp'\n",
      ">>>>>>>>>>>>>>>>>>>>>>>\n",
      "jose\r\n",
      "quizon\r\n",
      "chico\r\n",
      "123456789\r\n",
      "1234567890\r\n",
      "123 bway\r\n",
      "ny\r\n",
      "NY\r\n",
      "11372\r\n",
      "3\r\n",
      "28\r\n",
      "2004\r\n",
      "FD\r\n",
      "*ntmgr\r\n",
      "28.653846153846153\r\n",
      "1146.1538461538462\r\n",
      "4584.615384615385\r\n",
      "59600.0\r\n",
      "0\r\n",
      "[0]\r\n",
      "0\r\n",
      "[0]\r\n",
      "0\r\n",
      "[0]\n"
     ]
    }
   ],
   "source": [
    "empname='josequizon'\n",
    "def filencrypter():  \n",
    "#         from cryptography.fernet import Fernet\n",
    "#         key = Fernet.generate_key()\n",
    "#         fkey = open('testdocs/filekey.night','wb')\n",
    "#         fkey.write(key)\n",
    "#         print (key)\n",
    "    #     this open encrypter key created by keycreate() as variable\n",
    "    from cryptography.fernet import Fernet\n",
    "    fkey = open('testdocs/filekey.night','rb')\n",
    "    key = fkey.read()\n",
    "    print (key)\n",
    "    cipher = Fernet(key)\n",
    "\n",
    "#     opens created files to be encrypted and encrypts\n",
    "\n",
    "\n",
    "# >>>>>>>>>>>>>>>>>>>>>\n",
    "    infofile= 'testdocs/'+ empname +'.night'\n",
    "    with open(infofile,'rb')as f:\n",
    "        filetoencrypt = f.read()\n",
    "\n",
    "\n",
    "    encryptedfile = cipher.encrypt(filetoencrypt) \n",
    "    with open(infofile,'wb') as ef:\n",
    "        ef.write(encryptedfile)\n",
    "\n",
    "\n",
    "# >>>>>>>>>>>>>>>>>>>>>          \n",
    "    sickfile= 'testdocs/'+ empname +'sickdates.night'\n",
    "    with open(sickfile,'rb')as ff:\n",
    "        sickfiletoencrypt = ff.read()\n",
    "\n",
    "    sickencryptedfile = cipher.encrypt(sickfiletoencrypt) \n",
    "    with open(sickfile,'wb') as eff:\n",
    "        eff.write(sickencryptedfile)\n",
    "\n",
    "\n",
    "# >>>>>>>>>>>>>>>>>>>>>          \n",
    "    persfile= 'testdocs/'+ empname +'persdates.night'\n",
    "    with open(persfile,'rb')as fff:\n",
    "        persfiletoencrypt = fff.read()\n",
    "\n",
    "    persencryptedfile = cipher.encrypt(persfiletoencrypt) \n",
    "    with open(persfile,'wb') as efff:\n",
    "        efff.write(persencryptedfile)\n",
    "\n",
    "\n",
    "# >>>>>>>>>>>>>>>>>>>>>      \n",
    "    vacfile= 'testdocs/'+ empname +'vacdates.night'\n",
    "    with open(vacfile,'rb')as ffff:\n",
    "        vacfiletoencrypt = ffff.read()\n",
    "\n",
    "    vacencryptedfile = cipher.encrypt(vacfiletoencrypt) \n",
    "    with open(vacfile,'wb') as effff:\n",
    "        effff.write(vacencryptedfile)\n",
    "\n",
    "\n",
    "    with open('testdocs/'+ empname +'.night','rb') as df:\n",
    "        encryptedfile = df.read()\n",
    "        print(encryptedfile)\n",
    "        print('>>>>>>>>>>>>>>>>>>>>>>>')\n",
    "    decrypted_file = cipher.decrypt(encryptedfile)\n",
    "    print(decrypted_file.decode()) \n",
    "filencrypter()"
   ]
  },
  {
   "cell_type": "code",
   "execution_count": 4,
   "metadata": {},
   "outputs": [
    {
     "name": "stdout",
     "output_type": "stream",
     "text": [
      "b'XB6Q_Mev41HSUYMsUAjxAYkvhwfLVaAXQon5NsOxuLM='\n",
      "b'gAAAAABfIXaAwB4nltCTUceEXtMtm2AyLi8nClwnsKJdiCZ8Sw4oHp0I1JYf190_ITlqeEDiuQ6FQ_CxgQyH4_Jw0zEZt7QfcA=='\n",
      ">>>>>>>>>>>>>>>>>>>>>>>\n",
      "jasonbourne\r\n",
      "\n"
     ]
    }
   ],
   "source": [
    "def noclistdecrypt(): \n",
    "    from cryptography.fernet import Fernet\n",
    "    #     this open encrypter key created by keycreate() as variable\n",
    "    fkey = open('testdocs/filekey.night','rb')\n",
    "    key = fkey.read()\n",
    "    print (key)\n",
    "    cipher = Fernet(key)\n",
    "\n",
    "#     opens created files to be encrypted and encrypts\n",
    "\n",
    "\n",
    "    with open('testdocs/noclist.night','rb') as df:\n",
    "        encryptedfile = df.read()\n",
    "        print(encryptedfile)\n",
    "        print('>>>>>>>>>>>>>>>>>>>>>>>')\n",
    "    decrypted_file = cipher.decrypt(encryptedfile)\n",
    "    print(decrypted_file.decode())  \n",
    "noclistdecrypt()"
   ]
  },
  {
   "cell_type": "code",
   "execution_count": null,
   "metadata": {},
   "outputs": [],
   "source": []
  }
 ],
 "metadata": {
  "kernelspec": {
   "display_name": "Python 3",
   "language": "python",
   "name": "python3"
  },
  "language_info": {
   "codemirror_mode": {
    "name": "ipython",
    "version": 3
   },
   "file_extension": ".py",
   "mimetype": "text/x-python",
   "name": "python",
   "nbconvert_exporter": "python",
   "pygments_lexer": "ipython3",
   "version": "3.7.6"
  }
 },
 "nbformat": 4,
 "nbformat_minor": 4
}
