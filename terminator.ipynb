{
 "cells": [
  {
   "cell_type": "code",
   "execution_count": 4,
   "metadata": {},
   "outputs": [],
   "source": [
    "emplist = ['reginaldoquizon','jasonbourne','isaganidimayacyac','theovan gogh','josequizon','sarawalker','johncasey','charlesbartowski']\n",
    "def terminator(list):\n",
    "    for x in range(len(list)):\n",
    "        print(f\"{x}....{list[x]}\")\n",
    "    connor = input('typed the line no. of the employee you wish to tuhminate:')\n",
    "    while True:\n",
    "        try:\n",
    "            connorno = int(connor)\n",
    "            if connorno <= len(list):\n",
    "                list.pop(connorno)\n",
    "                print(f'hasta la vista {list[connorno]}')\n",
    "                for x in range(len(list)):\n",
    "                    print(f\"{x}....{list[x]}\")\n",
    "            else:\n",
    "                print('nooooo')\n",
    "                terminator(list)\n",
    "        except ValueError :\n",
    "            print('Exceptumondo Dude! this thing just takes numbers!!!Try again!')\n",
    "            terminator(list)\n",
    "            break\n",
    "        else:\n",
    "            break        \n",
    "            \n"
   ]
  },
  {
   "cell_type": "code",
   "execution_count": 5,
   "metadata": {},
   "outputs": [
    {
     "name": "stdout",
     "output_type": "stream",
     "text": [
      "0....reginaldoquizon\n",
      "1....jasonbourne\n",
      "2....isaganidimayacyac\n",
      "3....theovan gogh\n",
      "4....josequizon\n",
      "5....sarawalker\n",
      "6....johncasey\n",
      "7....charlesbartowski\n",
      "typed the line no. of the employee you wish to tuhminate:0\n",
      "hasta la vista jasonbourne\n",
      "0....jasonbourne\n",
      "1....isaganidimayacyac\n",
      "2....theovan gogh\n",
      "3....josequizon\n",
      "4....sarawalker\n",
      "5....johncasey\n",
      "6....charlesbartowski\n"
     ]
    }
   ],
   "source": [
    "terminator(emplist)\n",
    "\n"
   ]
  },
  {
   "cell_type": "code",
   "execution_count": null,
   "metadata": {},
   "outputs": [],
   "source": []
  },
  {
   "cell_type": "code",
   "execution_count": null,
   "metadata": {},
   "outputs": [],
   "source": []
  }
 ],
 "metadata": {
  "kernelspec": {
   "display_name": "Python 3",
   "language": "python",
   "name": "python3"
  },
  "language_info": {
   "codemirror_mode": {
    "name": "ipython",
    "version": 3
   },
   "file_extension": ".py",
   "mimetype": "text/x-python",
   "name": "python",
   "nbconvert_exporter": "python",
   "pygments_lexer": "ipython3",
   "version": "3.7.6"
  }
 },
 "nbformat": 4,
 "nbformat_minor": 4
}
