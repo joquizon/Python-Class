{
 "cells": [
  {
   "cell_type": "code",
   "execution_count": 1,
   "metadata": {},
   "outputs": [],
   "source": [
    "#python has a blt in help func"
   ]
  },
  {
   "cell_type": "code",
   "execution_count": 4,
   "metadata": {},
   "outputs": [],
   "source": [
    "mylist = [1,2,3]"
   ]
  },
  {
   "cell_type": "code",
   "execution_count": 5,
   "metadata": {},
   "outputs": [
    {
     "data": {
      "text/plain": [
       "[1, 2, 3]"
      ]
     },
     "execution_count": 5,
     "metadata": {},
     "output_type": "execute_result"
    }
   ],
   "source": [
    "mylist"
   ]
  },
  {
   "cell_type": "code",
   "execution_count": 6,
   "metadata": {},
   "outputs": [
    {
     "name": "stdout",
     "output_type": "stream",
     "text": [
      "Help on built-in function insert:\n",
      "\n",
      "insert(index, object, /) method of builtins.list instance\n",
      "    Insert object before index.\n",
      "\n"
     ]
    }
   ],
   "source": [
    "help(mylist.insert)"
   ]
  },
  {
   "cell_type": "code",
   "execution_count": 8,
   "metadata": {},
   "outputs": [],
   "source": [
    "# or u  an go to the actual documentation itself docs.python.org \n",
    "# also see FAQ's and tutorials in this link but main thing is the library reference\n",
    "# its the offi.doc. "
   ]
  },
  {
   "cell_type": "code",
   "execution_count": 11,
   "metadata": {},
   "outputs": [],
   "source": [
    "def greeting_function():\n",
    "    '''\n",
    "    DOCSTRING: INFO about function for ex.\n",
    "    input : none\n",
    "    output : hello\n",
    "    function to greet user\n",
    "    '''\n",
    "    print('hello!')"
   ]
  },
  {
   "cell_type": "code",
   "execution_count": 10,
   "metadata": {},
   "outputs": [
    {
     "name": "stdout",
     "output_type": "stream",
     "text": [
      "hello!\n"
     ]
    }
   ],
   "source": [
    "greeting_function()"
   ]
  },
  {
   "cell_type": "code",
   "execution_count": 15,
   "metadata": {},
   "outputs": [
    {
     "name": "stdout",
     "output_type": "stream",
     "text": [
      "Help on function greeting_function in module __main__:\n",
      "\n",
      "greeting_function()\n",
      "    DOCSTRING: INFO about function for ex.\n",
      "    input : none\n",
      "    output : hello\n",
      "    function to greet user\n",
      "\n"
     ]
    }
   ],
   "source": [
    "help(greeting_function)"
   ]
  },
  {
   "cell_type": "code",
   "execution_count": 27,
   "metadata": {},
   "outputs": [],
   "source": [
    "def greeting_function(defaultname = 'john doe'):\n",
    "    '''\n",
    "    DOCSTRING: INFO about function for ex.\n",
    "    input : none\n",
    "    output : hello + entered name + otherwise default name\n",
    "    will be used\n",
    "    function to greet user\n",
    "    '''\n",
    "    print('hello!'+defaultname)"
   ]
  },
  {
   "cell_type": "code",
   "execution_count": 29,
   "metadata": {},
   "outputs": [
    {
     "name": "stdout",
     "output_type": "stream",
     "text": [
      "hello!chico quizon\n"
     ]
    }
   ],
   "source": [
    "greeting_function('chico quizon')"
   ]
  },
  {
   "cell_type": "code",
   "execution_count": 30,
   "metadata": {},
   "outputs": [
    {
     "name": "stdout",
     "output_type": "stream",
     "text": [
      "hello!john doe\n"
     ]
    }
   ],
   "source": [
    "greeting_function()"
   ]
  },
  {
   "cell_type": "code",
   "execution_count": 31,
   "metadata": {},
   "outputs": [],
   "source": [
    "# diff bet print and return!!!!! from  https://www.codecademy.com/forum_questions/518ffbfeb3f05c44fe001395\n",
    "#I'll start with a basic explanation. print just shows the human user a string representing what is going on inside the computer. \n",
    "#The computer cannot make use of that printing. return is how a function gives back a value. \n",
    "#This value is often unseen by the human user, but it can be used by the computer in further functions.\n",
    "#On a more expansive note, print will not in any way affect a function. It is simply there for the human user's benefit. \n",
    "#It is very useful for understanding how a program works and can be used in debugging to check \n",
    "#various values in a program without interrupting the program.\n",
    "#return is the main way that a function returns a value. \n",
    "#All functions will return a value, and if there is no return statement \n",
    "#(or yield but don't worry about that yet), it will return None. \n",
    "#The value that is returned by a function can then be further used as an argument passed to another function, \n",
    "#stored as a variable, or just printed for the benefit of the human user."
   ]
  },
  {
   "cell_type": "code",
   "execution_count": 34,
   "metadata": {},
   "outputs": [
    {
     "name": "stdout",
     "output_type": "stream",
     "text": [
      "hello!john doe\n"
     ]
    }
   ],
   "source": [
    "salutation = greeting_function()\n",
    "#with print"
   ]
  },
  {
   "cell_type": "code",
   "execution_count": 33,
   "metadata": {},
   "outputs": [],
   "source": [
    "salutation"
   ]
  },
  {
   "cell_type": "code",
   "execution_count": 37,
   "metadata": {},
   "outputs": [],
   "source": [
    "def greeting_function(defaultname = 'john doe'):\n",
    "    '''\n",
    "    DOCSTRING: INFO about function for ex.\n",
    "    input : none\n",
    "    output : hello + entered name + otherwise default name\n",
    "    will be used\n",
    "    function to greet user\n",
    "    '''\n",
    "    return('hello!'+defaultname)"
   ]
  },
  {
   "cell_type": "code",
   "execution_count": 38,
   "metadata": {},
   "outputs": [
    {
     "data": {
      "text/plain": [
       "'hello!john doe'"
      ]
     },
     "execution_count": 38,
     "metadata": {},
     "output_type": "execute_result"
    }
   ],
   "source": [
    "greeting_function()"
   ]
  },
  {
   "cell_type": "code",
   "execution_count": 40,
   "metadata": {},
   "outputs": [],
   "source": [
    "salutation = greeting_function()\n",
    "\n",
    "#with return"
   ]
  },
  {
   "cell_type": "code",
   "execution_count": 41,
   "metadata": {},
   "outputs": [
    {
     "data": {
      "text/plain": [
       "'hello!john doe'"
      ]
     },
     "execution_count": 41,
     "metadata": {},
     "output_type": "execute_result"
    }
   ],
   "source": [
    "salutation"
   ]
  },
  {
   "cell_type": "code",
   "execution_count": 42,
   "metadata": {},
   "outputs": [],
   "source": [
    "#see the difference.... basically print just writes it...return turns it in to a value that is spit out by the function"
   ]
  },
  {
   "cell_type": "code",
   "execution_count": 57,
   "metadata": {},
   "outputs": [],
   "source": [
    "def turtlecheck(mystring):\n",
    "    if 'turtle'in mystring:\n",
    "        return True\n",
    "    else:\n",
    "        return False"
   ]
  },
  {
   "cell_type": "code",
   "execution_count": 58,
   "metadata": {},
   "outputs": [
    {
     "data": {
      "text/plain": [
       "True"
      ]
     },
     "execution_count": 58,
     "metadata": {},
     "output_type": "execute_result"
    }
   ],
   "source": [
    "turtlecheck('Teenage mutant ninja turtle!')"
   ]
  },
  {
   "cell_type": "code",
   "execution_count": 59,
   "metadata": {},
   "outputs": [
    {
     "data": {
      "text/plain": [
       "False"
      ]
     },
     "execution_count": 59,
     "metadata": {},
     "output_type": "execute_result"
    }
   ],
   "source": [
    "turtlecheck( 'Turtle powER!')"
   ]
  },
  {
   "cell_type": "code",
   "execution_count": 53,
   "metadata": {},
   "outputs": [],
   "source": [
    "#it's false cuz ur func is cap sensitive...so you gotta turn the whole string into all upper or all lower case"
   ]
  },
  {
   "cell_type": "code",
   "execution_count": 62,
   "metadata": {},
   "outputs": [],
   "source": [
    "def turtlecheck(mystring):\n",
    "    if 'turtle'in mystring.lower():\n",
    "        #.lower will turn your string into all lower case\n",
    "        return True\n",
    "    else:\n",
    "        return False"
   ]
  },
  {
   "cell_type": "code",
   "execution_count": 63,
   "metadata": {},
   "outputs": [
    {
     "data": {
      "text/plain": [
       "True"
      ]
     },
     "execution_count": 63,
     "metadata": {},
     "output_type": "execute_result"
    }
   ],
   "source": [
    "turtlecheck('tuRtle TURtle TURTLE!')"
   ]
  },
  {
   "cell_type": "code",
   "execution_count": 64,
   "metadata": {},
   "outputs": [
    {
     "data": {
      "text/plain": [
       "True"
      ]
     },
     "execution_count": 64,
     "metadata": {},
     "output_type": "execute_result"
    }
   ],
   "source": [
    "turtlecheck('turtle')"
   ]
  },
  {
   "cell_type": "code",
   "execution_count": 66,
   "metadata": {},
   "outputs": [
    {
     "data": {
      "text/plain": [
       "True"
      ]
     },
     "execution_count": 66,
     "metadata": {},
     "output_type": "execute_result"
    }
   ],
   "source": [
    "turtlecheck('Turtle')"
   ]
  },
  {
   "cell_type": "code",
   "execution_count": 67,
   "metadata": {},
   "outputs": [],
   "source": [
    "#also remembr that if ur only looking for t or F that means what you\n",
    "#have is already a boolean so no need for return true or return false"
   ]
  },
  {
   "cell_type": "code",
   "execution_count": 69,
   "metadata": {},
   "outputs": [],
   "source": [
    "# so you can just write ur function this way\n",
    "def turtlecheck(mystring):\n",
    "    return 'turtle'in mystring.lower()\n",
    "    '''\n",
    "    checks string for the word turtle\n",
    "    '''"
   ]
  },
  {
   "cell_type": "code",
   "execution_count": 70,
   "metadata": {},
   "outputs": [
    {
     "data": {
      "text/plain": [
       "True"
      ]
     },
     "execution_count": 70,
     "metadata": {},
     "output_type": "execute_result"
    }
   ],
   "source": [
    "turtlecheck('cowabunga my dudes~ turtLE power!!!')"
   ]
  },
  {
   "cell_type": "code",
   "execution_count": 71,
   "metadata": {},
   "outputs": [],
   "source": [
    "#creating a pig latin decoder___\n",
    "# if word starts with vowel add \"ay\"to end of word\n",
    "#else put first letter at end and add 'ay\n",
    "#ex. apple---> appleay\n",
    "#ex. chord---> hordcay\n"
   ]
  },
  {
   "cell_type": "code",
   "execution_count": 73,
   "metadata": {},
   "outputs": [],
   "source": [
    "def pigl_decoder(regword):\n",
    "    first_letter= regword[0]\n",
    "    if first_letter in 'aeiou':\n",
    "        pigl = regword + 'ay'\n",
    "    else:\n",
    "        pigl = regword[1:]+first_letter+'ay'\n",
    "    return pigl"
   ]
  },
  {
   "cell_type": "code",
   "execution_count": 74,
   "metadata": {},
   "outputs": [
    {
     "data": {
      "text/plain": [
       "'hicocay'"
      ]
     },
     "execution_count": 74,
     "metadata": {},
     "output_type": "execute_result"
    }
   ],
   "source": [
    "pigl_decoder('chico')"
   ]
  },
  {
   "cell_type": "code",
   "execution_count": 75,
   "metadata": {},
   "outputs": [
    {
     "data": {
      "text/plain": [
       "'annieay'"
      ]
     },
     "execution_count": 75,
     "metadata": {},
     "output_type": "execute_result"
    }
   ],
   "source": [
    "pigl_decoder('annie')"
   ]
  },
  {
   "cell_type": "code",
   "execution_count": 76,
   "metadata": {},
   "outputs": [
    {
     "data": {
      "text/plain": [
       "'appleay'"
      ]
     },
     "execution_count": 76,
     "metadata": {},
     "output_type": "execute_result"
    }
   ],
   "source": [
    "pigl_decoder('apple')"
   ]
  },
  {
   "cell_type": "code",
   "execution_count": 77,
   "metadata": {},
   "outputs": [
    {
     "data": {
      "text/plain": [
       "'hordcay'"
      ]
     },
     "execution_count": 77,
     "metadata": {},
     "output_type": "execute_result"
    }
   ],
   "source": [
    "pigl_decoder('chord')"
   ]
  },
  {
   "cell_type": "code",
   "execution_count": 78,
   "metadata": {},
   "outputs": [],
   "source": [
    "def myfunc(name):\n",
    "    print('Hello'+name)"
   ]
  },
  {
   "cell_type": "code",
   "execution_count": 79,
   "metadata": {},
   "outputs": [
    {
     "name": "stdout",
     "output_type": "stream",
     "text": [
      "HelloJose\n"
     ]
    }
   ],
   "source": [
    "myfunc('Jose')"
   ]
  },
  {
   "cell_type": "code",
   "execution_count": 5,
   "metadata": {},
   "outputs": [
    {
     "name": "stdout",
     "output_type": "stream",
     "text": [
      "01/28/21\n"
     ]
    }
   ],
   "source": [
    "# UPDATE\n",
    "# STOP sending resulst to a list and indexing \n",
    "# use RETurn\n",
    "# and create variable that is the func see example below\n",
    "# dude strt doing this\n",
    "\n",
    "\n",
    "from datetime import datetime\n",
    "from datetime import date\n",
    "from datetime import timedelta\n",
    "\n",
    "\n",
    "def AuditDate():\n",
    "    today = date.today()\n",
    "    return ((today - timedelta(days=1)).strftime('%x'))\n",
    "\n",
    "d = AuditDate()\n",
    "print(d)\n",
    "\n"
   ]
  },
  {
   "cell_type": "code",
   "execution_count": 1,
   "metadata": {},
   "outputs": [
    {
     "name": "stdout",
     "output_type": "stream",
     "text": [
      "What is your First Name: Chico\n",
      "What is your Last Name: Quizon\n",
      "Your first name is Chico\n",
      "Your last name is Quizon\n"
     ]
    }
   ],
   "source": [
    "def intake():\n",
    "        firstName = input('What is your First Name: ')\n",
    "        lastName = input ('What is your Last Name: ')\n",
    "        return (firstName,lastName)\n",
    "\n",
    "x = intake()\n",
    "\n",
    "def identifier(tup):\n",
    "    print(f\"Your first name is {x[0]}\")\n",
    "    print(f\"Your last name is {x[1]}\")\n",
    "    \n",
    "identifier(x)\n",
    "    "
   ]
  },
  {
   "cell_type": "code",
   "execution_count": 25,
   "metadata": {},
   "outputs": [
    {
     "name": "stdout",
     "output_type": "stream",
     "text": [
      "number entry: 9175097883\n",
      "great\n",
      "(917 509 - 7883)\n"
     ]
    }
   ],
   "source": [
    "# basically you can write a function that insists on taking only integers from input\n",
    "def intverif():\n",
    "    while True:\n",
    "        try:\n",
    "            choose = int(input(\"number entry: \"))\n",
    "            return choose\n",
    "        except:\n",
    "            print('Exceptumondo Dude! this thing just takes numbers!!!Try again!')\n",
    "        else:\n",
    "            break\n",
    "\n",
    "# then you can use that function as a variable and write any kind of condition you want for that variable\n",
    "\n",
    "\n",
    "def phoneNo():\n",
    "    telno = intverif()\n",
    "    if len(str(telno)) == 10:\n",
    "        print('great')\n",
    "        return telno\n",
    "    else:\n",
    "        print('got to be 10 digits dude')\n",
    "        phoneNo()\n",
    "        \n",
    "def phoneLister(phoneNoRet):\n",
    "    telstr = str(phoneNoRet)\n",
    "    print(f'({telstr[:3]} {telstr[3:6]} - {telstr[6:10]})')\n",
    "\n",
    "x = phoneNo()\n",
    "phoneLister(x)\n"
   ]
  },
  {
   "cell_type": "code",
   "execution_count": 23,
   "metadata": {},
   "outputs": [
    {
     "data": {
      "text/plain": [
       "'3211'"
      ]
     },
     "execution_count": 23,
     "metadata": {},
     "output_type": "execute_result"
    }
   ],
   "source": [
    "z= str(9876543211)\n",
    "z[6:10]"
   ]
  },
  {
   "cell_type": "code",
   "execution_count": null,
   "metadata": {},
   "outputs": [],
   "source": []
  }
 ],
 "metadata": {
  "kernelspec": {
   "display_name": "Python 3",
   "language": "python",
   "name": "python3"
  },
  "language_info": {
   "codemirror_mode": {
    "name": "ipython",
    "version": 3
   },
   "file_extension": ".py",
   "mimetype": "text/x-python",
   "name": "python",
   "nbconvert_exporter": "python",
   "pygments_lexer": "ipython3",
   "version": "3.7.6"
  }
 },
 "nbformat": 4,
 "nbformat_minor": 4
}
