{
 "cells": [
  {
   "cell_type": "code",
   "execution_count": 2,
   "metadata": {},
   "outputs": [],
   "source": [
    "noclist = ['jasonbourne','sarawalker', 'johncasey', 'charlesbartowski']\n",
    "nocmemlist = [['jason', 'bourne', 'jabo', '987654321', '9876543211', '1 ultimatum st', 'helena', 'MT', '54321', '01', '01', '20', 'acct', 'acctnt', '31.25', '1250.0', '5000.0', '65000.0', '3', '-3', '2', '-2', '2', '-2'], ['1/2/20', '1/3/20', '1/4/20'], ['2/2/20', '2/3/20'], ['3/3/20', '3/4/20'],['sara', 'walker', 'yvonne', '123456789', '1234567890', '1 Bartowski lane', 'burbank', 'CA', '54321', '08', '2', '20', 'FD', 'fdagnt', '24.03846153846154', '961.5384615384615', '3846.153846153846', '50000.0', '1', '3', '4', '2', '4', '2'], ['0', '1/2/20'], ['0', '2/1/20', '2/2/20', '2/3/20', '2/4/20'], ['0', '4/1/20', '4/2/20', '4/3/20', '4/5/20'], ['john', 'casey', 'jc', '999999999', '1111111111', '2 buymoria blvd', 'burbank', 'CA', '44444', '08', '4', '20', 'FD', 'fdagnt', '25.0', '1000.0', '4000.0', '48000.0', '0', '0', '0', '0', '0', '0'], ['0'], ['0'], ['0'], ['charles', 'bartowski', 'chuck', '000000000', '9999999999', '2 buymoria lane', 'burbank', 'CA', '66333', '06', '26', '08', 'FD', '*adeptmgr', '25.0', '1000.0', '4000.0', '48000.0', '0', '0', '0', '0', '0', '0'], ['0'], ['0'], ['0']]\n",
    "dictionaryhold = []"
   ]
  },
  {
   "cell_type": "code",
   "execution_count": 3,
   "metadata": {},
   "outputs": [
    {
     "name": "stdout",
     "output_type": "stream",
     "text": [
      "employee <__main__.Employees object at 0x00000166819DF308> has been instantiated\n",
      "employee <__main__.Employees object at 0x0000016681906648> has been instantiated\n",
      "employee <__main__.Employees object at 0x00000166818F67C8> has been instantiated\n",
      "employee <__main__.Employees object at 0x0000016680EAAE08> has been instantiated\n",
      "[{'first': 'jason', 'last': 'bourne', 'nickname': 'jabo', 'social': '987654321', 'contel': '9876543211', 'address': '1 ultimatum st helena MT', 'zipcode': '54321', 'hiremonth': '01', 'hiredate': '01', 'hireyear': '20', 'dept': 'acct', 'position': 'acctnt', 'hourlypay': '31.25', 'weeklypay': '1250.0', 'monthlypay': '5000.0', 'yearlypay': '65000.0', 'sicktaken': '3', 'sickremaining': '-3', 'perstaken': '2', 'persremaining': '-2', 'vactaken': '2', 'vacremaining': '-2', 'sickdates': ['1/2/20', '1/3/20', '1/4/20'], 'persdates': ['2/2/20', '2/3/20'], 'vacdates': ['3/3/20', '3/4/20']}, {'first': 'sara', 'last': 'walker', 'nickname': 'yvonne', 'social': '123456789', 'contel': '1234567890', 'address': '1 Bartowski lane burbank CA', 'zipcode': '54321', 'hiremonth': '08', 'hiredate': '2', 'hireyear': '20', 'dept': 'FD', 'position': 'fdagnt', 'hourlypay': '24.03846153846154', 'weeklypay': '961.5384615384615', 'monthlypay': '3846.153846153846', 'yearlypay': '50000.0', 'sicktaken': '1', 'sickremaining': '3', 'perstaken': '4', 'persremaining': '2', 'vactaken': '4', 'vacremaining': '2', 'sickdates': ['0', '1/2/20'], 'persdates': ['0', '2/1/20', '2/2/20', '2/3/20', '2/4/20'], 'vacdates': ['0', '4/1/20', '4/2/20', '4/3/20', '4/5/20']}, {'first': 'john', 'last': 'casey', 'nickname': 'jc', 'social': '999999999', 'contel': '1111111111', 'address': '2 buymoria blvd burbank CA', 'zipcode': '44444', 'hiremonth': '08', 'hiredate': '4', 'hireyear': '20', 'dept': 'FD', 'position': 'fdagnt', 'hourlypay': '25.0', 'weeklypay': '1000.0', 'monthlypay': '4000.0', 'yearlypay': '48000.0', 'sicktaken': '0', 'sickremaining': '0', 'perstaken': '0', 'persremaining': '0', 'vactaken': '0', 'vacremaining': '0', 'sickdates': ['0'], 'persdates': ['0'], 'vacdates': ['0']}, {'first': 'charles', 'last': 'bartowski', 'nickname': 'chuck', 'social': '000000000', 'contel': '9999999999', 'address': '2 buymoria lane burbank CA', 'zipcode': '66333', 'hiremonth': '06', 'hiredate': '26', 'hireyear': '08', 'dept': 'FD', 'position': '*adeptmgr', 'hourlypay': '25.0', 'weeklypay': '1000.0', 'monthlypay': '4000.0', 'yearlypay': '48000.0', 'sicktaken': '0', 'sickremaining': '0', 'perstaken': '0', 'persremaining': '0', 'vactaken': '0', 'vacremaining': '0', 'sickdates': ['0'], 'persdates': ['0'], 'vacdates': ['0']}]\n"
     ]
    }
   ],
   "source": [
    "class Employees:\n",
    "    def __init__(self,first,last,nickname,social,contel,address,zipcode,hiremonth,hiredate,hireyear,dept,position,hourlypay,weeklypay,monthlypay,yearlypay,sicktaken,sickremaining,perstaken,persremaining,vactaken,vacremaining,sickdates,persdates,vacdates):\n",
    "        self.first = first\n",
    "        self.last = last\n",
    "        self.nickname = nickname\n",
    "        self.social = social\n",
    "        self.contel = contel\n",
    "        self.address = address\n",
    "        self.zipcode = zipcode \n",
    "        self.hiremonth = hiremonth     \n",
    "        self.hiredate = hiredate\n",
    "        self.hireyear = hireyear\n",
    "        self.dept = dept\n",
    "        self.position = position\n",
    "        self.hourlypay = hourlypay\n",
    "        self.weeklypay= weeklypay\n",
    "        self.monthlypay= monthlypay\n",
    "        self.yearlypay= yearlypay\n",
    "        self.sicktaken = sicktaken\n",
    "        self.sickremaining = sickremaining\n",
    "        self.perstaken = perstaken\n",
    "        self.persremaining = persremaining\n",
    "        self.vactaken = vactaken\n",
    "        self.vacremaining = vacremaining\n",
    "        self.sickdates = sickdates\n",
    "        self.persdates = persdates\n",
    "        self.vacdates = vacdates\n",
    "\n",
    "        \n",
    "#employeecreate() takes the inputs so the emplyee is instantiated in the class\n",
    "def EmployeeCreate(nlist,nmlist):\n",
    "    for x in range(len(nlist)):\n",
    "        z = x * 4\n",
    "        first = nmlist[z][0]\n",
    "        last = nmlist[z][1] \n",
    "        nickname = nmlist[z][2] \n",
    "        social = nmlist[z][3] \n",
    "        contel = nmlist[z][4] \n",
    "        address = nmlist[z][5] + ' ' + nmlist[z][6] + ' ' + nmlist[z][7] \n",
    "        zipcode  = nmlist[z][8]\n",
    "        hiremonth = nmlist[z][9]\n",
    "        hiredate = nmlist[z][10]\n",
    "        hireyear = nmlist[z][11]\n",
    "        dept = nmlist[z][12]\n",
    "        position = nmlist[z][13]\n",
    "        hourlypay = nmlist[z][14]\n",
    "        weeklypay = nmlist[z][15]\n",
    "        monthlypay = nmlist[z][16]\n",
    "        yearlypay = nmlist[z][17]\n",
    "        sicktaken = nmlist[z][18]\n",
    "        sickremaining = nmlist[z][19]\n",
    "        perstaken = nmlist[z][20]\n",
    "        persremaining = nmlist[z][21]\n",
    "        vactaken = nmlist[z][22]\n",
    "        vacremaining = nmlist[z][23]\n",
    "        sickdates = nmlist[z+1]\n",
    "        persdates = nmlist[z+2]\n",
    "        vacdates = nmlist[z+3]\n",
    "\n",
    "        noclist[x] = Employees(first,last,nickname,social,contel,address,zipcode,hiremonth,hiredate,hireyear,dept,position,hourlypay,weeklypay,monthlypay,yearlypay,sicktaken,sickremaining,perstaken,persremaining,vactaken,vacremaining,sickdates,persdates,vacdates)\n",
    "        print(f'employee {nlist[x]} has been instantiated')\n",
    "    for dt in range(len(noclist)):\n",
    "        dictionaryhold.append(noclist[dt].__dict__)\n",
    "    print(dictionaryhold)\n",
    "EmployeeCreate(noclist,nocmemlist)"
   ]
  },
  {
   "cell_type": "code",
   "execution_count": 7,
   "metadata": {},
   "outputs": [
    {
     "name": "stdout",
     "output_type": "stream",
     "text": [
      "acct\n",
      "FD\n",
      "FD\n",
      "FD\n",
      "charles bartowski is a boss!\n"
     ]
    }
   ],
   "source": [
    "for lo in range(len(dictionaryhold)):\n",
    "    print(dictionaryhold[lo]['dept'])\n",
    "    if dictionaryhold[lo]['position'][0] == '*':\n",
    "        name = dictionaryhold[lo]['first']+' ' + dictionaryhold[lo]['last']\n",
    "        print(f'{name} is a boss!')"
   ]
  },
  {
   "cell_type": "raw",
   "metadata": {},
   "source": []
  },
  {
   "cell_type": "code",
   "execution_count": 8,
   "metadata": {},
   "outputs": [
    {
     "ename": "NameError",
     "evalue": "name 'employee' is not defined",
     "output_type": "error",
     "traceback": [
      "\u001b[1;31m---------------------------------------------------------------------------\u001b[0m",
      "\u001b[1;31mNameError\u001b[0m                                 Traceback (most recent call last)",
      "\u001b[1;32m<ipython-input-8-6e8a606d162d>\u001b[0m in \u001b[0;36m<module>\u001b[1;34m\u001b[0m\n\u001b[1;32m----> 1\u001b[1;33m \u001b[0memployee\u001b[0m\u001b[1;33m.\u001b[0m\u001b[0mname\u001b[0m\u001b[1;33m\u001b[0m\u001b[1;33m\u001b[0m\u001b[0m\n\u001b[0m",
      "\u001b[1;31mNameError\u001b[0m: name 'employee' is not defined"
     ]
    }
   ],
   "source": [
    "employee.name"
   ]
  },
  {
   "cell_type": "code",
   "execution_count": 2,
   "metadata": {},
   "outputs": [
    {
     "name": "stdout",
     "output_type": "stream",
     "text": [
      "Start downloading data for rich info zipcode database, total size 450+MB ...\n",
      "  10 MB finished ...\n",
      "  20 MB finished ...\n",
      "  30 MB finished ...\n",
      "  40 MB finished ...\n",
      "  50 MB finished ...\n",
      "  60 MB finished ...\n",
      "  70 MB finished ...\n",
      "  80 MB finished ...\n",
      "  90 MB finished ...\n",
      "  100 MB finished ...\n",
      "  110 MB finished ...\n",
      "  120 MB finished ...\n",
      "  130 MB finished ...\n",
      "  140 MB finished ...\n",
      "  150 MB finished ...\n",
      "  160 MB finished ...\n",
      "  170 MB finished ...\n",
      "  180 MB finished ...\n",
      "  190 MB finished ...\n",
      "  200 MB finished ...\n",
      "  210 MB finished ...\n",
      "  220 MB finished ...\n",
      "  230 MB finished ...\n",
      "  240 MB finished ...\n",
      "  250 MB finished ...\n",
      "  260 MB finished ...\n",
      "  270 MB finished ...\n",
      "  280 MB finished ...\n",
      "  290 MB finished ...\n",
      "  300 MB finished ...\n",
      "  310 MB finished ...\n",
      "  320 MB finished ...\n",
      "  330 MB finished ...\n",
      "  340 MB finished ...\n",
      "  350 MB finished ...\n",
      "  360 MB finished ...\n",
      "  370 MB finished ...\n",
      "  380 MB finished ...\n",
      "  390 MB finished ...\n",
      "  400 MB finished ...\n",
      "  410 MB finished ...\n",
      "  420 MB finished ...\n",
      "  430 MB finished ...\n",
      "  440 MB finished ...\n",
      "  Complete!\n"
     ]
    }
   ],
   "source": [
    ">>> from uszipcode import SearchEngine\n",
    ">>> search = SearchEngine(simple_zipcode=False)"
   ]
  },
  {
   "cell_type": "code",
   "execution_count": null,
   "metadata": {},
   "outputs": [],
   "source": [
    "  >>> from uszipcode import SearchEngine\n",
    ">>> search = SearchEngine(simple_zipcode=True) # set simple_zipcode=False to use rich info database\n",
    ">>> zipcode = search.by_zipcode(\"10001\")\n",
    ">>> print (zipcode)\n",
    "SimpleZipcode(zipcode=u'10001', zipcode_type=u'Standard', major_city=u'New York', post_office_city=u'New York, NY', common_city_list=[u'New York'], county=u'New York County', state=u'NY', lat=40.75, lng=-73.99, timezone=u'Eastern', radius_in_miles=0.9090909090909091, area_code_list=[u'718', u'917', u'347', u'646'], population=21102, population_density=33959.0, land_area_in_sqmi=0.62, water_area_in_sqmi=0.0, housing_units=12476, occupied_housing_units=11031, median_home_value=650200, median_household_income=81671, bounds_west=-74.008621, bounds_east=-73.984076, bounds_north=40.759731, bounds_south=40.743451)\n"
   ]
  },
  {
   "cell_type": "code",
   "execution_count": null,
   "metadata": {},
   "outputs": [],
   "source": [
    "x = 35405\n",
    "zipcode = seach.by_zipcode(x)\n",
    "print(zipcode)"
   ]
  },
  {
   "cell_type": "code",
   "execution_count": null,
   "metadata": {},
   "outputs": [],
   "source": []
  }
 ],
 "metadata": {
  "kernelspec": {
   "display_name": "Python 3",
   "language": "python",
   "name": "python3"
  },
  "language_info": {
   "codemirror_mode": {
    "name": "ipython",
    "version": 3
   },
   "file_extension": ".py",
   "mimetype": "text/x-python",
   "name": "python",
   "nbconvert_exporter": "python",
   "pygments_lexer": "ipython3",
   "version": "3.7.6"
  }
 },
 "nbformat": 4,
 "nbformat_minor": 4
}
