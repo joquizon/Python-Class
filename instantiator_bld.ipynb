{
 "cells": [
  {
   "cell_type": "code",
   "execution_count": 140,
   "metadata": {},
   "outputs": [],
   "source": [
    "noclist = ['jasonbourne','sarawalker', 'johncasey', 'charlesbartowski']\n",
    "nocmemlist = [['jason', 'bourne', 'jabo', '987654321', '9876543211', '1 ultimatum st', 'helena', 'MT', '54321', '01', '01', '20', 'acct', 'acctnt', '31.25', '1250.0', '5000.0', '65000.0', '3', '-3', '2', '-2', '2', '-2'], ['1/2/20', '1/3/20', '1/4/20'], ['2/2/20', '2/3/20'], ['3/3/20', '3/4/20'],['sara', 'walker', 'yvonne', '123456789', '1234567890', '1 Bartowski lane', 'burbank', 'CA', '54321', '08', '2', '20', 'FD', 'fdagnt', '24.03846153846154', '961.5384615384615', '3846.153846153846', '50000.0', '1', '3', '4', '2', '4', '2'], ['0', '1/2/20'], ['0', '2/1/20', '2/2/20', '2/3/20', '2/4/20'], ['0', '4/1/20', '4/2/20', '4/3/20', '4/5/20'], ['john', 'casey', 'jc', '999999999', '1111111111', '2 buymoria blvd', 'burbank', 'CA', '44444', '08', '4', '20', 'FD', 'fdagnt', '25.0', '1000.0', '4000.0', '48000.0', '0', '0', '0', '0', '0', '0'], ['0'], ['0'], ['0'], ['charles', 'bartowski', 'chuck', '000000000', '9999999999', '2 buymoria lane', 'burbank', 'CA', '66333', '06', '26', '08', 'FD', '*adeptmgr', '25.0', '1000.0', '4000.0', '48000.0', '0', '0', '0', '0', '0', '0'], ['0'], ['0'], ['0']]\n",
    "dictionaryhold = []"
   ]
  },
  {
   "cell_type": "code",
   "execution_count": 141,
   "metadata": {},
   "outputs": [
    {
     "name": "stdout",
     "output_type": "stream",
     "text": [
      "employee <__main__.Employees object at 0x000001AC440A2548> has been instantiated\n",
      "employee <__main__.Employees object at 0x000001AC43EA7C88> has been instantiated\n",
      "employee <__main__.Employees object at 0x000001AC4416F0C8> has been instantiated\n",
      "employee <__main__.Employees object at 0x000001AC4416F048> has been instantiated\n",
      "[{'first': 'jason', 'last': 'bourne', 'nickname': 'jabo', 'social': '987654321', 'contel': '9876543211', 'address': '1 ultimatum st helena MT', 'zipcode': '54321', 'hiremonth': '01', 'hiredate': '01', 'hireyear': '20', 'dept': 'acct', 'position': 'acctnt', 'hourlypay': '31.25', 'weeklypay': '1250.0', 'monthlypay': '5000.0', 'yearlypay': '65000.0', 'sicktaken': '3', 'sickremaining': '-3', 'perstaken': '2', 'persremaining': '-2', 'vactaken': '2', 'vacremaining': '-2', 'sickdates': ['1/2/20', '1/3/20', '1/4/20'], 'persdates': ['2/2/20', '2/3/20'], 'vacdates': ['3/3/20', '3/4/20']}, {'first': 'sara', 'last': 'walker', 'nickname': 'yvonne', 'social': '123456789', 'contel': '1234567890', 'address': '1 Bartowski lane burbank CA', 'zipcode': '54321', 'hiremonth': '08', 'hiredate': '2', 'hireyear': '20', 'dept': 'FD', 'position': 'fdagnt', 'hourlypay': '24.03846153846154', 'weeklypay': '961.5384615384615', 'monthlypay': '3846.153846153846', 'yearlypay': '50000.0', 'sicktaken': '1', 'sickremaining': '3', 'perstaken': '4', 'persremaining': '2', 'vactaken': '4', 'vacremaining': '2', 'sickdates': ['0', '1/2/20'], 'persdates': ['0', '2/1/20', '2/2/20', '2/3/20', '2/4/20'], 'vacdates': ['0', '4/1/20', '4/2/20', '4/3/20', '4/5/20']}, {'first': 'john', 'last': 'casey', 'nickname': 'jc', 'social': '999999999', 'contel': '1111111111', 'address': '2 buymoria blvd burbank CA', 'zipcode': '44444', 'hiremonth': '08', 'hiredate': '4', 'hireyear': '20', 'dept': 'FD', 'position': 'fdagnt', 'hourlypay': '25.0', 'weeklypay': '1000.0', 'monthlypay': '4000.0', 'yearlypay': '48000.0', 'sicktaken': '0', 'sickremaining': '0', 'perstaken': '0', 'persremaining': '0', 'vactaken': '0', 'vacremaining': '0', 'sickdates': ['0'], 'persdates': ['0'], 'vacdates': ['0']}, {'first': 'charles', 'last': 'bartowski', 'nickname': 'chuck', 'social': '000000000', 'contel': '9999999999', 'address': '2 buymoria lane burbank CA', 'zipcode': '66333', 'hiremonth': '06', 'hiredate': '26', 'hireyear': '08', 'dept': 'FD', 'position': '*adeptmgr', 'hourlypay': '25.0', 'weeklypay': '1000.0', 'monthlypay': '4000.0', 'yearlypay': '48000.0', 'sicktaken': '0', 'sickremaining': '0', 'perstaken': '0', 'persremaining': '0', 'vactaken': '0', 'vacremaining': '0', 'sickdates': ['0'], 'persdates': ['0'], 'vacdates': ['0']}]\n"
     ]
    }
   ],
   "source": [
    "class Employees:\n",
    "    def __init__(self,first,last,nickname,social,contel,address,zipcode,hiremonth,hiredate,hireyear,dept,position,hourlypay,weeklypay,monthlypay,yearlypay,sicktaken,sickremaining,perstaken,persremaining,vactaken,vacremaining,sickdates,persdates,vacdates):\n",
    "        self.first = first\n",
    "        self.last = last\n",
    "        self.nickname = nickname\n",
    "        self.social = social\n",
    "        self.contel = contel\n",
    "        self.address = address\n",
    "        self.zipcode = zipcode \n",
    "        self.hiremonth = hiremonth     \n",
    "        self.hiredate = hiredate\n",
    "        self.hireyear = hireyear\n",
    "        self.dept = dept\n",
    "        self.position = position\n",
    "        self.hourlypay = hourlypay\n",
    "        self.weeklypay= weeklypay\n",
    "        self.monthlypay= monthlypay\n",
    "        self.yearlypay= yearlypay\n",
    "        self.sicktaken = sicktaken\n",
    "        self.sickremaining = sickremaining\n",
    "        self.perstaken = perstaken\n",
    "        self.persremaining = persremaining\n",
    "        self.vactaken = vactaken\n",
    "        self.vacremaining = vacremaining\n",
    "        self.sickdates = sickdates\n",
    "        self.persdates = persdates\n",
    "        self.vacdates = vacdates\n",
    "\n",
    "        \n",
    "#employeecreate() takes the inputs so the emplyee is instantiated in the class\n",
    "def EmployeeCreate(nlist,nmlist):\n",
    "    for x in range(len(nlist)):\n",
    "        z = x * 4\n",
    "        first = nmlist[z][0]\n",
    "        last = nmlist[z][1] \n",
    "        nickname = nmlist[z][2] \n",
    "        social = nmlist[z][3] \n",
    "        contel = nmlist[z][4] \n",
    "        address = nmlist[z][5] + ' ' + nmlist[z][6] + ' ' + nmlist[z][7] \n",
    "        zipcode  = nmlist[z][8]\n",
    "        hiremonth = nmlist[z][9]\n",
    "        hiredate = nmlist[z][10]\n",
    "        hireyear = nmlist[z][11]\n",
    "        dept = nmlist[z][12]\n",
    "        position = nmlist[z][13]\n",
    "        hourlypay = nmlist[z][14]\n",
    "        weeklypay = nmlist[z][15]\n",
    "        monthlypay = nmlist[z][16]\n",
    "        yearlypay = nmlist[z][17]\n",
    "        sicktaken = nmlist[z][18]\n",
    "        sickremaining = nmlist[z][19]\n",
    "        perstaken = nmlist[z][20]\n",
    "        persremaining = nmlist[z][21]\n",
    "        vactaken = nmlist[z][22]\n",
    "        vacremaining = nmlist[z][23]\n",
    "        sickdates = nmlist[z+1]\n",
    "        persdates = nmlist[z+2]\n",
    "        vacdates = nmlist[z+3]\n",
    "\n",
    "        noclist[x] = Employees(first,last,nickname,social,contel,address,zipcode,hiremonth,hiredate,hireyear,dept,position,hourlypay,weeklypay,monthlypay,yearlypay,sicktaken,sickremaining,perstaken,persremaining,vactaken,vacremaining,sickdates,persdates,vacdates)\n",
    "        print(f'employee {nlist[x]} has been instantiated')\n",
    "    for dt in range(len(noclist)):\n",
    "        dictionaryhold.append(noclist[dt].__dict__)\n",
    "    print(dictionaryhold)\n",
    "EmployeeCreate(noclist,nocmemlist)"
   ]
  },
  {
   "cell_type": "code",
   "execution_count": 142,
   "metadata": {},
   "outputs": [
    {
     "name": "stdout",
     "output_type": "stream",
     "text": [
      "acct\n",
      "FD\n",
      "FD\n",
      "FD\n",
      "charles bartowski is a boss!!!!!!\n"
     ]
    }
   ],
   "source": [
    "for lo in range(len(dictionaryhold)):\n",
    "    print(dictionaryhold[lo]['dept'])\n",
    "    if dictionaryhold[lo]['position'][0] == '*':\n",
    "        name = dictionaryhold[lo]['first']+' ' + dictionaryhold[lo]['last']\n",
    "        print(f'{name} is a boss!!!!!!')"
   ]
  },
  {
   "cell_type": "code",
   "execution_count": 139,
   "metadata": {},
   "outputs": [
    {
     "name": "stdout",
     "output_type": "stream",
     "text": [
      "[[], [], [], []]\n",
      "[['jason', 'bourne', 'jabo', '987654321', '9876543211', '1 ultimatum st helena MT', '54321', '01', '01', '20', 'acct', 'acctnt', '31.25', '1250.0', '5000.0', '65000.0', '3', '-3', '2', '-2', '2', '-2', ['1/2/20', '1/3/20', '1/4/20'], ['2/2/20', '2/3/20'], ['3/3/20', '3/4/20', 'charles', 'bartowski', 'chuck', '000000000', '9999999999', '2 buymoria lane burbank CA', '66333', '06', '26', '08', 'FD', '*adeptmgr', '25.0', '1000.0', '4000.0', '48000.0', '0', '0', '0', '0', '0', '0', ['0'], ['0'], ['0']]], ['sara', 'walker', 'yvonne', '123456789', '1234567890', '1 Bartowski lane burbank CA', '54321', '08', '2', '20', 'FD', 'fdagnt', '24.03846153846154', '961.5384615384615', '3846.153846153846', '50000.0', '1', '3', '4', '2', '4', '2', ['0', '1/2/20'], ['0', '2/1/20', '2/2/20', '2/3/20', '2/4/20'], ['0', '4/1/20', '4/2/20', '4/3/20', '4/5/20']], ['john', 'casey', 'jc', '999999999', '1111111111', '2 buymoria blvd burbank CA', '44444', '08', '4', '20', 'FD', 'fdagnt', '25.0', '1000.0', '4000.0', '48000.0', '0', '0', '0', '0', '0', '0', ['0'], ['0'], ['0']], ['charles', 'bartowski', 'chuck', '000000000', '9999999999', '2 buymoria lane burbank CA', '66333', '06', '26', '08', 'FD', '*adeptmgr', '25.0', '1000.0', '4000.0', '48000.0', '0', '0', '0', '0', '0', '0', ['0'], ['0'], ['0']]]\n"
     ]
    }
   ],
   "source": [
    "def editlistloader(nlist,nmlist,dicthold):\n",
    "    nmlist.clear()\n",
    "    nlist.clear()\n",
    "    for x in range (len(dicthold)):\n",
    "        nmlist.append([])\n",
    "    print(nmlist)\n",
    "    newlistA=[]\n",
    "    for v in range(len(dicthold)):\n",
    "        nlist.append(dicthold[v]['first']+dicthold[v]['last'])\n",
    "        \n",
    "    for w in range(len(dicthold)):\n",
    "        newlistA.append(dicthold[w])\n",
    "        for k in (newlistA[w]):\n",
    "            nmlist[w].append(newlistA[w][k])\n",
    "\n",
    "            \n",
    "editlistloader(noclist,nocmemlist,dictionaryhold)\n",
    "\n",
    "print(nocmemlist)"
   ]
  },
  {
   "cell_type": "code",
   "execution_count": 132,
   "metadata": {},
   "outputs": [
    {
     "name": "stdout",
     "output_type": "stream",
     "text": [
      "[['jason', 'bourne', 'jabo', '987654321', '9876543211', '1 ultimatum st helena MT', '54321', '01', '01', '20', 'acct', 'acctnt', '31.25', '1250.0', '5000.0', '65000.0', '3', '-3', '2', '-2', '2', '-2', ['1/2/20', '1/3/20', '1/4/20'], ['2/2/20', '2/3/20'], ['3/3/20', '3/4/20', 'charles', 'bartowski', 'chuck', '000000000', '9999999999', '2 buymoria lane burbank CA', '66333', '06', '26', '08', 'FD', '*adeptmgr', '25.0', '1000.0', '4000.0', '48000.0', '0', '0', '0', '0', '0', '0', ['0'], ['0'], ['0']]], ['sara', 'walker', 'yvonne', '123456789', '1234567890', '1 Bartowski lane burbank CA', '54321', '08', '2', '20', 'FD', 'fdagnt', '24.03846153846154', '961.5384615384615', '3846.153846153846', '50000.0', '1', '3', '4', '2', '4', '2', ['0', '1/2/20'], ['0', '2/1/20', '2/2/20', '2/3/20', '2/4/20'], ['0', '4/1/20', '4/2/20', '4/3/20', '4/5/20']], ['john', 'casey', 'jc', '999999999', '1111111111', '2 buymoria blvd burbank CA', '44444', '08', '4', '20', 'FD', 'fdagnt', '25.0', '1000.0', '4000.0', '48000.0', '0', '0', '0', '0', '0', '0', ['0'], ['0'], ['0']], ['charles', 'bartowski', 'chuck', '000000000', '9999999999', '2 buymoria lane burbank CA', '66333', '06', '26', '08', 'FD', '*adeptmgr', '25.0', '1000.0', '4000.0', '48000.0', '0', '0', '0', '0', '0', '0', ['0'], ['0'], ['0']]]\n"
     ]
    }
   ],
   "source": [
    "newlist =[]\n",
    "newlist2 = [[],[],[],[]]\n",
    "for w in range(len(dictionaryhold)):\n",
    "    newlist.append(dictionaryhold[w])\n",
    "    for k in (newlist[w]):\n",
    "        newlist2[w].append(newlist[w][k])\n",
    "print(newlist2)"
   ]
  },
  {
   "cell_type": "code",
   "execution_count": 138,
   "metadata": {},
   "outputs": [
    {
     "name": "stdout",
     "output_type": "stream",
     "text": [
      "['jasonbourne', 'sarawalker', 'johncasey', 'charlesbartowski']\n"
     ]
    }
   ],
   "source": [
    "print(noclist)"
   ]
  },
  {
   "cell_type": "code",
   "execution_count": 67,
   "metadata": {},
   "outputs": [
    {
     "name": "stdout",
     "output_type": "stream",
     "text": [
      "[]\n"
     ]
    }
   ],
   "source": [
    "x='1'\n",
    "my_list = list()\n",
    "print (my_list)"
   ]
  },
  {
   "cell_type": "code",
   "execution_count": 145,
   "metadata": {},
   "outputs": [],
   "source": [
    "noclist[0].first = \"JASON\""
   ]
  },
  {
   "cell_type": "code",
   "execution_count": 148,
   "metadata": {},
   "outputs": [
    {
     "name": "stdout",
     "output_type": "stream",
     "text": [
      "{'first': 'JASON', 'last': 'bourne', 'nickname': 'jabo', 'social': '987654321', 'contel': '9876543211', 'address': '1 ultimatum st helena MT', 'zipcode': '54321', 'hiremonth': '01', 'hiredate': '01', 'hireyear': '20', 'dept': 'acct', 'position': 'acctnt', 'hourlypay': '31.25', 'weeklypay': '1250.0', 'monthlypay': '5000.0', 'yearlypay': '65000.0', 'sicktaken': '3', 'sickremaining': '-3', 'perstaken': '2', 'persremaining': '-2', 'vactaken': '2', 'vacremaining': '-2', 'sickdates': ['1/2/20', '1/3/20', '1/4/20'], 'persdates': ['2/2/20', '2/3/20'], 'vacdates': ['3/3/20', '3/4/20']}\n"
     ]
    }
   ],
   "source": [
    "print(noclist[0].__dict__)"
   ]
  },
  {
   "cell_type": "code",
   "execution_count": null,
   "metadata": {},
   "outputs": [],
   "source": []
  }
 ],
 "metadata": {
  "kernelspec": {
   "display_name": "Python 3",
   "language": "python",
   "name": "python3"
  },
  "language_info": {
   "codemirror_mode": {
    "name": "ipython",
    "version": 3
   },
   "file_extension": ".py",
   "mimetype": "text/x-python",
   "name": "python",
   "nbconvert_exporter": "python",
   "pygments_lexer": "ipython3",
   "version": "3.7.6"
  }
 },
 "nbformat": 4,
 "nbformat_minor": 4
}
