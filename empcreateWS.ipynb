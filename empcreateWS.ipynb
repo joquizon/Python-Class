{
 "cells": [
  {
   "cell_type": "code",
   "execution_count": null,
   "metadata": {},
   "outputs": [],
   "source": [
    "import random\n",
    "random.randint(45000,80000)"
   ]
  },
  {
   "cell_type": "code",
   "execution_count": null,
   "metadata": {},
   "outputs": [],
   "source": [
    "empbox = ['jason', 'bourne', 'jabo', '987654321', '9876543211', '1 ultimatum st', 'helena', 'MT', '54321', '12', '08', '19', 'acct', 'acctnt', '31.25', '1250.0', '5000.0', '65000.0', '3', '-3', '2', '-2', '2', '-2','0','0']\n",
    "firstname = empbox[0]\n",
    "lastname = empbox[1]\n",
    "nickname = empbox[2]\n",
    "socno = empbox[3]\n",
    "telno = empbox[4]"
   ]
  },
  {
   "cell_type": "code",
   "execution_count": null,
   "metadata": {},
   "outputs": [],
   "source": [
    "for x in range(3):\n",
    "    print('gaga')"
   ]
  },
  {
   "cell_type": "code",
   "execution_count": null,
   "metadata": {},
   "outputs": [],
   "source": [
    "vacdates = []\n",
    "xvactk = 3\n",
    "for zzz in range(xvactk):\n",
    "\tvacdates.append((str(random.randint(1,12)))+'/'+(str(random.randint(1,28)))+'/'+(str(random.randint(4,19))))"
   ]
  },
  {
   "cell_type": "code",
   "execution_count": null,
   "metadata": {},
   "outputs": [],
   "source": [
    "print(vacdates)"
   ]
  },
  {
   "cell_type": "code",
   "execution_count": 3,
   "metadata": {},
   "outputs": [],
   "source": [
    "import random\n",
    "rosterbox = []\n",
    "empbox = []\n",
    "sickdates = [[],[],[],[],[],[],[],[],[],[],[],[],[],[],[],[],[],[],[],[],[],[],[],[],[],[],[],[],[],[],[],[],[],[],[],[],[],[],[],[]]\n",
    "persdates = [[],[],[],[],[],[],[],[],[],[],[],[],[],[],[],[],[],[],[],[],[],[],[],[],[],[],[],[],[],[],[],[],[],[],[],[],[],[],[],[]]\n",
    "vacdates = [[],[],[],[],[],[],[],[],[],[],[],[],[],[],[],[],[],[],[],[],[],[],[],[],[],[],[],[],[],[],[],[],[],[],[],[],[],[],[],[]]\n",
    "\n",
    "\n",
    "names=[['0','0','0'],['jason','bourne','jabo'],['sara','walker','yvon'],['john','casey','jcas'],['charles','bartowski','chuk'],['jack','bauer','jbow'],['tony','roop','troo'],['greg','cosent','gcos'],['macgregor','jones','macj'],['jalen','hurts','jhur'],['nick','saban','nsab'],['paul','bryant','pbry'],['jim','fallon','jimy'],['conan','brian','cone'],['adam','driver','sith'],['daisy','ridley','drid'],['alec','baldwin','bald'],['steff','tuan','stef'],['chris','rudolf','crud'],['kylo','ren','kyre'],['michael','okeyo','mike'],['michael','donaldson','mdon'],['peter','camp','gunn'],['justine','dean','jusd'],['mary','bailey','bail'],['marc','singer','funk'],['franco','franus','fran'],['chris','velez','slam'],['jose','quizon','chic'],['jumpa','smith','jusm'],['jumpa','jones','jujo'],['thavone','pengpang','peng'],['paul','singh','psin'],['jerry','springer','jspr'],['andrew','jones','anjo'],['cole','henderson','heno'],['george','st.pierre','gstp'],['luc','petty','lpet'],['todd','bryant','tbry'],['robin','banger','bang']]\n",
    "areac = ['718','212','917','914']\n",
    "stype = ['avenue','road','street']\n",
    "borough = ['manhattan','queens','staten island','bronx','brooklyn']\n",
    "zipcode = [['10001','10011','10018','10019','10020'],['11354','11355','11356','11357','11358'],['10306','10307','10308','10309','10312'],['10461','10462','10464','10465','10472'],['11201','11205','11215','11217','11231']]\n",
    "\n",
    "\n",
    "\n",
    "\n",
    "dept= ['hsk','FD','eng','pbx','sle','acct']\n",
    "deptpos =[['*deptmgr','*adeptmgr','*deptsup','hskper','hseman'],['*deptmgr','*adeptmgr','*ntmgr','deptsup','ntaud','fdagnt','bllmn','drmn'],['*deptmgr','*adeptmgr','*deptsup','engnr'],['*deptmgr','*adeptmgr','*deptsup','oprtr'],['*deptmgr','*adeptmgr','*deptsup','res'],['*cntrller','*asscntrller','acctnt']]\n",
    "\n",
    "\n",
    "for emp in range(len(names)):\n",
    "    xname = random.randint(0,39)\n",
    "    xsoc = random.randint(100000000,999999999)\n",
    "\n",
    "    xarea = random.randint(0,3)\n",
    "    xtelp = random.randint(100,999)\n",
    "    xtels = random.randint(1000,9999)\n",
    "\n",
    "    xbuildno = random.randint(1,300)\n",
    "    xstreetno = random.randint(1,140)\n",
    "    xstreetype = random.randint(0,2)\n",
    "    xbtype = random.randint(0,4)\n",
    "    xziptype = zipcode[xbtype][random.randint(0,4)]\n",
    "\n",
    "    xmonth = random.randint(1,12)\n",
    "    xday = random.randint(1,28)\n",
    "    xyear = random.randint(4,19)\n",
    "\n",
    "    xdep = random.randint(0,5)\n",
    "    xdepos = random.randint(0,((len(deptpos[xdep]))-1))\n",
    "\n",
    "    xpay = random.randint(17,30)\n",
    "\n",
    "    xsicktk = random.randint(0,6)\n",
    "    xperstk = random.randint(0,3)\n",
    "    xvactk = random.randint(0,15)\n",
    "\n",
    "\n",
    "    names[emp].append(names[emp][0])\n",
    "    names[emp].append(names[emp][1])\n",
    "    names[emp].append(names[emp][2])\n",
    "    names[emp].append(str(xsoc))\n",
    "    names[emp].append((str(xarea))+(str(xtelp))+(str(xtels)))\n",
    "    names[emp].append(str(xbuildno)+' '+str(xstreetno)+' '+stype[xstreetype])\n",
    "    names[emp].append(borough[xbtype])\n",
    "    names[emp].append('NY')\n",
    "    names[emp].append(xziptype)\n",
    "    names[emp].append(xmonth)\n",
    "    names[emp].append(xday)\n",
    "    names[emp].append(xyear)\n",
    "    names[emp].append(dept[xdep])\n",
    "    names[emp].append(deptpos[xdep][xdepos])\n",
    "    names[emp].append(str(xpay))\n",
    "    names[emp].append(str(xpay*40))\n",
    "    names[emp].append(str((xpay*40)*4))\n",
    "    names[emp].append(str((xpay*40)*52))\n",
    "    names[emp].append(str(xsicktk))\n",
    "    names[emp].append(str(6-xsicktk))\n",
    "    names[emp].append(str(xperstk))\n",
    "    names[emp].append(str(3-xperstk))\n",
    "    names[emp].append(str(xvactk))\n",
    "    names[emp].append(str(15-xvactk))\n",
    "\n",
    "    for z in range(xsicktk):\n",
    "        sickdates[emp].append((str(random.randint(1,12)))+'/'+(str(random.randint(1,28)))+'/'+(str(random.randint(4,19))))\n",
    "    for zz in range(xperstk):\n",
    "        persdates[emp].append((str(random.randint(1,12)))+'/'+(str(random.randint(1,28)))+'/'+(str(random.randint(4,19))))\n",
    "    for zzz in range(xvactk):\n",
    "        vacdates[emp].append((str(random.randint(1,12)))+'/'+(str(random.randint(1,28)))+'/'+(str(random.randint(4,19))))\n",
    "\n",
    "for rost in range(len(names)):\n",
    "    rosterbox.append(names[rost])\n",
    "    rosterbox.append(sickdates[rost])\n",
    "    rosterbox.append(persdates[rost])\n",
    "    rosterbox.append(vacdates[rost])"
   ]
  },
  {
   "cell_type": "code",
   "execution_count": 4,
   "metadata": {},
   "outputs": [
    {
     "name": "stdout",
     "output_type": "stream",
     "text": [
      "[['0', '0', '0', '0', '0', '0', '216917861', '39734900', '153 127 avenue', 'bronx', 'NY', '10464', 7, 12, 13, 'FD', '*adeptmgr', '21', '840', '3360', '43680', '4', '2', '1', '2', '0', '15'], ['8/8/18', '7/10/13', '1/14/10', '10/19/19'], ['3/2/9'], [], ['jason', 'bourne', 'jabo', 'jason', 'bourne', 'jabo', '824675314', '36836418', '61 33 street', 'brooklyn', 'NY', '11205', 8, 15, 18, 'sle', '*adeptmgr', '18', '720', '2880', '37440', '1', '5', '2', '1', '0', '15'], ['10/13/7'], ['1/4/11', '4/8/10'], [], ['sara', 'walker', 'yvon', 'sara', 'walker', 'yvon', '151263731', '39531879', '113 50 avenue', 'staten island', 'NY', '10306', 10, 16, 18, 'sle', '*deptsup', '22', '880', '3520', '45760', '1', '5', '1', '2', '0', '15'], ['10/26/10'], ['5/17/9'], [], ['john', 'casey', 'jcas', 'john', 'casey', 'jcas', '102432816', '25146371', '45 107 street', 'bronx', 'NY', '10472', 2, 25, 11, 'FD', 'drmn', '29', '1160', '4640', '60320', '0', '6', '3', '0', '8', '7'], [], ['4/15/5', '1/10/11', '6/18/12'], ['9/10/7', '2/10/4', '3/28/14', '2/22/14', '7/22/8', '7/17/8', '4/1/6', '3/2/14'], ['charles', 'bartowski', 'chuk', 'charles', 'bartowski', 'chuk', '545713104', '04269480', '175 64 road', 'staten island', 'NY', '10308', 5, 15, 6, 'hsk', '*deptmgr', '21', '840', '3360', '43680', '2', '4', '2', '1', '6', '9'], ['12/7/10', '1/27/10'], ['7/14/14', '10/14/16'], ['7/26/7', '4/6/6', '4/26/7', '7/11/15', '7/24/14', '9/19/13'], ['jack', 'bauer', 'jbow', 'jack', 'bauer', 'jbow', '269900907', '01823948', '26 63 avenue', 'queens', 'NY', '11354', 5, 5, 17, 'FD', 'drmn', '26', '1040', '4160', '54080', '6', '0', '2', '1', '3', '12'], ['10/25/9', '3/13/4', '9/6/5', '7/12/14', '1/17/17', '6/27/6'], ['12/8/18', '6/26/11'], ['4/22/6', '11/20/9', '3/18/14'], ['tony', 'roop', 'troo', 'tony', 'roop', 'troo', '574204240', '36648267', '35 90 street', 'bronx', 'NY', '10465', 11, 25, 18, 'acct', 'acctnt', '22', '880', '3520', '45760', '0', '6', '2', '1', '0', '15'], [], ['6/22/14', '4/6/8'], [], ['greg', 'cosent', 'gcos', 'greg', 'cosent', 'gcos', '546219150', '02469929', '127 22 avenue', 'queens', 'NY', '11357', 4, 20, 8, 'hsk', 'hseman', '17', '680', '2720', '35360', '4', '2', '1', '2', '3', '12'], ['3/11/8', '8/3/12', '8/2/16', '9/5/19'], ['4/13/4'], ['9/14/15', '12/21/13', '8/18/7'], ['macgregor', 'jones', 'macj', 'macgregor', 'jones', 'macj', '304811381', '09343808', '274 37 street', 'brooklyn', 'NY', '11215', 12, 22, 13, 'sle', '*deptsup', '18', '720', '2880', '37440', '6', '0', '3', '0', '4', '11'], ['1/6/4', '5/12/17', '7/21/4', '6/15/11', '6/23/9', '3/20/8'], ['6/19/16', '6/28/19', '5/22/13'], ['9/8/4', '10/11/4', '9/21/4', '11/9/15'], ['jalen', 'hurts', 'jhur', 'jalen', 'hurts', 'jhur', '353009412', '01331816', '19 13 street', 'queens', 'NY', '11356', 10, 17, 9, 'eng', '*deptmgr', '30', '1200', '4800', '62400', '4', '2', '2', '1', '10', '5'], ['5/9/7', '1/9/10', '2/27/11', '2/6/18'], ['7/27/4', '11/11/15'], ['11/17/7', '11/2/9', '3/27/4', '10/22/7', '3/17/7', '4/10/14', '8/1/18', '9/9/17', '2/10/6', '4/10/11'], ['nick', 'saban', 'nsab', 'nick', 'saban', 'nsab', '337031521', '32837502', '43 32 avenue', 'queens', 'NY', '11355', 11, 9, 14, 'acct', 'acctnt', '30', '1200', '4800', '62400', '4', '2', '3', '0', '5', '10'], ['2/9/13', '4/7/8', '5/11/10', '5/8/9'], ['6/25/6', '6/13/5', '11/20/4'], ['1/12/16', '7/27/12', '5/28/19', '9/2/11', '3/7/11'], ['paul', 'bryant', 'pbry', 'paul', 'bryant', 'pbry', '104945076', '33616737', '24 101 avenue', 'bronx', 'NY', '10472', 9, 26, 12, 'FD', 'drmn', '23', '920', '3680', '47840', '6', '0', '1', '2', '15', '0'], ['4/23/11', '1/22/12', '11/5/11', '10/20/5', '2/22/17', '9/3/16'], ['7/1/16'], ['2/9/11', '2/13/15', '5/12/4', '2/9/19', '4/23/6', '3/1/12', '3/3/7', '1/11/8', '11/14/11', '9/21/14', '4/26/10', '11/5/16', '11/16/16', '9/15/14', '5/19/12'], ['jim', 'fallon', 'jimy', 'jim', 'fallon', 'jimy', '543141897', '37217313', '203 23 road', 'manhattan', 'NY', '10018', 5, 27, 4, 'sle', '*deptmgr', '25', '1000', '4000', '52000', '5', '1', '2', '1', '5', '10'], ['4/19/11', '11/13/7', '7/18/9', '4/5/15', '9/26/12'], ['10/24/10', '4/10/15'], ['1/1/17', '4/6/14', '8/20/13', '5/15/15', '11/4/12'], ['conan', 'brian', 'cone', 'conan', 'brian', 'cone', '179323482', '04322124', '116 89 road', 'queens', 'NY', '11354', 1, 24, 13, 'hsk', '*deptmgr', '27', '1080', '4320', '56160', '1', '5', '2', '1', '6', '9'], ['1/11/16'], ['1/4/6', '4/19/14'], ['8/26/11', '10/11/12', '7/23/17', '5/22/4', '5/8/14', '7/15/15'], ['adam', 'driver', 'sith', 'adam', 'driver', 'sith', '874719369', '03401209', '53 96 avenue', 'bronx', 'NY', '10464', 11, 20, 19, 'pbx', '*deptmgr', '17', '680', '2720', '35360', '2', '4', '1', '2', '8', '7'], ['7/12/13', '6/10/14'], ['11/25/9'], ['2/17/5', '3/12/19', '12/24/14', '2/4/13', '5/16/4', '8/6/6', '11/2/4', '1/9/11'], ['daisy', 'ridley', 'drid', 'daisy', 'ridley', 'drid', '447164559', '29277973', '197 34 street', 'bronx', 'NY', '10464', 2, 6, 10, 'eng', '*deptmgr', '17', '680', '2720', '35360', '1', '5', '3', '0', '5', '10'], ['2/23/9'], ['1/12/5', '3/6/15', '5/19/7'], ['3/19/5', '1/24/19', '7/27/12', '3/23/17', '6/27/18'], ['alec', 'baldwin', 'bald', 'alec', 'baldwin', 'bald', '939183133', '22575548', '151 87 avenue', 'manhattan', 'NY', '10019', 3, 28, 10, 'sle', '*deptsup', '18', '720', '2880', '37440', '3', '3', '1', '2', '1', '14'], ['4/19/9', '11/2/5', '4/21/17'], ['9/10/8'], ['5/27/6'], ['steff', 'tuan', 'stef', 'steff', 'tuan', 'stef', '297074358', '34449602', '102 127 avenue', 'bronx', 'NY', '10464', 6, 8, 19, 'eng', 'engnr', '20', '800', '3200', '41600', '0', '6', '1', '2', '11', '4'], [], ['10/14/15'], ['3/20/18', '3/16/12', '3/21/15', '10/15/5', '10/8/13', '11/12/12', '4/6/10', '6/24/14', '4/2/10', '5/25/17', '12/22/4'], ['chris', 'rudolf', 'crud', 'chris', 'rudolf', 'crud', '224793642', '36747393', '286 48 street', 'manhattan', 'NY', '10018', 9, 10, 14, 'pbx', 'oprtr', '20', '800', '3200', '41600', '2', '4', '3', '0', '6', '9'], ['3/22/7', '10/21/4'], ['5/27/14', '1/11/18', '7/4/14'], ['9/9/16', '3/15/11', '4/3/13', '11/21/7', '7/18/5', '3/1/12'], ['kylo', 'ren', 'kyre', 'kylo', 'ren', 'kyre', '823159470', '22825071', '149 8 street', 'staten island', 'NY', '10308', 6, 13, 14, 'hsk', '*deptsup', '22', '880', '3520', '45760', '1', '5', '3', '0', '6', '9'], ['9/7/14'], ['8/23/19', '2/17/5', '10/17/19'], ['9/17/8', '9/1/19', '9/11/7', '10/27/12', '10/12/6', '12/7/15'], ['michael', 'okeyo', 'mike', 'michael', 'okeyo', 'mike', '346544607', '23535875', '102 67 road', 'queens', 'NY', '11354', 7, 16, 11, 'hsk', '*deptsup', '29', '1160', '4640', '60320', '2', '4', '2', '1', '5', '10'], ['2/10/8', '7/6/11'], ['10/17/15', '9/1/6'], ['1/19/7', '11/17/19', '8/14/12', '12/25/19', '1/6/14'], ['michael', 'donaldson', 'mdon', 'michael', 'donaldson', 'mdon', '879402547', '24023765', '159 33 street', 'queens', 'NY', '11354', 7, 27, 15, 'acct', '*cntrller', '26', '1040', '4160', '54080', '1', '5', '2', '1', '6', '9'], ['12/8/10'], ['2/3/11', '1/11/9'], ['7/16/16', '9/6/4', '7/18/16', '11/3/5', '5/19/17', '7/3/16'], ['peter', 'camp', 'gunn', 'peter', 'camp', 'gunn', '438424349', '17997529', '229 103 avenue', 'brooklyn', 'NY', '11201', 3, 7, 5, 'pbx', 'oprtr', '24', '960', '3840', '49920', '4', '2', '1', '2', '1', '14'], ['6/11/16', '6/4/17', '5/11/19', '11/3/15'], ['9/9/12'], ['5/8/10'], ['justine', 'dean', 'jusd', 'justine', 'dean', 'jusd', '272441150', '39726172', '55 103 street', 'bronx', 'NY', '10465', 8, 18, 4, 'eng', 'engnr', '29', '1160', '4640', '60320', '6', '0', '0', '3', '9', '6'], ['4/26/14', '10/15/10', '9/25/15', '9/28/19', '6/24/12', '9/28/6'], [], ['4/18/15', '2/5/8', '8/8/12', '11/15/8', '6/16/10', '9/3/15', '12/17/4', '12/18/16', '2/20/7'], ['mary', 'bailey', 'bail', 'mary', 'bailey', 'bail', '880082893', '11452912', '50 42 avenue', 'staten island', 'NY', '10308', 2, 8, 11, 'acct', '*asscntrller', '26', '1040', '4160', '54080', '2', '4', '2', '1', '13', '2'], ['2/13/12', '4/23/6'], ['2/2/4', '2/4/8'], ['7/3/10', '11/27/8', '1/12/8', '12/4/9', '5/21/14', '1/24/7', '11/26/9', '11/11/7', '8/24/15', '12/2/11', '5/22/15', '7/15/8', '2/22/4'], ['marc', 'singer', 'funk', 'marc', 'singer', 'funk', '892131378', '13519064', '281 85 avenue', 'staten island', 'NY', '10306', 6, 1, 19, 'pbx', '*deptsup', '20', '800', '3200', '41600', '4', '2', '0', '3', '10', '5'], ['6/5/15', '5/25/9', '4/3/10', '4/12/16'], [], ['6/11/5', '8/17/18', '5/24/14', '5/17/8', '6/12/13', '7/26/8', '9/12/7', '4/23/14', '4/17/8', '11/14/13'], ['franco', 'franus', 'fran', 'franco', 'franus', 'fran', '406653294', '03191244', '213 61 avenue', 'queens', 'NY', '11358', 1, 28, 4, 'sle', 'res', '17', '680', '2720', '35360', '5', '1', '3', '0', '3', '12'], ['8/19/9', '5/28/5', '6/11/4', '9/28/18', '12/17/13'], ['6/22/12', '7/10/13', '10/2/4'], ['7/20/16', '7/9/11', '12/9/19'], ['chris', 'velez', 'slam', 'chris', 'velez', 'slam', '389607164', '34843379', '229 103 street', 'queens', 'NY', '11355', 1, 24, 12, 'acct', '*cntrller', '30', '1200', '4800', '62400', '2', '4', '1', '2', '11', '4'], ['11/23/10', '2/20/18'], ['2/27/13'], ['2/21/18', '8/9/15', '8/16/13', '8/18/8', '7/1/5', '8/4/18', '8/27/11', '12/26/6', '7/7/18', '2/18/11', '3/17/15'], ['jose', 'quizon', 'chic', 'jose', 'quizon', 'chic', '739067414', '04236199', '246 109 street', 'manhattan', 'NY', '10018', 1, 3, 17, 'FD', 'bllmn', '20', '800', '3200', '41600', '4', '2', '1', '2', '7', '8'], ['2/13/12', '10/14/16', '11/4/15', '4/16/9'], ['9/11/6'], ['10/18/16', '4/7/18', '8/27/15', '12/7/5', '12/15/9', '5/11/16', '10/3/4'], ['jumpa', 'smith', 'jusm', 'jumpa', 'smith', 'jusm', '973042305', '03479142', '190 71 street', 'queens', 'NY', '11356', 10, 2, 5, 'FD', '*ntmgr', '23', '920', '3680', '47840', '0', '6', '1', '2', '2', '13'], [], ['12/11/7'], ['5/26/19', '1/1/16'], ['jumpa', 'jones', 'jujo', 'jumpa', 'jones', 'jujo', '980060898', '32612036', '151 52 street', 'bronx', 'NY', '10465', 7, 26, 10, 'sle', '*adeptmgr', '21', '840', '3360', '43680', '0', '6', '1', '2', '4', '11'], [], ['5/7/9'], ['11/2/18', '1/20/18', '6/16/18', '12/22/15'], ['thavone', 'pengpang', 'peng', 'thavone', 'pengpang', 'peng', '348875420', '37188758', '175 71 avenue', 'manhattan', 'NY', '10019', 11, 3, 14, 'hsk', '*deptsup', '30', '1200', '4800', '62400', '3', '3', '3', '0', '1', '14'], ['5/3/17', '7/6/7', '4/25/5'], ['1/2/18', '11/15/14', '12/27/18'], ['4/4/6'], ['paul', 'singh', 'psin', 'paul', 'singh', 'psin', '597284350', '09524695', '241 28 avenue', 'brooklyn', 'NY', '11217', 10, 15, 18, 'eng', '*deptsup', '22', '880', '3520', '45760', '3', '3', '3', '0', '2', '13'], ['1/23/5', '11/14/7', '6/21/8'], ['1/5/6', '9/3/5', '10/23/19'], ['4/20/6', '7/20/18'], ['jerry', 'springer', 'jspr', 'jerry', 'springer', 'jspr', '352743319', '36944322', '134 80 road', 'queens', 'NY', '11356', 12, 3, 7, 'pbx', '*deptmgr', '23', '920', '3680', '47840', '5', '1', '2', '1', '13', '2'], ['5/28/18', '3/11/17', '10/5/5', '1/1/4', '11/8/6'], ['11/1/5', '4/20/4'], ['10/8/16', '4/24/12', '6/11/14', '1/24/6', '4/4/15', '6/14/17', '11/25/4', '5/15/15', '1/8/15', '3/20/18', '1/28/6', '8/9/6', '1/22/15'], ['andrew', 'jones', 'anjo', 'andrew', 'jones', 'anjo', '820797275', '08688914', '285 14 road', 'staten island', 'NY', '10312', 3, 2, 18, 'FD', 'fdagnt', '21', '840', '3360', '43680', '0', '6', '1', '2', '9', '6'], [], ['3/6/11'], ['12/13/17', '2/9/4', '9/6/10', '11/17/5', '9/9/6', '8/16/5', '4/27/18', '6/22/4', '9/2/6'], ['cole', 'henderson', 'heno', 'cole', 'henderson', 'heno', '774117019', '03024335', '205 130 street', 'brooklyn', 'NY', '11231', 5, 15, 17, 'pbx', '*adeptmgr', '19', '760', '3040', '39520', '1', '5', '2', '1', '2', '13'], ['12/5/11'], ['10/18/18', '1/22/4'], ['3/20/11', '11/26/16'], ['george', 'st.pierre', 'gstp', 'george', 'st.pierre', 'gstp', '192226808', '09047686', '126 97 road', 'staten island', 'NY', '10312', 9, 2, 17, 'hsk', '*deptsup', '29', '1160', '4640', '60320', '2', '4', '3', '0', '9', '6'], ['2/14/18', '10/13/18'], ['9/23/17', '4/2/5', '2/1/18'], ['3/6/8', '10/22/13', '2/22/13', '9/12/13', '6/10/11', '4/1/17', '12/24/10', '9/4/18', '11/15/6'], ['luc', 'petty', 'lpet', 'luc', 'petty', 'lpet', '847434097', '14878876', '73 102 road', 'staten island', 'NY', '10307', 2, 8, 15, 'sle', 'res', '22', '880', '3520', '45760', '2', '4', '2', '1', '15', '0'], ['8/7/18', '1/18/18'], ['10/22/7', '10/23/16'], ['6/7/17', '3/12/5', '5/4/16', '8/3/8', '9/3/5', '3/21/5', '11/17/12', '1/4/6', '4/16/12', '10/27/16', '10/13/10', '12/6/8', '11/20/11', '7/26/6', '10/19/14'], ['todd', 'bryant', 'tbry', 'todd', 'bryant', 'tbry', '882569676', '01357442', '78 63 street', 'bronx', 'NY', '10461', 6, 23, 16, 'eng', '*adeptmgr', '20', '800', '3200', '41600', '2', '4', '2', '1', '1', '14'], ['5/5/11', '5/2/15'], ['7/19/4', '12/14/9'], ['7/1/17'], ['robin', 'banger', 'bang', 'robin', 'banger', 'bang', '439911280', '03466031', '131 135 road', 'bronx', 'NY', '10465', 4, 8, 15, 'acct', '*asscntrller', '21', '840', '3360', '43680', '1', '5', '0', '3', '2', '13'], ['1/3/17'], [], ['4/5/8', '8/8/11']]\n"
     ]
    }
   ],
   "source": [
    "print((rosterbox))"
   ]
  },
  {
   "cell_type": "code",
   "execution_count": 6,
   "metadata": {},
   "outputs": [
    {
     "name": "stdout",
     "output_type": "stream",
     "text": [
      "jasonbourne\n"
     ]
    }
   ],
   "source": [
    "print(names[1][0]+names[1][1])"
   ]
  },
  {
   "cell_type": "code",
   "execution_count": null,
   "metadata": {},
   "outputs": [],
   "source": []
  },
  {
   "cell_type": "code",
   "execution_count": null,
   "metadata": {},
   "outputs": [],
   "source": []
  }
 ],
 "metadata": {
  "kernelspec": {
   "display_name": "Python 3",
   "language": "python",
   "name": "python3"
  },
  "language_info": {
   "codemirror_mode": {
    "name": "ipython",
    "version": 3
   },
   "file_extension": ".py",
   "mimetype": "text/x-python",
   "name": "python",
   "nbconvert_exporter": "python",
   "pygments_lexer": "ipython3",
   "version": "3.7.6"
  }
 },
 "nbformat": 4,
 "nbformat_minor": 4
}
