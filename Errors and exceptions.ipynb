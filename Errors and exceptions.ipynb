{
 "cells": [
  {
   "cell_type": "code",
   "execution_count": 4,
   "metadata": {},
   "outputs": [
    {
     "name": "stdout",
     "output_type": "stream",
     "text": [
      "it don't look like numeros to me pardner!\n"
     ]
    }
   ],
   "source": [
    "b = ['a','b','c']\n",
    "for i in range(len(b)):\n",
    "    try:\n",
    "        print(b[i]**2)\n",
    "    except:\n",
    "        print(\"it don't look like numeros to me pardner!\")\n",
    "        break\n",
    "    "
   ]
  },
  {
   "cell_type": "code",
   "execution_count": 10,
   "metadata": {},
   "outputs": [
    {
     "name": "stdout",
     "output_type": "stream",
     "text": [
      "did u use a zero bro? that shit dont work\n",
      "finito unless there was a prblem then no no finito!\n"
     ]
    }
   ],
   "source": [
    "x = 5\n",
    "y = 0\n",
    "\n",
    "try:\n",
    "    z = x/y\n",
    "    print (z)\n",
    "except: \n",
    "    print('did u use a zero bro? that shit dont work')\n",
    "finally:\n",
    "    print('finito unless there was a prblem then no no finito!')\n",
    "    "
   ]
  },
  {
   "cell_type": "code",
   "execution_count": 1,
   "metadata": {},
   "outputs": [],
   "source": [
    "\n",
    "def ask():\n",
    "    while True:\n",
    "        try:\n",
    "            b =int(input(\"numero please\"))**2\n",
    "            print(b)\n",
    "        except:\n",
    "            print('Exceptumondo Dude! this thing just takes numbers!!!Try again!')\n",
    "        else:\n",
    "            break"
   ]
  },
  {
   "cell_type": "code",
   "execution_count": 2,
   "metadata": {},
   "outputs": [
    {
     "name": "stdout",
     "output_type": "stream",
     "text": [
      "numero pleasestrbrsbs\n",
      "Exceptumondo Dude! this thing just takes numbers!!!Try again!\n",
      "numero pleasegt\n",
      "Exceptumondo Dude! this thing just takes numbers!!!Try again!\n",
      "numero please4\n",
      "16\n"
     ]
    }
   ],
   "source": [
    "ask()"
   ]
  },
  {
   "cell_type": "code",
   "execution_count": null,
   "metadata": {},
   "outputs": [],
   "source": [
    "\n",
    "    while True:\n",
    "        try:\n",
    "            #try this code\n",
    "        except:\n",
    "            #user entered wrong thing\n",
    "        else:\n",
    "            #user entered correct thing\n",
    "            break\n",
    "        finally:\n",
    "            #this always runs\n",
    "            "
   ]
  },
  {
   "cell_type": "code",
   "execution_count": 1,
   "metadata": {},
   "outputs": [],
   "source": [
    "def intverif():\n",
    "    while True:\n",
    "        try:\n",
    "            choose = int(input(\"which line: \"))\n",
    "        except:\n",
    "            print('Exceptumondo Dude! this thing just takes numbers!!!Try again!')\n",
    "        else:\n",
    "            break"
   ]
  },
  {
   "cell_type": "code",
   "execution_count": 2,
   "metadata": {},
   "outputs": [
    {
     "name": "stdout",
     "output_type": "stream",
     "text": [
      "which line: g\n",
      "Exceptumondo Dude! this thing just takes numbers!!!Try again!\n",
      "which line: 4\n"
     ]
    }
   ],
   "source": [
    "intverif()"
   ]
  },
  {
   "cell_type": "code",
   "execution_count": 2,
   "metadata": {},
   "outputs": [
    {
     "name": "stdout",
     "output_type": "stream",
     "text": [
      "enter (y) to confirm data or (n) to edit data: k\n",
      "y or n\n",
      "enter (y) to confirm data or (n) to edit data: n\n",
      "which line: 00'\n",
      "Exceptumondo Dude! this thing just takes numbers!!!Try again!\n",
      "which line: 8\n"
     ]
    }
   ],
   "source": [
    "def intverif():\n",
    "    while True:\n",
    "        try:\n",
    "            choose = int(input(\"which line: \"))\n",
    "        except:\n",
    "            print('Exceptumondo Dude! this thing just takes numbers!!!Try again!')\n",
    "        else:\n",
    "            break\n",
    "        \n",
    "        \n",
    "def verifier():\n",
    "    verify = input('enter (y) to confirm data or (n) to edit data: ')\n",
    "    if verify.lower() == 'y':\n",
    "        print('yayus!')\n",
    "    elif verify.lower() =='n':\n",
    "        intverif()\n",
    "    else:\n",
    "        print('y or n')\n",
    "        verifier()\n",
    "       \n",
    "verifier()\n"
   ]
  },
  {
   "cell_type": "code",
   "execution_count": 3,
   "metadata": {},
   "outputs": [
    {
     "name": "stdout",
     "output_type": "stream",
     "text": [
      "first name: y\n",
      "last name: y\n",
      "0...y\n",
      "1...y\n",
      "1\n",
      "enter (y) to confirm data or (n) to edit data: n\n",
      "which line: 6\n"
     ]
    }
   ],
   "source": [
    "dataentered=[]\n",
    "def newEmp():\n",
    "    firstname= input(\"first name: \")\n",
    "    lastname= input(\"last name: \")\n",
    "    dataentered.append(firstname)\n",
    "    dataentered.append(lastname)\n",
    "    for x in range (len(dataentered)):\n",
    "        print(f\"{x}...{dataentered[x]}\")\n",
    "    print(len(dataentered)-1)\n",
    "    verifier()\n",
    "\n",
    "\n",
    "newEmp()"
   ]
  },
  {
   "cell_type": "code",
   "execution_count": null,
   "metadata": {},
   "outputs": [],
   "source": [
    "intverif()"
   ]
  },
  {
   "cell_type": "code",
   "execution_count": null,
   "metadata": {},
   "outputs": [],
   "source": [
    "# basically you can write a function that insists on taking only integers from input\n",
    "def intverif():\n",
    "    while True:\n",
    "        try:\n",
    "            choose = int(input(\"number entry: \"))\n",
    "            return choose\n",
    "        except:\n",
    "            print('Exceptumondo Dude! this thing just takes numbers!!!Try again!')\n",
    "        else:\n",
    "            break\n",
    "\n",
    "# then you can use that function as a variable and write any kind of condition you want for that variable\n",
    "\n",
    "\n",
    "def phoneNo():\n",
    "    telno = intverif()\n",
    "    if len(str(telno)) == 10:\n",
    "        print('great')\n",
    "        return telno\n",
    "    else:\n",
    "        print('got to be 10 digits dude')\n",
    "        phoneNo()\n",
    "        \n",
    "def phoneLister(phoneNoRet):\n",
    "    telstr = str(phoneNoRet)\n",
    "    print(f'({telstr[:3]} {telstr[3:6]} - {telstr[6:10]})')\n",
    "\n",
    "x = phoneNo()\n",
    "phoneLister(x)"
   ]
  }
 ],
 "metadata": {
  "kernelspec": {
   "display_name": "Python 3",
   "language": "python",
   "name": "python3"
  },
  "language_info": {
   "codemirror_mode": {
    "name": "ipython",
    "version": 3
   },
   "file_extension": ".py",
   "mimetype": "text/x-python",
   "name": "python",
   "nbconvert_exporter": "python",
   "pygments_lexer": "ipython3",
   "version": "3.7.6"
  }
 },
 "nbformat": 4,
 "nbformat_minor": 4
}
