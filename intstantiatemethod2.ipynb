{
 "cells": [
  {
   "cell_type": "code",
   "execution_count": 454,
   "metadata": {},
   "outputs": [],
   "source": [
    "noclist = ['jasonbourne','sarawalker', 'johncasey', 'charlesbartowski']\n",
    "nocmemlist = [['jason', 'bourne', 'jabo', '987654321', '9876543211', '1 ultimatum st', 'helena', 'MT', '54321', '12', '08', '19', 'acct', 'acctnt', '31.25', '1250.0', '5000.0', '65000.0', '3', '-3', '2', '-2', '2', '-2','0','0'], ['1/2/20', '1/3/20', '1/4/20'], ['2/2/20', '2/3/20'], ['3/3/20', '3/4/20'],['sara', 'walker', 'yvonne', '123456789', '1234567890', '1 Bartowski lane', 'burbank', 'CA', '54321', '08', '02', '15', 'FD', 'fdagnt', '24.03846153846154', '961.5384615384615', '3846.153846153846', '50000.0', '1', '3', '4', '2', '4', '2','4'], ['0', '1/2/20'], ['0', '2/1/20', '2/2/20', '2/3/20', '2/4/20'], ['0', '4/1/20', '4/2/20', '4/3/20', '4/5/20'], ['john', 'casey', 'jc', '999999999', '1111111111', '2 buymoria blvd', 'burbank', 'CA', '44444', '03', '04', '17', 'FD', 'fdagnt', '25.0', '1000.0', '4000.0', '48000.0', '0', '0', '0', '0', '0', '0','2'], ['0'], ['0'], ['0'], ['charles', 'bartowski', 'chuck', '000000000', '9999999999', '2 buymoria lane', 'burbank', 'CA', '66333', '06', '26', '08', 'FD', '*adeptmgr', '25.0', '1000.0', '4000.0', '48000.0', '0', '0', '0', '0', '0', '0','11'], ['0'], ['0'], ['0']]\n",
    "dictionaryhold = []"
   ]
  },
  {
   "cell_type": "code",
   "execution_count": 455,
   "metadata": {},
   "outputs": [
    {
     "name": "stdout",
     "output_type": "stream",
     "text": [
      "employee <__main__.Employeez object at 0x0000021A69400708> has been instantiated\n",
      "employee <__main__.Employeez object at 0x0000021A69400088> has been instantiated\n",
      "employee <__main__.Employeez object at 0x0000021A68ACF408> has been instantiated\n",
      "employee <__main__.Employeez object at 0x0000021A68AA70C8> has been instantiated\n",
      "[{'first': 'jason', 'last': 'bourne', 'nickname': 'jabo', 'social': '987654321', 'contel': '9876543211', 'address': '1 ultimatum st', 'city': 'helena', 'state': 'MT', 'zipcode': '54321', 'hiremonth': '12', 'hiredate': '08', 'hireyear': '19', 'dept': 'acct', 'position': 'acctnt', 'hourlypay': '31.25', 'weeklypay': '1250.0', 'monthlypay': '5000.0', 'yearlypay': '65000.0', 'sicktaken': '3', 'sickremaining': '-3', 'perstaken': '2', 'persremaining': '-2', 'vactaken': '2', 'vacremaining': '-2', 'sickdates': ['1/2/20', '1/3/20', '1/4/20'], 'persdates': ['2/2/20', '2/3/20'], 'vacdates': ['3/3/20', '3/4/20'], 'empnoyrs': '0', 'hdatecombo': 191208}, {'first': 'sara', 'last': 'walker', 'nickname': 'yvonne', 'social': '123456789', 'contel': '1234567890', 'address': '1 Bartowski lane', 'city': 'burbank', 'state': 'CA', 'zipcode': '54321', 'hiremonth': '08', 'hiredate': '02', 'hireyear': '15', 'dept': 'FD', 'position': 'fdagnt', 'hourlypay': '24.03846153846154', 'weeklypay': '961.5384615384615', 'monthlypay': '3846.153846153846', 'yearlypay': '50000.0', 'sicktaken': '1', 'sickremaining': '3', 'perstaken': '4', 'persremaining': '2', 'vactaken': '4', 'vacremaining': '2', 'sickdates': ['0', '1/2/20'], 'persdates': ['0', '2/1/20', '2/2/20', '2/3/20', '2/4/20'], 'vacdates': ['0', '4/1/20', '4/2/20', '4/3/20', '4/5/20'], 'empnoyrs': '4', 'hdatecombo': 150802}, {'first': 'john', 'last': 'casey', 'nickname': 'jc', 'social': '999999999', 'contel': '1111111111', 'address': '2 buymoria blvd', 'city': 'burbank', 'state': 'CA', 'zipcode': '44444', 'hiremonth': '03', 'hiredate': '04', 'hireyear': '17', 'dept': 'FD', 'position': 'fdagnt', 'hourlypay': '25.0', 'weeklypay': '1000.0', 'monthlypay': '4000.0', 'yearlypay': '48000.0', 'sicktaken': '0', 'sickremaining': '0', 'perstaken': '0', 'persremaining': '0', 'vactaken': '0', 'vacremaining': '0', 'sickdates': ['0'], 'persdates': ['0'], 'vacdates': ['0'], 'empnoyrs': '2', 'hdatecombo': 170304}, {'first': 'charles', 'last': 'bartowski', 'nickname': 'chuck', 'social': '000000000', 'contel': '9999999999', 'address': '2 buymoria lane', 'city': 'burbank', 'state': 'CA', 'zipcode': '66333', 'hiremonth': '06', 'hiredate': '26', 'hireyear': '08', 'dept': 'FD', 'position': '*adeptmgr', 'hourlypay': '25.0', 'weeklypay': '1000.0', 'monthlypay': '4000.0', 'yearlypay': '48000.0', 'sicktaken': '0', 'sickremaining': '0', 'perstaken': '0', 'persremaining': '0', 'vactaken': '0', 'vacremaining': '0', 'sickdates': ['0'], 'persdates': ['0'], 'vacdates': ['0'], 'empnoyrs': '11', 'hdatecombo': 80626}]\n"
     ]
    }
   ],
   "source": [
    "class Employeez:\n",
    "    def __init__(self,first,last,nickname,social,contel,address,city,state,zipcode,hiremonth,hiredate,hireyear,dept,position,hourlypay,weeklypay,monthlypay,yearlypay,sicktaken,sickremaining,perstaken,persremaining,vactaken,vacremaining,sickdates,persdates,vacdates,empnoyrs):\n",
    "        self.first = first\n",
    "        self.last = last\n",
    "        self.nickname = nickname\n",
    "        self.social = social\n",
    "        self.contel = contel\n",
    "        self.address = address\n",
    "        self.city = city\n",
    "        self.state = state\n",
    "        self.zipcode = zipcode \n",
    "        self.hiremonth = hiremonth     \n",
    "        self.hiredate = hiredate\n",
    "        self.hireyear = hireyear\n",
    "        self.dept = dept\n",
    "        self.position = position\n",
    "        self.hourlypay = hourlypay\n",
    "        self.weeklypay= weeklypay\n",
    "        self.monthlypay= monthlypay\n",
    "        self.yearlypay= yearlypay\n",
    "        self.sicktaken = sicktaken\n",
    "        self.sickremaining = sickremaining\n",
    "        self.perstaken = perstaken\n",
    "        self.persremaining = persremaining\n",
    "        self.vactaken = vactaken\n",
    "        self.vacremaining = vacremaining\n",
    "        self.sickdates = sickdates\n",
    "        self.persdates = persdates\n",
    "        self.vacdates = vacdates\n",
    "        self.empnoyrs = empnoyrs\n",
    "        self.hdatecombo = int(hireyear+hiremonth+hiredate)\n",
    "        \n",
    "    \n",
    "    def insurancesetter(self):\n",
    "        if self.position[0] == '*':\n",
    "            print('United health care')\n",
    "        else:\n",
    "            print('Union insurance')\n",
    "        \n",
    "    \n",
    "    def addsickday(self):\n",
    "#         every 2 months this func runs\n",
    "        pass\n",
    "    def addpersday(self):\n",
    "#         every january first this func runs\n",
    "        pass\n",
    "    def addvacdays(self,vacalot):\n",
    "        import datetime\n",
    "        z=datetime.datetime.now()\n",
    "        monthnow = (z.strftime(\"%m\"))\n",
    "        daynow = (z.strftime(\"%d\"))\n",
    "        yearnow = (z.strftime(\"%Y\"))\n",
    "        yearint = (int(yearnow))-2000\n",
    "        monthint= int(monthnow)\n",
    "        dayint = int(daynow)\n",
    "        print (self.hdatecombo)\n",
    "        \n",
    "        if int(self.hireyear) < yearint:\n",
    "            if int(self.hiremonth) < monthint:\n",
    "                self.vacremaining = int(self.vacremaining) + vacalot \n",
    "                print(self.vacremaining)\n",
    "            elif int(self.hiremonth) == monthint:\n",
    "                if int(self.hiredate) <= dayint:\n",
    "                    self.vacremaining = int(self.vacremaining) + vacalot \n",
    "                    print(self.vacremaining)\n",
    "                else:\n",
    "                    print(f'{int(self.hiredate) - dayint} day(s) away from additional vacation time')        \n",
    "            else:\n",
    "                print(f'{int(self.hiremonth) - monthint} month(s) away from additional vacation time')\n",
    "        else:\n",
    "            print('next year')\n",
    "        \n",
    "    def annivCheck(self):\n",
    "        import datetime\n",
    "        z=datetime.datetime.now()\n",
    "        monthnow = (z.strftime(\"%m\"))\n",
    "        daynow = (z.strftime(\"%d\"))\n",
    "        yearnow = (z.strftime(\"%Y\"))\n",
    "        yearint = (int(yearnow))-2000\n",
    "        monthint= int(monthnow)\n",
    "        dayint = int(daynow)\n",
    "        \n",
    "        if int(self.hireyear) < yearint:\n",
    "            if int(self.hiremonth) < monthint:\n",
    "                print(\"Review / Raise\")\n",
    "                return True\n",
    "            elif int(self.hiremonth) == monthint:\n",
    "                if int(self.hiredate) <= dayint:\n",
    "                    print(\"Review / Raise\")\n",
    "                    return True\n",
    "                else:\n",
    "                    print(f'{int(self.hiredate) - dayint} day(s) from Review and / or Raise')\n",
    "                    return False        \n",
    "            else:\n",
    "                print(f'{int(self.hiremonth) - monthint} month(s) away Review and / or Raise')\n",
    "                return False\n",
    "        else:\n",
    "            print('next year')\n",
    "        \n",
    "#employeecreate() takes the inputs so the emplyee is instantiated in the class\n",
    "def EmployeeCreate(nlist,nmlist,dhold):\n",
    "    for x in range(len(nlist)):\n",
    "        z = x * 4\n",
    "        first = nmlist[z][0]\n",
    "        last = nmlist[z][1] \n",
    "        nickname = nmlist[z][2] \n",
    "        social = nmlist[z][3] \n",
    "        contel = nmlist[z][4] \n",
    "        address = nmlist[z][5]\n",
    "        city =nmlist[z][6]\n",
    "        state =nmlist[z][7] \n",
    "        zipcode  = nmlist[z][8]\n",
    "        hiremonth = nmlist[z][9]\n",
    "        hiredate = nmlist[z][10]\n",
    "        hireyear = nmlist[z][11]\n",
    "        dept = nmlist[z][12]\n",
    "        position = nmlist[z][13]\n",
    "        hourlypay = nmlist[z][14]\n",
    "        weeklypay = nmlist[z][15]\n",
    "        monthlypay = nmlist[z][16]\n",
    "        yearlypay = nmlist[z][17]\n",
    "        sicktaken = nmlist[z][18]\n",
    "        sickremaining = nmlist[z][19]\n",
    "        perstaken = nmlist[z][20]\n",
    "        persremaining = nmlist[z][21]\n",
    "        vactaken = nmlist[z][22]\n",
    "        vacremaining = nmlist[z][23]\n",
    "        empnoyears = nmlist[z][24]\n",
    "        sickdates = nmlist[z+1]\n",
    "        persdates = nmlist[z+2]\n",
    "        vacdates = nmlist[z+3]\n",
    "        hdatecombo =nmlist[z][11]+hiremonth+nmlist[z][9]+nmlist[z][10]\n",
    "        \n",
    "        noclist[x] = Employeez(first,last,nickname,social,contel,address,city,state,zipcode,hiremonth,hiredate,hireyear,dept,position,hourlypay,weeklypay,monthlypay,yearlypay,sicktaken,sickremaining,perstaken,persremaining,vactaken,vacremaining,sickdates,persdates,vacdates,empnoyears)\n",
    "        print(f'employee {nlist[x]} has been instantiated')\n",
    "    for dt in range(len(noclist)):\n",
    "        dictionaryhold.append(noclist[dt].__dict__)\n",
    "    print(dictionaryhold)\n",
    "EmployeeCreate(noclist,nocmemlist,dictionaryhold)"
   ]
  },
  {
   "cell_type": "code",
   "execution_count": 456,
   "metadata": {},
   "outputs": [
    {
     "name": "stdout",
     "output_type": "stream",
     "text": [
      "08\n",
      "14\n",
      "2020\n",
      "20\n",
      "<class 'str'>\n",
      "<class 'str'>\n",
      "<class 'str'>\n",
      "<class 'str'>\n",
      "Rookie\n"
     ]
    }
   ],
   "source": [
    "        import datetime\n",
    "        z=datetime.datetime.now()\n",
    "        monthnow = (z.strftime(\"%m\"))\n",
    "        daynow = (z.strftime(\"%d\"))\n",
    "        yearnow = (z.strftime(\"%Y\"))\n",
    "        yeardbl = str((int(yearnow))-2000)\n",
    "        print (monthnow)\n",
    "        print (daynow)\n",
    "        print (yearnow)\n",
    "        print (yeardbl)\n",
    "        print (type(monthnow))\n",
    "        print (type(daynow))\n",
    "        print (type(yearnow))\n",
    "        print (type(yeardbl))\n",
    "        x = int(yeardbl+monthnow+daynow)\n",
    "        probie = 9600\n",
    "        if probie < 300:\n",
    "            print('Probation Period')\n",
    "        elif probie>300 and probie<10000:\n",
    "            print('Rookie')\n",
    "        elif probie>10000 and probie<30000:\n",
    "            print('Vet')\n",
    "        elif probie>30000 and probie<50000:\n",
    "            print('Bronze')\n",
    "        elif probie>50000 and probie<100000:\n",
    "            print('Silver')\n",
    "        else:\n",
    "            print('Gold')"
   ]
  },
  {
   "cell_type": "code",
   "execution_count": 457,
   "metadata": {},
   "outputs": [
    {
     "name": "stdout",
     "output_type": "stream",
     "text": [
      "not yet\n"
     ]
    }
   ],
   "source": [
    "def truther(x):\n",
    "    if x == 2:\n",
    "        return 'rookie'\n",
    "    else:\n",
    "        return 'vet'\n",
    "\n",
    "def status(x):\n",
    "    y = truther(x)\n",
    "    if y == 'rookie':\n",
    "        print('not yet')\n",
    "    elif y == 'vet':\n",
    "        print('now')\n",
    "    else:\n",
    "        pass\n",
    "status(2)    "
   ]
  },
  {
   "cell_type": "code",
   "execution_count": 458,
   "metadata": {},
   "outputs": [
    {
     "name": "stdout",
     "output_type": "stream",
     "text": [
      "sorry it is still 2020\n",
      "sorry it is still 2020\n",
      "same brah\n"
     ]
    }
   ],
   "source": [
    "    def yearcheck():\n",
    "        import datetime\n",
    "        z=datetime.datetime.now()\n",
    "        yearnow = (z.strftime(\"%Y\"))\n",
    "        yearint = (int(yearnow))-2000\n",
    "        \n",
    "        from cryptography.fernet import Fernet\n",
    "        fkey = open('testdocs/filekey.night','rb')\n",
    "        key = fkey.read()\n",
    "        cipher = Fernet(key)   \n",
    "        \n",
    "        with open('testdocs/yearstore.night','rb') as ys:\n",
    "            encryptedfileA = ys.read()\n",
    "        decrypted_fileA = cipher.decrypt(encryptedfileA)\n",
    "        yearstore = (decrypted_fileA.decode())\n",
    "        \n",
    "        if int(yearstore) == yearint:\n",
    "            print(f\"sorry it is still 20{yearint}\")\n",
    "        else:\n",
    "            print(f\"it is now the year 20{yearint}\")\n",
    "            \n",
    "            with open(f'testdocs\\\\yearstore.night',mode='w')as n:\n",
    "                n.write(f'{yearint}')  \n",
    "                print('files created!')\n",
    "                \n",
    "            yearstorefile= 'testdocs/yearstore.night'\n",
    "            with open(yearstorefile,'rb')as e:\n",
    "                yearstorefiletoencrypt = e.read()\n",
    "        \n",
    "            yearstoreencryptedfile = cipher.encrypt(yearstorefiletoencrypt) \n",
    "            with open(yearstorefile,'wb') as ee:\n",
    "                ee.write(yearstoreencryptedfile)\n",
    "                print('file encryted')\n",
    "                \n",
    "            return True\n",
    "    yearcheck()\n",
    "    \n",
    "    \n",
    "    def persadd():\n",
    "        nextyear = yearcheck()\n",
    "        if nextyear == True:\n",
    "            for key in obdict:\n",
    "                obdict[key].persremaining = int(obdict[key].persremaining) + 3\n",
    "                print(f'{obdict[key].first} has {obdict[key].persremaining} personal days')\n",
    "        else:\n",
    "            print('same brah')\n",
    "    \n",
    "    persadd()"
   ]
  },
  {
   "cell_type": "code",
   "execution_count": 459,
   "metadata": {},
   "outputs": [
    {
     "name": "stdout",
     "output_type": "stream",
     "text": [
      "falseret\n"
     ]
    },
    {
     "data": {
      "text/plain": [
       "False"
      ]
     },
     "execution_count": 459,
     "metadata": {},
     "output_type": "execute_result"
    }
   ],
   "source": [
    "        \n",
    "    def everytwocheck():\n",
    "        import datetime\n",
    "        z=datetime.datetime.now()\n",
    "        monthnow = int((z.strftime(\"%m\")))\n",
    "        \n",
    "        from cryptography.fernet import Fernet\n",
    "        fkey = open('testdocs/filekey.night','rb')\n",
    "        key = fkey.read()\n",
    "        cipher = Fernet(key)   \n",
    "        \n",
    "        with open('testdocs/sickrun.night','rb') as ys:\n",
    "            encryptedfileSR = ys.read()\n",
    "        decrypted_fileSR = cipher.decrypt(encryptedfileSR)\n",
    "        sickrun = (decrypted_fileSR.decode())\n",
    "        \n",
    "        if int(sickrun) == monthnow:\n",
    "            newsick = int(sickrun) + 2\n",
    "            with open(f'testdocs\\\\sickrun.night',mode='w')as s:\n",
    "                s.write(f'{newsick}')  \n",
    "                print('files created!')\n",
    "                \n",
    "            sickrunfile = 'testdocs/sickrun.night'\n",
    "            with open(sickrunfile,'rb')as e:\n",
    "                sickrunfiletoencrypt = e.read()\n",
    "        \n",
    "            sickrunencryptedfile = cipher.encrypt(sickrunfiletoencrypt) \n",
    "            with open(sickrunfile,'wb') as ee:\n",
    "                ee.write(sickrunencryptedfile)\n",
    "                print('file encryted')\n",
    "            return True\n",
    "        else:\n",
    "            print('falseret')\n",
    "            return False\n",
    "        \n",
    "        \n",
    "        \n",
    "        \n",
    "        \n",
    "    everytwocheck()\n",
    "        \n",
    "        "
   ]
  },
  {
   "cell_type": "code",
   "execution_count": null,
   "metadata": {},
   "outputs": [],
   "source": []
  },
  {
   "cell_type": "code",
   "execution_count": 460,
   "metadata": {},
   "outputs": [
    {
     "ename": "NameError",
     "evalue": "name 'self' is not defined",
     "output_type": "error",
     "traceback": [
      "\u001b[1;31m---------------------------------------------------------------------------\u001b[0m",
      "\u001b[1;31mNameError\u001b[0m                                 Traceback (most recent call last)",
      "\u001b[1;32m<ipython-input-460-0c253f1a2d67>\u001b[0m in \u001b[0;36m<module>\u001b[1;34m\u001b[0m\n\u001b[0;32m      7\u001b[0m \u001b[0mmonthint\u001b[0m\u001b[1;33m=\u001b[0m \u001b[0mint\u001b[0m\u001b[1;33m(\u001b[0m\u001b[0mmonthnow\u001b[0m\u001b[1;33m)\u001b[0m\u001b[1;33m\u001b[0m\u001b[1;33m\u001b[0m\u001b[0m\n\u001b[0;32m      8\u001b[0m \u001b[0mdayint\u001b[0m \u001b[1;33m=\u001b[0m \u001b[0mint\u001b[0m\u001b[1;33m(\u001b[0m\u001b[0mdaynow\u001b[0m\u001b[1;33m)\u001b[0m\u001b[1;33m\u001b[0m\u001b[1;33m\u001b[0m\u001b[0m\n\u001b[1;32m----> 9\u001b[1;33m \u001b[0mprint\u001b[0m \u001b[1;33m(\u001b[0m\u001b[0mself\u001b[0m\u001b[1;33m.\u001b[0m\u001b[0mhdatecombo\u001b[0m\u001b[1;33m)\u001b[0m\u001b[1;33m\u001b[0m\u001b[1;33m\u001b[0m\u001b[0m\n\u001b[0m\u001b[0;32m     10\u001b[0m \u001b[1;32mif\u001b[0m \u001b[0mself\u001b[0m\u001b[1;33m.\u001b[0m\u001b[0mhireyear\u001b[0m \u001b[1;33m<\u001b[0m \u001b[0myearint\u001b[0m\u001b[1;33m:\u001b[0m\u001b[1;33m\u001b[0m\u001b[1;33m\u001b[0m\u001b[0m\n\u001b[0;32m     11\u001b[0m     \u001b[1;32mif\u001b[0m \u001b[0mself\u001b[0m\u001b[1;33m.\u001b[0m\u001b[0mhiremonth\u001b[0m \u001b[1;33m>\u001b[0m \u001b[0mmonthint\u001b[0m\u001b[1;33m:\u001b[0m\u001b[1;33m\u001b[0m\u001b[1;33m\u001b[0m\u001b[0m\n",
      "\u001b[1;31mNameError\u001b[0m: name 'self' is not defined"
     ]
    }
   ],
   "source": [
    "    \n",
    "        import datetime\n",
    "        z=datetime.datetime.now()\n",
    "        monthnow = (z.strftime(\"%m\"))\n",
    "        daynow = (z.strftime(\"%d\"))\n",
    "        yearnow = (z.strftime(\"%Y\"))\n",
    "        yearint = (int(yearnow))-2000\n",
    "        monthint= int(monthnow)\n",
    "        dayint = int(daynow)\n",
    "        print (self.hdatecombo)\n",
    "        if self.hireyear < yearint:\n",
    "            if self.hiremonth > monthint:\n",
    "                self.vacremaining = int(self.vacremaining) + vacalot \n",
    "            elif self.hiremonth == monthint:\n",
    "                if self.hiredate <= dayint:\n",
    "                    self.vacremaining = int(self.vacremaining) + vacalot \n",
    "                else:\n",
    "                    print(f'{int(self.hiredate) - mayint} day(s) away from additional vacation time')        \n",
    "            else:\n",
    "                print(f'{int(self.hiremonth) - monthint} month(s) away from additional vacation time')\n",
    "        else:\n",
    "            print('next year')"
   ]
  },
  {
   "cell_type": "code",
   "execution_count": 461,
   "metadata": {},
   "outputs": [
    {
     "name": "stdout",
     "output_type": "stream",
     "text": [
      "['jasonbourne', 'sarawalker', 'johncasey', 'charlesbartowski']\n",
      "54321\n",
      "bourne\n",
      "walker\n",
      "casey\n",
      "bartowski\n",
      "walker, sara<FD//fdagnt>......1234567890\n",
      "casey, john<FD//fdagnt>......1111111111\n",
      "bartowski, charles<FD//*adeptmgr>......9999999999\n",
      "bourne, jason<acct//acctnt>......9876543211\n"
     ]
    }
   ],
   "source": [
    "obdict=0\n",
    "noclistkey=[]\n",
    "for x in range(len(dictionaryhold)):\n",
    "    noclistkey.append(dictionaryhold[x]['first']+dictionaryhold[x]['last'])\n",
    "print(noclistkey)\n",
    "obdict=dict(zip(noclistkey,noclist))\n",
    "\n",
    "print(obdict['jasonbourne'].zipcode)\n",
    "\n",
    "for key in obdict:\n",
    "    print(obdict[key].last)\n",
    "    \n",
    "directory=[]    \n",
    "\n",
    "alphsortfirst = {key: value for key, value in sorted(obdict.items(), key=lambda item: item[1].first)}\n",
    "alphsortlast = {key: value for key, value in sorted(obdict.items(), key=lambda item: item[1].last)}\n",
    "alphsortdept = {key: value for key, value in sorted(obdict.items(), key=lambda item: item[1].dept)}\n",
    "alphsortposition = {key: value for key, value in sorted(obdict.items(), key=lambda item: item[1].position)}\n",
    "\n",
    "\n",
    "\n",
    "\n",
    "for dirct in alphsortdept:\n",
    "    directory.append(str(f'{alphsortdept[dirct].last}, {alphsortdept[dirct].first}<{alphsortdept[dirct].dept}//{alphsortdept[dirct].position}>......{alphsortdept[dirct].contel}'))\n",
    "for ent in range(len(directory)):\n",
    "    print(directory[ent])"
   ]
  },
  {
   "cell_type": "code",
   "execution_count": 462,
   "metadata": {},
   "outputs": [
    {
     "name": "stdout",
     "output_type": "stream",
     "text": [
      "<__main__.Employeez object at 0x0000021A68AA70C8>\n"
     ]
    }
   ],
   "source": [
    "print(obdict[key])"
   ]
  },
  {
   "cell_type": "code",
   "execution_count": null,
   "metadata": {},
   "outputs": [],
   "source": []
  },
  {
   "cell_type": "code",
   "execution_count": 463,
   "metadata": {},
   "outputs": [
    {
     "name": "stdout",
     "output_type": "stream",
     "text": [
      "jason bourne ... -3\n",
      "sara walker ... 3\n",
      "john casey ... 0\n",
      "charles bartowski ... 0\n"
     ]
    }
   ],
   "source": [
    "for x in obdict:\n",
    "    print(f'{obdict[x].first} {obdict[x].last} ... {obdict[x].sickremaining}')"
   ]
  },
  {
   "cell_type": "code",
   "execution_count": 464,
   "metadata": {},
   "outputs": [
    {
     "name": "stdout",
     "output_type": "stream",
     "text": [
      "falseret\n",
      "not yet\n"
     ]
    }
   ],
   "source": [
    "def sickadd(dictr):\n",
    "    sickadder = everytwocheck()\n",
    "    if sickadder == True:\n",
    "        for sickey in dictr:\n",
    "            print(f'{dictr[sickey].first} {dictr[sickey].last} ... {dictr[sickey].sickremaining}')\n",
    "            ns = int(dictr[sickey].sickremaining) + 1\n",
    "            dictr[sickey].sickremaining = str(ns)\n",
    "            print(f'{dictr[sickey].first} {dictr[sickey].last} ... {dictr[sickey].sickremaining}')\n",
    "    else:\n",
    "        print('not yet')\n",
    "            \n",
    "sickadd(obdict)"
   ]
  },
  {
   "cell_type": "code",
   "execution_count": 465,
   "metadata": {},
   "outputs": [
    {
     "name": "stdout",
     "output_type": "stream",
     "text": [
      "2400\n",
      "3200\n"
     ]
    },
    {
     "data": {
      "text/plain": [
       "2800"
      ]
     },
     "execution_count": 465,
     "metadata": {},
     "output_type": "execute_result"
    }
   ],
   "source": [
    "def func1(var1):\n",
    "    return var1+2\n",
    "def func1a(var1,var2):\n",
    "    x = func1(var1)\n",
    "    y = func1(var2)\n",
    "    print(x)\n",
    "    print(y)\n",
    "    print(x+y)\n",
    "a = 15*40*4\n",
    "b = 20*40*4\n",
    "\n",
    "print(a)\n",
    "print(b)\n",
    "(a+b)//2\n",
    "33600//12\n"
   ]
  },
  {
   "cell_type": "code",
   "execution_count": 466,
   "metadata": {},
   "outputs": [
    {
     "name": "stdout",
     "output_type": "stream",
     "text": [
      "48000.0\n",
      "48000.0\n",
      "50000.0\n",
      "65000.0\n"
     ]
    }
   ],
   "source": [
    "alphsortyearlypay = {key: value for key, value in sorted(obdict.items(), key=lambda item: int(float(item[1].yearlypay)))}\n",
    "\n",
    "for ent in alphsortyearlypay:\n",
    "    print(alphsortyearlypay[ent].yearlypay)"
   ]
  },
  {
   "cell_type": "code",
   "execution_count": 467,
   "metadata": {},
   "outputs": [
    {
     "name": "stdout",
     "output_type": "stream",
     "text": [
      "['first', 'last', 'nickname', 'social', 'contel', 'address', 'city', 'state', 'zipcode', 'hiremonth', 'hiredate', 'hireyear', 'dept', 'position', 'hourlypay', 'weeklypay', 'monthlypay', 'yearlypay', 'sicktaken', 'sickremaining', 'perstaken', 'persremaining', 'vactaken', 'vacremaining', 'sickdates', 'persdates', 'vacdates', 'empnoyrs', 'hdatecombo']\n"
     ]
    }
   ],
   "source": [
    "keylist=[]\n",
    "def keygrabber(obd):\n",
    "    grab = obd['jasonbourne'].__dict__\n",
    "\n",
    "    items = grab.items() \n",
    "    for item in items: \n",
    "        keylist.append(item[0])\n",
    "keygrabber(obdict)\n",
    "print(keylist)\n",
    "    \n",
    "def sorter(obd,x):\n",
    "    {key: value for key, value in sorted(obd.items(), key=lambda item: x )}"
   ]
  },
  {
   "cell_type": "code",
   "execution_count": 468,
   "metadata": {},
   "outputs": [
    {
     "data": {
      "text/plain": [
       "{'first': 'jason',\n",
       " 'last': 'bourne',\n",
       " 'nickname': 'jabo',\n",
       " 'social': '987654321',\n",
       " 'contel': '9876543211',\n",
       " 'address': '1 ultimatum st',\n",
       " 'city': 'helena',\n",
       " 'state': 'MT',\n",
       " 'zipcode': '54321',\n",
       " 'hiremonth': '12',\n",
       " 'hiredate': '08',\n",
       " 'hireyear': '19',\n",
       " 'dept': 'acct',\n",
       " 'position': 'acctnt',\n",
       " 'hourlypay': '31.25',\n",
       " 'weeklypay': '1250.0',\n",
       " 'monthlypay': '5000.0',\n",
       " 'yearlypay': '65000.0',\n",
       " 'sicktaken': '3',\n",
       " 'sickremaining': '-3',\n",
       " 'perstaken': '2',\n",
       " 'persremaining': '-2',\n",
       " 'vactaken': '2',\n",
       " 'vacremaining': '-2',\n",
       " 'sickdates': ['1/2/20', '1/3/20', '1/4/20'],\n",
       " 'persdates': ['2/2/20', '2/3/20'],\n",
       " 'vacdates': ['3/3/20', '3/4/20'],\n",
       " 'empnoyrs': '0',\n",
       " 'hdatecombo': 191208}"
      ]
     },
     "execution_count": 468,
     "metadata": {},
     "output_type": "execute_result"
    }
   ],
   "source": [
    "obdict['jasonbourne'].__dict__"
   ]
  },
  {
   "cell_type": "code",
   "execution_count": 469,
   "metadata": {},
   "outputs": [
    {
     "name": "stdout",
     "output_type": "stream",
     "text": [
      "charles bartowski was hired\n",
      "06 - 26 - 08\n",
      "sara walker was hired\n",
      "08 - 02 - 15\n",
      "john casey was hired\n",
      "03 - 04 - 17\n",
      "jason bourne was hired\n",
      "12 - 08 - 19\n"
     ]
    }
   ],
   "source": [
    "numsorthdatecombo = {key: value for key, value in sorted(obdict.items(), key=lambda item: int(float(item[1].hdatecombo)))}\n",
    "\n",
    "for hdate in numsorthdatecombo:\n",
    "    print(f'{obdict[hdate].first} {obdict[hdate].last} was hired\\n{obdict[hdate].hiremonth} - {obdict[hdate].hiredate} - {obdict[hdate].hireyear}')"
   ]
  },
  {
   "cell_type": "code",
   "execution_count": 470,
   "metadata": {},
   "outputs": [
    {
     "name": "stdout",
     "output_type": "stream",
     "text": [
      "john casey\n",
      "  has taken 0 sick days0 days left\n",
      "charles bartowski\n",
      "  has taken 0 sick days0 days left\n",
      "sara walker\n",
      "  has taken 1 sick days3 days left\n",
      "jason bourne\n",
      "  has taken 3 sick days-3 days left\n"
     ]
    }
   ],
   "source": [
    "numsortsicktaken = {key: value for key, value in sorted(obdict.items(), key=lambda item: int(item[1].sicktaken))}\n",
    "for sicker in numsortsicktaken:\n",
    "    print(f'{numsortsicktaken[sicker].first} {numsortsicktaken[sicker].last}\\n  has taken {numsortsicktaken[sicker].sicktaken} sick days{numsortsicktaken[sicker].sickremaining} days left')"
   ]
  },
  {
   "cell_type": "code",
   "execution_count": 471,
   "metadata": {},
   "outputs": [
    {
     "name": "stdout",
     "output_type": "stream",
     "text": [
      "19\n",
      "191208\n",
      "4 month(s) away from additional vacation time\n",
      "0\n",
      "191208\n",
      "4 month(s) away from additional vacation time\n",
      "150802\n",
      "7\n",
      "170304\n",
      "5\n",
      "80626\n",
      "5\n"
     ]
    }
   ],
   "source": [
    "print(obdict['jasonbourne'].hireyear)\n",
    "obdict['jasonbourne'].addvacdays(10)\n",
    "print(obdict['jasonbourne'].empnoyrs)\n",
    "\n",
    "def vacdaysadder(vacalot,dictr):\n",
    "    for vacer in dictr:\n",
    "        dictr[vacer].addvacdays(vacalot)\n",
    "        \n",
    "vacdaysadder(5,obdict)"
   ]
  },
  {
   "cell_type": "code",
   "execution_count": 472,
   "metadata": {},
   "outputs": [
    {
     "data": {
      "text/plain": [
       "type"
      ]
     },
     "execution_count": 472,
     "metadata": {},
     "output_type": "execute_result"
    }
   ],
   "source": [
    "type(Employeez)"
   ]
  },
  {
   "cell_type": "code",
   "execution_count": 473,
   "metadata": {},
   "outputs": [
    {
     "data": {
      "text/plain": [
       "'00'"
      ]
     },
     "execution_count": 473,
     "metadata": {},
     "output_type": "execute_result"
    }
   ],
   "source": [
    "a = '12340000'\n",
    "a[-2:]"
   ]
  },
  {
   "cell_type": "code",
   "execution_count": 474,
   "metadata": {},
   "outputs": [
    {
     "name": "stdout",
     "output_type": "stream",
     "text": [
      "4 month(s) away Review and / or Raise\n",
      "jason\n",
      "acctnt\n",
      "not yet\n",
      "Review / Raise\n",
      "sara\n",
      "fdagnt\n",
      "24.03846153846154\n",
      "25.03846153846154\n",
      "sara,50000.0\n",
      "raise time\n",
      "sara,5\n",
      "sara,52080.0\n",
      "Review / Raise\n",
      "john\n",
      "fdagnt\n",
      "25.0\n",
      "26.0\n",
      "john,48000.0\n",
      "raise time\n",
      "john,3\n",
      "john,54080.0\n",
      "Review / Raise\n",
      "charles\n",
      "*adeptmgr\n",
      "raise time\n",
      "charles,12\n"
     ]
    }
   ],
   "source": [
    "import datetime\n",
    "z=datetime.datetime.now()\n",
    "monthnow = int((z.strftime(\"%m\")))\n",
    "yearnow = (z.strftime(\"%Y\"))\n",
    "yearint = (int(yearnow))-2000\n",
    "\n",
    "def hdateAnniv(dictr,vacalotLu,vacalotMg,payincLu):\n",
    "    for emp in dictr:\n",
    "        check = dictr[emp].annivCheck()\n",
    "        runcheck = yearint - int(dictr[emp].hireyear)\n",
    "        print(dictr[emp].first)\n",
    "        print(dictr[emp].position)\n",
    "        if dictr[emp].position[0]=='*' and check == True and int(dictr[emp].empnoyrs) < runcheck:\n",
    "            dictr[emp].empnoyrs = int(dictr[emp].empnoyrs) + 1\n",
    "            dictr[emp].vacremaining = int(dictr[emp].vacremaining) + vacalotMg\n",
    "            print('raise time')\n",
    "            print(f'{dictr[emp].first},{dictr[emp].empnoyrs}')\n",
    "        elif dictr[emp].position[0] != '*' and check == True and int(dictr[emp].empnoyrs) < runcheck:\n",
    "            dictr[emp].empnoyrs = int(dictr[emp].empnoyrs) + 1\n",
    "            dictr[emp].vacremaining = int(dictr[emp].vacremaining) + vacalotLu\n",
    "            print(dictr[emp].hourlypay)\n",
    "            dictr[emp].hourlypay = float(dictr[emp].hourlypay) + (float(payincLu))\n",
    "            print(dictr[emp].hourlypay)\n",
    "            print(f'{dictr[emp].first},{dictr[emp].yearlypay}')\n",
    "            dictr[emp].weeklypay = float(dictr[emp].hourlypay) * 40\n",
    "            dictr[emp].monthlypay = float(dictr[emp].hourlypay) * 160\n",
    "            dictr[emp].yearlypay = float(dictr[emp].hourlypay) * 2080\n",
    "            print('raise time')\n",
    "            print(f'{dictr[emp].first},{dictr[emp].empnoyrs}')\n",
    "            print(f'{dictr[emp].first},{dictr[emp].yearlypay}')\n",
    "        elif dictr[emp].position[0]=='*' and check == True and int(dictr[emp].empnoyrs) == runcheck:\n",
    "            print('Anniversary passed // raise applied manually')\n",
    "        elif check == True and int(dictr[emp].empnoyrs) == runcheck:\n",
    "            print('Anniversary passed // raise applied')\n",
    "        else:\n",
    "            print('not yet')\n",
    "\n",
    "hdateAnniv(obdict,10,15,1)"
   ]
  },
  {
   "cell_type": "code",
   "execution_count": 380,
   "metadata": {},
   "outputs": [
    {
     "name": "stdout",
     "output_type": "stream",
     "text": [
      "jason....acctnt\n",
      "sara....fdagnt\n",
      "john....fdagnt\n",
      "charles....*adeptmgr\n"
     ]
    }
   ],
   "source": [
    "for g in obdict:\n",
    "    print(f'{obdict[g].first}....{obdict[g].position}')"
   ]
  },
  {
   "cell_type": "code",
   "execution_count": 381,
   "metadata": {},
   "outputs": [
    {
     "data": {
      "text/plain": [
       "'*'"
      ]
     },
     "execution_count": 381,
     "metadata": {},
     "output_type": "execute_result"
    }
   ],
   "source": [
    "obdict['charlesbartowski'].position[0]"
   ]
  },
  {
   "cell_type": "code",
   "execution_count": 382,
   "metadata": {},
   "outputs": [
    {
     "data": {
      "text/plain": [
       "26.0"
      ]
     },
     "execution_count": 382,
     "metadata": {},
     "output_type": "execute_result"
    }
   ],
   "source": [
    "float('25.0') + 1"
   ]
  },
  {
   "cell_type": "code",
   "execution_count": 390,
   "metadata": {},
   "outputs": [
    {
     "name": "stdout",
     "output_type": "stream",
     "text": [
      "bartowski,charles....FD / *adeptmgr\n",
      "bourne,jason....acct / acctnt\n",
      "casey,john....FD / fdagnt\n",
      "walker,sara....FD / fdagnt\n",
      "yes\n",
      "*adeptmgr\n",
      "yes\n",
      "fdagnt\n",
      "{}\n",
      "yes\n",
      "{}\n",
      "{}\n",
      "{}\n",
      "yes\n",
      "fdagnt\n",
      "{'johncasey': <__main__.Employeez object at 0x0000021A665EB188>}\n",
      "yes\n",
      "{}\n",
      "{}\n",
      "{}\n",
      "{'charlesbartowski': <__main__.Employeez object at 0x0000021A69491C88>, 'johncasey': <__main__.Employeez object at 0x0000021A665EB188>, 'sarawalker': <__main__.Employeez object at 0x0000021A691C7448>}\n",
      "{'johncasey': <__main__.Employeez object at 0x0000021A665EB188>, 'sarawalker': <__main__.Employeez object at 0x0000021A691C7448>}\n",
      "{'charlesbartowski': <__main__.Employeez object at 0x0000021A69491C88>}\n",
      "48000.0\n",
      "48000.0\n",
      "48000.0\n"
     ]
    }
   ],
   "source": [
    "# this funct will create new dictio based on arrangement by last name\n",
    "hsk=['*deptmgr','*adeptmgr','*deptsup','hskper','hseman']\n",
    "FD=['*deptmgr','*adeptmgr','*ntmgr','deptsup','ntaud','fdagnt','bllmn','drmn']\n",
    "eng=['*deptmgr','*adeptmgr','*deptsup','engnr']\n",
    "pbx=['*deptmgr','*adeptmgr','*deptsup','oprtr']\n",
    "sle=['*deptmgr','*adeptmgr','*deptsup','res']\n",
    "acct=['*cntrller','*asscntrller','acctnt']\n",
    "\n",
    "\n",
    "\n",
    "hskper = {}\n",
    "hseman = {}\n",
    "\n",
    "oprtr = {}\n",
    "res = {}\n",
    "acct = {}\n",
    "\n",
    "frontdeskdict = {}\n",
    "fdMgmt = {}\n",
    "fdagnt = {}\n",
    "ntaud ={}\n",
    "bllmn = {}\n",
    "drmn = {}\n",
    "\n",
    "FDposDict=[fdagnt,ntaud,bllmn,drmn]\n",
    "FDposDictSTR=['fdagnt','ntaud','bllmn','drmn']\n",
    "\n",
    "\n",
    "def depsep(dep,dest,destA,destAstr,destB):\n",
    "    obd={key: value for key, value in sorted(obdict.items(), key=lambda item: item[1].last)}\n",
    "    for x in obd:\n",
    "        print(f'{obd[x].last},{obd[x].first}....{obd[x].dept} / {obd[x].position}')\n",
    "        if obd[x].dept == dep:\n",
    "            dest.update({obd[x].first+obd[x].last:obd[x]})\n",
    "        else:\n",
    "            pass\n",
    "    for y in dest:\n",
    "        print('yes')\n",
    "        print(dest[y].position)\n",
    "        if dest[y].position[0] == '*':\n",
    "            destB.update({dest[y].first+dest[y].last:dest[y]})\n",
    "        else:\n",
    "            for b in range (len(destA)):\n",
    "                print(str(destA[b]))\n",
    "                if dest[y].position == destAstr[b]:\n",
    "                    destA[b].update({dest[y].first+dest[y].last:dest[y]})\n",
    "                    print('yes')\n",
    "                else:\n",
    "                    pass\n",
    "            \n",
    "\n",
    "    \n",
    "    \n",
    "    \n",
    "\n",
    "        \n",
    "#     sampler = dict(zip(sortkey,sorter))\n",
    "#     ndict = {key: value for key, value in sorted(sampler.items(), key=lambda item: item[1].last)}   \n",
    "\n",
    "# def zipper(ndict):\n",
    "#     ndict = dict(zip(sortkey,sorter))\n",
    "    \n",
    "depsep('FD',frontdeskdict,FDposDict,FDposDictSTR,fdMgmt)\n",
    "print(frontdeskdict)\n",
    "print(fdagnt)\n",
    "\n",
    "print(fdMgmt)\n",
    "print(fdMgmt['charlesbartowski'].yearlypay)\n",
    "print(obdict['charlesbartowski'].yearlypay)\n",
    "print(frontdeskdict['charlesbartowski'].yearlypay)\n",
    "\n",
    "\n",
    "\n",
    "\n",
    "alphsortdept = {key: value for key, value in sorted(obdict.items(), key=lambda item: item[1].dept)}\n",
    "alphsortposition = {key: value for key, value in sorted(obdict.items(), key=lambda item: item[1].position)}\n",
    "\n",
    "\n",
    "\n",
    "\n",
    "\n",
    "\n",
    "\n",
    "numsortyearlypay = {key: value for key, value in sorted(obdict.items(), key=lambda item: int(float(item[1].yearlypay)))}\n",
    "numsorthdatecombo = {key: value for key, value in sorted(obdict.items(), key=lambda item: int(float(item[1].hdatecombo)))}\n",
    "numsortsicktaken = {key: value for key, value in sorted(obdict.items(), key=lambda item: int(item[1].sicktaken))}\n",
    "numsortperstaken = {key: value for key, value in sorted(obdict.items(), key=lambda item: int(item[1].perstaken))}\n",
    "numsortvactaken = {key: value for key, value in sorted(obdict.items(), key=lambda item: int(item[1].vactaken))}\n",
    "numsortsickremaining = {key: value for key, value in sorted(obdict.items(), key=lambda item: int(item[1].sickremaining))}\n",
    "numsortpersremaining = {key: value for key, value in sorted(obdict.items(), key=lambda item: int(item[1].persremaining))}\n",
    "numsortvacremaining = {key: value for key, value in sorted(obdict.items(), key=lambda item: int(item[1].vacremaining))}"
   ]
  },
  {
   "cell_type": "code",
   "execution_count": 384,
   "metadata": {},
   "outputs": [
    {
     "ename": "TypeError",
     "evalue": "'dict' object is not callable",
     "output_type": "error",
     "traceback": [
      "\u001b[1;31m---------------------------------------------------------------------------\u001b[0m",
      "\u001b[1;31mTypeError\u001b[0m                                 Traceback (most recent call last)",
      "\u001b[1;32m<ipython-input-384-c3b181e2f94e>\u001b[0m in \u001b[0;36m<module>\u001b[1;34m\u001b[0m\n\u001b[1;32m----> 1\u001b[1;33m \u001b[0mg\u001b[0m \u001b[1;33m=\u001b[0m \u001b[0malphsortlast\u001b[0m\u001b[1;33m(\u001b[0m\u001b[0mobdict\u001b[0m\u001b[1;33m)\u001b[0m\u001b[1;33m\u001b[0m\u001b[1;33m\u001b[0m\u001b[0m\n\u001b[0m\u001b[0;32m      2\u001b[0m \u001b[1;32mfor\u001b[0m \u001b[0mx\u001b[0m \u001b[1;32min\u001b[0m \u001b[0mg\u001b[0m\u001b[1;33m:\u001b[0m\u001b[1;33m\u001b[0m\u001b[1;33m\u001b[0m\u001b[0m\n\u001b[0;32m      3\u001b[0m     \u001b[0mprint\u001b[0m\u001b[1;33m(\u001b[0m\u001b[1;34mf'{obdict[x].last},{obdict[x].first}....{obdict[x].contel}\\n{obdict[x].address}\\n{obdict[x].city}, {obdict[x].state} {obdict[x].zipcode}\\n'\u001b[0m\u001b[1;33m)\u001b[0m\u001b[1;33m\u001b[0m\u001b[1;33m\u001b[0m\u001b[0m\n",
      "\u001b[1;31mTypeError\u001b[0m: 'dict' object is not callable"
     ]
    }
   ],
   "source": [
    "g = alphsortlast(obdict)\n",
    "for x in g:\n",
    "    print(f'{obdict[x].last},{obdict[x].first}....{obdict[x].contel}\\n{obdict[x].address}\\n{obdict[x].city}, {obdict[x].state} {obdict[x].zipcode}\\n')"
   ]
  },
  {
   "cell_type": "code",
   "execution_count": 385,
   "metadata": {},
   "outputs": [
    {
     "name": "stdout",
     "output_type": "stream",
     "text": [
      "walker,sara....FD / fdagnt\n",
      "casey,john....FD / fdagnt\n",
      "bartowski,charles....FD / *adeptmgr\n",
      "bourne,jason....acct / acctnt\n",
      "{'sarawalker': <__main__.Employeez object at 0x0000021A691C7448>, 'johncasey': <__main__.Employeez object at 0x0000021A665EB188>, 'charlesbartowski': <__main__.Employeez object at 0x0000021A69491C88>}\n"
     ]
    }
   ],
   "source": [
    "ftdk = []\n",
    "ftdkKey = []\n",
    "ftdkdict = 0\n",
    "hskp = [] \n",
    "pbxx = []\n",
    "engi = []\n",
    "acot = []\n",
    "acotKey = []\n",
    "acotdict = 0\n",
    "sles = []\n",
    "\n",
    "for x in alphsortdept:\n",
    "    print(f'{obdict[x].last},{obdict[x].first}....{obdict[x].dept} / {obdict[x].position}')\n",
    "    if obdict[x].dept == 'FD':\n",
    "        ftdk.append(obdict[x])\n",
    "        ftdkKey.append(obdict[x].first+obdict[x].last)\n",
    "    elif obdict[x].dept == 'acct':\n",
    "        acot.append(obdict[x])\n",
    "        acotKey.append(obdict[x].first+obdict[x].last)\n",
    "    else:\n",
    "        pass\n",
    "    ftdkdict = dict(zip(ftdkKey,ftdk))\n",
    "    acotdict = dict(zip(acotKey,acot))\n",
    "print(ftdkdict) "
   ]
  },
  {
   "cell_type": "code",
   "execution_count": 386,
   "metadata": {},
   "outputs": [
    {
     "name": "stdout",
     "output_type": "stream",
     "text": [
      "['jasonbourne', 'sarawalker', 'johncasey', 'charlesbartowski']\n"
     ]
    }
   ],
   "source": [
    "\n",
    "noclistkey=[]\n",
    "for x in range(len(dictionaryhold)):\n",
    "    noclistkey.append(dictionaryhold[x]['first']+dictionaryhold[x]['last'])\n",
    "print(noclistkey)\n",
    "ftdk=dict(zip(noclistkey,noclist))\n"
   ]
  },
  {
   "cell_type": "code",
   "execution_count": 387,
   "metadata": {},
   "outputs": [
    {
     "name": "stdout",
     "output_type": "stream",
     "text": [
      "bourne\n"
     ]
    }
   ],
   "source": [
    "print(acotdict['jasonbourne'].last)"
   ]
  },
  {
   "cell_type": "code",
   "execution_count": null,
   "metadata": {},
   "outputs": [],
   "source": []
  },
  {
   "cell_type": "code",
   "execution_count": null,
   "metadata": {},
   "outputs": [],
   "source": []
  },
  {
   "cell_type": "code",
   "execution_count": null,
   "metadata": {},
   "outputs": [],
   "source": []
  },
  {
   "cell_type": "code",
   "execution_count": null,
   "metadata": {},
   "outputs": [],
   "source": []
  }
 ],
 "metadata": {
  "kernelspec": {
   "display_name": "Python 3",
   "language": "python",
   "name": "python3"
  },
  "language_info": {
   "codemirror_mode": {
    "name": "ipython",
    "version": 3
   },
   "file_extension": ".py",
   "mimetype": "text/x-python",
   "name": "python",
   "nbconvert_exporter": "python",
   "pygments_lexer": "ipython3",
   "version": "3.7.6"
  }
 },
 "nbformat": 4,
 "nbformat_minor": 4
}
