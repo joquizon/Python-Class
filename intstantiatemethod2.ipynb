{
 "cells": [
  {
   "cell_type": "code",
   "execution_count": 18,
   "metadata": {},
   "outputs": [],
   "source": [
    "noclist = ['jasonbourne','sarawalker', 'johncasey', 'charlesbartowski','jackbauer','tonyroop','gregcosent','macgregorjones','jalenhurts','adamdriver','daisyridley','alecbaldwin','stefftuan','chrisrudolf','kyloren','michaelokeyo','michaeldonaldson','petercamp','justinedean','marybailey','marcsinger','francofranus','chrisvelez','josequizon','jumpasmith','jumpajones','thavonepengpang','paulsingh','jerryspringer','andrewjones','colehenderson','georgest.pierre','lucpetty','toddbryant','robinbanger']\n",
    "\n",
    "\n",
    "nocmemlist = [['jason', 'bourne', 'jabo', '987654321', '9876543211', '1 ultimatum st', 'helena', 'MT', '54321', '12', '08', '19', 'acct', 'acctnt', '31.25', '1250.0', '5000.0', '65000.0', '3', '-3', '2', '-2', '2', '-2','0','0'], ['1/2/20', '1/3/20', '1/4/20'], ['2/2/20', '2/3/20'], ['3/3/20', '3/4/20'],['sara', 'walker', 'yvonne', '123456789', '1234567890', '1 Bartowski lane', 'burbank', 'CA', '54321', '08', '02', '15', 'FD', 'fdagnt', '24.03846153846154', '961.5384615384615', '3846.153846153846', '50000.0', '1', '3', '4', '2', '4', '2','4'], ['0', '1/2/20'], ['0', '2/1/20', '2/2/20', '2/3/20', '2/4/20'], ['0', '4/1/20', '4/2/20', '4/3/20', '4/5/20'], ['john', 'casey', 'jc', '999999999', '1111111111', '2 buymoria blvd', 'burbank', 'CA', '44444', '03', '04', '17', 'FD', 'fdagnt', '25.0', '1000.0', '4000.0', '48000.0', '0', '0', '0', '0', '0', '0','2'], ['0'], ['0'], ['0'], ['charles', 'bartowski', 'chuck', '000000000', '9999999999', '2 buymoria lane', 'burbank', 'CA', '66333', '06', '26', '08', 'FD', '*adeptmgr', '25.0', '1000.0', '4000.0', '48000.0', '0', '0', '0', '0', '0', '0','11'], ['0'], ['0'], ['0'],['jack','bauer','jbow','987654321','9876543211','1 ultimatum st','memphis','TN','54321','12','08','19','acct','acctnt','31.25','1250.0','5000.0','65000.0','3','-3','2','-2','2','-2','0','0'],['1/2/20', '1/3/20', '1/4/20'], ['2/2/20', '2/3/20'], ['3/3/20', '3/4/20'],['tony','roop','oldje','987654321','9876543211','1 deacon st','knoxville','TN','54321','01','07','17','acct','*asscntrller','31.25','1250.0','5000.0','65000.0','3','-3','2','-2','2','-2','0','0'],['1/2/20', '1/3/20', '1/4/20'], ['2/2/20', '2/3/20'], ['3/3/20', '3/4/20'], ['greg','cosent','gc','232323232','9876543211','1 dead st','athens','ga','54321','04','12','12','acct','*cntrller','31.25','1250.0','5000.0','65000.0','3','-3','2','-2','2','-2','0','0'],['1/2/20', '1/3/20', '1/4/20'], ['2/2/20', '2/3/20'], ['3/3/20', '3/4/20'],['macgregor','jones','mac','345678912','9876543211','1 Qb st','athens','AL','54321','04','12','12','sle','*res','31.25','1250.0','5000.0','65000.0','3','-3','2','-2','2','-2','0','0'],['1/2/20', '1/3/20', '1/4/20'], ['2/2/20', '2/3/20'], ['3/3/20', '3/4/20'],['jalen','hurts','2','345678912','9876543211','3 Qb st','houston','tx','54321','02','08','12','sle','res','31.25','1250.0','5000.0','65000.0','3','-3','2','-2','2','-2','0','0'],['1/2/20', '1/3/20', '1/4/20'], ['2/2/20', '2/3/20'], ['3/3/20', '3/4/20'],['adam','driver','kylo','345678912','9876543211','3 sith ave','burbank','CA','54321','02','08','12','sle','*deptsup','31.25','1250.0','5000.0','65000.0','3','-3','2','-2','2','-2','0','0'],['1/2/20', '1/3/20', '1/4/20'], ['2/2/20', '2/3/20'], ['3/3/20', '3/4/20'], ['daisy','ridley','dazer','345678912','9876543211','3 tatooine ave','burbank','CA','54321','02','08','12','sle','*deptmgr','31.25','1250.0','5000.0','65000.0','3','-3','2','-2','2','-2','0','0'],['1/2/20', '1/3/20', '1/4/20'], ['2/2/20', '2/3/20'], ['3/3/20', '3/4/20'],['alec', 'baldwin', 'ac', '888999999', '1111111111', '23 red october blvd', 'Los Angeles', 'CA', '44444', '03', '04', '17', 'sle', '*adeptmgr', '25.0', '1000.0', '4000.0', '48000.0', '0', '0', '0', '0', '0', '0','2'], ['0'], ['0'], ['0'],['steff', 'tuan', 'Chienne', '888765999', '1111111111', '14 red lingquine blvd', 'brooklyn', 'ny', '49844', '10', '24', '05', 'FD', '*adeptmgr', '25.0', '1000.0', '4000.0', '48000.0', '0', '0', '0', '0', '0', '0','2'], ['0'], ['0'], ['0'],['chris', 'rudolf', 'crudo', '8880009999', '1111111111', '14 Assman blvd', 'brooklyn', 'ny', '49844', '11', '28', '04', 'FD', '*adeptmgr', '25.0', '1000.0', '4000.0', '48000.0', '0', '0', '0', '0', '0', '0','2'], ['0'], ['0'], ['0'],['kylo', 'ren', 'solob', '8670009999', '1111111111', '14 Sithwalker blvd', 'brooklyn', 'ny', '49844', '11', '28', '04', 'FD', '*deptmgr', '25.0', '1000.0', '4000.0', '48000.0', '0', '0', '0', '0', '0', '0','2'], ['0'], ['0'], ['0'],['michael', 'okeyo', 'mikeo', '8880009999', '1111111111', '14 Sithwalker blvd', 'brooklyn', 'ny', '49844', '11', '28', '04', 'FD', 'bllmn', '25.0', '1000.0', '4000.0', '48000.0', '0', '0', '0', '0', '0', '0','2'], ['0'], ['0'], ['0'],['michael', 'donaldson', 'mikeD', '8880129999', '1111000111', '14 3rd blvd', 'brooklyn', 'ny', '49844', '10', '28', '14', 'FD', 'bllmn', '25.0', '1000.0', '4000.0', '48000.0', '0', '0', '0', '0', '0', '0','2'], ['0'], ['0'], ['0'],['peter', 'camp', 'pete gunn', '8898001299', '1111234561', '14 queens blvd', 'sunnyside', 'ny', '49844', '09', '28', '07', 'FD', 'drmn', '25.0', '1000.0', '4000.0', '48000.0', '0', '0', '0', '0', '0', '0','2'], ['0'], ['0'], ['0'],['justine', 'dean', 'jd', '8880001299', '1111111111', '1 roosevelt ave', 'woodside', 'ny', '49844', '03', '28', '17', 'FD', 'fdagnt', '25.0', '1000.0', '4000.0', '48000.0', '0', '0', '0', '0', '0', '0','2'], ['0'], ['0'], ['0'],['mary', 'bailey', 'md', '8880001299', '1111111111', '444 roosevelt ave', 'jackson hts', 'ny', '49844', '07', '28', '07', 'FD', 'fdagnt', '25.0', '1000.0', '4000.0', '48000.0', '0', '0', '0', '0', '0', '0','2'], ['0'], ['0'], ['0'],['marc', 'singer', 'beastmaster', '3330001299', '1111111111', '123 crescent st', 'lic', 'ny', '49844', '02', '28', '09', 'FD', 'fdagnt', '25.0', '1000.0', '4000.0', '48000.0', '0', '0', '0', '0', '0', '0','2'], ['0'], ['0'], ['0'],['franco', 'franus', 'F2', '3330001299', '1111111111', '123 gpt ave', 'greenpoint', 'ny', '49844', '12', '28', '09', 'FD', 'ntaud', '25.0', '1000.0', '4000.0', '48000.0', '0', '0', '0', '0', '0', '0','2'], ['0'], ['0'], ['0'],['chris', 'velez', 'unk slam', '3330001299', '8881111111', '123 cbx ave', 'bronx', 'ny', '49844', '08', '18', '14', 'FD', 'ntaud', '25.0', '1000.0', '4000.0', '48000.0', '0', '0', '0', '0', '0', '0','2'], ['0'], ['0'], ['0'],['jose', 'quizon', 'chico', '3330001299', '8881111111', '7054 bway ave', 'jax hts', 'ny', '49844', '01', '18', '06', 'FD', '*ntmgr', '25.0', '1000.0', '4000.0', '48000.0', '0', '0', '0', '0', '0', '0','2'], ['0'], ['0'], ['0'],['jumpa', 'smith', 'js', '3330001299', '8881111111', '7054 bway ave', 'jax hts', 'ny', '49844', '01', '18', '06', 'hsk', 'hseman', '25.0', '1000.0', '4000.0', '48000.0', '0', '0', '0', '0', '0', '0','2'], ['0'], ['0'], ['0'],['jumpa', 'jones', 'jj', '3330001299', '8881111111', '7054 bway ave', 'jax hts', 'ny', '49844', '01', '18', '06', 'hsk', 'hseman', '25.0', '1000.0', '4000.0', '48000.0', '0', '0', '0', '0', '0', '0','2'], ['0'], ['0'], ['0'],['thavone', 'pengpang', 'tp', '3330001299', '8881111111', '7054 bway ave', 'jax hts', 'ny', '49844', '05', '30', '06', 'hsk', 'hseman', '25.0', '1000.0', '4000.0', '48000.0', '0', '0', '0', '0', '0', '0','2'], ['0'], ['0'], ['0'],['paul', 'singh', 'paulie', '3330001299', '8881111111', '754 bway ave', 'jax hts', 'ny', '49844', '01', '30', '06', 'hsk', 'hskper', '25.0', '1000.0', '4000.0', '48000.0', '0', '0', '0', '0', '0', '0','2'], ['0'], ['0'], ['0'],['jerry', 'springer', 'jeeeerrrry', '3330001299', '8881111111', '705 bway ave', 'jax hts', 'ny', '49844', '06', '20', '08', 'hsk', 'hskper', '25.0', '1000.0', '4000.0', '48000.0', '0', '0', '0', '0', '0', '0','2'], ['0'], ['0'], ['0'],['andrew', 'jones', 'aj', '3330001299', '8881111111', '7 bway ave', 'jax hts', 'ny', '49844', '06', '14', '08', 'hsk', 'hskper', '25.0', '1000.0', '4000.0', '48000.0', '0', '0', '0', '0', '0', '0','2'], ['0'], ['0'], ['0'],['cole', 'henderson', 'hendo', '3330001299', '8881111111', '7054 bway ave', 'jax hts', 'ny', '49844', '01', '24', '18', 'pbx', 'oprtr', '25.0', '1000.0', '4000.0', '48000.0', '0', '0', '0', '0', '0', '0','2'], ['0'], ['0'], ['0'],['george', 'st.pierre', 'gsp', '3330001299', '8881111111', '7054 bway ave', 'jax hts', 'ny', '49844', '01', '24', '18', 'eng', 'engnr', '25.0', '1000.0', '4000.0', '48000.0', '0', '0', '0', '0', '0', '0','2'], ['0'], ['0'], ['0'],['luc', 'petty', 'LP', '3330001299', '8881111111', '7 roosevelt ave', 'bronx', 'ny', '49844', '01', '24', '18', 'eng', 'engnr', '25.0', '1000.0', '4000.0', '48000.0', '0', '0', '0', '0', '0', '0','2'], ['0'], ['0'], ['0'],['todd', 'bryant', 'toddB', '3330001299', '8881111111', '290 roosevelt ave', 'brooklyn', 'ny', '49844', '03', '14', '18', 'eng', 'engnr', '25.0', '1000.0', '4000.0', '48000.0', '0', '0', '0', '0', '0', '0','2'], ['0'], ['0'], ['0'],['robin', 'banger', 'rB', '3330001299', '8881111111', '290 greenpt ave', 'brooklyn', 'ny', '11111', '05', '14', '18', 'pbx', 'oprtr', '25.0', '1000.0', '4000.0', '48000.0', '0', '0', '0', '0', '0', '0','2'], ['0'], ['0'], ['0']]\n",
    "\n",
    "dictionaryhold = []"
   ]
  },
  {
   "cell_type": "code",
   "execution_count": 19,
   "metadata": {},
   "outputs": [
    {
     "name": "stdout",
     "output_type": "stream",
     "text": [
      "employee <__main__.Employeez object at 0x000001F364533DC8> has been instantiated\n",
      "employee <__main__.Employeez object at 0x000001F36463F088> has been instantiated\n",
      "employee <__main__.Employeez object at 0x000001F364533F08> has been instantiated\n",
      "employee <__main__.Employeez object at 0x000001F364131488> has been instantiated\n",
      "employee <__main__.Employeez object at 0x000001F364131AC8> has been instantiated\n",
      "employee <__main__.Employeez object at 0x000001F364533D88> has been instantiated\n",
      "employee <__main__.Employeez object at 0x000001F364131248> has been instantiated\n",
      "employee <__main__.Employeez object at 0x000001F364131088> has been instantiated\n",
      "employee <__main__.Employeez object at 0x000001F364131408> has been instantiated\n",
      "employee <__main__.Employeez object at 0x000001F364131C48> has been instantiated\n",
      "employee <__main__.Employeez object at 0x000001F364131908> has been instantiated\n",
      "employee <__main__.Employeez object at 0x000001F3641318C8> has been instantiated\n",
      "employee <__main__.Employeez object at 0x000001F364131E48> has been instantiated\n",
      "employee <__main__.Employeez object at 0x000001F3641315C8> has been instantiated\n",
      "employee <__main__.Employeez object at 0x000001F3641EBAC8> has been instantiated\n",
      "employee <__main__.Employeez object at 0x000001F364296208> has been instantiated\n",
      "employee <__main__.Employeez object at 0x000001F364131748> has been instantiated\n",
      "employee <__main__.Employeez object at 0x000001F364131848> has been instantiated\n",
      "employee <__main__.Employeez object at 0x000001F364649948> has been instantiated\n",
      "employee <__main__.Employeez object at 0x000001F364131148> has been instantiated\n",
      "employee <__main__.Employeez object at 0x000001F364131D88> has been instantiated\n",
      "employee <__main__.Employeez object at 0x000001F364131B48> has been instantiated\n",
      "employee <__main__.Employeez object at 0x000001F364131EC8> has been instantiated\n",
      "employee <__main__.Employeez object at 0x000001F364131F08> has been instantiated\n",
      "employee <__main__.Employeez object at 0x000001F364131B08> has been instantiated\n",
      "employee <__main__.Employeez object at 0x000001F364131508> has been instantiated\n",
      "employee <__main__.Employeez object at 0x000001F364131048> has been instantiated\n",
      "employee <__main__.Employeez object at 0x000001F364131A88> has been instantiated\n",
      "employee <__main__.Employeez object at 0x000001F364131348> has been instantiated\n",
      "employee <__main__.Employeez object at 0x000001F3641310C8> has been instantiated\n",
      "employee <__main__.Employeez object at 0x000001F364131608> has been instantiated\n",
      "employee <__main__.Employeez object at 0x000001F364131688> has been instantiated\n",
      "employee <__main__.Employeez object at 0x000001F3622D4548> has been instantiated\n",
      "employee <__main__.Employeez object at 0x000001F3646499C8> has been instantiated\n",
      "employee <__main__.Employeez object at 0x000001F3642049C8> has been instantiated\n",
      "[{'first': 'jason', 'last': 'bourne', 'nickname': 'jabo', 'social': '987654321', 'contel': '9876543211', 'address': '1 ultimatum st', 'city': 'helena', 'state': 'MT', 'zipcode': '54321', 'hiremonth': '12', 'hiredate': '08', 'hireyear': '19', 'dept': 'acct', 'position': 'acctnt', 'hourlypay': '31.25', 'weeklypay': '1250.0', 'monthlypay': '5000.0', 'yearlypay': '65000.0', 'sicktaken': '3', 'sickremaining': '-3', 'perstaken': '2', 'persremaining': '-2', 'vactaken': '2', 'vacremaining': '-2', 'sickdates': ['1/2/20', '1/3/20', '1/4/20'], 'persdates': ['2/2/20', '2/3/20'], 'vacdates': ['3/3/20', '3/4/20'], 'empnoyrs': '0', 'hdatecombo': 191208}, {'first': 'sara', 'last': 'walker', 'nickname': 'yvonne', 'social': '123456789', 'contel': '1234567890', 'address': '1 Bartowski lane', 'city': 'burbank', 'state': 'CA', 'zipcode': '54321', 'hiremonth': '08', 'hiredate': '02', 'hireyear': '15', 'dept': 'FD', 'position': 'fdagnt', 'hourlypay': '24.03846153846154', 'weeklypay': '961.5384615384615', 'monthlypay': '3846.153846153846', 'yearlypay': '50000.0', 'sicktaken': '1', 'sickremaining': '3', 'perstaken': '4', 'persremaining': '2', 'vactaken': '4', 'vacremaining': '2', 'sickdates': ['0', '1/2/20'], 'persdates': ['0', '2/1/20', '2/2/20', '2/3/20', '2/4/20'], 'vacdates': ['0', '4/1/20', '4/2/20', '4/3/20', '4/5/20'], 'empnoyrs': '4', 'hdatecombo': 150802}, {'first': 'john', 'last': 'casey', 'nickname': 'jc', 'social': '999999999', 'contel': '1111111111', 'address': '2 buymoria blvd', 'city': 'burbank', 'state': 'CA', 'zipcode': '44444', 'hiremonth': '03', 'hiredate': '04', 'hireyear': '17', 'dept': 'FD', 'position': 'fdagnt', 'hourlypay': '25.0', 'weeklypay': '1000.0', 'monthlypay': '4000.0', 'yearlypay': '48000.0', 'sicktaken': '0', 'sickremaining': '0', 'perstaken': '0', 'persremaining': '0', 'vactaken': '0', 'vacremaining': '0', 'sickdates': ['0'], 'persdates': ['0'], 'vacdates': ['0'], 'empnoyrs': '2', 'hdatecombo': 170304}, {'first': 'charles', 'last': 'bartowski', 'nickname': 'chuck', 'social': '000000000', 'contel': '9999999999', 'address': '2 buymoria lane', 'city': 'burbank', 'state': 'CA', 'zipcode': '66333', 'hiremonth': '06', 'hiredate': '26', 'hireyear': '08', 'dept': 'FD', 'position': '*adeptmgr', 'hourlypay': '25.0', 'weeklypay': '1000.0', 'monthlypay': '4000.0', 'yearlypay': '48000.0', 'sicktaken': '0', 'sickremaining': '0', 'perstaken': '0', 'persremaining': '0', 'vactaken': '0', 'vacremaining': '0', 'sickdates': ['0'], 'persdates': ['0'], 'vacdates': ['0'], 'empnoyrs': '11', 'hdatecombo': 80626}, {'first': 'jack', 'last': 'bauer', 'nickname': 'jbow', 'social': '987654321', 'contel': '9876543211', 'address': '1 ultimatum st', 'city': 'memphis', 'state': 'TN', 'zipcode': '54321', 'hiremonth': '12', 'hiredate': '08', 'hireyear': '19', 'dept': 'acct', 'position': 'acctnt', 'hourlypay': '31.25', 'weeklypay': '1250.0', 'monthlypay': '5000.0', 'yearlypay': '65000.0', 'sicktaken': '3', 'sickremaining': '-3', 'perstaken': '2', 'persremaining': '-2', 'vactaken': '2', 'vacremaining': '-2', 'sickdates': ['1/2/20', '1/3/20', '1/4/20'], 'persdates': ['2/2/20', '2/3/20'], 'vacdates': ['3/3/20', '3/4/20'], 'empnoyrs': '0', 'hdatecombo': 191208}, {'first': 'tony', 'last': 'roop', 'nickname': 'oldje', 'social': '987654321', 'contel': '9876543211', 'address': '1 deacon st', 'city': 'knoxville', 'state': 'TN', 'zipcode': '54321', 'hiremonth': '01', 'hiredate': '07', 'hireyear': '17', 'dept': 'acct', 'position': '*asscntrller', 'hourlypay': '31.25', 'weeklypay': '1250.0', 'monthlypay': '5000.0', 'yearlypay': '65000.0', 'sicktaken': '3', 'sickremaining': '-3', 'perstaken': '2', 'persremaining': '-2', 'vactaken': '2', 'vacremaining': '-2', 'sickdates': ['1/2/20', '1/3/20', '1/4/20'], 'persdates': ['2/2/20', '2/3/20'], 'vacdates': ['3/3/20', '3/4/20'], 'empnoyrs': '0', 'hdatecombo': 170107}, {'first': 'greg', 'last': 'cosent', 'nickname': 'gc', 'social': '232323232', 'contel': '9876543211', 'address': '1 dead st', 'city': 'athens', 'state': 'ga', 'zipcode': '54321', 'hiremonth': '04', 'hiredate': '12', 'hireyear': '12', 'dept': 'acct', 'position': '*cntrller', 'hourlypay': '31.25', 'weeklypay': '1250.0', 'monthlypay': '5000.0', 'yearlypay': '65000.0', 'sicktaken': '3', 'sickremaining': '-3', 'perstaken': '2', 'persremaining': '-2', 'vactaken': '2', 'vacremaining': '-2', 'sickdates': ['1/2/20', '1/3/20', '1/4/20'], 'persdates': ['2/2/20', '2/3/20'], 'vacdates': ['3/3/20', '3/4/20'], 'empnoyrs': '0', 'hdatecombo': 120412}, {'first': 'macgregor', 'last': 'jones', 'nickname': 'mac', 'social': '345678912', 'contel': '9876543211', 'address': '1 Qb st', 'city': 'athens', 'state': 'AL', 'zipcode': '54321', 'hiremonth': '04', 'hiredate': '12', 'hireyear': '12', 'dept': 'sle', 'position': '*res', 'hourlypay': '31.25', 'weeklypay': '1250.0', 'monthlypay': '5000.0', 'yearlypay': '65000.0', 'sicktaken': '3', 'sickremaining': '-3', 'perstaken': '2', 'persremaining': '-2', 'vactaken': '2', 'vacremaining': '-2', 'sickdates': ['1/2/20', '1/3/20', '1/4/20'], 'persdates': ['2/2/20', '2/3/20'], 'vacdates': ['3/3/20', '3/4/20'], 'empnoyrs': '0', 'hdatecombo': 120412}, {'first': 'jalen', 'last': 'hurts', 'nickname': '2', 'social': '345678912', 'contel': '9876543211', 'address': '3 Qb st', 'city': 'houston', 'state': 'tx', 'zipcode': '54321', 'hiremonth': '02', 'hiredate': '08', 'hireyear': '12', 'dept': 'sle', 'position': 'res', 'hourlypay': '31.25', 'weeklypay': '1250.0', 'monthlypay': '5000.0', 'yearlypay': '65000.0', 'sicktaken': '3', 'sickremaining': '-3', 'perstaken': '2', 'persremaining': '-2', 'vactaken': '2', 'vacremaining': '-2', 'sickdates': ['1/2/20', '1/3/20', '1/4/20'], 'persdates': ['2/2/20', '2/3/20'], 'vacdates': ['3/3/20', '3/4/20'], 'empnoyrs': '0', 'hdatecombo': 120208}, {'first': 'adam', 'last': 'driver', 'nickname': 'kylo', 'social': '345678912', 'contel': '9876543211', 'address': '3 sith ave', 'city': 'burbank', 'state': 'CA', 'zipcode': '54321', 'hiremonth': '02', 'hiredate': '08', 'hireyear': '12', 'dept': 'sle', 'position': '*deptsup', 'hourlypay': '31.25', 'weeklypay': '1250.0', 'monthlypay': '5000.0', 'yearlypay': '65000.0', 'sicktaken': '3', 'sickremaining': '-3', 'perstaken': '2', 'persremaining': '-2', 'vactaken': '2', 'vacremaining': '-2', 'sickdates': ['1/2/20', '1/3/20', '1/4/20'], 'persdates': ['2/2/20', '2/3/20'], 'vacdates': ['3/3/20', '3/4/20'], 'empnoyrs': '0', 'hdatecombo': 120208}, {'first': 'daisy', 'last': 'ridley', 'nickname': 'dazer', 'social': '345678912', 'contel': '9876543211', 'address': '3 tatooine ave', 'city': 'burbank', 'state': 'CA', 'zipcode': '54321', 'hiremonth': '02', 'hiredate': '08', 'hireyear': '12', 'dept': 'sle', 'position': '*deptmgr', 'hourlypay': '31.25', 'weeklypay': '1250.0', 'monthlypay': '5000.0', 'yearlypay': '65000.0', 'sicktaken': '3', 'sickremaining': '-3', 'perstaken': '2', 'persremaining': '-2', 'vactaken': '2', 'vacremaining': '-2', 'sickdates': ['1/2/20', '1/3/20', '1/4/20'], 'persdates': ['2/2/20', '2/3/20'], 'vacdates': ['3/3/20', '3/4/20'], 'empnoyrs': '0', 'hdatecombo': 120208}, {'first': 'alec', 'last': 'baldwin', 'nickname': 'ac', 'social': '888999999', 'contel': '1111111111', 'address': '23 red october blvd', 'city': 'Los Angeles', 'state': 'CA', 'zipcode': '44444', 'hiremonth': '03', 'hiredate': '04', 'hireyear': '17', 'dept': 'sle', 'position': '*adeptmgr', 'hourlypay': '25.0', 'weeklypay': '1000.0', 'monthlypay': '4000.0', 'yearlypay': '48000.0', 'sicktaken': '0', 'sickremaining': '0', 'perstaken': '0', 'persremaining': '0', 'vactaken': '0', 'vacremaining': '0', 'sickdates': ['0'], 'persdates': ['0'], 'vacdates': ['0'], 'empnoyrs': '2', 'hdatecombo': 170304}, {'first': 'steff', 'last': 'tuan', 'nickname': 'Chienne', 'social': '888765999', 'contel': '1111111111', 'address': '14 red lingquine blvd', 'city': 'brooklyn', 'state': 'ny', 'zipcode': '49844', 'hiremonth': '10', 'hiredate': '24', 'hireyear': '05', 'dept': 'FD', 'position': '*adeptmgr', 'hourlypay': '25.0', 'weeklypay': '1000.0', 'monthlypay': '4000.0', 'yearlypay': '48000.0', 'sicktaken': '0', 'sickremaining': '0', 'perstaken': '0', 'persremaining': '0', 'vactaken': '0', 'vacremaining': '0', 'sickdates': ['0'], 'persdates': ['0'], 'vacdates': ['0'], 'empnoyrs': '2', 'hdatecombo': 51024}, {'first': 'chris', 'last': 'rudolf', 'nickname': 'crudo', 'social': '8880009999', 'contel': '1111111111', 'address': '14 Assman blvd', 'city': 'brooklyn', 'state': 'ny', 'zipcode': '49844', 'hiremonth': '11', 'hiredate': '28', 'hireyear': '04', 'dept': 'FD', 'position': '*adeptmgr', 'hourlypay': '25.0', 'weeklypay': '1000.0', 'monthlypay': '4000.0', 'yearlypay': '48000.0', 'sicktaken': '0', 'sickremaining': '0', 'perstaken': '0', 'persremaining': '0', 'vactaken': '0', 'vacremaining': '0', 'sickdates': ['0'], 'persdates': ['0'], 'vacdates': ['0'], 'empnoyrs': '2', 'hdatecombo': 41128}, {'first': 'kylo', 'last': 'ren', 'nickname': 'solob', 'social': '8670009999', 'contel': '1111111111', 'address': '14 Sithwalker blvd', 'city': 'brooklyn', 'state': 'ny', 'zipcode': '49844', 'hiremonth': '11', 'hiredate': '28', 'hireyear': '04', 'dept': 'FD', 'position': '*deptmgr', 'hourlypay': '25.0', 'weeklypay': '1000.0', 'monthlypay': '4000.0', 'yearlypay': '48000.0', 'sicktaken': '0', 'sickremaining': '0', 'perstaken': '0', 'persremaining': '0', 'vactaken': '0', 'vacremaining': '0', 'sickdates': ['0'], 'persdates': ['0'], 'vacdates': ['0'], 'empnoyrs': '2', 'hdatecombo': 41128}, {'first': 'michael', 'last': 'okeyo', 'nickname': 'mikeo', 'social': '8880009999', 'contel': '1111111111', 'address': '14 Sithwalker blvd', 'city': 'brooklyn', 'state': 'ny', 'zipcode': '49844', 'hiremonth': '11', 'hiredate': '28', 'hireyear': '04', 'dept': 'FD', 'position': 'bllmn', 'hourlypay': '25.0', 'weeklypay': '1000.0', 'monthlypay': '4000.0', 'yearlypay': '48000.0', 'sicktaken': '0', 'sickremaining': '0', 'perstaken': '0', 'persremaining': '0', 'vactaken': '0', 'vacremaining': '0', 'sickdates': ['0'], 'persdates': ['0'], 'vacdates': ['0'], 'empnoyrs': '2', 'hdatecombo': 41128}, {'first': 'michael', 'last': 'donaldson', 'nickname': 'mikeD', 'social': '8880129999', 'contel': '1111000111', 'address': '14 3rd blvd', 'city': 'brooklyn', 'state': 'ny', 'zipcode': '49844', 'hiremonth': '10', 'hiredate': '28', 'hireyear': '14', 'dept': 'FD', 'position': 'bllmn', 'hourlypay': '25.0', 'weeklypay': '1000.0', 'monthlypay': '4000.0', 'yearlypay': '48000.0', 'sicktaken': '0', 'sickremaining': '0', 'perstaken': '0', 'persremaining': '0', 'vactaken': '0', 'vacremaining': '0', 'sickdates': ['0'], 'persdates': ['0'], 'vacdates': ['0'], 'empnoyrs': '2', 'hdatecombo': 141028}, {'first': 'peter', 'last': 'camp', 'nickname': 'pete gunn', 'social': '8898001299', 'contel': '1111234561', 'address': '14 queens blvd', 'city': 'sunnyside', 'state': 'ny', 'zipcode': '49844', 'hiremonth': '09', 'hiredate': '28', 'hireyear': '07', 'dept': 'FD', 'position': 'drmn', 'hourlypay': '25.0', 'weeklypay': '1000.0', 'monthlypay': '4000.0', 'yearlypay': '48000.0', 'sicktaken': '0', 'sickremaining': '0', 'perstaken': '0', 'persremaining': '0', 'vactaken': '0', 'vacremaining': '0', 'sickdates': ['0'], 'persdates': ['0'], 'vacdates': ['0'], 'empnoyrs': '2', 'hdatecombo': 70928}, {'first': 'justine', 'last': 'dean', 'nickname': 'jd', 'social': '8880001299', 'contel': '1111111111', 'address': '1 roosevelt ave', 'city': 'woodside', 'state': 'ny', 'zipcode': '49844', 'hiremonth': '03', 'hiredate': '28', 'hireyear': '17', 'dept': 'FD', 'position': 'fdagnt', 'hourlypay': '25.0', 'weeklypay': '1000.0', 'monthlypay': '4000.0', 'yearlypay': '48000.0', 'sicktaken': '0', 'sickremaining': '0', 'perstaken': '0', 'persremaining': '0', 'vactaken': '0', 'vacremaining': '0', 'sickdates': ['0'], 'persdates': ['0'], 'vacdates': ['0'], 'empnoyrs': '2', 'hdatecombo': 170328}, {'first': 'mary', 'last': 'bailey', 'nickname': 'md', 'social': '8880001299', 'contel': '1111111111', 'address': '444 roosevelt ave', 'city': 'jackson hts', 'state': 'ny', 'zipcode': '49844', 'hiremonth': '07', 'hiredate': '28', 'hireyear': '07', 'dept': 'FD', 'position': 'fdagnt', 'hourlypay': '25.0', 'weeklypay': '1000.0', 'monthlypay': '4000.0', 'yearlypay': '48000.0', 'sicktaken': '0', 'sickremaining': '0', 'perstaken': '0', 'persremaining': '0', 'vactaken': '0', 'vacremaining': '0', 'sickdates': ['0'], 'persdates': ['0'], 'vacdates': ['0'], 'empnoyrs': '2', 'hdatecombo': 70728}, {'first': 'marc', 'last': 'singer', 'nickname': 'beastmaster', 'social': '3330001299', 'contel': '1111111111', 'address': '123 crescent st', 'city': 'lic', 'state': 'ny', 'zipcode': '49844', 'hiremonth': '02', 'hiredate': '28', 'hireyear': '09', 'dept': 'FD', 'position': 'fdagnt', 'hourlypay': '25.0', 'weeklypay': '1000.0', 'monthlypay': '4000.0', 'yearlypay': '48000.0', 'sicktaken': '0', 'sickremaining': '0', 'perstaken': '0', 'persremaining': '0', 'vactaken': '0', 'vacremaining': '0', 'sickdates': ['0'], 'persdates': ['0'], 'vacdates': ['0'], 'empnoyrs': '2', 'hdatecombo': 90228}, {'first': 'franco', 'last': 'franus', 'nickname': 'F2', 'social': '3330001299', 'contel': '1111111111', 'address': '123 gpt ave', 'city': 'greenpoint', 'state': 'ny', 'zipcode': '49844', 'hiremonth': '12', 'hiredate': '28', 'hireyear': '09', 'dept': 'FD', 'position': 'ntaud', 'hourlypay': '25.0', 'weeklypay': '1000.0', 'monthlypay': '4000.0', 'yearlypay': '48000.0', 'sicktaken': '0', 'sickremaining': '0', 'perstaken': '0', 'persremaining': '0', 'vactaken': '0', 'vacremaining': '0', 'sickdates': ['0'], 'persdates': ['0'], 'vacdates': ['0'], 'empnoyrs': '2', 'hdatecombo': 91228}, {'first': 'chris', 'last': 'velez', 'nickname': 'unk slam', 'social': '3330001299', 'contel': '8881111111', 'address': '123 cbx ave', 'city': 'bronx', 'state': 'ny', 'zipcode': '49844', 'hiremonth': '08', 'hiredate': '18', 'hireyear': '14', 'dept': 'FD', 'position': 'ntaud', 'hourlypay': '25.0', 'weeklypay': '1000.0', 'monthlypay': '4000.0', 'yearlypay': '48000.0', 'sicktaken': '0', 'sickremaining': '0', 'perstaken': '0', 'persremaining': '0', 'vactaken': '0', 'vacremaining': '0', 'sickdates': ['0'], 'persdates': ['0'], 'vacdates': ['0'], 'empnoyrs': '2', 'hdatecombo': 140818}, {'first': 'jose', 'last': 'quizon', 'nickname': 'chico', 'social': '3330001299', 'contel': '8881111111', 'address': '7054 bway ave', 'city': 'jax hts', 'state': 'ny', 'zipcode': '49844', 'hiremonth': '01', 'hiredate': '18', 'hireyear': '06', 'dept': 'FD', 'position': '*ntmgr', 'hourlypay': '25.0', 'weeklypay': '1000.0', 'monthlypay': '4000.0', 'yearlypay': '48000.0', 'sicktaken': '0', 'sickremaining': '0', 'perstaken': '0', 'persremaining': '0', 'vactaken': '0', 'vacremaining': '0', 'sickdates': ['0'], 'persdates': ['0'], 'vacdates': ['0'], 'empnoyrs': '2', 'hdatecombo': 60118}, {'first': 'jumpa', 'last': 'smith', 'nickname': 'js', 'social': '3330001299', 'contel': '8881111111', 'address': '7054 bway ave', 'city': 'jax hts', 'state': 'ny', 'zipcode': '49844', 'hiremonth': '01', 'hiredate': '18', 'hireyear': '06', 'dept': 'hsk', 'position': 'hseman', 'hourlypay': '25.0', 'weeklypay': '1000.0', 'monthlypay': '4000.0', 'yearlypay': '48000.0', 'sicktaken': '0', 'sickremaining': '0', 'perstaken': '0', 'persremaining': '0', 'vactaken': '0', 'vacremaining': '0', 'sickdates': ['0'], 'persdates': ['0'], 'vacdates': ['0'], 'empnoyrs': '2', 'hdatecombo': 60118}, {'first': 'jumpa', 'last': 'jones', 'nickname': 'jj', 'social': '3330001299', 'contel': '8881111111', 'address': '7054 bway ave', 'city': 'jax hts', 'state': 'ny', 'zipcode': '49844', 'hiremonth': '01', 'hiredate': '18', 'hireyear': '06', 'dept': 'hsk', 'position': 'hseman', 'hourlypay': '25.0', 'weeklypay': '1000.0', 'monthlypay': '4000.0', 'yearlypay': '48000.0', 'sicktaken': '0', 'sickremaining': '0', 'perstaken': '0', 'persremaining': '0', 'vactaken': '0', 'vacremaining': '0', 'sickdates': ['0'], 'persdates': ['0'], 'vacdates': ['0'], 'empnoyrs': '2', 'hdatecombo': 60118}, {'first': 'thavone', 'last': 'pengpang', 'nickname': 'tp', 'social': '3330001299', 'contel': '8881111111', 'address': '7054 bway ave', 'city': 'jax hts', 'state': 'ny', 'zipcode': '49844', 'hiremonth': '05', 'hiredate': '30', 'hireyear': '06', 'dept': 'hsk', 'position': 'hseman', 'hourlypay': '25.0', 'weeklypay': '1000.0', 'monthlypay': '4000.0', 'yearlypay': '48000.0', 'sicktaken': '0', 'sickremaining': '0', 'perstaken': '0', 'persremaining': '0', 'vactaken': '0', 'vacremaining': '0', 'sickdates': ['0'], 'persdates': ['0'], 'vacdates': ['0'], 'empnoyrs': '2', 'hdatecombo': 60530}, {'first': 'paul', 'last': 'singh', 'nickname': 'paulie', 'social': '3330001299', 'contel': '8881111111', 'address': '754 bway ave', 'city': 'jax hts', 'state': 'ny', 'zipcode': '49844', 'hiremonth': '01', 'hiredate': '30', 'hireyear': '06', 'dept': 'hsk', 'position': 'hskper', 'hourlypay': '25.0', 'weeklypay': '1000.0', 'monthlypay': '4000.0', 'yearlypay': '48000.0', 'sicktaken': '0', 'sickremaining': '0', 'perstaken': '0', 'persremaining': '0', 'vactaken': '0', 'vacremaining': '0', 'sickdates': ['0'], 'persdates': ['0'], 'vacdates': ['0'], 'empnoyrs': '2', 'hdatecombo': 60130}, {'first': 'jerry', 'last': 'springer', 'nickname': 'jeeeerrrry', 'social': '3330001299', 'contel': '8881111111', 'address': '705 bway ave', 'city': 'jax hts', 'state': 'ny', 'zipcode': '49844', 'hiremonth': '06', 'hiredate': '20', 'hireyear': '08', 'dept': 'hsk', 'position': 'hskper', 'hourlypay': '25.0', 'weeklypay': '1000.0', 'monthlypay': '4000.0', 'yearlypay': '48000.0', 'sicktaken': '0', 'sickremaining': '0', 'perstaken': '0', 'persremaining': '0', 'vactaken': '0', 'vacremaining': '0', 'sickdates': ['0'], 'persdates': ['0'], 'vacdates': ['0'], 'empnoyrs': '2', 'hdatecombo': 80620}, {'first': 'andrew', 'last': 'jones', 'nickname': 'aj', 'social': '3330001299', 'contel': '8881111111', 'address': '7 bway ave', 'city': 'jax hts', 'state': 'ny', 'zipcode': '49844', 'hiremonth': '06', 'hiredate': '14', 'hireyear': '08', 'dept': 'hsk', 'position': 'hskper', 'hourlypay': '25.0', 'weeklypay': '1000.0', 'monthlypay': '4000.0', 'yearlypay': '48000.0', 'sicktaken': '0', 'sickremaining': '0', 'perstaken': '0', 'persremaining': '0', 'vactaken': '0', 'vacremaining': '0', 'sickdates': ['0'], 'persdates': ['0'], 'vacdates': ['0'], 'empnoyrs': '2', 'hdatecombo': 80614}, {'first': 'cole', 'last': 'henderson', 'nickname': 'hendo', 'social': '3330001299', 'contel': '8881111111', 'address': '7054 bway ave', 'city': 'jax hts', 'state': 'ny', 'zipcode': '49844', 'hiremonth': '01', 'hiredate': '24', 'hireyear': '18', 'dept': 'pbx', 'position': 'oprtr', 'hourlypay': '25.0', 'weeklypay': '1000.0', 'monthlypay': '4000.0', 'yearlypay': '48000.0', 'sicktaken': '0', 'sickremaining': '0', 'perstaken': '0', 'persremaining': '0', 'vactaken': '0', 'vacremaining': '0', 'sickdates': ['0'], 'persdates': ['0'], 'vacdates': ['0'], 'empnoyrs': '2', 'hdatecombo': 180124}, {'first': 'george', 'last': 'st.pierre', 'nickname': 'gsp', 'social': '3330001299', 'contel': '8881111111', 'address': '7054 bway ave', 'city': 'jax hts', 'state': 'ny', 'zipcode': '49844', 'hiremonth': '01', 'hiredate': '24', 'hireyear': '18', 'dept': 'eng', 'position': 'engnr', 'hourlypay': '25.0', 'weeklypay': '1000.0', 'monthlypay': '4000.0', 'yearlypay': '48000.0', 'sicktaken': '0', 'sickremaining': '0', 'perstaken': '0', 'persremaining': '0', 'vactaken': '0', 'vacremaining': '0', 'sickdates': ['0'], 'persdates': ['0'], 'vacdates': ['0'], 'empnoyrs': '2', 'hdatecombo': 180124}, {'first': 'luc', 'last': 'petty', 'nickname': 'LP', 'social': '3330001299', 'contel': '8881111111', 'address': '7 roosevelt ave', 'city': 'bronx', 'state': 'ny', 'zipcode': '49844', 'hiremonth': '01', 'hiredate': '24', 'hireyear': '18', 'dept': 'eng', 'position': 'engnr', 'hourlypay': '25.0', 'weeklypay': '1000.0', 'monthlypay': '4000.0', 'yearlypay': '48000.0', 'sicktaken': '0', 'sickremaining': '0', 'perstaken': '0', 'persremaining': '0', 'vactaken': '0', 'vacremaining': '0', 'sickdates': ['0'], 'persdates': ['0'], 'vacdates': ['0'], 'empnoyrs': '2', 'hdatecombo': 180124}, {'first': 'todd', 'last': 'bryant', 'nickname': 'toddB', 'social': '3330001299', 'contel': '8881111111', 'address': '290 roosevelt ave', 'city': 'brooklyn', 'state': 'ny', 'zipcode': '49844', 'hiremonth': '03', 'hiredate': '14', 'hireyear': '18', 'dept': 'eng', 'position': 'engnr', 'hourlypay': '25.0', 'weeklypay': '1000.0', 'monthlypay': '4000.0', 'yearlypay': '48000.0', 'sicktaken': '0', 'sickremaining': '0', 'perstaken': '0', 'persremaining': '0', 'vactaken': '0', 'vacremaining': '0', 'sickdates': ['0'], 'persdates': ['0'], 'vacdates': ['0'], 'empnoyrs': '2', 'hdatecombo': 180314}, {'first': 'robin', 'last': 'banger', 'nickname': 'rB', 'social': '3330001299', 'contel': '8881111111', 'address': '290 greenpt ave', 'city': 'brooklyn', 'state': 'ny', 'zipcode': '11111', 'hiremonth': '05', 'hiredate': '14', 'hireyear': '18', 'dept': 'pbx', 'position': 'oprtr', 'hourlypay': '25.0', 'weeklypay': '1000.0', 'monthlypay': '4000.0', 'yearlypay': '48000.0', 'sicktaken': '0', 'sickremaining': '0', 'perstaken': '0', 'persremaining': '0', 'vactaken': '0', 'vacremaining': '0', 'sickdates': ['0'], 'persdates': ['0'], 'vacdates': ['0'], 'empnoyrs': '2', 'hdatecombo': 180514}]\n"
     ]
    }
   ],
   "source": [
    "class Employeez:\n",
    "    def __init__(self,first,last,nickname,social,contel,address,city,state,zipcode,hiremonth,hiredate,hireyear,dept,position,hourlypay,weeklypay,monthlypay,yearlypay,sicktaken,sickremaining,perstaken,persremaining,vactaken,vacremaining,sickdates,persdates,vacdates,empnoyrs):\n",
    "        self.first = first\n",
    "        self.last = last\n",
    "        self.nickname = nickname\n",
    "        self.social = social\n",
    "        self.contel = contel\n",
    "        self.address = address\n",
    "        self.city = city\n",
    "        self.state = state\n",
    "        self.zipcode = zipcode \n",
    "        self.hiremonth = hiremonth     \n",
    "        self.hiredate = hiredate\n",
    "        self.hireyear = hireyear\n",
    "        self.dept = dept\n",
    "        self.position = position\n",
    "        self.hourlypay = hourlypay\n",
    "        self.weeklypay= weeklypay\n",
    "        self.monthlypay= monthlypay\n",
    "        self.yearlypay= yearlypay\n",
    "        self.sicktaken = sicktaken\n",
    "        self.sickremaining = sickremaining\n",
    "        self.perstaken = perstaken\n",
    "        self.persremaining = persremaining\n",
    "        self.vactaken = vactaken\n",
    "        self.vacremaining = vacremaining\n",
    "        self.sickdates = sickdates\n",
    "        self.persdates = persdates\n",
    "        self.vacdates = vacdates\n",
    "        self.empnoyrs = empnoyrs\n",
    "        self.hdatecombo = int(hireyear+hiremonth+hiredate)\n",
    "        \n",
    "    \n",
    "    def insurancesetter(self):\n",
    "        if self.position[0] == '*':\n",
    "            print('United health care')\n",
    "        else:\n",
    "            print('Union insurance')\n",
    "        \n",
    "    \n",
    "    def addsickday(self):\n",
    "#         every 2 months this func runs\n",
    "        pass\n",
    "    def addpersday(self):\n",
    "#         every january first this func runs\n",
    "        pass\n",
    "    def addvacdays(self,vacalot):\n",
    "        import datetime\n",
    "        z=datetime.datetime.now()\n",
    "        monthnow = (z.strftime(\"%m\"))\n",
    "        daynow = (z.strftime(\"%d\"))\n",
    "        yearnow = (z.strftime(\"%Y\"))\n",
    "        yearint = (int(yearnow))-2000\n",
    "        monthint= int(monthnow)\n",
    "        dayint = int(daynow)\n",
    "        print (self.hdatecombo)\n",
    "        \n",
    "        if int(self.hireyear) < yearint:\n",
    "            if int(self.hiremonth) < monthint:\n",
    "                self.vacremaining = int(self.vacremaining) + vacalot \n",
    "                print(self.vacremaining)\n",
    "            elif int(self.hiremonth) == monthint:\n",
    "                if int(self.hiredate) <= dayint:\n",
    "                    self.vacremaining = int(self.vacremaining) + vacalot \n",
    "                    print(self.vacremaining)\n",
    "                else:\n",
    "                    print(f'{int(self.hiredate) - dayint} day(s) away from additional vacation time')        \n",
    "            else:\n",
    "                print(f'{int(self.hiremonth) - monthint} month(s) away from additional vacation time')\n",
    "        else:\n",
    "            print('next year')\n",
    "        \n",
    "    def annivCheck(self):\n",
    "        import datetime\n",
    "        z=datetime.datetime.now()\n",
    "        monthnow = (z.strftime(\"%m\"))\n",
    "        daynow = (z.strftime(\"%d\"))\n",
    "        yearnow = (z.strftime(\"%Y\"))\n",
    "        yearint = (int(yearnow))-2000\n",
    "        monthint= int(monthnow)\n",
    "        dayint = int(daynow)\n",
    "        \n",
    "        if int(self.hireyear) < yearint:\n",
    "            if int(self.hiremonth) < monthint:\n",
    "                print(\"Review / Raise\")\n",
    "                return True\n",
    "            elif int(self.hiremonth) == monthint:\n",
    "                if int(self.hiredate) <= dayint:\n",
    "                    print(\"Review / Raise\")\n",
    "                    return True\n",
    "                else:\n",
    "                    print(f'{int(self.hiredate) - dayint} day(s) from Review and / or Raise')\n",
    "                    return False        \n",
    "            else:\n",
    "                print(f'{int(self.hiremonth) - monthint} month(s) away Review and / or Raise')\n",
    "                return False\n",
    "        else:\n",
    "            print('next year')\n",
    "        \n",
    "#employeecreate() takes the inputs so the emplyee is instantiated in the class\n",
    "def EmployeeCreate(nlist,nmlist,dhold):\n",
    "    for x in range(len(nlist)):\n",
    "        z = x * 4\n",
    "        first = nmlist[z][0]\n",
    "        last = nmlist[z][1] \n",
    "        nickname = nmlist[z][2] \n",
    "        social = nmlist[z][3] \n",
    "        contel = nmlist[z][4] \n",
    "        address = nmlist[z][5]\n",
    "        city =nmlist[z][6]\n",
    "        state =nmlist[z][7] \n",
    "        zipcode  = nmlist[z][8]\n",
    "        hiremonth = nmlist[z][9]\n",
    "        hiredate = nmlist[z][10]\n",
    "        hireyear = nmlist[z][11]\n",
    "        dept = nmlist[z][12]\n",
    "        position = nmlist[z][13]\n",
    "        hourlypay = nmlist[z][14]\n",
    "        weeklypay = nmlist[z][15]\n",
    "        monthlypay = nmlist[z][16]\n",
    "        yearlypay = nmlist[z][17]\n",
    "        sicktaken = nmlist[z][18]\n",
    "        sickremaining = nmlist[z][19]\n",
    "        perstaken = nmlist[z][20]\n",
    "        persremaining = nmlist[z][21]\n",
    "        vactaken = nmlist[z][22]\n",
    "        vacremaining = nmlist[z][23]\n",
    "        empnoyears = nmlist[z][24]\n",
    "        sickdates = nmlist[z+1]\n",
    "        persdates = nmlist[z+2]\n",
    "        vacdates = nmlist[z+3]\n",
    "        hdatecombo =nmlist[z][11]+hiremonth+nmlist[z][9]+nmlist[z][10]\n",
    "        \n",
    "        noclist[x] = Employeez(first,last,nickname,social,contel,address,city,state,zipcode,hiremonth,hiredate,hireyear,dept,position,hourlypay,weeklypay,monthlypay,yearlypay,sicktaken,sickremaining,perstaken,persremaining,vactaken,vacremaining,sickdates,persdates,vacdates,empnoyears)\n",
    "        print(f'employee {nlist[x]} has been instantiated')\n",
    "    for dt in range(len(noclist)):\n",
    "        dictionaryhold.append(noclist[dt].__dict__)\n",
    "    print(dictionaryhold)\n",
    "EmployeeCreate(noclist,nocmemlist,dictionaryhold)"
   ]
  },
  {
   "cell_type": "code",
   "execution_count": 20,
   "metadata": {},
   "outputs": [
    {
     "name": "stdout",
     "output_type": "stream",
     "text": [
      "08\n",
      "15\n",
      "2020\n",
      "20\n",
      "<class 'str'>\n",
      "<class 'str'>\n",
      "<class 'str'>\n",
      "<class 'str'>\n",
      "Rookie\n"
     ]
    }
   ],
   "source": [
    "        import datetime\n",
    "        z=datetime.datetime.now()\n",
    "        monthnow = (z.strftime(\"%m\"))\n",
    "        daynow = (z.strftime(\"%d\"))\n",
    "        yearnow = (z.strftime(\"%Y\"))\n",
    "        yeardbl = str((int(yearnow))-2000)\n",
    "        print (monthnow)\n",
    "        print (daynow)\n",
    "        print (yearnow)\n",
    "        print (yeardbl)\n",
    "        print (type(monthnow))\n",
    "        print (type(daynow))\n",
    "        print (type(yearnow))\n",
    "        print (type(yeardbl))\n",
    "        x = int(yeardbl+monthnow+daynow)\n",
    "        probie = 9600\n",
    "        if probie < 300:\n",
    "            print('Probation Period')\n",
    "        elif probie>300 and probie<10000:\n",
    "            print('Rookie')\n",
    "        elif probie>10000 and probie<30000:\n",
    "            print('Vet')\n",
    "        elif probie>30000 and probie<50000:\n",
    "            print('Bronze')\n",
    "        elif probie>50000 and probie<100000:\n",
    "            print('Silver')\n",
    "        else:\n",
    "            print('Gold')"
   ]
  },
  {
   "cell_type": "code",
   "execution_count": 21,
   "metadata": {},
   "outputs": [
    {
     "name": "stdout",
     "output_type": "stream",
     "text": [
      "not yet\n"
     ]
    }
   ],
   "source": [
    "def truther(x):\n",
    "    if x == 2:\n",
    "        return 'rookie'\n",
    "    else:\n",
    "        return 'vet'\n",
    "\n",
    "def status(x):\n",
    "    y = truther(x)\n",
    "    if y == 'rookie':\n",
    "        print('not yet')\n",
    "    elif y == 'vet':\n",
    "        print('now')\n",
    "    else:\n",
    "        pass\n",
    "status(2)    "
   ]
  },
  {
   "cell_type": "code",
   "execution_count": 22,
   "metadata": {},
   "outputs": [
    {
     "name": "stdout",
     "output_type": "stream",
     "text": [
      "sorry it is still 2020\n",
      "sorry it is still 2020\n",
      "same brah\n"
     ]
    }
   ],
   "source": [
    "    def yearcheck():\n",
    "        import datetime\n",
    "        z=datetime.datetime.now()\n",
    "        yearnow = (z.strftime(\"%Y\"))\n",
    "        yearint = (int(yearnow))-2000\n",
    "        \n",
    "        from cryptography.fernet import Fernet\n",
    "        fkey = open('testdocs/filekey.night','rb')\n",
    "        key = fkey.read()\n",
    "        cipher = Fernet(key)   \n",
    "        \n",
    "        with open('testdocs/yearstore.night','rb') as ys:\n",
    "            encryptedfileA = ys.read()\n",
    "        decrypted_fileA = cipher.decrypt(encryptedfileA)\n",
    "        yearstore = (decrypted_fileA.decode())\n",
    "        \n",
    "        if int(yearstore) == yearint:\n",
    "            print(f\"sorry it is still 20{yearint}\")\n",
    "        else:\n",
    "            print(f\"it is now the year 20{yearint}\")\n",
    "            \n",
    "            with open(f'testdocs\\\\yearstore.night',mode='w')as n:\n",
    "                n.write(f'{yearint}')  \n",
    "                print('files created!')\n",
    "                \n",
    "            yearstorefile= 'testdocs/yearstore.night'\n",
    "            with open(yearstorefile,'rb')as e:\n",
    "                yearstorefiletoencrypt = e.read()\n",
    "        \n",
    "            yearstoreencryptedfile = cipher.encrypt(yearstorefiletoencrypt) \n",
    "            with open(yearstorefile,'wb') as ee:\n",
    "                ee.write(yearstoreencryptedfile)\n",
    "                print('file encryted')\n",
    "                \n",
    "            return True\n",
    "    yearcheck()\n",
    "    \n",
    "    \n",
    "    def persadd():\n",
    "        nextyear = yearcheck()\n",
    "        if nextyear == True:\n",
    "            for key in obdict:\n",
    "                obdict[key].persremaining = int(obdict[key].persremaining) + 3\n",
    "                print(f'{obdict[key].first} has {obdict[key].persremaining} personal days')\n",
    "        else:\n",
    "            print('same brah')\n",
    "    \n",
    "    persadd()"
   ]
  },
  {
   "cell_type": "code",
   "execution_count": 6,
   "metadata": {},
   "outputs": [
    {
     "name": "stdout",
     "output_type": "stream",
     "text": [
      "falseret\n"
     ]
    },
    {
     "data": {
      "text/plain": [
       "False"
      ]
     },
     "execution_count": 6,
     "metadata": {},
     "output_type": "execute_result"
    }
   ],
   "source": [
    "        \n",
    "    def everytwocheck():\n",
    "        import datetime\n",
    "        z=datetime.datetime.now()\n",
    "        monthnow = int((z.strftime(\"%m\")))\n",
    "        \n",
    "        from cryptography.fernet import Fernet\n",
    "        fkey = open('testdocs/filekey.night','rb')\n",
    "        key = fkey.read()\n",
    "        cipher = Fernet(key)   \n",
    "        \n",
    "        with open('testdocs/sickrun.night','rb') as ys:\n",
    "            encryptedfileSR = ys.read()\n",
    "        decrypted_fileSR = cipher.decrypt(encryptedfileSR)\n",
    "        sickrun = (decrypted_fileSR.decode())\n",
    "        \n",
    "        if int(sickrun) == monthnow:\n",
    "            newsick = int(sickrun) + 2\n",
    "            with open(f'testdocs\\\\sickrun.night',mode='w')as s:\n",
    "                s.write(f'{newsick}')  \n",
    "                print('files created!')\n",
    "                \n",
    "            sickrunfile = 'testdocs/sickrun.night'\n",
    "            with open(sickrunfile,'rb')as e:\n",
    "                sickrunfiletoencrypt = e.read()\n",
    "        \n",
    "            sickrunencryptedfile = cipher.encrypt(sickrunfiletoencrypt) \n",
    "            with open(sickrunfile,'wb') as ee:\n",
    "                ee.write(sickrunencryptedfile)\n",
    "                print('file encryted')\n",
    "            return True\n",
    "        else:\n",
    "            print('falseret')\n",
    "            return False\n",
    "        \n",
    "        \n",
    "        \n",
    "        \n",
    "        \n",
    "    everytwocheck()\n",
    "        \n",
    "        "
   ]
  },
  {
   "cell_type": "code",
   "execution_count": null,
   "metadata": {},
   "outputs": [],
   "source": []
  },
  {
   "cell_type": "code",
   "execution_count": 7,
   "metadata": {},
   "outputs": [
    {
     "ename": "NameError",
     "evalue": "name 'self' is not defined",
     "output_type": "error",
     "traceback": [
      "\u001b[1;31m---------------------------------------------------------------------------\u001b[0m",
      "\u001b[1;31mNameError\u001b[0m                                 Traceback (most recent call last)",
      "\u001b[1;32m<ipython-input-7-0c253f1a2d67>\u001b[0m in \u001b[0;36m<module>\u001b[1;34m\u001b[0m\n\u001b[0;32m      7\u001b[0m \u001b[0mmonthint\u001b[0m\u001b[1;33m=\u001b[0m \u001b[0mint\u001b[0m\u001b[1;33m(\u001b[0m\u001b[0mmonthnow\u001b[0m\u001b[1;33m)\u001b[0m\u001b[1;33m\u001b[0m\u001b[1;33m\u001b[0m\u001b[0m\n\u001b[0;32m      8\u001b[0m \u001b[0mdayint\u001b[0m \u001b[1;33m=\u001b[0m \u001b[0mint\u001b[0m\u001b[1;33m(\u001b[0m\u001b[0mdaynow\u001b[0m\u001b[1;33m)\u001b[0m\u001b[1;33m\u001b[0m\u001b[1;33m\u001b[0m\u001b[0m\n\u001b[1;32m----> 9\u001b[1;33m \u001b[0mprint\u001b[0m \u001b[1;33m(\u001b[0m\u001b[0mself\u001b[0m\u001b[1;33m.\u001b[0m\u001b[0mhdatecombo\u001b[0m\u001b[1;33m)\u001b[0m\u001b[1;33m\u001b[0m\u001b[1;33m\u001b[0m\u001b[0m\n\u001b[0m\u001b[0;32m     10\u001b[0m \u001b[1;32mif\u001b[0m \u001b[0mself\u001b[0m\u001b[1;33m.\u001b[0m\u001b[0mhireyear\u001b[0m \u001b[1;33m<\u001b[0m \u001b[0myearint\u001b[0m\u001b[1;33m:\u001b[0m\u001b[1;33m\u001b[0m\u001b[1;33m\u001b[0m\u001b[0m\n\u001b[0;32m     11\u001b[0m     \u001b[1;32mif\u001b[0m \u001b[0mself\u001b[0m\u001b[1;33m.\u001b[0m\u001b[0mhiremonth\u001b[0m \u001b[1;33m>\u001b[0m \u001b[0mmonthint\u001b[0m\u001b[1;33m:\u001b[0m\u001b[1;33m\u001b[0m\u001b[1;33m\u001b[0m\u001b[0m\n",
      "\u001b[1;31mNameError\u001b[0m: name 'self' is not defined"
     ]
    }
   ],
   "source": [
    "    \n",
    "        import datetime\n",
    "        z=datetime.datetime.now()\n",
    "        monthnow = (z.strftime(\"%m\"))\n",
    "        daynow = (z.strftime(\"%d\"))\n",
    "        yearnow = (z.strftime(\"%Y\"))\n",
    "        yearint = (int(yearnow))-2000\n",
    "        monthint= int(monthnow)\n",
    "        dayint = int(daynow)\n",
    "        print (self.hdatecombo)\n",
    "        if self.hireyear < yearint:\n",
    "            if self.hiremonth > monthint:\n",
    "                self.vacremaining = int(self.vacremaining) + vacalot \n",
    "            elif self.hiremonth == monthint:\n",
    "                if self.hiredate <= dayint:\n",
    "                    self.vacremaining = int(self.vacremaining) + vacalot \n",
    "                else:\n",
    "                    print(f'{int(self.hiredate) - mayint} day(s) away from additional vacation time')        \n",
    "            else:\n",
    "                print(f'{int(self.hiremonth) - monthint} month(s) away from additional vacation time')\n",
    "        else:\n",
    "            print('next year')"
   ]
  },
  {
   "cell_type": "code",
   "execution_count": 23,
   "metadata": {},
   "outputs": [
    {
     "name": "stdout",
     "output_type": "stream",
     "text": [
      "['jasonbourne', 'sarawalker', 'johncasey', 'charlesbartowski', 'jackbauer', 'tonyroop', 'gregcosent', 'macgregorjones', 'jalenhurts', 'adamdriver', 'daisyridley', 'alecbaldwin', 'stefftuan', 'chrisrudolf', 'kyloren', 'michaelokeyo', 'michaeldonaldson', 'petercamp', 'justinedean', 'marybailey', 'marcsinger', 'francofranus', 'chrisvelez', 'josequizon', 'jumpasmith', 'jumpajones', 'thavonepengpang', 'paulsingh', 'jerryspringer', 'andrewjones', 'colehenderson', 'georgest.pierre', 'lucpetty', 'toddbryant', 'robinbanger']\n",
      "54321\n",
      "bourne\n",
      "walker\n",
      "casey\n",
      "bartowski\n",
      "bauer\n",
      "roop\n",
      "cosent\n",
      "jones\n",
      "hurts\n",
      "driver\n",
      "ridley\n",
      "baldwin\n",
      "tuan\n",
      "rudolf\n",
      "ren\n",
      "okeyo\n",
      "donaldson\n",
      "camp\n",
      "dean\n",
      "bailey\n",
      "singer\n",
      "franus\n",
      "velez\n",
      "quizon\n",
      "smith\n",
      "jones\n",
      "pengpang\n",
      "singh\n",
      "springer\n",
      "jones\n",
      "henderson\n",
      "st.pierre\n",
      "petty\n",
      "bryant\n",
      "banger\n",
      "walker, sara<FD//fdagnt>......1234567890\n",
      "casey, john<FD//fdagnt>......1111111111\n",
      "bartowski, charles<FD//*adeptmgr>......9999999999\n",
      "tuan, steff<FD//*adeptmgr>......1111111111\n",
      "rudolf, chris<FD//*adeptmgr>......1111111111\n",
      "ren, kylo<FD//*deptmgr>......1111111111\n",
      "okeyo, michael<FD//bllmn>......1111111111\n",
      "donaldson, michael<FD//bllmn>......1111000111\n",
      "camp, peter<FD//drmn>......1111234561\n",
      "dean, justine<FD//fdagnt>......1111111111\n",
      "bailey, mary<FD//fdagnt>......1111111111\n",
      "singer, marc<FD//fdagnt>......1111111111\n",
      "franus, franco<FD//ntaud>......1111111111\n",
      "velez, chris<FD//ntaud>......8881111111\n",
      "quizon, jose<FD//*ntmgr>......8881111111\n",
      "bourne, jason<acct//acctnt>......9876543211\n",
      "bauer, jack<acct//acctnt>......9876543211\n",
      "roop, tony<acct//*asscntrller>......9876543211\n",
      "cosent, greg<acct//*cntrller>......9876543211\n",
      "st.pierre, george<eng//engnr>......8881111111\n",
      "petty, luc<eng//engnr>......8881111111\n",
      "bryant, todd<eng//engnr>......8881111111\n",
      "smith, jumpa<hsk//hseman>......8881111111\n",
      "jones, jumpa<hsk//hseman>......8881111111\n",
      "pengpang, thavone<hsk//hseman>......8881111111\n",
      "singh, paul<hsk//hskper>......8881111111\n",
      "springer, jerry<hsk//hskper>......8881111111\n",
      "jones, andrew<hsk//hskper>......8881111111\n",
      "henderson, cole<pbx//oprtr>......8881111111\n",
      "banger, robin<pbx//oprtr>......8881111111\n",
      "jones, macgregor<sle//*res>......9876543211\n",
      "hurts, jalen<sle//res>......9876543211\n",
      "driver, adam<sle//*deptsup>......9876543211\n",
      "ridley, daisy<sle//*deptmgr>......9876543211\n",
      "baldwin, alec<sle//*adeptmgr>......1111111111\n"
     ]
    }
   ],
   "source": [
    "obdict=0\n",
    "noclistkey=[]\n",
    "for x in range(len(dictionaryhold)):\n",
    "    noclistkey.append(dictionaryhold[x]['first']+dictionaryhold[x]['last'])\n",
    "print(noclistkey)\n",
    "obdict=dict(zip(noclistkey,noclist))\n",
    "\n",
    "print(obdict['jasonbourne'].zipcode)\n",
    "\n",
    "for key in obdict:\n",
    "    print(obdict[key].last)\n",
    "    \n",
    "directory=[]    \n",
    "\n",
    "alphsortfirst = {key: value for key, value in sorted(obdict.items(), key=lambda item: item[1].first)}\n",
    "alphsortlast = {key: value for key, value in sorted(obdict.items(), key=lambda item: item[1].last)}\n",
    "alphsortdept = {key: value for key, value in sorted(obdict.items(), key=lambda item: item[1].dept)}\n",
    "alphsortposition = {key: value for key, value in sorted(obdict.items(), key=lambda item: item[1].position)}\n",
    "\n",
    "\n",
    "\n",
    "\n",
    "for dirct in alphsortdept:\n",
    "    directory.append(str(f'{alphsortdept[dirct].last}, {alphsortdept[dirct].first}<{alphsortdept[dirct].dept}//{alphsortdept[dirct].position}>......{alphsortdept[dirct].contel}'))\n",
    "for ent in range(len(directory)):\n",
    "    print(directory[ent])"
   ]
  },
  {
   "cell_type": "code",
   "execution_count": 24,
   "metadata": {},
   "outputs": [
    {
     "name": "stdout",
     "output_type": "stream",
     "text": [
      "<__main__.Employeez object at 0x000001F3642049C8>\n"
     ]
    }
   ],
   "source": [
    "print(obdict[key])"
   ]
  },
  {
   "cell_type": "code",
   "execution_count": null,
   "metadata": {},
   "outputs": [],
   "source": []
  },
  {
   "cell_type": "code",
   "execution_count": 25,
   "metadata": {},
   "outputs": [
    {
     "name": "stdout",
     "output_type": "stream",
     "text": [
      "jason bourne ... -3\n",
      "sara walker ... 3\n",
      "john casey ... 0\n",
      "charles bartowski ... 0\n",
      "jack bauer ... -3\n",
      "tony roop ... -3\n",
      "greg cosent ... -3\n",
      "macgregor jones ... -3\n",
      "jalen hurts ... -3\n",
      "adam driver ... -3\n",
      "daisy ridley ... -3\n",
      "alec baldwin ... 0\n",
      "steff tuan ... 0\n",
      "chris rudolf ... 0\n",
      "kylo ren ... 0\n",
      "michael okeyo ... 0\n",
      "michael donaldson ... 0\n",
      "peter camp ... 0\n",
      "justine dean ... 0\n",
      "mary bailey ... 0\n",
      "marc singer ... 0\n",
      "franco franus ... 0\n",
      "chris velez ... 0\n",
      "jose quizon ... 0\n",
      "jumpa smith ... 0\n",
      "jumpa jones ... 0\n",
      "thavone pengpang ... 0\n",
      "paul singh ... 0\n",
      "jerry springer ... 0\n",
      "andrew jones ... 0\n",
      "cole henderson ... 0\n",
      "george st.pierre ... 0\n",
      "luc petty ... 0\n",
      "todd bryant ... 0\n",
      "robin banger ... 0\n"
     ]
    }
   ],
   "source": [
    "for x in obdict:\n",
    "    print(f'{obdict[x].first} {obdict[x].last} ... {obdict[x].sickremaining}')"
   ]
  },
  {
   "cell_type": "code",
   "execution_count": 11,
   "metadata": {},
   "outputs": [
    {
     "name": "stdout",
     "output_type": "stream",
     "text": [
      "falseret\n",
      "not yet\n"
     ]
    }
   ],
   "source": [
    "def sickadd(dictr):\n",
    "    sickadder = everytwocheck()\n",
    "    if sickadder == True:\n",
    "        for sickey in dictr:\n",
    "            print(f'{dictr[sickey].first} {dictr[sickey].last} ... {dictr[sickey].sickremaining}')\n",
    "            ns = int(dictr[sickey].sickremaining) + 1\n",
    "            dictr[sickey].sickremaining = str(ns)\n",
    "            print(f'{dictr[sickey].first} {dictr[sickey].last} ... {dictr[sickey].sickremaining}')\n",
    "    else:\n",
    "        print('not yet')\n",
    "            \n",
    "sickadd(obdict)"
   ]
  },
  {
   "cell_type": "code",
   "execution_count": 12,
   "metadata": {},
   "outputs": [
    {
     "name": "stdout",
     "output_type": "stream",
     "text": [
      "2400\n",
      "3200\n"
     ]
    },
    {
     "data": {
      "text/plain": [
       "2800"
      ]
     },
     "execution_count": 12,
     "metadata": {},
     "output_type": "execute_result"
    }
   ],
   "source": [
    "def func1(var1):\n",
    "    return var1+2\n",
    "def func1a(var1,var2):\n",
    "    x = func1(var1)\n",
    "    y = func1(var2)\n",
    "    print(x)\n",
    "    print(y)\n",
    "    print(x+y)\n",
    "a = 15*40*4\n",
    "b = 20*40*4\n",
    "\n",
    "print(a)\n",
    "print(b)\n",
    "(a+b)//2\n",
    "33600//12\n"
   ]
  },
  {
   "cell_type": "code",
   "execution_count": 26,
   "metadata": {},
   "outputs": [
    {
     "name": "stdout",
     "output_type": "stream",
     "text": [
      "48000.0\n",
      "48000.0\n",
      "48000.0\n",
      "48000.0\n",
      "48000.0\n",
      "48000.0\n",
      "48000.0\n",
      "48000.0\n",
      "48000.0\n",
      "48000.0\n",
      "48000.0\n",
      "48000.0\n",
      "48000.0\n",
      "48000.0\n",
      "48000.0\n",
      "48000.0\n",
      "48000.0\n",
      "48000.0\n",
      "48000.0\n",
      "48000.0\n",
      "48000.0\n",
      "48000.0\n",
      "48000.0\n",
      "48000.0\n",
      "48000.0\n",
      "48000.0\n",
      "50000.0\n",
      "65000.0\n",
      "65000.0\n",
      "65000.0\n",
      "65000.0\n",
      "65000.0\n",
      "65000.0\n",
      "65000.0\n",
      "65000.0\n"
     ]
    }
   ],
   "source": [
    "alphsortyearlypay = {key: value for key, value in sorted(obdict.items(), key=lambda item: int(float(item[1].yearlypay)))}\n",
    "\n",
    "for ent in alphsortyearlypay:\n",
    "    print(alphsortyearlypay[ent].yearlypay)"
   ]
  },
  {
   "cell_type": "code",
   "execution_count": 14,
   "metadata": {},
   "outputs": [
    {
     "ename": "TypeError",
     "evalue": "'int' object is not subscriptable",
     "output_type": "error",
     "traceback": [
      "\u001b[1;31m---------------------------------------------------------------------------\u001b[0m",
      "\u001b[1;31mTypeError\u001b[0m                                 Traceback (most recent call last)",
      "\u001b[1;32m<ipython-input-14-b67ef7d46389>\u001b[0m in \u001b[0;36m<module>\u001b[1;34m\u001b[0m\n\u001b[0;32m      6\u001b[0m     \u001b[1;32mfor\u001b[0m \u001b[0mitem\u001b[0m \u001b[1;32min\u001b[0m \u001b[0mitems\u001b[0m\u001b[1;33m:\u001b[0m\u001b[1;33m\u001b[0m\u001b[1;33m\u001b[0m\u001b[0m\n\u001b[0;32m      7\u001b[0m         \u001b[0mkeylist\u001b[0m\u001b[1;33m.\u001b[0m\u001b[0mappend\u001b[0m\u001b[1;33m(\u001b[0m\u001b[0mitem\u001b[0m\u001b[1;33m[\u001b[0m\u001b[1;36m0\u001b[0m\u001b[1;33m]\u001b[0m\u001b[1;33m)\u001b[0m\u001b[1;33m\u001b[0m\u001b[1;33m\u001b[0m\u001b[0m\n\u001b[1;32m----> 8\u001b[1;33m \u001b[0mkeygrabber\u001b[0m\u001b[1;33m(\u001b[0m\u001b[0mobdict\u001b[0m\u001b[1;33m)\u001b[0m\u001b[1;33m\u001b[0m\u001b[1;33m\u001b[0m\u001b[0m\n\u001b[0m\u001b[0;32m      9\u001b[0m \u001b[0mprint\u001b[0m\u001b[1;33m(\u001b[0m\u001b[0mkeylist\u001b[0m\u001b[1;33m)\u001b[0m\u001b[1;33m\u001b[0m\u001b[1;33m\u001b[0m\u001b[0m\n\u001b[0;32m     10\u001b[0m \u001b[1;33m\u001b[0m\u001b[0m\n",
      "\u001b[1;32m<ipython-input-14-b67ef7d46389>\u001b[0m in \u001b[0;36mkeygrabber\u001b[1;34m(obd)\u001b[0m\n\u001b[0;32m      1\u001b[0m \u001b[0mkeylist\u001b[0m\u001b[1;33m=\u001b[0m\u001b[1;33m[\u001b[0m\u001b[1;33m]\u001b[0m\u001b[1;33m\u001b[0m\u001b[1;33m\u001b[0m\u001b[0m\n\u001b[0;32m      2\u001b[0m \u001b[1;32mdef\u001b[0m \u001b[0mkeygrabber\u001b[0m\u001b[1;33m(\u001b[0m\u001b[0mobd\u001b[0m\u001b[1;33m)\u001b[0m\u001b[1;33m:\u001b[0m\u001b[1;33m\u001b[0m\u001b[1;33m\u001b[0m\u001b[0m\n\u001b[1;32m----> 3\u001b[1;33m     \u001b[0mgrab\u001b[0m \u001b[1;33m=\u001b[0m \u001b[0mobd\u001b[0m\u001b[1;33m[\u001b[0m\u001b[1;34m'jasonbourne'\u001b[0m\u001b[1;33m]\u001b[0m\u001b[1;33m.\u001b[0m\u001b[0m__dict__\u001b[0m\u001b[1;33m\u001b[0m\u001b[1;33m\u001b[0m\u001b[0m\n\u001b[0m\u001b[0;32m      4\u001b[0m \u001b[1;33m\u001b[0m\u001b[0m\n\u001b[0;32m      5\u001b[0m     \u001b[0mitems\u001b[0m \u001b[1;33m=\u001b[0m \u001b[0mgrab\u001b[0m\u001b[1;33m.\u001b[0m\u001b[0mitems\u001b[0m\u001b[1;33m(\u001b[0m\u001b[1;33m)\u001b[0m\u001b[1;33m\u001b[0m\u001b[1;33m\u001b[0m\u001b[0m\n",
      "\u001b[1;31mTypeError\u001b[0m: 'int' object is not subscriptable"
     ]
    }
   ],
   "source": [
    "keylist=[]\n",
    "def keygrabber(obd):\n",
    "    grab = obd['jasonbourne'].__dict__\n",
    "\n",
    "    items = grab.items() \n",
    "    for item in items: \n",
    "        keylist.append(item[0])\n",
    "keygrabber(obdict)\n",
    "print(keylist)\n",
    "    \n",
    "def sorter(obd,x):\n",
    "    {key: value for key, value in sorted(obd.items(), key=lambda item: x )}"
   ]
  },
  {
   "cell_type": "code",
   "execution_count": 15,
   "metadata": {},
   "outputs": [
    {
     "ename": "TypeError",
     "evalue": "'int' object is not subscriptable",
     "output_type": "error",
     "traceback": [
      "\u001b[1;31m---------------------------------------------------------------------------\u001b[0m",
      "\u001b[1;31mTypeError\u001b[0m                                 Traceback (most recent call last)",
      "\u001b[1;32m<ipython-input-15-c494542e38ba>\u001b[0m in \u001b[0;36m<module>\u001b[1;34m\u001b[0m\n\u001b[1;32m----> 1\u001b[1;33m \u001b[0mobdict\u001b[0m\u001b[1;33m[\u001b[0m\u001b[1;34m'jasonbourne'\u001b[0m\u001b[1;33m]\u001b[0m\u001b[1;33m.\u001b[0m\u001b[0m__dict__\u001b[0m\u001b[1;33m\u001b[0m\u001b[1;33m\u001b[0m\u001b[0m\n\u001b[0m",
      "\u001b[1;31mTypeError\u001b[0m: 'int' object is not subscriptable"
     ]
    }
   ],
   "source": [
    "obdict['jasonbourne'].__dict__"
   ]
  },
  {
   "cell_type": "code",
   "execution_count": 16,
   "metadata": {},
   "outputs": [
    {
     "ename": "AttributeError",
     "evalue": "'int' object has no attribute 'items'",
     "output_type": "error",
     "traceback": [
      "\u001b[1;31m---------------------------------------------------------------------------\u001b[0m",
      "\u001b[1;31mAttributeError\u001b[0m                            Traceback (most recent call last)",
      "\u001b[1;32m<ipython-input-16-a31490272349>\u001b[0m in \u001b[0;36m<module>\u001b[1;34m\u001b[0m\n\u001b[1;32m----> 1\u001b[1;33m \u001b[0mnumsorthdatecombo\u001b[0m \u001b[1;33m=\u001b[0m \u001b[1;33m{\u001b[0m\u001b[0mkey\u001b[0m\u001b[1;33m:\u001b[0m \u001b[0mvalue\u001b[0m \u001b[1;32mfor\u001b[0m \u001b[0mkey\u001b[0m\u001b[1;33m,\u001b[0m \u001b[0mvalue\u001b[0m \u001b[1;32min\u001b[0m \u001b[0msorted\u001b[0m\u001b[1;33m(\u001b[0m\u001b[0mobdict\u001b[0m\u001b[1;33m.\u001b[0m\u001b[0mitems\u001b[0m\u001b[1;33m(\u001b[0m\u001b[1;33m)\u001b[0m\u001b[1;33m,\u001b[0m \u001b[0mkey\u001b[0m\u001b[1;33m=\u001b[0m\u001b[1;32mlambda\u001b[0m \u001b[0mitem\u001b[0m\u001b[1;33m:\u001b[0m \u001b[0mint\u001b[0m\u001b[1;33m(\u001b[0m\u001b[0mfloat\u001b[0m\u001b[1;33m(\u001b[0m\u001b[0mitem\u001b[0m\u001b[1;33m[\u001b[0m\u001b[1;36m1\u001b[0m\u001b[1;33m]\u001b[0m\u001b[1;33m.\u001b[0m\u001b[0mhdatecombo\u001b[0m\u001b[1;33m)\u001b[0m\u001b[1;33m)\u001b[0m\u001b[1;33m)\u001b[0m\u001b[1;33m}\u001b[0m\u001b[1;33m\u001b[0m\u001b[1;33m\u001b[0m\u001b[0m\n\u001b[0m\u001b[0;32m      2\u001b[0m \u001b[1;33m\u001b[0m\u001b[0m\n\u001b[0;32m      3\u001b[0m \u001b[1;32mfor\u001b[0m \u001b[0mhdate\u001b[0m \u001b[1;32min\u001b[0m \u001b[0mnumsorthdatecombo\u001b[0m\u001b[1;33m:\u001b[0m\u001b[1;33m\u001b[0m\u001b[1;33m\u001b[0m\u001b[0m\n\u001b[0;32m      4\u001b[0m     \u001b[0mprint\u001b[0m\u001b[1;33m(\u001b[0m\u001b[1;34mf'{obdict[hdate].first} {obdict[hdate].last} was hired\\n{obdict[hdate].hiremonth} - {obdict[hdate].hiredate} - {obdict[hdate].hireyear}'\u001b[0m\u001b[1;33m)\u001b[0m\u001b[1;33m\u001b[0m\u001b[1;33m\u001b[0m\u001b[0m\n",
      "\u001b[1;31mAttributeError\u001b[0m: 'int' object has no attribute 'items'"
     ]
    }
   ],
   "source": [
    "numsorthdatecombo = {key: value for key, value in sorted(obdict.items(), key=lambda item: int(float(item[1].hdatecombo)))}\n",
    "\n",
    "for hdate in numsorthdatecombo:\n",
    "    print(f'{obdict[hdate].first} {obdict[hdate].last} was hired\\n{obdict[hdate].hiremonth} - {obdict[hdate].hiredate} - {obdict[hdate].hireyear}')"
   ]
  },
  {
   "cell_type": "code",
   "execution_count": 27,
   "metadata": {},
   "outputs": [
    {
     "name": "stdout",
     "output_type": "stream",
     "text": [
      "john casey\n",
      "  has taken 0 sick days0 days left\n",
      "charles bartowski\n",
      "  has taken 0 sick days0 days left\n",
      "alec baldwin\n",
      "  has taken 0 sick days0 days left\n",
      "steff tuan\n",
      "  has taken 0 sick days0 days left\n",
      "chris rudolf\n",
      "  has taken 0 sick days0 days left\n",
      "kylo ren\n",
      "  has taken 0 sick days0 days left\n",
      "michael okeyo\n",
      "  has taken 0 sick days0 days left\n",
      "michael donaldson\n",
      "  has taken 0 sick days0 days left\n",
      "peter camp\n",
      "  has taken 0 sick days0 days left\n",
      "justine dean\n",
      "  has taken 0 sick days0 days left\n",
      "mary bailey\n",
      "  has taken 0 sick days0 days left\n",
      "marc singer\n",
      "  has taken 0 sick days0 days left\n",
      "franco franus\n",
      "  has taken 0 sick days0 days left\n",
      "chris velez\n",
      "  has taken 0 sick days0 days left\n",
      "jose quizon\n",
      "  has taken 0 sick days0 days left\n",
      "jumpa smith\n",
      "  has taken 0 sick days0 days left\n",
      "jumpa jones\n",
      "  has taken 0 sick days0 days left\n",
      "thavone pengpang\n",
      "  has taken 0 sick days0 days left\n",
      "paul singh\n",
      "  has taken 0 sick days0 days left\n",
      "jerry springer\n",
      "  has taken 0 sick days0 days left\n",
      "andrew jones\n",
      "  has taken 0 sick days0 days left\n",
      "cole henderson\n",
      "  has taken 0 sick days0 days left\n",
      "george st.pierre\n",
      "  has taken 0 sick days0 days left\n",
      "luc petty\n",
      "  has taken 0 sick days0 days left\n",
      "todd bryant\n",
      "  has taken 0 sick days0 days left\n",
      "robin banger\n",
      "  has taken 0 sick days0 days left\n",
      "sara walker\n",
      "  has taken 1 sick days3 days left\n",
      "jason bourne\n",
      "  has taken 3 sick days-3 days left\n",
      "jack bauer\n",
      "  has taken 3 sick days-3 days left\n",
      "tony roop\n",
      "  has taken 3 sick days-3 days left\n",
      "greg cosent\n",
      "  has taken 3 sick days-3 days left\n",
      "macgregor jones\n",
      "  has taken 3 sick days-3 days left\n",
      "jalen hurts\n",
      "  has taken 3 sick days-3 days left\n",
      "adam driver\n",
      "  has taken 3 sick days-3 days left\n",
      "daisy ridley\n",
      "  has taken 3 sick days-3 days left\n"
     ]
    }
   ],
   "source": [
    "numsortsicktaken = {key: value for key, value in sorted(obdict.items(), key=lambda item: int(item[1].sicktaken))}\n",
    "for sicker in numsortsicktaken:\n",
    "    print(f'{numsortsicktaken[sicker].first} {numsortsicktaken[sicker].last}\\n  has taken {numsortsicktaken[sicker].sicktaken} sick days{numsortsicktaken[sicker].sickremaining} days left')"
   ]
  },
  {
   "cell_type": "code",
   "execution_count": 18,
   "metadata": {},
   "outputs": [
    {
     "name": "stdout",
     "output_type": "stream",
     "text": [
      "19\n",
      "191208\n",
      "4 month(s) away from additional vacation time\n",
      "0\n",
      "191208\n",
      "4 month(s) away from additional vacation time\n",
      "150802\n",
      "7\n",
      "170304\n",
      "5\n",
      "80626\n",
      "5\n"
     ]
    }
   ],
   "source": [
    "print(obdict['jasonbourne'].hireyear)\n",
    "obdict['jasonbourne'].addvacdays(10)\n",
    "print(obdict['jasonbourne'].empnoyrs)\n",
    "\n",
    "def vacdaysadder(vacalot,dictr):\n",
    "    for vacer in dictr:\n",
    "        dictr[vacer].addvacdays(vacalot)\n",
    "        \n",
    "vacdaysadder(5,obdict)"
   ]
  },
  {
   "cell_type": "code",
   "execution_count": 19,
   "metadata": {},
   "outputs": [
    {
     "data": {
      "text/plain": [
       "type"
      ]
     },
     "execution_count": 19,
     "metadata": {},
     "output_type": "execute_result"
    }
   ],
   "source": [
    "type(Employeez)"
   ]
  },
  {
   "cell_type": "code",
   "execution_count": 20,
   "metadata": {},
   "outputs": [
    {
     "data": {
      "text/plain": [
       "'00'"
      ]
     },
     "execution_count": 20,
     "metadata": {},
     "output_type": "execute_result"
    }
   ],
   "source": [
    "a = '12340000'\n",
    "a[-2:]"
   ]
  },
  {
   "cell_type": "code",
   "execution_count": 21,
   "metadata": {},
   "outputs": [
    {
     "name": "stdout",
     "output_type": "stream",
     "text": [
      "4 month(s) away Review and / or Raise\n",
      "jason\n",
      "acctnt\n",
      "not yet\n",
      "Review / Raise\n",
      "sara\n",
      "fdagnt\n",
      "24.03846153846154\n",
      "25.03846153846154\n",
      "sara,50000.0\n",
      "raise time\n",
      "sara,5\n",
      "sara,52080.0\n",
      "Review / Raise\n",
      "john\n",
      "fdagnt\n",
      "25.0\n",
      "26.0\n",
      "john,48000.0\n",
      "raise time\n",
      "john,3\n",
      "john,54080.0\n",
      "Review / Raise\n",
      "charles\n",
      "*adeptmgr\n",
      "raise time\n",
      "charles,12\n"
     ]
    }
   ],
   "source": [
    "import datetime\n",
    "z=datetime.datetime.now()\n",
    "monthnow = int((z.strftime(\"%m\")))\n",
    "yearnow = (z.strftime(\"%Y\"))\n",
    "yearint = (int(yearnow))-2000\n",
    "\n",
    "def hdateAnniv(dictr,vacalotLu,vacalotMg,payincLu):\n",
    "    for emp in dictr:\n",
    "        check = dictr[emp].annivCheck()\n",
    "        runcheck = yearint - int(dictr[emp].hireyear)\n",
    "        print(dictr[emp].first)\n",
    "        print(dictr[emp].position)\n",
    "        if dictr[emp].position[0]=='*' and check == True and int(dictr[emp].empnoyrs) < runcheck:\n",
    "            dictr[emp].empnoyrs = int(dictr[emp].empnoyrs) + 1\n",
    "            dictr[emp].vacremaining = int(dictr[emp].vacremaining) + vacalotMg\n",
    "            print('raise time')\n",
    "            print(f'{dictr[emp].first},{dictr[emp].empnoyrs}')\n",
    "        elif dictr[emp].position[0] != '*' and check == True and int(dictr[emp].empnoyrs) < runcheck:\n",
    "            dictr[emp].empnoyrs = int(dictr[emp].empnoyrs) + 1\n",
    "            dictr[emp].vacremaining = int(dictr[emp].vacremaining) + vacalotLu\n",
    "            print(dictr[emp].hourlypay)\n",
    "            dictr[emp].hourlypay = float(dictr[emp].hourlypay) + (float(payincLu))\n",
    "            print(dictr[emp].hourlypay)\n",
    "            print(f'{dictr[emp].first},{dictr[emp].yearlypay}')\n",
    "            dictr[emp].weeklypay = float(dictr[emp].hourlypay) * 40\n",
    "            dictr[emp].monthlypay = float(dictr[emp].hourlypay) * 160\n",
    "            dictr[emp].yearlypay = float(dictr[emp].hourlypay) * 2080\n",
    "            print('raise time')\n",
    "            print(f'{dictr[emp].first},{dictr[emp].empnoyrs}')\n",
    "            print(f'{dictr[emp].first},{dictr[emp].yearlypay}')\n",
    "        elif dictr[emp].position[0]=='*' and check == True and int(dictr[emp].empnoyrs) == runcheck:\n",
    "            print('Anniversary passed // raise applied manually')\n",
    "        elif check == True and int(dictr[emp].empnoyrs) == runcheck:\n",
    "            print('Anniversary passed // raise applied')\n",
    "        else:\n",
    "            print('not yet')\n",
    "\n",
    "hdateAnniv(obdict,10,15,1)"
   ]
  },
  {
   "cell_type": "code",
   "execution_count": 22,
   "metadata": {},
   "outputs": [
    {
     "name": "stdout",
     "output_type": "stream",
     "text": [
      "jason....acctnt\n",
      "sara....fdagnt\n",
      "john....fdagnt\n",
      "charles....*adeptmgr\n"
     ]
    }
   ],
   "source": [
    "for g in obdict:\n",
    "    print(f'{obdict[g].first}....{obdict[g].position}')"
   ]
  },
  {
   "cell_type": "code",
   "execution_count": 23,
   "metadata": {},
   "outputs": [
    {
     "data": {
      "text/plain": [
       "'*'"
      ]
     },
     "execution_count": 23,
     "metadata": {},
     "output_type": "execute_result"
    }
   ],
   "source": [
    "obdict['charlesbartowski'].position[0]"
   ]
  },
  {
   "cell_type": "code",
   "execution_count": 382,
   "metadata": {},
   "outputs": [
    {
     "data": {
      "text/plain": [
       "26.0"
      ]
     },
     "execution_count": 382,
     "metadata": {},
     "output_type": "execute_result"
    }
   ],
   "source": [
    "float('25.0') + 1"
   ]
  },
  {
   "cell_type": "code",
   "execution_count": 28,
   "metadata": {},
   "outputs": [
    {
     "name": "stdout",
     "output_type": "stream",
     "text": [
      "bailey,mary....FD / fdagnt\n",
      "baldwin,alec....sle / *adeptmgr\n",
      "banger,robin....pbx / oprtr\n",
      "bartowski,charles....FD / *adeptmgr\n",
      "bauer,jack....acct / acctnt\n",
      "bourne,jason....acct / acctnt\n",
      "bryant,todd....eng / engnr\n",
      "camp,peter....FD / drmn\n",
      "casey,john....FD / fdagnt\n",
      "cosent,greg....acct / *cntrller\n",
      "dean,justine....FD / fdagnt\n",
      "donaldson,michael....FD / bllmn\n",
      "driver,adam....sle / *deptsup\n",
      "franus,franco....FD / ntaud\n",
      "henderson,cole....pbx / oprtr\n",
      "hurts,jalen....sle / res\n",
      "jones,macgregor....sle / *res\n",
      "jones,jumpa....hsk / hseman\n",
      "jones,andrew....hsk / hskper\n",
      "okeyo,michael....FD / bllmn\n",
      "pengpang,thavone....hsk / hseman\n",
      "petty,luc....eng / engnr\n",
      "quizon,jose....FD / *ntmgr\n",
      "ren,kylo....FD / *deptmgr\n",
      "ridley,daisy....sle / *deptmgr\n",
      "roop,tony....acct / *asscntrller\n",
      "rudolf,chris....FD / *adeptmgr\n",
      "singer,marc....FD / fdagnt\n",
      "singh,paul....hsk / hskper\n",
      "smith,jumpa....hsk / hseman\n",
      "springer,jerry....hsk / hskper\n",
      "st.pierre,george....eng / engnr\n",
      "tuan,steff....FD / *adeptmgr\n",
      "velez,chris....FD / ntaud\n",
      "walker,sara....FD / fdagnt\n",
      "yes\n",
      "fdagnt\n",
      "{}\n",
      "yes\n",
      "{}\n",
      "{}\n",
      "{}\n",
      "yes\n",
      "*adeptmgr\n",
      "yes\n",
      "drmn\n",
      "{'marybailey': <__main__.Employeez object at 0x000001F364131148>}\n",
      "{}\n",
      "{}\n",
      "{}\n",
      "yes\n",
      "yes\n",
      "fdagnt\n",
      "{'marybailey': <__main__.Employeez object at 0x000001F364131148>}\n",
      "yes\n",
      "{}\n",
      "{}\n",
      "{'petercamp': <__main__.Employeez object at 0x000001F364131848>}\n",
      "yes\n",
      "fdagnt\n",
      "{'marybailey': <__main__.Employeez object at 0x000001F364131148>, 'johncasey': <__main__.Employeez object at 0x000001F364533F08>}\n",
      "yes\n",
      "{}\n",
      "{}\n",
      "{'petercamp': <__main__.Employeez object at 0x000001F364131848>}\n",
      "yes\n",
      "bllmn\n",
      "{'marybailey': <__main__.Employeez object at 0x000001F364131148>, 'johncasey': <__main__.Employeez object at 0x000001F364533F08>, 'justinedean': <__main__.Employeez object at 0x000001F364649948>}\n",
      "{}\n",
      "{}\n",
      "yes\n",
      "{'petercamp': <__main__.Employeez object at 0x000001F364131848>}\n",
      "yes\n",
      "ntaud\n",
      "{'marybailey': <__main__.Employeez object at 0x000001F364131148>, 'johncasey': <__main__.Employeez object at 0x000001F364533F08>, 'justinedean': <__main__.Employeez object at 0x000001F364649948>}\n",
      "{}\n",
      "yes\n",
      "{'michaeldonaldson': <__main__.Employeez object at 0x000001F364131748>}\n",
      "{'petercamp': <__main__.Employeez object at 0x000001F364131848>}\n",
      "yes\n",
      "bllmn\n",
      "{'marybailey': <__main__.Employeez object at 0x000001F364131148>, 'johncasey': <__main__.Employeez object at 0x000001F364533F08>, 'justinedean': <__main__.Employeez object at 0x000001F364649948>}\n",
      "{'francofranus': <__main__.Employeez object at 0x000001F364131B48>}\n",
      "{'michaeldonaldson': <__main__.Employeez object at 0x000001F364131748>}\n",
      "yes\n",
      "{'petercamp': <__main__.Employeez object at 0x000001F364131848>}\n",
      "yes\n",
      "*ntmgr\n",
      "yes\n",
      "*deptmgr\n",
      "yes\n",
      "*adeptmgr\n",
      "yes\n",
      "fdagnt\n",
      "{'marybailey': <__main__.Employeez object at 0x000001F364131148>, 'johncasey': <__main__.Employeez object at 0x000001F364533F08>, 'justinedean': <__main__.Employeez object at 0x000001F364649948>}\n",
      "yes\n",
      "{'francofranus': <__main__.Employeez object at 0x000001F364131B48>}\n",
      "{'michaeldonaldson': <__main__.Employeez object at 0x000001F364131748>, 'michaelokeyo': <__main__.Employeez object at 0x000001F364296208>}\n",
      "{'petercamp': <__main__.Employeez object at 0x000001F364131848>}\n",
      "yes\n",
      "*adeptmgr\n",
      "yes\n",
      "ntaud\n",
      "{'marybailey': <__main__.Employeez object at 0x000001F364131148>, 'johncasey': <__main__.Employeez object at 0x000001F364533F08>, 'justinedean': <__main__.Employeez object at 0x000001F364649948>, 'marcsinger': <__main__.Employeez object at 0x000001F364131D88>}\n",
      "{'francofranus': <__main__.Employeez object at 0x000001F364131B48>}\n",
      "yes\n",
      "{'michaeldonaldson': <__main__.Employeez object at 0x000001F364131748>, 'michaelokeyo': <__main__.Employeez object at 0x000001F364296208>}\n",
      "{'petercamp': <__main__.Employeez object at 0x000001F364131848>}\n",
      "yes\n",
      "fdagnt\n",
      "{'marybailey': <__main__.Employeez object at 0x000001F364131148>, 'johncasey': <__main__.Employeez object at 0x000001F364533F08>, 'justinedean': <__main__.Employeez object at 0x000001F364649948>, 'marcsinger': <__main__.Employeez object at 0x000001F364131D88>}\n",
      "yes\n",
      "{'francofranus': <__main__.Employeez object at 0x000001F364131B48>, 'chrisvelez': <__main__.Employeez object at 0x000001F364131EC8>}\n",
      "{'michaeldonaldson': <__main__.Employeez object at 0x000001F364131748>, 'michaelokeyo': <__main__.Employeez object at 0x000001F364296208>}\n",
      "{'petercamp': <__main__.Employeez object at 0x000001F364131848>}\n",
      "{'marybailey': <__main__.Employeez object at 0x000001F364131148>, 'charlesbartowski': <__main__.Employeez object at 0x000001F364131488>, 'petercamp': <__main__.Employeez object at 0x000001F364131848>, 'johncasey': <__main__.Employeez object at 0x000001F364533F08>, 'justinedean': <__main__.Employeez object at 0x000001F364649948>, 'michaeldonaldson': <__main__.Employeez object at 0x000001F364131748>, 'francofranus': <__main__.Employeez object at 0x000001F364131B48>, 'michaelokeyo': <__main__.Employeez object at 0x000001F364296208>, 'josequizon': <__main__.Employeez object at 0x000001F364131F08>, 'kyloren': <__main__.Employeez object at 0x000001F3641EBAC8>, 'chrisrudolf': <__main__.Employeez object at 0x000001F3641315C8>, 'marcsinger': <__main__.Employeez object at 0x000001F364131D88>, 'stefftuan': <__main__.Employeez object at 0x000001F364131E48>, 'chrisvelez': <__main__.Employeez object at 0x000001F364131EC8>, 'sarawalker': <__main__.Employeez object at 0x000001F36463F088>}\n",
      "{'marybailey': <__main__.Employeez object at 0x000001F364131148>, 'johncasey': <__main__.Employeez object at 0x000001F364533F08>, 'justinedean': <__main__.Employeez object at 0x000001F364649948>, 'marcsinger': <__main__.Employeez object at 0x000001F364131D88>, 'sarawalker': <__main__.Employeez object at 0x000001F36463F088>}\n",
      "{'charlesbartowski': <__main__.Employeez object at 0x000001F364131488>, 'josequizon': <__main__.Employeez object at 0x000001F364131F08>, 'kyloren': <__main__.Employeez object at 0x000001F3641EBAC8>, 'chrisrudolf': <__main__.Employeez object at 0x000001F3641315C8>, 'stefftuan': <__main__.Employeez object at 0x000001F364131E48>}\n",
      "48000.0\n",
      "48000.0\n",
      "48000.0\n"
     ]
    }
   ],
   "source": [
    "# this funct will create new dictio based on arrangement by last name\n",
    "hsk=['*deptmgr','*adeptmgr','*deptsup','hskper','hseman']\n",
    "FD=['*deptmgr','*adeptmgr','*ntmgr','deptsup','ntaud','fdagnt','bllmn','drmn']\n",
    "eng=['*deptmgr','*adeptmgr','*deptsup','engnr']\n",
    "pbx=['*deptmgr','*adeptmgr','*deptsup','oprtr']\n",
    "sle=['*deptmgr','*adeptmgr','*deptsup','res']\n",
    "acct=['*cntrller','*asscntrller','acctnt']\n",
    "\n",
    "\n",
    "\n",
    "hskper = {}\n",
    "hseman = {}\n",
    "\n",
    "oprtr = {}\n",
    "res = {}\n",
    "acct = {}\n",
    "\n",
    "frontdeskdict = {}\n",
    "fdMgmt = {}\n",
    "fdagnt = {}\n",
    "ntaud ={}\n",
    "bllmn = {}\n",
    "drmn = {}\n",
    "\n",
    "FDposDict=[fdagnt,ntaud,bllmn,drmn]\n",
    "FDposDictSTR=['fdagnt','ntaud','bllmn','drmn']\n",
    "\n",
    "\n",
    "def depsep(dep,dest,destA,destAstr,destB):\n",
    "    obd={key: value for key, value in sorted(obdict.items(), key=lambda item: item[1].last)}\n",
    "    for x in obd:\n",
    "        print(f'{obd[x].last},{obd[x].first}....{obd[x].dept} / {obd[x].position}')\n",
    "        if obd[x].dept == dep:\n",
    "            dest.update({obd[x].first+obd[x].last:obd[x]})\n",
    "        else:\n",
    "            pass\n",
    "    for y in dest:\n",
    "        print('yes')\n",
    "        print(dest[y].position)\n",
    "        if dest[y].position[0] == '*':\n",
    "            destB.update({dest[y].first+dest[y].last:dest[y]})\n",
    "        else:\n",
    "            for b in range (len(destA)):\n",
    "                print(str(destA[b]))\n",
    "                if dest[y].position == destAstr[b]:\n",
    "                    destA[b].update({dest[y].first+dest[y].last:dest[y]})\n",
    "                    print('yes')\n",
    "                else:\n",
    "                    pass\n",
    "            \n",
    "\n",
    "    \n",
    "    \n",
    "    \n",
    "\n",
    "        \n",
    "#     sampler = dict(zip(sortkey,sorter))\n",
    "#     ndict = {key: value for key, value in sorted(sampler.items(), key=lambda item: item[1].last)}   \n",
    "\n",
    "# def zipper(ndict):\n",
    "#     ndict = dict(zip(sortkey,sorter))\n",
    "    \n",
    "depsep('FD',frontdeskdict,FDposDict,FDposDictSTR,fdMgmt)\n",
    "print(frontdeskdict)\n",
    "print(fdagnt)\n",
    "\n",
    "print(fdMgmt)\n",
    "print(fdMgmt['charlesbartowski'].yearlypay)\n",
    "print(obdict['charlesbartowski'].yearlypay)\n",
    "print(frontdeskdict['charlesbartowski'].yearlypay)\n",
    "\n",
    "\n",
    "\n",
    "\n",
    "alphsortdept = {key: value for key, value in sorted(obdict.items(), key=lambda item: item[1].dept)}\n",
    "alphsortposition = {key: value for key, value in sorted(obdict.items(), key=lambda item: item[1].position)}\n",
    "\n",
    "\n",
    "\n",
    "\n",
    "\n",
    "\n",
    "\n",
    "numsortyearlypay = {key: value for key, value in sorted(obdict.items(), key=lambda item: int(float(item[1].yearlypay)))}\n",
    "numsorthdatecombo = {key: value for key, value in sorted(obdict.items(), key=lambda item: int(float(item[1].hdatecombo)))}\n",
    "numsortsicktaken = {key: value for key, value in sorted(obdict.items(), key=lambda item: int(item[1].sicktaken))}\n",
    "numsortperstaken = {key: value for key, value in sorted(obdict.items(), key=lambda item: int(item[1].perstaken))}\n",
    "numsortvactaken = {key: value for key, value in sorted(obdict.items(), key=lambda item: int(item[1].vactaken))}\n",
    "numsortsickremaining = {key: value for key, value in sorted(obdict.items(), key=lambda item: int(item[1].sickremaining))}\n",
    "numsortpersremaining = {key: value for key, value in sorted(obdict.items(), key=lambda item: int(item[1].persremaining))}\n",
    "numsortvacremaining = {key: value for key, value in sorted(obdict.items(), key=lambda item: int(item[1].vacremaining))}"
   ]
  },
  {
   "cell_type": "code",
   "execution_count": 29,
   "metadata": {},
   "outputs": [
    {
     "ename": "TypeError",
     "evalue": "'dict' object is not callable",
     "output_type": "error",
     "traceback": [
      "\u001b[1;31m---------------------------------------------------------------------------\u001b[0m",
      "\u001b[1;31mTypeError\u001b[0m                                 Traceback (most recent call last)",
      "\u001b[1;32m<ipython-input-29-c3b181e2f94e>\u001b[0m in \u001b[0;36m<module>\u001b[1;34m\u001b[0m\n\u001b[1;32m----> 1\u001b[1;33m \u001b[0mg\u001b[0m \u001b[1;33m=\u001b[0m \u001b[0malphsortlast\u001b[0m\u001b[1;33m(\u001b[0m\u001b[0mobdict\u001b[0m\u001b[1;33m)\u001b[0m\u001b[1;33m\u001b[0m\u001b[1;33m\u001b[0m\u001b[0m\n\u001b[0m\u001b[0;32m      2\u001b[0m \u001b[1;32mfor\u001b[0m \u001b[0mx\u001b[0m \u001b[1;32min\u001b[0m \u001b[0mg\u001b[0m\u001b[1;33m:\u001b[0m\u001b[1;33m\u001b[0m\u001b[1;33m\u001b[0m\u001b[0m\n\u001b[0;32m      3\u001b[0m     \u001b[0mprint\u001b[0m\u001b[1;33m(\u001b[0m\u001b[1;34mf'{obdict[x].last},{obdict[x].first}....{obdict[x].contel}\\n{obdict[x].address}\\n{obdict[x].city}, {obdict[x].state} {obdict[x].zipcode}\\n'\u001b[0m\u001b[1;33m)\u001b[0m\u001b[1;33m\u001b[0m\u001b[1;33m\u001b[0m\u001b[0m\n",
      "\u001b[1;31mTypeError\u001b[0m: 'dict' object is not callable"
     ]
    }
   ],
   "source": [
    "g = alphsortlast(obdict)\n",
    "for x in g:\n",
    "    print(f'{obdict[x].last},{obdict[x].first}....{obdict[x].contel}\\n{obdict[x].address}\\n{obdict[x].city}, {obdict[x].state} {obdict[x].zipcode}\\n')"
   ]
  },
  {
   "cell_type": "code",
   "execution_count": 30,
   "metadata": {},
   "outputs": [
    {
     "name": "stdout",
     "output_type": "stream",
     "text": [
      "walker,sara....FD / fdagnt\n",
      "casey,john....FD / fdagnt\n",
      "bartowski,charles....FD / *adeptmgr\n",
      "tuan,steff....FD / *adeptmgr\n",
      "rudolf,chris....FD / *adeptmgr\n",
      "ren,kylo....FD / *deptmgr\n",
      "okeyo,michael....FD / bllmn\n",
      "donaldson,michael....FD / bllmn\n",
      "camp,peter....FD / drmn\n",
      "dean,justine....FD / fdagnt\n",
      "bailey,mary....FD / fdagnt\n",
      "singer,marc....FD / fdagnt\n",
      "franus,franco....FD / ntaud\n",
      "velez,chris....FD / ntaud\n",
      "quizon,jose....FD / *ntmgr\n",
      "bourne,jason....acct / acctnt\n",
      "bauer,jack....acct / acctnt\n",
      "roop,tony....acct / *asscntrller\n",
      "cosent,greg....acct / *cntrller\n",
      "st.pierre,george....eng / engnr\n",
      "petty,luc....eng / engnr\n",
      "bryant,todd....eng / engnr\n",
      "smith,jumpa....hsk / hseman\n",
      "jones,jumpa....hsk / hseman\n",
      "pengpang,thavone....hsk / hseman\n",
      "singh,paul....hsk / hskper\n",
      "springer,jerry....hsk / hskper\n",
      "jones,andrew....hsk / hskper\n",
      "henderson,cole....pbx / oprtr\n",
      "banger,robin....pbx / oprtr\n",
      "jones,macgregor....sle / *res\n",
      "hurts,jalen....sle / res\n",
      "driver,adam....sle / *deptsup\n",
      "ridley,daisy....sle / *deptmgr\n",
      "baldwin,alec....sle / *adeptmgr\n",
      "{'sarawalker': <__main__.Employeez object at 0x000001F36463F088>, 'johncasey': <__main__.Employeez object at 0x000001F364533F08>, 'charlesbartowski': <__main__.Employeez object at 0x000001F364131488>, 'stefftuan': <__main__.Employeez object at 0x000001F364131E48>, 'chrisrudolf': <__main__.Employeez object at 0x000001F3641315C8>, 'kyloren': <__main__.Employeez object at 0x000001F3641EBAC8>, 'michaelokeyo': <__main__.Employeez object at 0x000001F364296208>, 'michaeldonaldson': <__main__.Employeez object at 0x000001F364131748>, 'petercamp': <__main__.Employeez object at 0x000001F364131848>, 'justinedean': <__main__.Employeez object at 0x000001F364649948>, 'marybailey': <__main__.Employeez object at 0x000001F364131148>, 'marcsinger': <__main__.Employeez object at 0x000001F364131D88>, 'francofranus': <__main__.Employeez object at 0x000001F364131B48>, 'chrisvelez': <__main__.Employeez object at 0x000001F364131EC8>, 'josequizon': <__main__.Employeez object at 0x000001F364131F08>}\n"
     ]
    }
   ],
   "source": [
    "ftdk = []\n",
    "ftdkKey = []\n",
    "ftdkdict = 0\n",
    "hskp = [] \n",
    "pbxx = []\n",
    "engi = []\n",
    "acot = []\n",
    "acotKey = []\n",
    "acotdict = 0\n",
    "sles = []\n",
    "\n",
    "for x in alphsortdept:\n",
    "    print(f'{obdict[x].last},{obdict[x].first}....{obdict[x].dept} / {obdict[x].position}')\n",
    "    if obdict[x].dept == 'FD':\n",
    "        ftdk.append(obdict[x])\n",
    "        ftdkKey.append(obdict[x].first+obdict[x].last)\n",
    "    elif obdict[x].dept == 'acct':\n",
    "        acot.append(obdict[x])\n",
    "        acotKey.append(obdict[x].first+obdict[x].last)\n",
    "    else:\n",
    "        pass\n",
    "    ftdkdict = dict(zip(ftdkKey,ftdk))\n",
    "    acotdict = dict(zip(acotKey,acot))\n",
    "print(ftdkdict) "
   ]
  },
  {
   "cell_type": "code",
   "execution_count": 31,
   "metadata": {},
   "outputs": [
    {
     "name": "stdout",
     "output_type": "stream",
     "text": [
      "['jasonbourne', 'sarawalker', 'johncasey', 'charlesbartowski', 'jackbauer', 'tonyroop', 'gregcosent', 'macgregorjones', 'jalenhurts', 'adamdriver', 'daisyridley', 'alecbaldwin', 'stefftuan', 'chrisrudolf', 'kyloren', 'michaelokeyo', 'michaeldonaldson', 'petercamp', 'justinedean', 'marybailey', 'marcsinger', 'francofranus', 'chrisvelez', 'josequizon', 'jumpasmith', 'jumpajones', 'thavonepengpang', 'paulsingh', 'jerryspringer', 'andrewjones', 'colehenderson', 'georgest.pierre', 'lucpetty', 'toddbryant', 'robinbanger']\n"
     ]
    }
   ],
   "source": [
    "\n",
    "noclistkey=[]\n",
    "for x in range(len(dictionaryhold)):\n",
    "    noclistkey.append(dictionaryhold[x]['first']+dictionaryhold[x]['last'])\n",
    "print(noclistkey)\n",
    "ftdk=dict(zip(noclistkey,noclist))\n"
   ]
  },
  {
   "cell_type": "code",
   "execution_count": 32,
   "metadata": {},
   "outputs": [
    {
     "name": "stdout",
     "output_type": "stream",
     "text": [
      "bourne\n"
     ]
    }
   ],
   "source": [
    "print(acotdict['jasonbourne'].last)"
   ]
  },
  {
   "cell_type": "code",
   "execution_count": 25,
   "metadata": {},
   "outputs": [
    {
     "name": "stdout",
     "output_type": "stream",
     "text": [
      "nope\n"
     ]
    }
   ],
   "source": [
    "x = '2'\n",
    "if x not in ('134'):\n",
    "    print('nope')\n",
    "else:\n",
    "    print('yes')"
   ]
  },
  {
   "cell_type": "code",
   "execution_count": null,
   "metadata": {},
   "outputs": [],
   "source": []
  },
  {
   "cell_type": "code",
   "execution_count": null,
   "metadata": {},
   "outputs": [],
   "source": []
  },
  {
   "cell_type": "code",
   "execution_count": null,
   "metadata": {},
   "outputs": [],
   "source": []
  }
 ],
 "metadata": {
  "kernelspec": {
   "display_name": "Python 3",
   "language": "python",
   "name": "python3"
  },
  "language_info": {
   "codemirror_mode": {
    "name": "ipython",
    "version": 3
   },
   "file_extension": ".py",
   "mimetype": "text/x-python",
   "name": "python",
   "nbconvert_exporter": "python",
   "pygments_lexer": "ipython3",
   "version": "3.7.6"
  }
 },
 "nbformat": 4,
 "nbformat_minor": 4
}
