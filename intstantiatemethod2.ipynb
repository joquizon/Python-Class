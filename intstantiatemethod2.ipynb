{
 "cells": [
  {
   "cell_type": "code",
   "execution_count": 1,
   "metadata": {},
   "outputs": [],
   "source": [
    "noclist = ['jasonbourne','sarawalker', 'johncasey', 'charlesbartowski']\n",
    "nocmemlist = [['jason', 'bourne', 'jabo', '987654321', '9876543211', '1 ultimatum st', 'helena', 'MT', '54321', '12', '08', '19', 'acct', 'acctnt', '31.25', '1250.0', '5000.0', '65000.0', '3', '-3', '2', '-2', '2', '-2'], ['1/2/20', '1/3/20', '1/4/20'], ['2/2/20', '2/3/20'], ['3/3/20', '3/4/20'],['sara', 'walker', 'yvonne', '123456789', '1234567890', '1 Bartowski lane', 'burbank', 'CA', '54321', '08', '02', '15', 'FD', 'fdagnt', '24.03846153846154', '961.5384615384615', '3846.153846153846', '50000.0', '1', '3', '4', '2', '4', '2'], ['0', '1/2/20'], ['0', '2/1/20', '2/2/20', '2/3/20', '2/4/20'], ['0', '4/1/20', '4/2/20', '4/3/20', '4/5/20'], ['john', 'casey', 'jc', '999999999', '1111111111', '2 buymoria blvd', 'burbank', 'CA', '44444', '03', '04', '17', 'FD', 'fdagnt', '25.0', '1000.0', '4000.0', '48000.0', '0', '0', '0', '0', '0', '0'], ['0'], ['0'], ['0'], ['charles', 'bartowski', 'chuck', '000000000', '9999999999', '2 buymoria lane', 'burbank', 'CA', '66333', '06', '26', '08', 'FD', '*adeptmgr', '25.0', '1000.0', '4000.0', '48000.0', '0', '0', '0', '0', '0', '0'], ['0'], ['0'], ['0']]\n",
    "dictionaryhold = []"
   ]
  },
  {
   "cell_type": "code",
   "execution_count": 2,
   "metadata": {},
   "outputs": [
    {
     "name": "stdout",
     "output_type": "stream",
     "text": [
      "employee <__main__.Employeez object at 0x00000165D30F8448> has been instantiated\n",
      "employee <__main__.Employeez object at 0x00000165D30F8488> has been instantiated\n",
      "employee <__main__.Employeez object at 0x00000165D3070A88> has been instantiated\n",
      "employee <__main__.Employeez object at 0x00000165D3070D88> has been instantiated\n",
      "[{'first': 'jason', 'last': 'bourne', 'nickname': 'jabo', 'social': '987654321', 'contel': '9876543211', 'address': '1 ultimatum st', 'zipcode': '54321', 'hiremonth': '12', 'hiredate': '08', 'hireyear': '19', 'dept': 'acct', 'position': 'acctnt', 'hourlypay': '31.25', 'weeklypay': '1250.0', 'monthlypay': '5000.0', 'yearlypay': '65000.0', 'sicktaken': '3', 'sickremaining': '-3', 'perstaken': '2', 'persremaining': '-2', 'vactaken': '2', 'vacremaining': '-2', 'sickdates': ['1/2/20', '1/3/20', '1/4/20'], 'persdates': ['2/2/20', '2/3/20'], 'vacdates': ['3/3/20', '3/4/20'], 'hdatecombo': 191208}, {'first': 'sara', 'last': 'walker', 'nickname': 'yvonne', 'social': '123456789', 'contel': '1234567890', 'address': '1 Bartowski lane', 'zipcode': '54321', 'hiremonth': '08', 'hiredate': '02', 'hireyear': '15', 'dept': 'FD', 'position': 'fdagnt', 'hourlypay': '24.03846153846154', 'weeklypay': '961.5384615384615', 'monthlypay': '3846.153846153846', 'yearlypay': '50000.0', 'sicktaken': '1', 'sickremaining': '3', 'perstaken': '4', 'persremaining': '2', 'vactaken': '4', 'vacremaining': '2', 'sickdates': ['0', '1/2/20'], 'persdates': ['0', '2/1/20', '2/2/20', '2/3/20', '2/4/20'], 'vacdates': ['0', '4/1/20', '4/2/20', '4/3/20', '4/5/20'], 'hdatecombo': 150802}, {'first': 'john', 'last': 'casey', 'nickname': 'jc', 'social': '999999999', 'contel': '1111111111', 'address': '2 buymoria blvd', 'zipcode': '44444', 'hiremonth': '03', 'hiredate': '04', 'hireyear': '17', 'dept': 'FD', 'position': 'fdagnt', 'hourlypay': '25.0', 'weeklypay': '1000.0', 'monthlypay': '4000.0', 'yearlypay': '48000.0', 'sicktaken': '0', 'sickremaining': '0', 'perstaken': '0', 'persremaining': '0', 'vactaken': '0', 'vacremaining': '0', 'sickdates': ['0'], 'persdates': ['0'], 'vacdates': ['0'], 'hdatecombo': 170304}, {'first': 'charles', 'last': 'bartowski', 'nickname': 'chuck', 'social': '000000000', 'contel': '9999999999', 'address': '2 buymoria lane', 'zipcode': '66333', 'hiremonth': '06', 'hiredate': '26', 'hireyear': '08', 'dept': 'FD', 'position': '*adeptmgr', 'hourlypay': '25.0', 'weeklypay': '1000.0', 'monthlypay': '4000.0', 'yearlypay': '48000.0', 'sicktaken': '0', 'sickremaining': '0', 'perstaken': '0', 'persremaining': '0', 'vactaken': '0', 'vacremaining': '0', 'sickdates': ['0'], 'persdates': ['0'], 'vacdates': ['0'], 'hdatecombo': 80626}]\n"
     ]
    }
   ],
   "source": [
    "class Employeez:\n",
    "    def __init__(self,first,last,nickname,social,contel,address,zipcode,hiremonth,hiredate,hireyear,dept,position,hourlypay,weeklypay,monthlypay,yearlypay,sicktaken,sickremaining,perstaken,persremaining,vactaken,vacremaining,sickdates,persdates,vacdates):\n",
    "        self.first = first\n",
    "        self.last = last\n",
    "        self.nickname = nickname\n",
    "        self.social = social\n",
    "        self.contel = contel\n",
    "        self.address = address\n",
    "        self.zipcode = zipcode \n",
    "        self.hiremonth = hiremonth     \n",
    "        self.hiredate = hiredate\n",
    "        self.hireyear = hireyear\n",
    "        self.dept = dept\n",
    "        self.position = position\n",
    "        self.hourlypay = hourlypay\n",
    "        self.weeklypay= weeklypay\n",
    "        self.monthlypay= monthlypay\n",
    "        self.yearlypay= yearlypay\n",
    "        self.sicktaken = sicktaken\n",
    "        self.sickremaining = sickremaining\n",
    "        self.perstaken = perstaken\n",
    "        self.persremaining = persremaining\n",
    "        self.vactaken = vactaken\n",
    "        self.vacremaining = vacremaining\n",
    "        self.sickdates = sickdates\n",
    "        self.persdates = persdates\n",
    "        self.vacdates = vacdates\n",
    "        self.hdatecombo = int(hireyear+hiremonth+hiredate)\n",
    "    \n",
    "    def insurancesetter(self):\n",
    "        if self.position[0] == '*':\n",
    "            print('United health care')\n",
    "        else:\n",
    "            print('Union insurance')\n",
    "        \n",
    "    \n",
    "    def addsickday(self):\n",
    "#         every 2 months this func runs\n",
    "        pass\n",
    "    def addpersday(self):\n",
    "#         every january first this func runs\n",
    "        pass\n",
    "\n",
    "        \n",
    "#employeecreate() takes the inputs so the emplyee is instantiated in the class\n",
    "def EmployeeCreate(nlist,nmlist,dhold):\n",
    "    for x in range(len(nlist)):\n",
    "        z = x * 4\n",
    "        first = nmlist[z][0]\n",
    "        last = nmlist[z][1] \n",
    "        nickname = nmlist[z][2] \n",
    "        social = nmlist[z][3] \n",
    "        contel = nmlist[z][4] \n",
    "        address = nmlist[z][5]\n",
    "        city =nmlist[z][6]\n",
    "        state =nmlist[z][7] \n",
    "        zipcode  = nmlist[z][8]\n",
    "        hiremonth = nmlist[z][9]\n",
    "        hiredate = nmlist[z][10]\n",
    "        hireyear = nmlist[z][11]\n",
    "        dept = nmlist[z][12]\n",
    "        position = nmlist[z][13]\n",
    "        hourlypay = nmlist[z][14]\n",
    "        weeklypay = nmlist[z][15]\n",
    "        monthlypay = nmlist[z][16]\n",
    "        yearlypay = nmlist[z][17]\n",
    "        sicktaken = nmlist[z][18]\n",
    "        sickremaining = nmlist[z][19]\n",
    "        perstaken = nmlist[z][20]\n",
    "        persremaining = nmlist[z][21]\n",
    "        vactaken = nmlist[z][22]\n",
    "        vacremaining = nmlist[z][23]\n",
    "        sickdates = nmlist[z+1]\n",
    "        persdates = nmlist[z+2]\n",
    "        vacdates = nmlist[z+3]\n",
    "        hdatecombo =nmlist[z][11]+hiremonth+nmlist[z][9]+nmlist[z][10]\n",
    "        \n",
    "        noclist[x] = Employeez(first,last,nickname,social,contel,address,zipcode,hiremonth,hiredate,hireyear,dept,position,hourlypay,weeklypay,monthlypay,yearlypay,sicktaken,sickremaining,perstaken,persremaining,vactaken,vacremaining,sickdates,persdates,vacdates)\n",
    "        print(f'employee {nlist[x]} has been instantiated')\n",
    "    for dt in range(len(noclist)):\n",
    "        dictionaryhold.append(noclist[dt].__dict__)\n",
    "    print(dictionaryhold)\n",
    "EmployeeCreate(noclist,nocmemlist,dictionaryhold)"
   ]
  },
  {
   "cell_type": "code",
   "execution_count": 3,
   "metadata": {},
   "outputs": [
    {
     "name": "stdout",
     "output_type": "stream",
     "text": [
      "08\n",
      "09\n",
      "2020\n",
      "20\n",
      "<class 'str'>\n",
      "<class 'str'>\n",
      "<class 'str'>\n",
      "<class 'str'>\n",
      "Rookie\n"
     ]
    }
   ],
   "source": [
    "        import datetime\n",
    "        z=datetime.datetime.now()\n",
    "        monthnow = (z.strftime(\"%m\"))\n",
    "        daynow = (z.strftime(\"%d\"))\n",
    "        yearnow = (z.strftime(\"%Y\"))\n",
    "        yeardbl = str((int(yearnow))-2000)\n",
    "        print (monthnow)\n",
    "        print (daynow)\n",
    "        print (yearnow)\n",
    "        print (yeardbl)\n",
    "        print (type(monthnow))\n",
    "        print (type(daynow))\n",
    "        print (type(yearnow))\n",
    "        print (type(yeardbl))\n",
    "        x = int(yeardbl+monthnow+daynow)\n",
    "        probie = 9600\n",
    "        if probie < 300:\n",
    "            print('Probation Period')\n",
    "        elif probie>300 and probie<10000:\n",
    "            print('Rookie')\n",
    "        elif probie>10000 and probie<30000:\n",
    "            print('Vet')\n",
    "        elif probie>30000 and probie<50000:\n",
    "            print('Bronze')\n",
    "        elif probie>50000 and probie<100000:\n",
    "            print('Silver')\n",
    "        else:\n",
    "            print('Gold')"
   ]
  },
  {
   "cell_type": "code",
   "execution_count": 12,
   "metadata": {},
   "outputs": [
    {
     "name": "stdout",
     "output_type": "stream",
     "text": [
      "sorry it is still 2020\n",
      "sorry it is still 2020\n",
      "same brah\n"
     ]
    }
   ],
   "source": [
    "    def yearcheck():\n",
    "        import datetime\n",
    "        z=datetime.datetime.now()\n",
    "        yearnow = (z.strftime(\"%Y\"))\n",
    "        yearint = (int(yearnow))-2000\n",
    "        \n",
    "        from cryptography.fernet import Fernet\n",
    "        fkey = open('testdocs/filekey.night','rb')\n",
    "        key = fkey.read()\n",
    "        cipher = Fernet(key)   \n",
    "        \n",
    "        with open('testdocs/yearstore.night','rb') as ys:\n",
    "            encryptedfileA = ys.read()\n",
    "        decrypted_fileA = cipher.decrypt(encryptedfileA)\n",
    "        yearstore = (decrypted_fileA.decode())\n",
    "        \n",
    "        if int(yearstore) == yearint:\n",
    "            print(f\"sorry it is still 20{yearint}\")\n",
    "        else:\n",
    "            print(f\"it is now the year 20{yearint}\")\n",
    "            \n",
    "            with open(f'testdocs\\\\yearstore.night',mode='w')as n:\n",
    "                n.write(f'{yearint}')  \n",
    "                print('files created!')\n",
    "                \n",
    "            yearstorefile= 'testdocs/yearstore.night'\n",
    "            with open(yearstorefile,'rb')as e:\n",
    "                yearstorefiletoencrypt = e.read()\n",
    "        \n",
    "            yearstoreencryptedfile = cipher.encrypt(yearstorefiletoencrypt) \n",
    "            with open(yearstorefile,'wb') as ee:\n",
    "                ee.write(yearstoreencryptedfile)\n",
    "                print('file encryted')\n",
    "                \n",
    "            return True\n",
    "    yearcheck()\n",
    "    \n",
    "    \n",
    "    def persadd():\n",
    "        nextyear = yearcheck()\n",
    "        if nextyear == True:\n",
    "            for key in obdict:\n",
    "                obdict[key].persremaining = int(obdict[key].persremaining) + 3\n",
    "                print(f'{obdict[key].first} has {obdict[key].persremaining} personal days')\n",
    "        else:\n",
    "            print('same brah')\n",
    "    \n",
    "    persadd()"
   ]
  },
  {
   "cell_type": "code",
   "execution_count": 4,
   "metadata": {},
   "outputs": [
    {
     "ename": "SyntaxError",
     "evalue": "invalid syntax (<ipython-input-4-6f5cbeef3cee>, line 6)",
     "output_type": "error",
     "traceback": [
      "\u001b[1;36m  File \u001b[1;32m\"<ipython-input-4-6f5cbeef3cee>\"\u001b[1;36m, line \u001b[1;32m6\u001b[0m\n\u001b[1;33m    yearint = (int(yearnow))-2000)\u001b[0m\n\u001b[1;37m                                 ^\u001b[0m\n\u001b[1;31mSyntaxError\u001b[0m\u001b[1;31m:\u001b[0m invalid syntax\n"
     ]
    }
   ],
   "source": [
    "    \n",
    "        import datetime\n",
    "        z=datetime.datetime.now()\n",
    "        monthnow = (z.strftime(\"%m\"))\n",
    "        daynow = (z.strftime(\"%d\"))\n",
    "        yearnow = (z.strftime(\"%Y\"))\n",
    "        yearint = (int(yearnow))-2000\n",
    "        monthint= int(monthnow)\n",
    "        dayint = int(daynow)\n",
    "        print (self.hdatecombo)\n",
    "        if self.hireyear < yearint:\n",
    "            if self.hiremonth > monthint:\n",
    "                self.vacremaining = int(self.vacremaining) + vacalot \n",
    "            elif self.hiremonth == monthint:\n",
    "                if self.hiredate <= dayint:\n",
    "                    self.vacremaining = int(self.vacremaining) + vacalot \n",
    "                else:\n",
    "                    print(f'{int(self.hiredate) - mayint} day(s) away from additional vacation time')        \n",
    "            else:\n",
    "                print(f'{int(self.hiremonth) - monthint} month(s) away from additional vacation time')\n",
    "        else:\n",
    "            print('next year')"
   ]
  },
  {
   "cell_type": "code",
   "execution_count": 6,
   "metadata": {},
   "outputs": [
    {
     "name": "stdout",
     "output_type": "stream",
     "text": [
      "['jasonbourne', 'sarawalker', 'johncasey', 'charlesbartowski']\n",
      "54321\n",
      "bourne\n",
      "walker\n",
      "casey\n",
      "bartowski\n",
      "walker, sara<FD//fdagnt>......1234567890\n",
      "casey, john<FD//fdagnt>......1111111111\n",
      "bartowski, charles<FD//*adeptmgr>......9999999999\n",
      "bourne, jason<acct//acctnt>......9876543211\n"
     ]
    }
   ],
   "source": [
    "obdict=0\n",
    "noclistkey=[]\n",
    "for x in range(len(dictionaryhold)):\n",
    "    noclistkey.append(dictionaryhold[x]['first']+dictionaryhold[x]['last'])\n",
    "print(noclistkey)\n",
    "obdict=dict(zip(noclistkey,noclist))\n",
    "\n",
    "print(obdict['jasonbourne'].zipcode)\n",
    "\n",
    "for key in obdict:\n",
    "    print(obdict[key].last)\n",
    "    \n",
    "directory=[]    \n",
    "\n",
    "alphsortfirst = {key: value for key, value in sorted(obdict.items(), key=lambda item: item[1].first)}\n",
    "alphsortlast = {key: value for key, value in sorted(obdict.items(), key=lambda item: item[1].last)}\n",
    "alphsortdept = {key: value for key, value in sorted(obdict.items(), key=lambda item: item[1].dept)}\n",
    "alphsortposition = {key: value for key, value in sorted(obdict.items(), key=lambda item: item[1].position)}\n",
    "\n",
    "\n",
    "\n",
    "\n",
    "for dirct in alphsortdept:\n",
    "    directory.append(str(f'{alphsortdept[dirct].last}, {alphsortdept[dirct].first}<{alphsortdept[dirct].dept}//{alphsortdept[dirct].position}>......{alphsortdept[dirct].contel}'))\n",
    "for ent in range(len(directory)):\n",
    "    print(directory[ent])"
   ]
  },
  {
   "cell_type": "code",
   "execution_count": 40,
   "metadata": {},
   "outputs": [
    {
     "name": "stdout",
     "output_type": "stream",
     "text": [
      "2400\n",
      "3200\n"
     ]
    },
    {
     "data": {
      "text/plain": [
       "2800"
      ]
     },
     "execution_count": 40,
     "metadata": {},
     "output_type": "execute_result"
    }
   ],
   "source": [
    "def func1(var1):\n",
    "    return var1+2\n",
    "def func1a(var1,var2):\n",
    "    x = func1(var1)\n",
    "    y = func1(var2)\n",
    "    print(x)\n",
    "    print(y)\n",
    "    print(x+y)\n",
    "a = 15*40*4\n",
    "b = 20*40*4\n",
    "\n",
    "print(a)\n",
    "print(b)\n",
    "(a+b)//2\n",
    "33600//12\n"
   ]
  },
  {
   "cell_type": "code",
   "execution_count": 41,
   "metadata": {},
   "outputs": [
    {
     "name": "stdout",
     "output_type": "stream",
     "text": [
      "48000.0\n",
      "48000.0\n",
      "50000.0\n",
      "65000.0\n"
     ]
    }
   ],
   "source": [
    "alphsortyearlypay = {key: value for key, value in sorted(obdict.items(), key=lambda item: int(float(item[1].yearlypay)))}\n",
    "\n",
    "for ent in alphsortyearlypay:\n",
    "    print(alphsortyearlypay[ent].yearlypay)"
   ]
  },
  {
   "cell_type": "code",
   "execution_count": 8,
   "metadata": {},
   "outputs": [
    {
     "name": "stdout",
     "output_type": "stream",
     "text": [
      "charles bartowski was hired\n",
      "06 - 26 - 08\n",
      "sara walker was hired\n",
      "08 - 02 - 15\n",
      "john casey was hired\n",
      "03 - 04 - 17\n",
      "jason bourne was hired\n",
      "12 - 08 - 19\n"
     ]
    }
   ],
   "source": [
    "numsorthdatecombo = {key: value for key, value in sorted(obdict.items(), key=lambda item: int(float(item[1].hdatecombo)))}\n",
    "\n",
    "for hdate in numsorthdatecombo:\n",
    "    print(f'{obdict[hdate].first} {obdict[hdate].last} was hired\\n{obdict[hdate].hiremonth} - {obdict[hdate].hiredate} - {obdict[hdate].hireyear}')"
   ]
  },
  {
   "cell_type": "code",
   "execution_count": 9,
   "metadata": {},
   "outputs": [
    {
     "name": "stdout",
     "output_type": "stream",
     "text": [
      "john casey\n",
      "  has taken 0 sick days0 days left\n",
      "charles bartowski\n",
      "  has taken 0 sick days0 days left\n",
      "sara walker\n",
      "  has taken 1 sick days3 days left\n",
      "jason bourne\n",
      "  has taken 3 sick days-3 days left\n"
     ]
    }
   ],
   "source": [
    "numsortsicktaken = {key: value for key, value in sorted(obdict.items(), key=lambda item: int(item[1].sicktaken))}\n",
    "for sicker in numsortsicktaken:\n",
    "    print(f'{numsortsicktaken[sicker].first} {numsortsicktaken[sicker].last}\\n  has taken {numsortsicktaken[sicker].sicktaken} sick days{numsortsicktaken[sicker].sickremaining} days left')"
   ]
  },
  {
   "cell_type": "code",
   "execution_count": 8,
   "metadata": {},
   "outputs": [
    {
     "name": "stdout",
     "output_type": "stream",
     "text": [
      "19\n"
     ]
    },
    {
     "ename": "AttributeError",
     "evalue": "'Employeez' object has no attribute 'addvacdays'",
     "output_type": "error",
     "traceback": [
      "\u001b[1;31m---------------------------------------------------------------------------\u001b[0m",
      "\u001b[1;31mAttributeError\u001b[0m                            Traceback (most recent call last)",
      "\u001b[1;32m<ipython-input-8-cca5bf39bb5b>\u001b[0m in \u001b[0;36m<module>\u001b[1;34m\u001b[0m\n\u001b[0;32m      1\u001b[0m \u001b[0mprint\u001b[0m\u001b[1;33m(\u001b[0m\u001b[0mobdict\u001b[0m\u001b[1;33m[\u001b[0m\u001b[1;34m'jasonbourne'\u001b[0m\u001b[1;33m]\u001b[0m\u001b[1;33m.\u001b[0m\u001b[0mhireyear\u001b[0m\u001b[1;33m)\u001b[0m\u001b[1;33m\u001b[0m\u001b[1;33m\u001b[0m\u001b[0m\n\u001b[1;32m----> 2\u001b[1;33m \u001b[0mobdict\u001b[0m\u001b[1;33m[\u001b[0m\u001b[1;34m'jasonbourne'\u001b[0m\u001b[1;33m]\u001b[0m\u001b[1;33m.\u001b[0m\u001b[0maddvacdays\u001b[0m\u001b[1;33m(\u001b[0m\u001b[1;36m10\u001b[0m\u001b[1;33m)\u001b[0m\u001b[1;33m\u001b[0m\u001b[1;33m\u001b[0m\u001b[0m\n\u001b[0m\u001b[0;32m      3\u001b[0m \u001b[1;33m\u001b[0m\u001b[0m\n\u001b[0;32m      4\u001b[0m \u001b[0mobdict\u001b[0m\u001b[1;33m[\u001b[0m\u001b[1;34m'johncasey'\u001b[0m\u001b[1;33m]\u001b[0m\u001b[1;33m.\u001b[0m\u001b[0memailgen\u001b[0m\u001b[1;33m(\u001b[0m\u001b[1;34m'themaritimehotel.com'\u001b[0m\u001b[1;33m)\u001b[0m\u001b[1;33m\u001b[0m\u001b[1;33m\u001b[0m\u001b[0m\n\u001b[0;32m      5\u001b[0m \u001b[0mobdict\u001b[0m\u001b[1;33m[\u001b[0m\u001b[1;34m'sarawalker'\u001b[0m\u001b[1;33m]\u001b[0m\u001b[1;33m.\u001b[0m\u001b[0memailgen\u001b[0m\u001b[1;33m(\u001b[0m\u001b[1;34m'themaritimehotel.com'\u001b[0m\u001b[1;33m)\u001b[0m\u001b[1;33m\u001b[0m\u001b[1;33m\u001b[0m\u001b[0m\n",
      "\u001b[1;31mAttributeError\u001b[0m: 'Employeez' object has no attribute 'addvacdays'"
     ]
    }
   ],
   "source": [
    "print(obdict['jasonbourne'].hireyear)\n",
    "obdict['jasonbourne'].addvacdays(10)\n",
    "\n",
    "obdict['johncasey'].emailgen('themaritimehotel.com')\n",
    "obdict['sarawalker'].emailgen('themaritimehotel.com')\n",
    "obdict['charlesbartowski'].emailgen('themaritimehotel.com')\n",
    "obdict['jasonbourne'].emailgen('themaritimehotel.com')"
   ]
  },
  {
   "cell_type": "code",
   "execution_count": 10,
   "metadata": {},
   "outputs": [
    {
     "data": {
      "text/plain": [
       "type"
      ]
     },
     "execution_count": 10,
     "metadata": {},
     "output_type": "execute_result"
    }
   ],
   "source": [
    "type(Employeez)"
   ]
  },
  {
   "cell_type": "code",
   "execution_count": 23,
   "metadata": {},
   "outputs": [
    {
     "data": {
      "text/plain": [
       "'0000'"
      ]
     },
     "execution_count": 23,
     "metadata": {},
     "output_type": "execute_result"
    }
   ],
   "source": [
    "a = '12340000'\n",
    "a[-4:]"
   ]
  },
  {
   "cell_type": "code",
   "execution_count": null,
   "metadata": {},
   "outputs": [],
   "source": [
    "def editlistloader(nlist,nmlist,dicthold):\n",
    "    nmlist.clear()\n",
    "    nlist.clear()\n",
    "    for x in range (len(dicthold)):\n",
    "        nmlist.append([])\n",
    "    print(nmlist)\n",
    "    newlistA=[]\n",
    "    for v in range(len(dicthold)):\n",
    "        nlist.append(dicthold[v]['first']+dicthold[v]['last'])\n",
    "        \n",
    "    for w in range(len(dicthold)):\n",
    "        newlistA.append(dicthold[w])\n",
    "        for k in (newlistA[w]):\n",
    "            nmlist[w].append(newlistA[w][k])\n",
    "\n",
    "            \n",
    "editlistloader(noclist,nocmemlist,dictionaryhold)\n",
    "\n",
    "print(nocmemlist)"
   ]
  }
 ],
 "metadata": {
  "kernelspec": {
   "display_name": "Python 3",
   "language": "python",
   "name": "python3"
  },
  "language_info": {
   "codemirror_mode": {
    "name": "ipython",
    "version": 3
   },
   "file_extension": ".py",
   "mimetype": "text/x-python",
   "name": "python",
   "nbconvert_exporter": "python",
   "pygments_lexer": "ipython3",
   "version": "3.7.6"
  }
 },
 "nbformat": 4,
 "nbformat_minor": 4
}
