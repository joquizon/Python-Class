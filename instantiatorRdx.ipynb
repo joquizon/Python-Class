{
 "cells": [
  {
   "cell_type": "code",
   "execution_count": 81,
   "metadata": {},
   "outputs": [],
   "source": [
    "noclist = []\n",
    "dataentered = ['jason', 'bourne', 'jabo', '987654321', '9876543211', '1 ultimatum st', 'helena', 'MT', '54321', '01', '01', '20', 'acct', 'acctnt', '31.25', '1250.0', '5000.0', '65000.0', '0', '0', '0', '0', '0', '0',['0'], ['0'], ['0']] \n",
    "nocmemlist = []\n",
    "dictionaryhold = []\n"
   ]
  },
  {
   "cell_type": "code",
   "execution_count": 82,
   "metadata": {},
   "outputs": [],
   "source": [
    "class EmpCla:\n",
    "    def __init__(self,first,last,nickname,social,contel,address,city,state,zipcode,hiremonth,hiredate,hireyear,dept,position,hourlypay,weeklypay,monthlypay,yearlypay,sicktaken,sickremaining,perstaken,persremaining,vactaken,vacremaining,sickdates,persdates,vacdates):\n",
    "        self.first = first\n",
    "        self.last = last\n",
    "        self.nickname = nickname\n",
    "        self.social = social\n",
    "        self.contel = contel\n",
    "        self.address = address\n",
    "        self.city = city\n",
    "        self.state = state\n",
    "        self.zipcode = zipcode \n",
    "        self.hiremonth = hiremonth     \n",
    "        self.hiredate = hiredate\n",
    "        self.hireyear = hireyear\n",
    "        self.dept = dept\n",
    "        self.position = position\n",
    "        self.hourlypay = hourlypay\n",
    "        self.weeklypay= weeklypay\n",
    "        self.monthlypay= monthlypay\n",
    "        self.yearlypay= yearlypay\n",
    "        self.sicktaken = sicktaken\n",
    "        self.sickremaining = sickremaining\n",
    "        self.perstaken = perstaken\n",
    "        self.persremaining = persremaining\n",
    "        self.vactaken = vactaken\n",
    "        self.vacremaining = vacremaining\n",
    "        self.sickdates = sickdates\n",
    "        self.persdates = persdates\n",
    "        self.vacdates = vacdates"
   ]
  },
  {
   "cell_type": "code",
   "execution_count": 83,
   "metadata": {},
   "outputs": [
    {
     "name": "stdout",
     "output_type": "stream",
     "text": [
      "employee jasonbourne has been instantiated\n",
      "[<__main__.EmpCla object at 0x00000216E50C7188>]\n"
     ]
    }
   ],
   "source": [
    "def EmployeeCreate(nlist,datetrd,dhold):\n",
    "    nlist.append(datetrd[0]+datetrd[1])\n",
    "    first = datetrd[0]\n",
    "    last = datetrd[1] \n",
    "    nickname = datetrd[2] \n",
    "    social = datetrd[3] \n",
    "    contel = datetrd[4] \n",
    "    address = datetrd[5]\n",
    "    city = datetrd[6]\n",
    "    state = datetrd[7] \n",
    "    zipcode  = datetrd[8]\n",
    "    hiremonth = datetrd[9]\n",
    "    hiredate = datetrd[10]\n",
    "    hireyear = datetrd[11]\n",
    "    dept = datetrd[12]\n",
    "    position = datetrd[13]\n",
    "    hourlypay = datetrd[14]\n",
    "    weeklypay = datetrd[15]\n",
    "    monthlypay = datetrd[16]\n",
    "    yearlypay = datetrd[17]\n",
    "    sicktaken = datetrd[18]\n",
    "    sickremaining = datetrd[19]\n",
    "    perstaken = datetrd[20]\n",
    "    persremaining = datetrd[21]\n",
    "    vactaken = datetrd[22]\n",
    "    vacremaining = datetrd[23]\n",
    "    sickdates = datetrd[24]\n",
    "    persdates = datetrd[25]\n",
    "    vacdates = datetrd[26]\n",
    "    for x in range(len(nlist)):\n",
    "        if first + last == nlist[x]:\n",
    "            nlist[x]= EmpCla(first,last,nickname,social,contel,address,city,state,zipcode,hiremonth,hiredate,hireyear,dept,position,hourlypay,weeklypay,monthlypay,yearlypay,sicktaken,sickremaining,perstaken,persremaining,vactaken,vacremaining,sickdates,persdates,vacdates)\n",
    "    dhold.append(nlist[x].__dict__)\n",
    "    print(f'employee {first + last} has been instantiated')\n",
    "    \n",
    "    \n",
    "EmployeeCreate(noclist,dataentered,dictionaryhold)\n",
    "print(noclist)"
   ]
  },
  {
   "cell_type": "code",
   "execution_count": 94,
   "metadata": {},
   "outputs": [
    {
     "ename": "AttributeError",
     "evalue": "'str' object has no attribute '__dict__'",
     "output_type": "error",
     "traceback": [
      "\u001b[1;31m---------------------------------------------------------------------------\u001b[0m",
      "\u001b[1;31mAttributeError\u001b[0m                            Traceback (most recent call last)",
      "\u001b[1;32m<ipython-input-94-9441a2eb7773>\u001b[0m in \u001b[0;36m<module>\u001b[1;34m\u001b[0m\n\u001b[0;32m      3\u001b[0m             \u001b[0mdhold\u001b[0m\u001b[1;33m.\u001b[0m\u001b[0mappend\u001b[0m\u001b[1;33m(\u001b[0m\u001b[0mnlist\u001b[0m\u001b[1;33m[\u001b[0m\u001b[0mdt\u001b[0m\u001b[1;33m]\u001b[0m\u001b[1;33m.\u001b[0m\u001b[0m__dict__\u001b[0m\u001b[1;33m)\u001b[0m\u001b[1;33m\u001b[0m\u001b[1;33m\u001b[0m\u001b[0m\n\u001b[0;32m      4\u001b[0m         \u001b[0mprint\u001b[0m\u001b[1;33m(\u001b[0m\u001b[0mdhold\u001b[0m\u001b[1;33m)\u001b[0m\u001b[1;33m\u001b[0m\u001b[1;33m\u001b[0m\u001b[0m\n\u001b[1;32m----> 5\u001b[1;33m \u001b[0mdictionaryloader\u001b[0m\u001b[1;33m(\u001b[0m\u001b[0mnoclist\u001b[0m\u001b[1;33m,\u001b[0m\u001b[0mdictionaryhold\u001b[0m\u001b[1;33m)\u001b[0m\u001b[1;33m\u001b[0m\u001b[1;33m\u001b[0m\u001b[0m\n\u001b[0m",
      "\u001b[1;32m<ipython-input-94-9441a2eb7773>\u001b[0m in \u001b[0;36mdictionaryloader\u001b[1;34m(nlist, dhold)\u001b[0m\n\u001b[0;32m      1\u001b[0m \u001b[1;32mdef\u001b[0m \u001b[0mdictionaryloader\u001b[0m\u001b[1;33m(\u001b[0m\u001b[0mnlist\u001b[0m\u001b[1;33m,\u001b[0m\u001b[0mdhold\u001b[0m\u001b[1;33m)\u001b[0m\u001b[1;33m:\u001b[0m\u001b[1;33m\u001b[0m\u001b[1;33m\u001b[0m\u001b[0m\n\u001b[0;32m      2\u001b[0m         \u001b[1;32mfor\u001b[0m \u001b[0mdt\u001b[0m \u001b[1;32min\u001b[0m \u001b[0mrange\u001b[0m\u001b[1;33m(\u001b[0m\u001b[0mlen\u001b[0m\u001b[1;33m(\u001b[0m\u001b[0mnlist\u001b[0m\u001b[1;33m)\u001b[0m\u001b[1;33m)\u001b[0m\u001b[1;33m:\u001b[0m\u001b[1;33m\u001b[0m\u001b[1;33m\u001b[0m\u001b[0m\n\u001b[1;32m----> 3\u001b[1;33m             \u001b[0mdhold\u001b[0m\u001b[1;33m.\u001b[0m\u001b[0mappend\u001b[0m\u001b[1;33m(\u001b[0m\u001b[0mnlist\u001b[0m\u001b[1;33m[\u001b[0m\u001b[0mdt\u001b[0m\u001b[1;33m]\u001b[0m\u001b[1;33m.\u001b[0m\u001b[0m__dict__\u001b[0m\u001b[1;33m)\u001b[0m\u001b[1;33m\u001b[0m\u001b[1;33m\u001b[0m\u001b[0m\n\u001b[0m\u001b[0;32m      4\u001b[0m         \u001b[0mprint\u001b[0m\u001b[1;33m(\u001b[0m\u001b[0mdhold\u001b[0m\u001b[1;33m)\u001b[0m\u001b[1;33m\u001b[0m\u001b[1;33m\u001b[0m\u001b[0m\n\u001b[0;32m      5\u001b[0m \u001b[0mdictionaryloader\u001b[0m\u001b[1;33m(\u001b[0m\u001b[0mnoclist\u001b[0m\u001b[1;33m,\u001b[0m\u001b[0mdictionaryhold\u001b[0m\u001b[1;33m)\u001b[0m\u001b[1;33m\u001b[0m\u001b[1;33m\u001b[0m\u001b[0m\n",
      "\u001b[1;31mAttributeError\u001b[0m: 'str' object has no attribute '__dict__'"
     ]
    }
   ],
   "source": [
    "def dictionaryloader(nlist,dhold):\n",
    "        for dt in range(len(nlist)):\n",
    "            dhold.append(nlist[dt].__dict__)\n",
    "        print(dhold)\n",
    "dictionaryloader(noclist,dictionaryhold)"
   ]
  },
  {
   "cell_type": "code",
   "execution_count": 92,
   "metadata": {},
   "outputs": [
    {
     "name": "stdout",
     "output_type": "stream",
     "text": [
      "[['jason', 'bourne', 'jabo', '987654321', '9876543211', '1 ultimatum st', 'helena', 'MT', '54321', '01', '01', '20', 'acct', 'acctnt', '31.25', '1250.0', '5000.0', '65000.0', '0', '0', '0', '0', '0', '0', ['0'], ['0'], ['0']]]\n"
     ]
    }
   ],
   "source": [
    "def editlistloader(nlist,nmlist,dhold):\n",
    "    nmlist.clear()\n",
    "    nlist.clear()\n",
    "    for x in range (len(dhold)):\n",
    "        nmlist.append([])\n",
    "    newlistA=[]\n",
    "    for v in range(len(dhold)):\n",
    "        nlist.append(dhold[v]['first']+dhold[v]['last'])\n",
    "        \n",
    "    for w in range(len(dhold)):\n",
    "        newlistA.append(dhold[w])\n",
    "        for k in (newlistA[w]):\n",
    "            nmlist[w].append(newlistA[w][k])\n",
    "            \n",
    "editlistloader(noclist,nocmemlist,dictionaryhold)\n",
    "print(nocmemlist)"
   ]
  },
  {
   "cell_type": "code",
   "execution_count": 93,
   "metadata": {},
   "outputs": [
    {
     "name": "stdout",
     "output_type": "stream",
     "text": [
      "['jasonbourne']\n"
     ]
    }
   ],
   "source": [
    "print(noclist)"
   ]
  },
  {
   "cell_type": "code",
   "execution_count": 90,
   "metadata": {},
   "outputs": [
    {
     "ename": "SyntaxError",
     "evalue": "invalid syntax (<ipython-input-90-04f0167bfd35>, line 1)",
     "output_type": "error",
     "traceback": [
      "\u001b[1;36m  File \u001b[1;32m\"<ipython-input-90-04f0167bfd35>\"\u001b[1;36m, line \u001b[1;32m1\u001b[0m\n\u001b[1;33m    __main__.EmpCla object at 0x00000216E50C7188\u001b[0m\n\u001b[1;37m                         ^\u001b[0m\n\u001b[1;31mSyntaxError\u001b[0m\u001b[1;31m:\u001b[0m invalid syntax\n"
     ]
    }
   ],
   "source": []
  },
  {
   "cell_type": "code",
   "execution_count": null,
   "metadata": {},
   "outputs": [],
   "source": []
  }
 ],
 "metadata": {
  "kernelspec": {
   "display_name": "Python 3",
   "language": "python",
   "name": "python3"
  },
  "language_info": {
   "codemirror_mode": {
    "name": "ipython",
    "version": 3
   },
   "file_extension": ".py",
   "mimetype": "text/x-python",
   "name": "python",
   "nbconvert_exporter": "python",
   "pygments_lexer": "ipython3",
   "version": "3.7.6"
  }
 },
 "nbformat": 4,
 "nbformat_minor": 4
}
