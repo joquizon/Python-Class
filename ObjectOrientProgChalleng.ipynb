{
 "cells": [
  {
   "cell_type": "code",
   "execution_count": 1,
   "metadata": {},
   "outputs": [],
   "source": [
    "class Account:\n",
    "    def __init__(self,owner,balance):\n",
    "        self.owner = owner\n",
    "        self.balance = balance\n",
    "        \n",
    "        print (f'Hi {owner}, welcome to Banco De Chico! You have a balance of {balance}.')\n",
    "    \n",
    "    \n",
    "    def dep(self,amt):\n",
    "        self.balance = self.balance + amt\n",
    "        print(f'Thanks for your deposit of {amt}, {self.owner}.Your current balance is {self.balance}')\n",
    "       \n",
    "    def withd(self,amt):\n",
    "        if amt < self.balance:\n",
    "            self.balance = self.balance - amt\n",
    "            print (f'Hi {self.owner}. You have made a withdrawal of {amt}, your new balance is {self.balance}')\n",
    "        else:\n",
    "            print ('Call yo mama, you outta money!')\n",
    "    def currbal(self):\n",
    "        self.balance\n",
    "        print (self.balance)\n",
    "        \n",
    "    def __int__(self):\n",
    "        return self.balance"
   ]
  },
  {
   "cell_type": "code",
   "execution_count": 2,
   "metadata": {},
   "outputs": [
    {
     "name": "stdout",
     "output_type": "stream",
     "text": [
      "Hi Jose, welcome to Banco De Chico! You have a balance of 100.\n"
     ]
    }
   ],
   "source": [
    "acct1= Account(\"Jose\",100)"
   ]
  },
  {
   "cell_type": "code",
   "execution_count": 3,
   "metadata": {},
   "outputs": [
    {
     "name": "stdout",
     "output_type": "stream",
     "text": [
      "100\n"
     ]
    }
   ],
   "source": [
    "acct1.currbal()"
   ]
  },
  {
   "cell_type": "code",
   "execution_count": 4,
   "metadata": {},
   "outputs": [
    {
     "name": "stdout",
     "output_type": "stream",
     "text": [
      "Thanks for your deposit of 3, Jose.Your current balance is 103\n"
     ]
    }
   ],
   "source": [
    "acct1.dep(3)"
   ]
  },
  {
   "cell_type": "code",
   "execution_count": 5,
   "metadata": {},
   "outputs": [
    {
     "name": "stdout",
     "output_type": "stream",
     "text": [
      "103\n"
     ]
    }
   ],
   "source": [
    "acct1.currbal()"
   ]
  },
  {
   "cell_type": "code",
   "execution_count": 6,
   "metadata": {},
   "outputs": [
    {
     "name": "stdout",
     "output_type": "stream",
     "text": [
      "Hi Jose. You have made a withdrawal of 50, your new balance is 53\n"
     ]
    }
   ],
   "source": [
    "acct1.withd(50)"
   ]
  },
  {
   "cell_type": "code",
   "execution_count": 7,
   "metadata": {},
   "outputs": [
    {
     "name": "stdout",
     "output_type": "stream",
     "text": [
      "53\n"
     ]
    }
   ],
   "source": [
    "acct1.currbal()"
   ]
  },
  {
   "cell_type": "code",
   "execution_count": 8,
   "metadata": {},
   "outputs": [
    {
     "name": "stdout",
     "output_type": "stream",
     "text": [
      "Call yo mama, you outta money!\n"
     ]
    }
   ],
   "source": [
    "acct1.withd(200)"
   ]
  },
  {
   "cell_type": "code",
   "execution_count": 20,
   "metadata": {},
   "outputs": [
    {
     "data": {
      "text/plain": [
       "50.5"
      ]
     },
     "execution_count": 20,
     "metadata": {},
     "output_type": "execute_result"
    }
   ],
   "source": [
    "acct1.__int__()"
   ]
  },
  {
   "cell_type": "code",
   "execution_count": 12,
   "metadata": {},
   "outputs": [
    {
     "name": "stdout",
     "output_type": "stream",
     "text": [
      "Hi Jose. You have made a withdrawal of 2.5, your new balance is 50.5\n"
     ]
    }
   ],
   "source": [
    "acct1.withd(2.50)"
   ]
  },
  {
   "cell_type": "code",
   "execution_count": null,
   "metadata": {},
   "outputs": [],
   "source": []
  },
  {
   "cell_type": "code",
   "execution_count": null,
   "metadata": {},
   "outputs": [],
   "source": []
  },
  {
   "cell_type": "code",
   "execution_count": null,
   "metadata": {},
   "outputs": [],
   "source": []
  }
 ],
 "metadata": {
  "kernelspec": {
   "display_name": "Python 3",
   "language": "python",
   "name": "python3"
  },
  "language_info": {
   "codemirror_mode": {
    "name": "ipython",
    "version": 3
   },
   "file_extension": ".py",
   "mimetype": "text/x-python",
   "name": "python",
   "nbconvert_exporter": "python",
   "pygments_lexer": "ipython3",
   "version": "3.7.6"
  }
 },
 "nbformat": 4,
 "nbformat_minor": 4
}
