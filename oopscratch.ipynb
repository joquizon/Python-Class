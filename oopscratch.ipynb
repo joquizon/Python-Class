{
 "cells": [
  {
   "cell_type": "code",
   "execution_count": null,
   "metadata": {},
   "outputs": [],
   "source": [
    "def paysetter():    \n",
    "        pay = (input('enter rate per hour or enter salary in 00.00 format: '))\n",
    "        if pay == '*':\n",
    "#             del dataentered[-1]\n",
    "            postsetter()\n",
    "        else:\n",
    "            while True:\n",
    "                try:\n",
    "                    payno = float(pay)\n",
    "                    paylist = len(pay)\n",
    "                    print(payno)\n",
    "                    print(paylist)\n",
    "                    if paylist>=5 and pay[2]=='.':\n",
    "                        weekly = payno*40\n",
    "                        monthly = weekly *4\n",
    "                        yearly = monthly *12\n",
    "                        print(f'gross pay weekly{weekly}')\n",
    "                        print(f'gross pay monthly{monthly}')\n",
    "                        print(f'gross pay yearly{yearly}')\n",
    "                    elif paylist>=8 and pay[5]=='.':\n",
    "                        weekly = payno/52\n",
    "                        monthly = weekly *4 \n",
    "                        yearly = payno\n",
    "                        print(f'gross pay weekly{weekly}')\n",
    "                        print(f'gross pay monthly{monthly}')\n",
    "                        print(f'gross pay yearly{yearly}')         \n",
    "                    elif paylist>=9 and pay[6]=='.':\n",
    "                        weekly = payno/52\n",
    "                        monthly = weekly *4 \n",
    "                        yearly = payno\n",
    "                        print(f'gross pay weekly{weekly}')\n",
    "                        print(f'gross pay monthly{monthly}')\n",
    "                        print(f'gross pay yearly{yearly}')  \n",
    "                    else:\n",
    "                        print('noooooope')\n",
    "                        paysetter()\n",
    "                except ValueError :\n",
    "                    print('Exceptumondo Dude! this thing just takes numbers!!!Try again!')\n",
    "                    paysetter()\n",
    "                    break\n",
    "                else:\n",
    "                    break \n",
    "\n",
    "def postsetter():\n",
    "    print('ok')\n",
    "paysetter()\n"
   ]
  },
  {
   "cell_type": "code",
   "execution_count": null,
   "metadata": {},
   "outputs": [],
   "source": [
    "xx = float('12.75')\n",
    "xx\n",
    "xx*1.3"
   ]
  },
  {
   "cell_type": "code",
   "execution_count": null,
   "metadata": {},
   "outputs": [],
   "source": [
    "def postsetter():\n",
    "    positionchoose= input(\"enter no. for position: \")\n",
    "    if positionchoose == '*':\n",
    "        del dataentered[-1]\n",
    "        depsetter()\n",
    "    while True:\n",
    "        try:\n",
    "            deptA = depset[0]\n",
    "            print(len(deptA))\n",
    "            choicer = (len(deptA))\n",
    "            positionchooser=int(positionchoose) \n",
    "            if positionchooser>=0 and positionchooser<choicer:\n",
    "                position = depset[0][positionchooser]\n",
    "                dataentered.append(position)\n",
    "                print(position)\n",
    "                paysetter()\n",
    "            else:\n",
    "                print('Please pick a Number from the choices+++++')\n",
    "                postsetter()\n",
    "        except ValueError:\n",
    "            print('Please pick a Number from the choices')\n",
    "            break\n",
    "            \n",
    "    while True:\n",
    "        try:\n",
    "            choose = int(input(\"which line: \"))\n",
    "        except:\n",
    "            print('Exceptumondo Dude! this thing just takes numbers!!!Try again!')\n",
    "        else:\n",
    "            break"
   ]
  },
  {
   "cell_type": "code",
   "execution_count": 1,
   "metadata": {},
   "outputs": [
    {
     "name": "stdout",
     "output_type": "stream",
     "text": [
      "8\n"
     ]
    }
   ],
   "source": [
    "x= len('60000.00')\n",
    "print(x)"
   ]
  },
  {
   "cell_type": "code",
   "execution_count": 4,
   "metadata": {},
   "outputs": [
    {
     "name": "stdout",
     "output_type": "stream",
     "text": [
      "['9/1/20', '9/2/20']\n",
      "2\n"
     ]
    }
   ],
   "source": [
    "\n",
    "\n",
    "sickdays=[]\n",
    "month= 9\n",
    "date = 1\n",
    "year = 20\n",
    "amt=2\n",
    "\n",
    "\n",
    "# this will 2 conditionals if month= (3o days or 31 days) and amt + date > 30 or 31  \n",
    "# then month +1 new variable and (amt + date)-31 or 30  new variable and dateB variable for new func will be 1 and loop\n",
    "# new loop copy will run\n",
    "\n",
    "for x in range (amt):\n",
    "    sickdays.append(f'{month}/{date+x}/{year}')\n",
    "count= len(sickdays)\n",
    "print(sickdays)\n",
    "print(count)"
   ]
  },
  {
   "cell_type": "code",
   "execution_count": null,
   "metadata": {},
   "outputs": [],
   "source": []
  }
 ],
 "metadata": {
  "kernelspec": {
   "display_name": "Python 3",
   "language": "python",
   "name": "python3"
  },
  "language_info": {
   "codemirror_mode": {
    "name": "ipython",
    "version": 3
   },
   "file_extension": ".py",
   "mimetype": "text/x-python",
   "name": "python",
   "nbconvert_exporter": "python",
   "pygments_lexer": "ipython3",
   "version": "3.7.6"
  }
 },
 "nbformat": 4,
 "nbformat_minor": 4
}
