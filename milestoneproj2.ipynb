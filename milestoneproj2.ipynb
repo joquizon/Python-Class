{
 "cells": [
  {
   "cell_type": "code",
   "execution_count": 253,
   "metadata": {},
   "outputs": [],
   "source": [
    "deck = ['Aspade','Aclub','Aheart','Adiamond','2spade','2club','2heart','2diamond','3spade','3club','3heart','3diamond','4spade','4club','4heart','4diamond','5spade','5club','5heart','5diamond','6spade','6club','6heart','6diamond','7spade','7club','7heart','7diamond','8spade','8club','8heart','8diamond','9spade','9club','9heart','9diamond','10spade','10club','10heart','10diamond','Jspade','Jclub','Jheart','Jdiamond','Qspade','Qclub','Qheart','Qdiamond','Kspade','Kclub','Kheart','Kdiamond']\n",
    "    \n",
    "p1=[]\n",
    "p1value=[]\n",
    "dealer=[]\n",
    "dealervalue[]\n",
    "def carddeal():\n",
    "    import random\n",
    "    decklen = len(deck)\n",
    "    pick = random.randint(0,decklen-1)\n",
    "    print(decklen)\n",
    "    print(pick)\n",
    "    print(deck[pick])\n",
    "    p1.append(deck[pick])\n",
    "    if(deck[pick][0]) == \"A\":\n",
    "        if sum(p1value)<11:\n",
    "            p1value.append(11)\n",
    "        else:\n",
    "            p1value.append(1)\n",
    "    elif(deck[pick][0]) == \"1\":\n",
    "        p1value.append(10)    \n",
    "    elif(deck[pick][0]) == \"J\":\n",
    "        p1value.append(10)\n",
    "    elif(deck[pick][0]) == \"Q\":\n",
    "        p1value.append(10)\n",
    "    elif(deck[pick][0]) == \"K\":\n",
    "        p1value.append(10)\n",
    "    else:\n",
    "        try:\n",
    "            v=int(deck[pick][0])\n",
    "            p1value.append(v)\n",
    "        except:\n",
    "            print('no v')\n",
    "    print(p1)\n",
    "    print(p1value)\n",
    "    deck.pop(pick)\n",
    "    print(deck)\n",
    "\n",
    "def Dcarddeal():\n",
    "    import random\n",
    "    decklen = len(deck)\n",
    "    pick = random.randint(0,decklen-1)\n",
    "    print(decklen)\n",
    "    print(pick)\n",
    "    print(deck[pick])\n",
    "    dealer.append(deck[pick])\n",
    "    if(deck[pick][0]) == \"A\":\n",
    "        if sum(dealervalue)<11:\n",
    "            dealervalue.append(11)\n",
    "        else:\n",
    "            dealervalue.append(1)\n",
    "    elif(deck[pick][0]) == \"1\":\n",
    "        dealervalue.append(10)    \n",
    "    elif(deck[pick][0]) == \"J\":\n",
    "        dealervalue.append(10)\n",
    "    elif(deck[pick][0]) == \"Q\":\n",
    "        dealervalue.append(10)\n",
    "    elif(deck[pick][0]) == \"K\":\n",
    "        dealervalue.append(10)\n",
    "    else:\n",
    "        try:\n",
    "            v=int(deck[pick][0])\n",
    "            dealervalue.append(v)\n",
    "        except:\n",
    "            print('no v')\n",
    "    print(dealer)\n",
    "    print(dealervalue)\n",
    "    deck.pop(pick)\n",
    "    print(deck)"
   ]
  },
  {
   "cell_type": "code",
   "execution_count": 306,
   "metadata": {},
   "outputs": [
    {
     "ename": "ValueError",
     "evalue": "empty range for randrange() (0,0, 0)",
     "output_type": "error",
     "traceback": [
      "\u001b[1;31m---------------------------------------------------------------------------\u001b[0m",
      "\u001b[1;31mValueError\u001b[0m                                Traceback (most recent call last)",
      "\u001b[1;32m<ipython-input-306-8b81bc562961>\u001b[0m in \u001b[0;36m<module>\u001b[1;34m\u001b[0m\n\u001b[1;32m----> 1\u001b[1;33m \u001b[0mcarddeal\u001b[0m\u001b[1;33m(\u001b[0m\u001b[1;33m)\u001b[0m\u001b[1;33m\u001b[0m\u001b[1;33m\u001b[0m\u001b[0m\n\u001b[0m",
      "\u001b[1;32m<ipython-input-253-4403284c27ec>\u001b[0m in \u001b[0;36mcarddeal\u001b[1;34m()\u001b[0m\n\u001b[0;32m      6\u001b[0m     \u001b[1;32mimport\u001b[0m \u001b[0mrandom\u001b[0m\u001b[1;33m\u001b[0m\u001b[1;33m\u001b[0m\u001b[0m\n\u001b[0;32m      7\u001b[0m     \u001b[0mdecklen\u001b[0m \u001b[1;33m=\u001b[0m \u001b[0mlen\u001b[0m\u001b[1;33m(\u001b[0m\u001b[0mdeck\u001b[0m\u001b[1;33m)\u001b[0m\u001b[1;33m\u001b[0m\u001b[1;33m\u001b[0m\u001b[0m\n\u001b[1;32m----> 8\u001b[1;33m     \u001b[0mpick\u001b[0m \u001b[1;33m=\u001b[0m \u001b[0mrandom\u001b[0m\u001b[1;33m.\u001b[0m\u001b[0mrandint\u001b[0m\u001b[1;33m(\u001b[0m\u001b[1;36m0\u001b[0m\u001b[1;33m,\u001b[0m\u001b[0mdecklen\u001b[0m\u001b[1;33m-\u001b[0m\u001b[1;36m1\u001b[0m\u001b[1;33m)\u001b[0m\u001b[1;33m\u001b[0m\u001b[1;33m\u001b[0m\u001b[0m\n\u001b[0m\u001b[0;32m      9\u001b[0m     \u001b[0mprint\u001b[0m\u001b[1;33m(\u001b[0m\u001b[0mdecklen\u001b[0m\u001b[1;33m)\u001b[0m\u001b[1;33m\u001b[0m\u001b[1;33m\u001b[0m\u001b[0m\n\u001b[0;32m     10\u001b[0m     \u001b[0mprint\u001b[0m\u001b[1;33m(\u001b[0m\u001b[0mpick\u001b[0m\u001b[1;33m)\u001b[0m\u001b[1;33m\u001b[0m\u001b[1;33m\u001b[0m\u001b[0m\n",
      "\u001b[1;32m~\\anaconda3\\lib\\random.py\u001b[0m in \u001b[0;36mrandint\u001b[1;34m(self, a, b)\u001b[0m\n\u001b[0;32m    220\u001b[0m         \"\"\"\n\u001b[0;32m    221\u001b[0m \u001b[1;33m\u001b[0m\u001b[0m\n\u001b[1;32m--> 222\u001b[1;33m         \u001b[1;32mreturn\u001b[0m \u001b[0mself\u001b[0m\u001b[1;33m.\u001b[0m\u001b[0mrandrange\u001b[0m\u001b[1;33m(\u001b[0m\u001b[0ma\u001b[0m\u001b[1;33m,\u001b[0m \u001b[0mb\u001b[0m\u001b[1;33m+\u001b[0m\u001b[1;36m1\u001b[0m\u001b[1;33m)\u001b[0m\u001b[1;33m\u001b[0m\u001b[1;33m\u001b[0m\u001b[0m\n\u001b[0m\u001b[0;32m    223\u001b[0m \u001b[1;33m\u001b[0m\u001b[0m\n\u001b[0;32m    224\u001b[0m     def _randbelow(self, n, int=int, maxsize=1<<BPF, type=type,\n",
      "\u001b[1;32m~\\anaconda3\\lib\\random.py\u001b[0m in \u001b[0;36mrandrange\u001b[1;34m(self, start, stop, step, _int)\u001b[0m\n\u001b[0;32m    198\u001b[0m             \u001b[1;32mreturn\u001b[0m \u001b[0mistart\u001b[0m \u001b[1;33m+\u001b[0m \u001b[0mself\u001b[0m\u001b[1;33m.\u001b[0m\u001b[0m_randbelow\u001b[0m\u001b[1;33m(\u001b[0m\u001b[0mwidth\u001b[0m\u001b[1;33m)\u001b[0m\u001b[1;33m\u001b[0m\u001b[1;33m\u001b[0m\u001b[0m\n\u001b[0;32m    199\u001b[0m         \u001b[1;32mif\u001b[0m \u001b[0mstep\u001b[0m \u001b[1;33m==\u001b[0m \u001b[1;36m1\u001b[0m\u001b[1;33m:\u001b[0m\u001b[1;33m\u001b[0m\u001b[1;33m\u001b[0m\u001b[0m\n\u001b[1;32m--> 200\u001b[1;33m             \u001b[1;32mraise\u001b[0m \u001b[0mValueError\u001b[0m\u001b[1;33m(\u001b[0m\u001b[1;34m\"empty range for randrange() (%d,%d, %d)\"\u001b[0m \u001b[1;33m%\u001b[0m \u001b[1;33m(\u001b[0m\u001b[0mistart\u001b[0m\u001b[1;33m,\u001b[0m \u001b[0mistop\u001b[0m\u001b[1;33m,\u001b[0m \u001b[0mwidth\u001b[0m\u001b[1;33m)\u001b[0m\u001b[1;33m)\u001b[0m\u001b[1;33m\u001b[0m\u001b[1;33m\u001b[0m\u001b[0m\n\u001b[0m\u001b[0;32m    201\u001b[0m \u001b[1;33m\u001b[0m\u001b[0m\n\u001b[0;32m    202\u001b[0m         \u001b[1;31m# Non-unit step argument supplied.\u001b[0m\u001b[1;33m\u001b[0m\u001b[1;33m\u001b[0m\u001b[1;33m\u001b[0m\u001b[0m\n",
      "\u001b[1;31mValueError\u001b[0m: empty range for randrange() (0,0, 0)"
     ]
    }
   ],
   "source": [
    "carddeal()"
   ]
  },
  {
   "cell_type": "code",
   "execution_count": 198,
   "metadata": {},
   "outputs": [
    {
     "ename": "SyntaxError",
     "evalue": "invalid token (<ipython-input-198-ed0e1db8715a>, line 1)",
     "output_type": "error",
     "traceback": [
      "\u001b[1;36m  File \u001b[1;32m\"<ipython-input-198-ed0e1db8715a>\"\u001b[1;36m, line \u001b[1;32m1\u001b[0m\n\u001b[1;33m    int(01)\u001b[0m\n\u001b[1;37m         ^\u001b[0m\n\u001b[1;31mSyntaxError\u001b[0m\u001b[1;31m:\u001b[0m invalid token\n"
     ]
    }
   ],
   "source": [
    "int(01)"
   ]
  },
  {
   "cell_type": "code",
   "execution_count": null,
   "metadata": {},
   "outputs": [],
   "source": [
    "p1 = ['1','2','2']\n",
    "\n",
    "for z in range(len(p1)):\n",
    "    if sum(int(p1))>10:\n",
    "        x = 11\n",
    "    else:\n",
    "        x = 1\n",
    "        print (x)"
   ]
  }
 ],
 "metadata": {
  "kernelspec": {
   "display_name": "Python 3",
   "language": "python",
   "name": "python3"
  },
  "language_info": {
   "codemirror_mode": {
    "name": "ipython",
    "version": 3
   },
   "file_extension": ".py",
   "mimetype": "text/x-python",
   "name": "python",
   "nbconvert_exporter": "python",
   "pygments_lexer": "ipython3",
   "version": "3.7.6"
  }
 },
 "nbformat": 4,
 "nbformat_minor": 4
}
