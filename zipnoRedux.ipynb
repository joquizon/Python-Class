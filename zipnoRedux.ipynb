{
 "cells": [
  {
   "cell_type": "code",
   "execution_count": 14,
   "metadata": {},
   "outputs": [
    {
     "ename": "AttributeError",
     "evalue": "'function' object has no attribute 'to_dict'",
     "output_type": "error",
     "traceback": [
      "\u001b[1;31m---------------------------------------------------------------------------\u001b[0m",
      "\u001b[1;31mAttributeError\u001b[0m                            Traceback (most recent call last)",
      "\u001b[1;32m<ipython-input-14-66674fa8f428>\u001b[0m in \u001b[0;36m<module>\u001b[1;34m\u001b[0m\n\u001b[0;32m      3\u001b[0m \u001b[0mdta\u001b[0m\u001b[1;33m=\u001b[0m\u001b[1;33m[\u001b[0m\u001b[1;33m]\u001b[0m\u001b[1;33m\u001b[0m\u001b[1;33m\u001b[0m\u001b[0m\n\u001b[0;32m      4\u001b[0m \u001b[0mx\u001b[0m \u001b[1;33m=\u001b[0m \u001b[1;36m35401\u001b[0m\u001b[1;33m\u001b[0m\u001b[1;33m\u001b[0m\u001b[0m\n\u001b[1;32m----> 5\u001b[1;33m \u001b[0mzipcode\u001b[0m \u001b[1;33m=\u001b[0m \u001b[0msearch\u001b[0m\u001b[1;33m.\u001b[0m\u001b[0mby_zipcode\u001b[0m\u001b[1;33m.\u001b[0m\u001b[0mto_dict\u001b[0m\u001b[1;33m(\u001b[0m\u001b[0mx\u001b[0m\u001b[1;33m)\u001b[0m\u001b[1;33m\u001b[0m\u001b[1;33m\u001b[0m\u001b[0m\n\u001b[0m\u001b[0;32m      6\u001b[0m \u001b[1;32mif\u001b[0m \u001b[1;32mTrue\u001b[0m\u001b[1;33m:\u001b[0m\u001b[1;33m\u001b[0m\u001b[1;33m\u001b[0m\u001b[0m\n\u001b[0;32m      7\u001b[0m   \u001b[0mprint\u001b[0m\u001b[1;33m(\u001b[0m\u001b[0mzipcode\u001b[0m\u001b[1;33m)\u001b[0m\u001b[1;33m\u001b[0m\u001b[1;33m\u001b[0m\u001b[0m\n",
      "\u001b[1;31mAttributeError\u001b[0m: 'function' object has no attribute 'to_dict'"
     ]
    }
   ],
   "source": [
    "  >>> from uszipcode import SearchEngine\n",
    ">>> search = SearchEngine(simple_zipcode=True) # set simple_zipcode=False to use rich info database\n",
    "dta=[]\n",
    "x = 35401\n",
    "zipcode = search.by_zipcode.to_dict(x)\n",
    "if True:\n",
    "    print(zipcode)\n",
    "else:\n",
    "    print('wrong')"
   ]
  },
  {
   "cell_type": "code",
   "execution_count": 1,
   "metadata": {},
   "outputs": [
    {
     "name": "stdout",
     "output_type": "stream",
     "text": [
      "enter zip code in 12345 format pls: 13501\n",
      "[[{'zip_code': '13501', 'zip_code_type': 'STANDARD', 'active': True, 'city': 'Utica', 'acceptable_cities': [], 'unacceptable_cities': [], 'state': 'NY', 'county': 'Oneida County', 'timezone': 'America/New_York', 'area_codes': ['315'], 'world_region': 'NA', 'country': 'US', 'lat': '43.0744', 'long': '-75.2342'}]]\n",
      "[0, 0, 0, 0, 0, 0, 'Utica', 'NY', '13501', 0, 0, 0]\n"
     ]
    }
   ],
   "source": [
    "datalist = [0,0,0,0,0,0,0,0,0,0,0,0]\n",
    "\n",
    "def zipno(list):\n",
    "    zipnomi = (input('enter zip code in 12345 format pls: '))\n",
    "    if zipnomi == 'state':\n",
    "        pass\n",
    "    else:\n",
    "        while True:\n",
    "            try:\n",
    "                ziplist = len(str(zipnomi))\n",
    "                if ziplist == 5:\n",
    "                    zipper =[0]\n",
    "                    from pprint import pprint\n",
    "                    import zipcodes\n",
    "                    zipper[0] = (zipcodes.matching(zipnomi))\n",
    "                    if len(zipper[0]) == 0:\n",
    "                        print('not there try again')\n",
    "                        zipno(list)\n",
    "                    else:\n",
    "                        print (zipper)\n",
    "                        list[8] = zipper[0][0]['zip_code']\n",
    "                        list[7] = zipper[0][0]['state']\n",
    "                        list[6] = zipper[0][0]['city']\n",
    "                else:\n",
    "                    print('nooooo')\n",
    "                    zipno(list)\n",
    "            except ValueError :\n",
    "                print('Exceptumondo Dude! this thing just takes numbers!!!Try again!')\n",
    "                zipno(list)\n",
    "                break\n",
    "            else:\n",
    "                break\n",
    "    \n",
    "    \n",
    "    \n",
    "    \n",
    "    \n",
    "    \n",
    "    \n",
    "    \n",
    "    \n",
    "    \n",
    "    \n",
    "    \n",
    "    \n",
    "zipno(datalist)\n",
    "print(datalist)"
   ]
  },
  {
   "cell_type": "code",
   "execution_count": 30,
   "metadata": {},
   "outputs": [
    {
     "data": {
      "text/plain": [
       "0"
      ]
     },
     "execution_count": 30,
     "metadata": {},
     "output_type": "execute_result"
    }
   ],
   "source": [
    "len(zipper[0])\n"
   ]
  },
  {
   "cell_type": "code",
   "execution_count": null,
   "metadata": {},
   "outputs": [],
   "source": []
  }
 ],
 "metadata": {
  "kernelspec": {
   "display_name": "Python 3",
   "language": "python",
   "name": "python3"
  },
  "language_info": {
   "codemirror_mode": {
    "name": "ipython",
    "version": 3
   },
   "file_extension": ".py",
   "mimetype": "text/x-python",
   "name": "python",
   "nbconvert_exporter": "python",
   "pygments_lexer": "ipython3",
   "version": "3.7.6"
  }
 },
 "nbformat": 4,
 "nbformat_minor": 4
}
