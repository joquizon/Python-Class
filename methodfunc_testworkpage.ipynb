{
 "cells": [
  {
   "cell_type": "code",
   "execution_count": 9,
   "metadata": {},
   "outputs": [],
   "source": [
    "def lesser_of_two_evens(a,b):\n",
    "    if a%2==0 and b%2==0:\n",
    "        if a>b:\n",
    "            return b\n",
    "        else:\n",
    "            return a\n",
    "    if a%2!=0 or a%2==0 or b%2 != 0 or b%2==0:\n",
    "        if a>b:\n",
    "            return a\n",
    "        else:\n",
    "            return b"
   ]
  },
  {
   "cell_type": "code",
   "execution_count": 10,
   "metadata": {},
   "outputs": [
    {
     "data": {
      "text/plain": [
       "19"
      ]
     },
     "execution_count": 10,
     "metadata": {},
     "output_type": "execute_result"
    }
   ],
   "source": [
    "lesser_of_two_evens(2,19)"
   ]
  },
  {
   "cell_type": "code",
   "execution_count": 17,
   "metadata": {},
   "outputs": [],
   "source": [
    "nutext=(\"dude awesome\").split()"
   ]
  },
  {
   "cell_type": "code",
   "execution_count": 14,
   "metadata": {},
   "outputs": [
    {
     "data": {
      "text/plain": [
       "['dude', 'awesome']"
      ]
     },
     "execution_count": 14,
     "metadata": {},
     "output_type": "execute_result"
    }
   ],
   "source": [
    "nutext"
   ]
  },
  {
   "cell_type": "code",
   "execution_count": 15,
   "metadata": {},
   "outputs": [
    {
     "data": {
      "text/plain": [
       "'dude'"
      ]
     },
     "execution_count": 15,
     "metadata": {},
     "output_type": "execute_result"
    }
   ],
   "source": [
    "nutext[0]"
   ]
  },
  {
   "cell_type": "code",
   "execution_count": 16,
   "metadata": {},
   "outputs": [
    {
     "data": {
      "text/plain": [
       "'d'"
      ]
     },
     "execution_count": 16,
     "metadata": {},
     "output_type": "execute_result"
    }
   ],
   "source": [
    "nutext[0][0]"
   ]
  },
  {
   "cell_type": "code",
   "execution_count": 24,
   "metadata": {},
   "outputs": [],
   "source": [
    "def animal_crackers(text):\n",
    "    nutext=text.split()\n",
    "    return nutext[0][0]==nutext[1][0]\n",
    "    "
   ]
  },
  {
   "cell_type": "code",
   "execution_count": 26,
   "metadata": {},
   "outputs": [
    {
     "data": {
      "text/plain": [
       "True"
      ]
     },
     "execution_count": 26,
     "metadata": {},
     "output_type": "execute_result"
    }
   ],
   "source": [
    "animal_crackers(\"dude dope\")"
   ]
  },
  {
   "cell_type": "code",
   "execution_count": 31,
   "metadata": {},
   "outputs": [],
   "source": [
    "def makes_twenty(n1,n2):\n",
    "    return n1+n2 == 20 or n1 == 20 or n2 == 20"
   ]
  },
  {
   "cell_type": "code",
   "execution_count": 34,
   "metadata": {},
   "outputs": [
    {
     "data": {
      "text/plain": [
       "True"
      ]
     },
     "execution_count": 34,
     "metadata": {},
     "output_type": "execute_result"
    }
   ],
   "source": [
    "makes_twenty(13,20)"
   ]
  },
  {
   "cell_type": "code",
   "execution_count": 189,
   "metadata": {},
   "outputs": [],
   "source": [
    "def old_macdonald(name):\n",
    "    x = name[:3].capitalize()\n",
    "    y = name[3:].capitalize()\n",
    "    return x+y\n",
    "    "
   ]
  },
  {
   "cell_type": "code",
   "execution_count": 190,
   "metadata": {},
   "outputs": [
    {
     "data": {
      "text/plain": [
       "'JosEreginaldo'"
      ]
     },
     "execution_count": 190,
     "metadata": {},
     "output_type": "execute_result"
    }
   ],
   "source": [
    "old_macdonald('josereginaldo')"
   ]
  },
  {
   "cell_type": "code",
   "execution_count": 149,
   "metadata": {},
   "outputs": [],
   "source": [
    "name = 'chico'"
   ]
  },
  {
   "cell_type": "code",
   "execution_count": 150,
   "metadata": {},
   "outputs": [
    {
     "data": {
      "text/plain": [
       "'CC'"
      ]
     },
     "execution_count": 150,
     "metadata": {},
     "output_type": "execute_result"
    }
   ],
   "source": [
    "str.upper(name [0::3])"
   ]
  },
  {
   "cell_type": "code",
   "execution_count": 388,
   "metadata": {},
   "outputs": [],
   "source": [
    "def old_macdonald(name):\n",
    "   if len(name)>3:\n",
    "    x=name[:3].capitalize()\n",
    "    y=name[3:].capitalize()\n",
    "    return x+y\n",
    "   else:\n",
    "        return \"name too short b'!\""
   ]
  },
  {
   "cell_type": "code",
   "execution_count": 389,
   "metadata": {},
   "outputs": [
    {
     "data": {
      "text/plain": [
       "\"name too short b'!\""
      ]
     },
     "execution_count": 389,
     "metadata": {},
     "output_type": "execute_result"
    }
   ],
   "source": [
    "old_macdonald('jo')"
   ]
  },
  {
   "cell_type": "code",
   "execution_count": 404,
   "metadata": {},
   "outputs": [],
   "source": [
    "def master_yoda(text):\n",
    "    x= text.split()\n",
    "    y= x [::-1]\n",
    "    z= \" \".join(y)\n",
    "    return z"
   ]
  },
  {
   "cell_type": "code",
   "execution_count": 406,
   "metadata": {},
   "outputs": [
    {
     "data": {
      "text/plain": [
       "'home are we'"
      ]
     },
     "execution_count": 406,
     "metadata": {},
     "output_type": "execute_result"
    }
   ],
   "source": [
    "master_yoda('we are home')"
   ]
  },
  {
   "cell_type": "code",
   "execution_count": 415,
   "metadata": {},
   "outputs": [],
   "source": [
    "def almost_there(n):\n",
    "    if n<90 or n>110 and n<190 or n>210:\n",
    "        return False\n",
    "    else:\n",
    "        return True\n",
    "        \n",
    "        "
   ]
  },
  {
   "cell_type": "code",
   "execution_count": 428,
   "metadata": {},
   "outputs": [
    {
     "data": {
      "text/plain": [
       "False"
      ]
     },
     "execution_count": 428,
     "metadata": {},
     "output_type": "execute_result"
    }
   ],
   "source": [
    "almost_there(211)"
   ]
  },
  {
   "cell_type": "code",
   "execution_count": 429,
   "metadata": {},
   "outputs": [],
   "source": [
    "def has_33(nums):\n",
    "    for i in range(0,len(nums)-1):\n",
    "        if x[i]==3 and x[i+1]==3:\n",
    "            return True"
   ]
  },
  {
   "cell_type": "code",
   "execution_count": 98,
   "metadata": {},
   "outputs": [],
   "source": [
    "def nufunc(x):\n",
    "    nulist= \"\"\n",
    "    for y in range(len(x)):\n",
    "        if y % 2:\n",
    "            nulist= nulist+x[y].upper()\n",
    "        else:\n",
    "             nulist= nulist+x[y].lower()\n",
    "            \n",
    "    return nulist"
   ]
  },
  {
   "cell_type": "code",
   "execution_count": 99,
   "metadata": {},
   "outputs": [
    {
     "data": {
      "text/plain": [
       "'aNtHrOpOmOrPhIsM'"
      ]
     },
     "execution_count": 99,
     "metadata": {},
     "output_type": "execute_result"
    }
   ],
   "source": [
    "nufunc('anthropomorphism')"
   ]
  },
  {
   "cell_type": "code",
   "execution_count": 100,
   "metadata": {},
   "outputs": [],
   "source": [
    "def paper_doll(text):\n",
    "    tripword=\"\"\n",
    "    for y in range(len(text)):\n",
    "        tripword= tripword+text[y]*3\n",
    "    return tripword"
   ]
  },
  {
   "cell_type": "code",
   "execution_count": 102,
   "metadata": {},
   "outputs": [
    {
     "data": {
      "text/plain": [
       "'hhheeellllllooo'"
      ]
     },
     "execution_count": 102,
     "metadata": {},
     "output_type": "execute_result"
    }
   ],
   "source": [
    "paper_doll('hello')"
   ]
  },
  {
   "cell_type": "code",
   "execution_count": 181,
   "metadata": {},
   "outputs": [],
   "source": [
    "def blackjack(a,b,c):\n",
    "    if 0<a<=11 and 0<b<=11 and 0<c<=11:\n",
    "        x = a+b+c\n",
    "        if x<=21:\n",
    "            return x\n",
    "        elif x>21 and a/11==1 or b/11==1 or c/11==1 and x-10<21:\n",
    "            if x-10 > 21:\n",
    "                return 'BUST'\n",
    "            else:\n",
    "                return x-10\n",
    "        else:\n",
    "            return 'BUST'\n",
    "        \n",
    "    else:\n",
    "        return \"yor numbaz were veribad\""
   ]
  },
  {
   "cell_type": "code",
   "execution_count": 185,
   "metadata": {},
   "outputs": [
    {
     "data": {
      "text/plain": [
       "'yor numbaz were veribad'"
      ]
     },
     "execution_count": 185,
     "metadata": {},
     "output_type": "execute_result"
    }
   ],
   "source": [
    "blackjack(11,2,12)"
   ]
  },
  {
   "cell_type": "code",
   "execution_count": 183,
   "metadata": {},
   "outputs": [
    {
     "data": {
      "text/plain": [
       "17"
      ]
     },
     "execution_count": 183,
     "metadata": {},
     "output_type": "execute_result"
    }
   ],
   "source": [
    "blackjack(11,11,5)"
   ]
  },
  {
   "cell_type": "code",
   "execution_count": 184,
   "metadata": {},
   "outputs": [
    {
     "data": {
      "text/plain": [
       "19"
      ]
     },
     "execution_count": 184,
     "metadata": {},
     "output_type": "execute_result"
    }
   ],
   "source": [
    "blackjack(9,9,11)"
   ]
  },
  {
   "cell_type": "code",
   "execution_count": 863,
   "metadata": {},
   "outputs": [],
   "source": [
    "\n",
    "def summer_69(arr):\n",
    "    nulist=[]\n",
    "    deadlist=[]\n",
    "    for y in range(len(arr)):\n",
    "        if arr[y]==9:\n",
    "            deadlist.append(y)\n",
    "        if arr[y]==6:\n",
    "            deadlist.append(y)\n",
    "    if sum(deadlist)==0:\n",
    "        return sum(arr)\n",
    "    d = deadlist[0]\n",
    "    e = deadlist[1]\n",
    "\n",
    "#deadlist contains positions of 6 and 9\n",
    "    for z in range(len(arr)):\n",
    "        g=len(arr)-1\n",
    "        if z < d or z>e:\n",
    "                nulist.append(arr[z])\n",
    "\n",
    "    else:\n",
    "        return sum(nulist)\n"
   ]
  },
  {
   "cell_type": "code",
   "execution_count": 864,
   "metadata": {},
   "outputs": [
    {
     "data": {
      "text/plain": [
       "9"
      ]
     },
     "execution_count": 864,
     "metadata": {},
     "output_type": "execute_result"
    }
   ],
   "source": [
    "summer_69([4, 5, 6, 7, 8, 9])\n"
   ]
  },
  {
   "cell_type": "code",
   "execution_count": 865,
   "metadata": {},
   "outputs": [
    {
     "data": {
      "text/plain": [
       "14"
      ]
     },
     "execution_count": 865,
     "metadata": {},
     "output_type": "execute_result"
    }
   ],
   "source": [
    "summer_69([2, 1, 6, 9, 11])"
   ]
  },
  {
   "cell_type": "code",
   "execution_count": 866,
   "metadata": {},
   "outputs": [
    {
     "data": {
      "text/plain": [
       "9"
      ]
     },
     "execution_count": 866,
     "metadata": {},
     "output_type": "execute_result"
    }
   ],
   "source": [
    "summer_69([1, 3, 5])"
   ]
  },
  {
   "cell_type": "code",
   "execution_count": 926,
   "metadata": {},
   "outputs": [],
   "source": [
    "def spy_game(nums):\n",
    "    nulist=[]\n",
    "    deadlist=[]\n",
    "    for y in range(len(nums)):\n",
    "        if nums[y]==0:\n",
    "            deadlist.append(y)\n",
    "        if nums[y]==7:\n",
    "            deadlist.append(y)\n",
    "    print(deadlist)\n",
    "    d = deadlist[0]\n",
    "    e = deadlist[1]\n",
    "    for x in range(len(nums)):\n",
    "        if nums[d]==0 and nums[e]==0:\n",
    "            return True\n",
    "        else:\n",
    "            return False"
   ]
  },
  {
   "cell_type": "code",
   "execution_count": 927,
   "metadata": {},
   "outputs": [
    {
     "name": "stdout",
     "output_type": "stream",
     "text": [
      "[1, 3, 6]\n"
     ]
    },
    {
     "data": {
      "text/plain": [
       "False"
      ]
     },
     "execution_count": 927,
     "metadata": {},
     "output_type": "execute_result"
    }
   ],
   "source": [
    "spy_game([1,7,2,0,4,5,0])"
   ]
  },
  {
   "cell_type": "code",
   "execution_count": 1109,
   "metadata": {},
   "outputs": [],
   "source": [
    "def print_big(letter):\n",
    "    led = {1:'X    ',2:'XXX',3:'XXXX',4:'XXXXX',5:'X   X',6:'  XXX',7:'X  X ',8:'  X  ',9:' X X ',10:'X XX ',11:'XX XX',12:'X X X',13:'XX  X',14:'X  XX',15:' XXX ',16:'    X',17:' XXXX',18:'     ',19:'   X ',20:' X   '}\n",
    "    key = {' ':[18,18,18,18],'A':[8,9,4,5,5,18],'B':[4,5,4,5,4,18],'C':[4,1,1,1,4,18],'D':[3,5,5,5,3,18],'E':[4,1,2,1,4,18],'F':[4,1,2,1,1,18],'G':[4,1,14,5,4,18],'H':[5,5,4,5,5,18],'I':[8,8,8,8,8,18],'J':[16,16,5,5,17,18],'K':[5,7,2,7,5,18],'L':[1,1,1,1,4,18],'M':[5,11,12,5,5,18],'N':[5,13,12,14,5,18],'O':[15,5,5,5,15,18],'P':[4,5,4,1,1,18],'Q':[4,5,12,14,4,18],'R':[3,7,2,7,5,18],'S':[4,1,4,16,4,18],'T':[4,8,8,8,8,18],'U':[5,5,5,5,4,18],'V':[5,5,9,9,8,18],'W':[5,5,12,11,5,18],'X':[5,9,8,9,5,18],'Y':[5,9,8,8,8,18],'Z':[4,19,8,20,4,18]}\n",
    "    \n",
    "    reader = []\n",
    "    for x in range(len(letter)):\n",
    "        reader.append(letter[x])\n",
    "    \n",
    "    for xx in range(len(reader)):\n",
    "        y = (reader[xx])\n",
    "        printhead = (key[y.upper()])    \n",
    "        for yy in printhead:\n",
    "            print(led[yy])\n",
    "        \n",
    "    "
   ]
  },
  {
   "cell_type": "code",
   "execution_count": 1110,
   "metadata": {},
   "outputs": [
    {
     "name": "stdout",
     "output_type": "stream",
     "text": [
      "X   X\n",
      "X   X\n",
      "XXXXX\n",
      "X   X\n",
      "X   X\n",
      "     \n",
      "  X  \n",
      "  X  \n",
      "  X  \n",
      "  X  \n",
      "  X  \n",
      "     \n",
      "     \n",
      "     \n",
      "     \n",
      "     \n",
      "X   X\n",
      "XX XX\n",
      "X X X\n",
      "X   X\n",
      "X   X\n",
      "     \n",
      "X   X\n",
      " X X \n",
      "  X  \n",
      "  X  \n",
      "  X  \n",
      "     \n",
      "     \n",
      "     \n",
      "     \n",
      "     \n",
      "X   X\n",
      "XX  X\n",
      "X X X\n",
      "X  XX\n",
      "X   X\n",
      "     \n",
      "  X  \n",
      " X X \n",
      "XXXXX\n",
      "X   X\n",
      "X   X\n",
      "     \n",
      "X   X\n",
      "XX XX\n",
      "X X X\n",
      "X   X\n",
      "X   X\n",
      "     \n",
      "XXXXX\n",
      "X    \n",
      "XXX\n",
      "X    \n",
      "XXXXX\n",
      "     \n",
      "     \n",
      "     \n",
      "     \n",
      "     \n",
      "  X  \n",
      "  X  \n",
      "  X  \n",
      "  X  \n",
      "  X  \n",
      "     \n",
      "XXXXX\n",
      "X    \n",
      "XXXXX\n",
      "    X\n",
      "XXXXX\n",
      "     \n",
      "     \n",
      "     \n",
      "     \n",
      "     \n",
      "XXXXX\n",
      "X    \n",
      "X    \n",
      "X    \n",
      "XXXXX\n",
      "     \n",
      "X   X\n",
      "X   X\n",
      "XXXXX\n",
      "X   X\n",
      "X   X\n",
      "     \n",
      "  X  \n",
      "  X  \n",
      "  X  \n",
      "  X  \n",
      "  X  \n",
      "     \n",
      "XXXXX\n",
      "X    \n",
      "X    \n",
      "X    \n",
      "XXXXX\n",
      "     \n",
      " XXX \n",
      "X   X\n",
      "X   X\n",
      "X   X\n",
      " XXX \n",
      "     \n"
     ]
    }
   ],
   "source": [
    "print_big('hi my name is chico')"
   ]
  },
  {
   "cell_type": "code",
   "execution_count": null,
   "metadata": {},
   "outputs": [],
   "source": []
  },
  {
   "cell_type": "code",
   "execution_count": null,
   "metadata": {},
   "outputs": [],
   "source": []
  }
 ],
 "metadata": {
  "kernelspec": {
   "display_name": "Python 3",
   "language": "python",
   "name": "python3"
  },
  "language_info": {
   "codemirror_mode": {
    "name": "ipython",
    "version": 3
   },
   "file_extension": ".py",
   "mimetype": "text/x-python",
   "name": "python",
   "nbconvert_exporter": "python",
   "pygments_lexer": "ipython3",
   "version": "3.7.6"
  }
 },
 "nbformat": 4,
 "nbformat_minor": 4
}
