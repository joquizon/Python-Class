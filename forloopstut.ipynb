{
 "cells": [
  {
   "cell_type": "code",
   "execution_count": 1,
   "metadata": {},
   "outputs": [],
   "source": [
    "#objects like lists dictionaries tuples are iterable... you can go through each item inside it."
   ]
  },
  {
   "cell_type": "code",
   "execution_count": 2,
   "metadata": {},
   "outputs": [],
   "source": [
    " mylist =[1,2,3,4,5,6,7,8,9,10]"
   ]
  },
  {
   "cell_type": "code",
   "execution_count": 3,
   "metadata": {},
   "outputs": [
    {
     "name": "stdout",
     "output_type": "stream",
     "text": [
      "1\n",
      "2\n",
      "3\n",
      "4\n",
      "5\n",
      "6\n",
      "7\n",
      "8\n",
      "9\n",
      "10\n"
     ]
    }
   ],
   "source": [
    "for num in mylist:\n",
    "    print(num)"
   ]
  },
  {
   "cell_type": "code",
   "execution_count": 4,
   "metadata": {},
   "outputs": [],
   "source": [
    "# num is a variable name of your own choosing does not have to be defined."
   ]
  },
  {
   "cell_type": "code",
   "execution_count": 9,
   "metadata": {},
   "outputs": [
    {
     "name": "stdout",
     "output_type": "stream",
     "text": [
      "i love you 1 time doodoobrown\n",
      "i love you 2 time doodoobrown\n",
      "i love you 3 time doodoobrown\n",
      "i love you 4 time doodoobrown\n",
      "i love you 5 time doodoobrown\n",
      "i love you 6 time doodoobrown\n",
      "i love you 7 time doodoobrown\n",
      "i love you 8 time doodoobrown\n",
      "i love you 9 time doodoobrown\n",
      "i love you 10 time doodoobrown\n"
     ]
    }
   ],
   "source": [
    "for doodoobrown in mylist:\n",
    "    print(f\"i love you {doodoobrown} time doodoobrown\")"
   ]
  },
  {
   "cell_type": "code",
   "execution_count": 13,
   "metadata": {},
   "outputs": [],
   "source": [
    "#you can do even or odd no.s\n",
    "# you can iterate with conditionals"
   ]
  },
  {
   "cell_type": "code",
   "execution_count": 14,
   "metadata": {},
   "outputs": [
    {
     "name": "stdout",
     "output_type": "stream",
     "text": [
      "1 is an odd number\n",
      "2\n",
      "3 is an odd number\n",
      "4\n",
      "5 is an odd number\n",
      "6\n",
      "7 is an odd number\n",
      "8\n",
      "9 is an odd number\n",
      "10\n"
     ]
    }
   ],
   "source": [
    "for num in mylist:\n",
    "    #this checks for item is divisble by 2 which would make it even\n",
    "    if num%2 ==0:\n",
    "    #if the item divided by 2 is equal to 0 then print it\n",
    "        print(num)\n",
    "    #and using a conditional u can also have it print the odds\n",
    "    else: \n",
    "        print (f'{num} is an odd number')"
   ]
  },
  {
   "cell_type": "code",
   "execution_count": 15,
   "metadata": {},
   "outputs": [],
   "source": [
    "#u can also keep a tally of the sum of the numbers in your list"
   ]
  },
  {
   "cell_type": "code",
   "execution_count": 22,
   "metadata": {},
   "outputs": [
    {
     "name": "stdout",
     "output_type": "stream",
     "text": [
      "1\n",
      "3\n",
      "6\n",
      "10\n",
      "15\n",
      "21\n",
      "28\n",
      "36\n",
      "45\n",
      "55\n"
     ]
    }
   ],
   "source": [
    "sum = 0\n",
    "for num in mylist:\n",
    "    sum = sum + num\n",
    "    # sum is redifined every iteration and then added to the next iteration\n",
    "    # sum starts at 0 then is added to 1 ... so now the new sum is now 1 so when it iterates\n",
    "    # to 2 sum = 1 and is added to 2 which makes 3 the new sum.\n",
    "    print(sum)"
   ]
  },
  {
   "cell_type": "code",
   "execution_count": 23,
   "metadata": {},
   "outputs": [],
   "source": [
    "# note that the indentation of the function print(sum) changes what it does...see below."
   ]
  },
  {
   "cell_type": "code",
   "execution_count": 24,
   "metadata": {},
   "outputs": [
    {
     "name": "stdout",
     "output_type": "stream",
     "text": [
      "55\n"
     ]
    }
   ],
   "source": [
    "sum = 0\n",
    "for num in mylist:\n",
    "    sum = sum + num\n",
    "print(sum)"
   ]
  },
  {
   "cell_type": "code",
   "execution_count": 25,
   "metadata": {},
   "outputs": [],
   "source": [
    "# you can also iterate through strings"
   ]
  },
  {
   "cell_type": "code",
   "execution_count": 26,
   "metadata": {},
   "outputs": [
    {
     "name": "stdout",
     "output_type": "stream",
     "text": [
      "h\n",
      "e\n",
      "l\n",
      "l\n",
      "o\n",
      " \n",
      "w\n",
      "o\n",
      "r\n",
      "l\n",
      "d\n"
     ]
    }
   ],
   "source": [
    "stringex = 'hello world'\n",
    "\n",
    "for x in stringex:\n",
    "    print(x)"
   ]
  },
  {
   "cell_type": "code",
   "execution_count": 27,
   "metadata": {},
   "outputs": [],
   "source": [
    "# or just do the actual string"
   ]
  },
  {
   "cell_type": "code",
   "execution_count": 28,
   "metadata": {},
   "outputs": [
    {
     "name": "stdout",
     "output_type": "stream",
     "text": [
      "h\n",
      "e\n",
      "l\n",
      "l\n",
      "o\n",
      " \n",
      "w\n",
      "o\n",
      "r\n",
      "l\n",
      "d\n"
     ]
    }
   ],
   "source": [
    "\n",
    "for x in 'hello world':\n",
    "    print(x)"
   ]
  },
  {
   "cell_type": "code",
   "execution_count": 29,
   "metadata": {},
   "outputs": [],
   "source": [
    "# or just skip the variable altogether"
   ]
  },
  {
   "cell_type": "code",
   "execution_count": 30,
   "metadata": {},
   "outputs": [
    {
     "name": "stdout",
     "output_type": "stream",
     "text": [
      " my dude! \n",
      " my dude! \n",
      " my dude! \n",
      " my dude! \n",
      " my dude! \n",
      " my dude! \n",
      " my dude! \n",
      " my dude! \n",
      " my dude! \n",
      " my dude! \n",
      " my dude! \n"
     ]
    }
   ],
   "source": [
    "\n",
    "for _ in 'hello world':\n",
    "    print(' my dude! ')"
   ]
  },
  {
   "cell_type": "code",
   "execution_count": 39,
   "metadata": {},
   "outputs": [
    {
     "name": "stdout",
     "output_type": "stream",
     "text": [
      "1\n",
      "2\n",
      "3\n"
     ]
    }
   ],
   "source": [
    "tup = (1,2,3)\n",
    "\n",
    "for dude in tup:\n",
    "    print(dude)"
   ]
  },
  {
   "cell_type": "code",
   "execution_count": 43,
   "metadata": {},
   "outputs": [],
   "source": [
    "# tuple unpacking duplicating the structure of the tuple and iterate through an object that contains tuple sequences"
   ]
  },
  {
   "cell_type": "code",
   "execution_count": 42,
   "metadata": {},
   "outputs": [
    {
     "name": "stdout",
     "output_type": "stream",
     "text": [
      "(1, 2)\n",
      "(3, 4)\n",
      "(5, 6)\n"
     ]
    }
   ],
   "source": [
    "tuplist = [(1,2),(3,4),(5,6)]\n",
    "\n",
    "for x in tuplist:\n",
    "    print(x)"
   ]
  },
  {
   "cell_type": "code",
   "execution_count": 45,
   "metadata": {},
   "outputs": [],
   "source": [
    "# but with tuple unpacking you can get each of the tuple items by duplicating its structure in the list"
   ]
  },
  {
   "cell_type": "code",
   "execution_count": 49,
   "metadata": {},
   "outputs": [
    {
     "name": "stdout",
     "output_type": "stream",
     "text": [
      "1 and to the 2 snoop doggy dogg and dr dre is at the do!\n",
      "3 and to the 4 snoop doggy dogg and dr dre is at the do!\n",
      "5 and to the 6 snoop doggy dogg and dr dre is at the do!\n"
     ]
    }
   ],
   "source": [
    "for x,y in tuplist:\n",
    "    #you might also see it formatted (x,y)\n",
    "    print(f'{x} and to the {y} snoop doggy dogg and dr dre is at the do!')"
   ]
  },
  {
   "cell_type": "code",
   "execution_count": 54,
   "metadata": {},
   "outputs": [
    {
     "name": "stdout",
     "output_type": "stream",
     "text": [
      "ready to make an entrance so back on up!\n",
      "prepare to make an introduction so back on up!\n"
     ]
    }
   ],
   "source": [
    "g_list = [('i','ready','entrance'),('this','prepared','introduction')]\n",
    "\n",
    "for a,b,c in g_list:\n",
    "    print(f'{b} to make an {c} so back on up!')\n"
   ]
  },
  {
   "cell_type": "code",
   "execution_count": 56,
   "metadata": {},
   "outputs": [],
   "source": [
    "#iterate through a dictionary where u can also do some unpcking"
   ]
  },
  {
   "cell_type": "code",
   "execution_count": 57,
   "metadata": {},
   "outputs": [
    {
     "name": "stdout",
     "output_type": "stream",
     "text": [
      "k1\n",
      "k2\n",
      "k3\n"
     ]
    }
   ],
   "source": [
    "d={'k1':'Unfadeable', 'k2':'so please dont', 'k3':'Try to fade this'}\n",
    "\n",
    "for lyric in d:\n",
    "    print(lyric)"
   ]
  },
  {
   "cell_type": "code",
   "execution_count": 59,
   "metadata": {},
   "outputs": [
    {
     "name": "stdout",
     "output_type": "stream",
     "text": [
      "k1 Unfadeable\n",
      "k2 so please dont\n",
      "k3 Try to fade this\n"
     ]
    }
   ],
   "source": [
    "for key,lyric in d.items():\n",
    "    print(key,lyric)"
   ]
  },
  {
   "cell_type": "code",
   "execution_count": 60,
   "metadata": {},
   "outputs": [
    {
     "name": "stdout",
     "output_type": "stream",
     "text": [
      "Unfadeable\n",
      "so please dont\n",
      "Try to fade this\n"
     ]
    }
   ],
   "source": [
    "for key,lyric in d.items():\n",
    "    print(lyric)"
   ]
  },
  {
   "cell_type": "code",
   "execution_count": 62,
   "metadata": {},
   "outputs": [],
   "source": [
    "#just remember dictionaries are not ordered or sorted!!!! so you won't necessarilly get the seq you listed in the order u listed when a loop iterates thru"
   ]
  },
  {
   "cell_type": "code",
   "execution_count": null,
   "metadata": {},
   "outputs": [],
   "source": []
  }
 ],
 "metadata": {
  "kernelspec": {
   "display_name": "Python 3",
   "language": "python",
   "name": "python3"
  },
  "language_info": {
   "codemirror_mode": {
    "name": "ipython",
    "version": 3
   },
   "file_extension": ".py",
   "mimetype": "text/x-python",
   "name": "python",
   "nbconvert_exporter": "python",
   "pygments_lexer": "ipython3",
   "version": "3.7.6"
  }
 },
 "nbformat": 4,
 "nbformat_minor": 4
}
