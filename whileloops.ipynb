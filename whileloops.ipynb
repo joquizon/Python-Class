{
 "cells": [
  {
   "cell_type": "code",
   "execution_count": 2,
   "metadata": {},
   "outputs": [],
   "source": [
    "#while loops execute only when and as the specified boolean is true"
   ]
  },
  {
   "cell_type": "code",
   "execution_count": 3,
   "metadata": {},
   "outputs": [],
   "source": []
  },
  {
   "cell_type": "code",
   "execution_count": 15,
   "metadata": {},
   "outputs": [
    {
     "name": "stdout",
     "output_type": "stream",
     "text": [
      "the value of x is 0\n",
      "the value of x is 1\n",
      "the value of x is 2\n",
      "the value of x is 3\n",
      "the value of x is 4\n"
     ]
    }
   ],
   "source": [
    "x=0\n",
    "while x < 5:\n",
    "    #so long as x is less than 5 do the following\n",
    "    print(f'the value of x is {x}')\n",
    "    x  = x+1\n",
    "    #this can also be written as x+=1"
   ]
  },
  {
   "cell_type": "code",
   "execution_count": 16,
   "metadata": {},
   "outputs": [
    {
     "name": "stdout",
     "output_type": "stream",
     "text": [
      "the value of x is 0\n",
      "the value of x is 1\n",
      "the value of x is 2\n",
      "the value of x is 3\n",
      "the value of x is 4\n",
      "x is not < 5\n"
     ]
    }
   ],
   "source": [
    "x=0\n",
    "while x < 5:\n",
    "    print(f'the value of x is {x}')\n",
    "    x+=1\n",
    "else:\n",
    "    print('x is not < 5')\n",
    "\n",
    "    "
   ]
  },
  {
   "cell_type": "code",
   "execution_count": 17,
   "metadata": {},
   "outputs": [],
   "source": [
    "# continue - skips item; break - stops at item; pass- do nothing"
   ]
  },
  {
   "cell_type": "code",
   "execution_count": 18,
   "metadata": {},
   "outputs": [],
   "source": [
    "mystring= 'reginaldo'"
   ]
  },
  {
   "cell_type": "code",
   "execution_count": 19,
   "metadata": {},
   "outputs": [],
   "source": [
    "for x in mystring:\n",
    "    pass"
   ]
  },
  {
   "cell_type": "code",
   "execution_count": 21,
   "metadata": {},
   "outputs": [
    {
     "name": "stdout",
     "output_type": "stream",
     "text": [
      "r\n",
      "e\n",
      "g\n"
     ]
    }
   ],
   "source": [
    "for x in mystring:\n",
    "    if x == 'i':\n",
    "        break\n",
    "    print(x)"
   ]
  },
  {
   "cell_type": "code",
   "execution_count": 22,
   "metadata": {},
   "outputs": [
    {
     "name": "stdout",
     "output_type": "stream",
     "text": [
      "r\n",
      "e\n",
      "g\n",
      "n\n",
      "a\n",
      "l\n",
      "d\n",
      "o\n"
     ]
    }
   ],
   "source": [
    "for x in mystring:\n",
    "    if x == 'i':\n",
    "        continue\n",
    "    print(x)"
   ]
  },
  {
   "cell_type": "code",
   "execution_count": null,
   "metadata": {},
   "outputs": [],
   "source": []
  },
  {
   "cell_type": "code",
   "execution_count": null,
   "metadata": {},
   "outputs": [],
   "source": []
  },
  {
   "cell_type": "code",
   "execution_count": null,
   "metadata": {},
   "outputs": [],
   "source": []
  }
 ],
 "metadata": {
  "kernelspec": {
   "display_name": "Python 3",
   "language": "python",
   "name": "python3"
  },
  "language_info": {
   "codemirror_mode": {
    "name": "ipython",
    "version": 3
   },
   "file_extension": ".py",
   "mimetype": "text/x-python",
   "name": "python",
   "nbconvert_exporter": "python",
   "pygments_lexer": "ipython3",
   "version": "3.7.6"
  }
 },
 "nbformat": 4,
 "nbformat_minor": 4
}
