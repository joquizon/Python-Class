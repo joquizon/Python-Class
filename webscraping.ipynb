{
 "cells": [
  {
   "cell_type": "code",
   "execution_count": 1,
   "metadata": {},
   "outputs": [],
   "source": [
    "import requests"
   ]
  },
  {
   "cell_type": "code",
   "execution_count": 2,
   "metadata": {},
   "outputs": [],
   "source": [
    "result =requests.get('http://visualsystem.info/')"
   ]
  },
  {
   "cell_type": "code",
   "execution_count": 3,
   "metadata": {},
   "outputs": [
    {
     "data": {
      "text/plain": [
       "requests.models.Response"
      ]
     },
     "execution_count": 3,
     "metadata": {},
     "output_type": "execute_result"
    }
   ],
   "source": [
    "type(result)"
   ]
  },
  {
   "cell_type": "code",
   "execution_count": 4,
   "metadata": {},
   "outputs": [
    {
     "data": {
      "text/plain": [
       "'<!doctype html>\\n<html>\\n\\t<head>\\n\\t\\t<title>Chico Quizon Artist</title>\\n\\t\\t<meta name=\"description\" content=\"artwork of Jose Chico Quizon\">\\n\\t\\t<meta name=\"description\" content=\"artwork of Jose Chico Quizon\">\\n\\t\\t<meta name=\"keywords\" content=\"chico artist,Chico artist,chico quizon artist,Quizon artist,chico,Chico,chico quizon,Quizon,Jose Quizon,filipino artist,jose quizon,jose chico quizon,pinoy artist,contemporary pinoy artist,contemporary filipino artist,district gallery,gallery nine,expatriate filipino artist,hypervisual,robot scans flower,collezione,collezione collaboration, collezione artist collaboration,filipino robot,alabama filipino artist,jackson heights artist, jackson heights based artist,artist emt, artist EMT,infographic artist,information graphic artist,information artist,system art,mixed media artist, filipino mixed media artist,filipino mixed media art,new york based filipino artist,nyc based filipino artist,nyc based pinoy artist,new york based pinoy artist,queens based pinoy artist,artist who work on mylar, acetate art, mylar art,art and technology\">\\t\\t\\n\\t\\t<link rel=\"shortcut icon\" href=\"https://66.media.tumblr.com/avatar_fa065595b886_128.pnj\">\\n\\t\\t<link rel=\"stylesheet\" href=\"css/vs.css\">\\n\\t\\t<link rel=\"stylesheet\" href=\"css/vsmq.css\">\\t\\t\\n\\t\\t<meta name=\"viewport\" content=\"width=device-width, initial-scale=1.0\"/>\\n\\t\\t<script src=\"https://ajax.googleapis.com/ajax/libs/jquery/2.2.4/jquery.min.js\"></script>\\t\\t\\n\\t\\t<script src=\"js/vs.js\"></script>\\n\\t\\t<link href=\"https://fonts.googleapis.com/css?family=Roboto\" rel=\"stylesheet\">\\n\\t\\t<link href=\"https://fonts.googleapis.com/css?family=VT323\" rel=\"stylesheet\">\\n\\t\\t<link href=\"https://fonts.googleapis.com/css?family=Press+Start+2P\" rel=\"stylesheet\">\\n\\t</head>\\n\\t\\t<body>\\n\\t\\t\\t<div id=\"menubutton\">\\n\\t\\t\\t\\t+\\n\\t\\t\\t</div>\\n\\t\\t\\t<div id=\"#slidetab\">\\n\\t\\t\\t</div>\\n\\n\\t\\t\\t<div class=\"titleholder\">\\n\\t\\t\\t\\t\\n\\t\\t\\t</div>\\t\\t\\n\\t\\t\\t<!-- navigation -->\\n\\n\\t\\t\\t\\t<div class=\"biobox\"id=\"biostatement\">\\n\\n\\t\\t\\t\\t</div>\\n\\t\\t</body>\\n</html>\\n\\n'"
      ]
     },
     "execution_count": 4,
     "metadata": {},
     "output_type": "execute_result"
    }
   ],
   "source": [
    "result.text"
   ]
  },
  {
   "cell_type": "code",
   "execution_count": 5,
   "metadata": {},
   "outputs": [],
   "source": [
    "import bs4"
   ]
  },
  {
   "cell_type": "code",
   "execution_count": 6,
   "metadata": {},
   "outputs": [],
   "source": [
    "soup = bs4.BeautifulSoup(result.text,'lxml')"
   ]
  },
  {
   "cell_type": "code",
   "execution_count": 7,
   "metadata": {},
   "outputs": [
    {
     "data": {
      "text/plain": [
       "<!DOCTYPE html>\n",
       "<html>\n",
       "<head>\n",
       "<title>Chico Quizon Artist</title>\n",
       "<meta content=\"artwork of Jose Chico Quizon\" name=\"description\"/>\n",
       "<meta content=\"artwork of Jose Chico Quizon\" name=\"description\"/>\n",
       "<meta content=\"chico artist,Chico artist,chico quizon artist,Quizon artist,chico,Chico,chico quizon,Quizon,Jose Quizon,filipino artist,jose quizon,jose chico quizon,pinoy artist,contemporary pinoy artist,contemporary filipino artist,district gallery,gallery nine,expatriate filipino artist,hypervisual,robot scans flower,collezione,collezione collaboration, collezione artist collaboration,filipino robot,alabama filipino artist,jackson heights artist, jackson heights based artist,artist emt, artist EMT,infographic artist,information graphic artist,information artist,system art,mixed media artist, filipino mixed media artist,filipino mixed media art,new york based filipino artist,nyc based filipino artist,nyc based pinoy artist,new york based pinoy artist,queens based pinoy artist,artist who work on mylar, acetate art, mylar art,art and technology\" name=\"keywords\"/>\n",
       "<link href=\"https://66.media.tumblr.com/avatar_fa065595b886_128.pnj\" rel=\"shortcut icon\"/>\n",
       "<link href=\"css/vs.css\" rel=\"stylesheet\"/>\n",
       "<link href=\"css/vsmq.css\" rel=\"stylesheet\"/>\n",
       "<meta content=\"width=device-width, initial-scale=1.0\" name=\"viewport\"/>\n",
       "<script src=\"https://ajax.googleapis.com/ajax/libs/jquery/2.2.4/jquery.min.js\"></script>\n",
       "<script src=\"js/vs.js\"></script>\n",
       "<link href=\"https://fonts.googleapis.com/css?family=Roboto\" rel=\"stylesheet\"/>\n",
       "<link href=\"https://fonts.googleapis.com/css?family=VT323\" rel=\"stylesheet\"/>\n",
       "<link href=\"https://fonts.googleapis.com/css?family=Press+Start+2P\" rel=\"stylesheet\"/>\n",
       "</head>\n",
       "<body>\n",
       "<div id=\"menubutton\">\n",
       "\t\t\t\t+\n",
       "\t\t\t</div>\n",
       "<div id=\"#slidetab\">\n",
       "</div>\n",
       "<div class=\"titleholder\">\n",
       "</div>\n",
       "<!-- navigation -->\n",
       "<div class=\"biobox\" id=\"biostatement\">\n",
       "</div>\n",
       "</body>\n",
       "</html>"
      ]
     },
     "execution_count": 7,
     "metadata": {},
     "output_type": "execute_result"
    }
   ],
   "source": [
    "soup"
   ]
  },
  {
   "cell_type": "code",
   "execution_count": 8,
   "metadata": {},
   "outputs": [
    {
     "data": {
      "text/plain": [
       "[<title>Chico Quizon Artist</title>]"
      ]
     },
     "execution_count": 8,
     "metadata": {},
     "output_type": "execute_result"
    }
   ],
   "source": [
    "soup.select('title')"
   ]
  },
  {
   "cell_type": "code",
   "execution_count": 9,
   "metadata": {},
   "outputs": [
    {
     "data": {
      "text/plain": [
       "<title>Chico Quizon Artist</title>"
      ]
     },
     "execution_count": 9,
     "metadata": {},
     "output_type": "execute_result"
    }
   ],
   "source": [
    "soup.select('title')[0]"
   ]
  },
  {
   "cell_type": "code",
   "execution_count": 10,
   "metadata": {},
   "outputs": [
    {
     "data": {
      "text/plain": [
       "'Chico Quizon Artist'"
      ]
     },
     "execution_count": 10,
     "metadata": {},
     "output_type": "execute_result"
    }
   ],
   "source": [
    "soup.select('title')[0].getText()"
   ]
  },
  {
   "cell_type": "code",
   "execution_count": null,
   "metadata": {},
   "outputs": [],
   "source": []
  },
  {
   "cell_type": "code",
   "execution_count": null,
   "metadata": {
    "scrolled": true
   },
   "outputs": [],
   "source": []
  },
  {
   "cell_type": "code",
   "execution_count": null,
   "metadata": {},
   "outputs": [],
   "source": []
  },
  {
   "cell_type": "code",
   "execution_count": null,
   "metadata": {},
   "outputs": [],
   "source": []
  }
 ],
 "metadata": {
  "kernelspec": {
   "display_name": "Python 3",
   "language": "python",
   "name": "python3"
  },
  "language_info": {
   "codemirror_mode": {
    "name": "ipython",
    "version": 3
   },
   "file_extension": ".py",
   "mimetype": "text/x-python",
   "name": "python",
   "nbconvert_exporter": "python",
   "pygments_lexer": "ipython3",
   "version": "3.7.6"
  }
 },
 "nbformat": 4,
 "nbformat_minor": 4
}
