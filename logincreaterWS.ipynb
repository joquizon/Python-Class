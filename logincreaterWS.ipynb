{
 "cells": [
  {
   "cell_type": "code",
   "execution_count": 1,
   "metadata": {},
   "outputs": [
    {
     "name": "stdout",
     "output_type": "stream",
     "text": [
      "['A', 'A', 'A', 'A', 'A', 'A', 'A', 'A', 'A', 'A', 'A', 'A', 'A', 'A', 'A', 'A', 'A', 'A', 'A', 'A', 'A', 'A', 'A']\n"
     ]
    }
   ],
   "source": [
    "dataentered=[0,0,0,0,0,0,0,0,0,0,0,0,0,0,0,0,0,0]\n",
    "\n",
    "dataentered.clear()\n",
    "for x in range(23):\n",
    "    dataentered.append('A')\n",
    "print(dataentered)"
   ]
  },
  {
   "cell_type": "code",
   "execution_count": 2,
   "metadata": {},
   "outputs": [
    {
     "data": {
      "text/plain": [
       "23"
      ]
     },
     "execution_count": 2,
     "metadata": {},
     "output_type": "execute_result"
    }
   ],
   "source": [
    "len(dataentered)"
   ]
  },
  {
   "cell_type": "code",
   "execution_count": 3,
   "metadata": {},
   "outputs": [],
   "source": [
    "screennames = ['chico']\n",
    "passwords = ['0908a*']\n",
    "\n",
    "screennames1 = []\n",
    "passwords1 = []\n",
    "\n",
    "def credloader():\n",
    "    from cryptography.fernet import Fernet\n",
    "    fkey = open('testdocs/filekey.night','rb')\n",
    "    key = fkey.read()\n",
    "    cipher = Fernet(key)          \n",
    "\n",
    "    with open('testdocs/mulder.night','rb') as df:\n",
    "        encryptedfile = df.read()\n",
    "    decrypted_file = cipher.decrypt(encryptedfile)\n",
    "\n",
    "\n",
    "    screener = (decrypted_file.decode()).splitlines() \n",
    "    for sm in range(len(screener)):\n",
    "        screennames1.append(screener[sm])\n",
    "        \n",
    "\n",
    "    with open('testdocs/scully.night','rb') as ef:\n",
    "        encryptedfile2 = ef.read()\n",
    "    decrypted_file2 = cipher.decrypt(encryptedfile2)\n",
    "\n",
    "\n",
    "    passer = (decrypted_file2.decode()).splitlines() \n",
    "    for tn in range(len(passer)):\n",
    "        passwords1.append(passer[tn])\n",
    "        \n",
    "\n",
    "def entrycrypt():\n",
    "    from cryptography.fernet import Fernet\n",
    "    fkey = open('testdocs/filekey.night','rb')\n",
    "    key = fkey.read()\n",
    "    print (key)\n",
    "    cipher = Fernet(key)\n",
    "\n",
    "#     opens created files to be encrypted and encrypts\n",
    "    foxfile= 'testdocs/mulder.night'\n",
    "    with open(foxfile,'rb')as e:\n",
    "        foxfiletoencrypt = e.read()\n",
    "\n",
    "    foxencryptedfile = cipher.encrypt(foxfiletoencrypt) \n",
    "    with open(foxfile,'wb') as xx:\n",
    "        xx.write(foxencryptedfile)\n",
    "\n",
    "        \n",
    "    danafile= 'testdocs/scully.night'\n",
    "    with open(danafile,'rb')as e:\n",
    "        danafiletoencrypt = e.read()\n",
    "\n",
    "    danaencryptedfile = cipher.encrypt(danafiletoencrypt) \n",
    "    with open(danafile,'wb') as xx:\n",
    "        xx.write(danaencryptedfile)\n",
    "        \n",
    "        \n",
    "    with open('testdocs/scully.night','rb') as df:\n",
    "        encryptedfile = df.read()\n",
    "        print(encryptedfile)\n",
    "        print('>>>>>>>>>>>>>>>>>>>>>>>')\n",
    "    decrypted_file = cipher.decrypt(encryptedfile)   \n",
    "    print(decrypted_file)\n",
    "    \n",
    "def entrystore():\n",
    "    with open(f'testdocs\\\\mulder.night',mode='w')as f:\n",
    "        for m in range(len(screennames)):\n",
    "            f.write(f'{screennames[m]}\\n')\n",
    "    with open(f'testdocs\\\\scully.night',mode='w')as d:\n",
    "        for n in range(len(passwords)):\n",
    "            d.write(f'{passwords[n]}\\n')\n",
    "    print('filecreated')\n",
    "    entrycrypt()\n",
    "\n",
    "def passwordCreate():\n",
    "    print('create your password here\\nyour password needs be at least 6 characters long and\\n to include one of each of the following !@#$%^&*, a number and a letter:')\n",
    "    alphab = 'abcdefghijklmnopqrstuvwxyz'\n",
    "    nmr = '1234567890'\n",
    "    symb = '!@#$%^&*'\n",
    "    pcheck = [[],[],[]]\n",
    "    newpass = input('new password: ')\n",
    "    for a in range(len(newpass)):\n",
    "        if newpass[a] in (alphab):\n",
    "            pcheck[0].append('A')\n",
    "        elif newpass[a] in (nmr):\n",
    "            pcheck[1].append('B')\n",
    "        elif newpass[a] in (symb):\n",
    "            pcheck[2].append('C')\n",
    "        else:\n",
    "            print('you are using an unauthorized character in your password READ THE INSTRUCTION PLS.')\n",
    "            passwordCreate()\n",
    "            \n",
    "    if len(pcheck[0])>0 and len(pcheck[1])>0 and len(pcheck[2])>0 and len(newpass) > 5:\n",
    "        print('password Created')\n",
    "        passwords.append(newpass)\n",
    "        entrystore()\n",
    "    else:\n",
    "        print('password missing requirement/s try again')\n",
    "        passwordCreate()\n",
    "                \n",
    "def createEntry():\n",
    "    print('create screen name here')\n",
    "    newuser = input('enter your new username here: ')\n",
    "    for a in range(len(screennames)):\n",
    "        if newuser != screennames[a]:\n",
    "            screennames.append(newuser)\n",
    "            passwordCreate()\n",
    "        else:\n",
    "            print('that user name has been picked')\n",
    "            createEntry()\n",
    "\n",
    "def login():\n",
    "    scn = input('enter your screen name: ')\n",
    "    for x in range(len(screennames)):\n",
    "        if scn == screennames[x]:\n",
    "            pw = input('enter your password: ')\n",
    "            for y in range(len(passwords)):\n",
    "                if pw == passwords[y]:\n",
    "                    print('welcome!!!')\n",
    "                else:\n",
    "                    print('try again boo boo')\n",
    "        else:\n",
    "            print('nah boo that dont jive baybeh')\n",
    "            login()            \n",
    "def logout():\n",
    "    login()\n",
    "\n"
   ]
  },
  {
   "cell_type": "code",
   "execution_count": 2,
   "metadata": {},
   "outputs": [
    {
     "name": "stdout",
     "output_type": "stream",
     "text": [
      "enter your screen name: jose\n",
      "enter your password: 1\n",
      "yes\n"
     ]
    }
   ],
   "source": [
    "screennames = ['chico','jose','dude']\n",
    "passwords = ['0908a*','1','3']\n",
    "\n",
    "\n",
    "def login():\n",
    "    scn = input('enter your screen name: ')\n",
    "    pw = input('enter your password: ')\n",
    "    logcheck = []\n",
    "    for x in range(len(screennames)):\n",
    "        if scn == screennames[x]:\n",
    "            logcheck.append('s')\n",
    "        else:\n",
    "            pass\n",
    "            \n",
    "    for y in range(len(passwords)):\n",
    "        if pw == passwords[y]:\n",
    "            logcheck.append('s')\n",
    "        else:\n",
    "            pass\n",
    "    if len(logcheck) == 2:\n",
    "        print('yes')\n",
    "    else:\n",
    "        print('try again')\n",
    "        login()\n",
    "login()"
   ]
  },
  {
   "cell_type": "code",
   "execution_count": null,
   "metadata": {},
   "outputs": [],
   "source": [
    "alphab2 = 'abcdefghijklmnopqrstuvwxyz'\n",
    "nmr2 = '1234567890'\n",
    "symb2 = '!@#$%^&*'\n",
    "passw = 'gogo1*'\n",
    "for x in range(len(passw)):\n",
    "    print(passw[x])\n",
    "    if passw[x] in (symb2):\n",
    "        print('yes')"
   ]
  },
  {
   "cell_type": "code",
   "execution_count": null,
   "metadata": {},
   "outputs": [],
   "source": []
  }
 ],
 "metadata": {
  "kernelspec": {
   "display_name": "Python 3",
   "language": "python",
   "name": "python3"
  },
  "language_info": {
   "codemirror_mode": {
    "name": "ipython",
    "version": 3
   },
   "file_extension": ".py",
   "mimetype": "text/x-python",
   "name": "python",
   "nbconvert_exporter": "python",
   "pygments_lexer": "ipython3",
   "version": "3.7.6"
  }
 },
 "nbformat": 4,
 "nbformat_minor": 4
}
