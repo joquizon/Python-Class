{
 "cells": [
  {
   "cell_type": "code",
   "execution_count": 1,
   "metadata": {},
   "outputs": [],
   "source": [
    "#control flow executing code only when u want to hendce if elif else statements"
   ]
  },
  {
   "cell_type": "code",
   "execution_count": 13,
   "metadata": {},
   "outputs": [
    {
     "name": "stdout",
     "output_type": "stream",
     "text": [
      "ooooobaby\n"
     ]
    }
   ],
   "source": [
    "t = 2\n",
    "\n",
    "if t == 4 :\n",
    "    print('Yayus!')\n",
    "elif t <= 5 :\n",
    "    print ('ooooobaby')\n",
    "else:\n",
    "    print('i dunno')"
   ]
  },
  {
   "cell_type": "code",
   "execution_count": 18,
   "metadata": {},
   "outputs": [
    {
     "name": "stdout",
     "output_type": "stream",
     "text": [
      "dude\n"
     ]
    }
   ],
   "source": [
    "hungry = True\n",
    "\n",
    "if hungry:\n",
    "    print('dude')\n",
    "else:\n",
    "    print('you aight?')"
   ]
  },
  {
   "cell_type": "code",
   "execution_count": 19,
   "metadata": {},
   "outputs": [
    {
     "name": "stdout",
     "output_type": "stream",
     "text": [
      "good to hear\n"
     ]
    }
   ],
   "source": [
    "condition = 'good'\n",
    "\n",
    "if condition== 'good':\n",
    "    print('good to hear')\n",
    "elif condition == 'ok':\n",
    "    print ('aight so you just ok?')\n",
    "else:\n",
    "    print(\"what's wrong boo?\")"
   ]
  },
  {
   "cell_type": "code",
   "execution_count": 20,
   "metadata": {},
   "outputs": [
    {
     "name": "stdout",
     "output_type": "stream",
     "text": [
      "aight so you just ok?\n"
     ]
    }
   ],
   "source": [
    "condition = 'ok'\n",
    "\n",
    "if condition== 'good':\n",
    "    print('good to hear')\n",
    "elif condition == 'ok':\n",
    "    print ('aight so you just ok?')\n",
    "else:\n",
    "    print(\"what's wrong boo?\")"
   ]
  },
  {
   "cell_type": "code",
   "execution_count": 21,
   "metadata": {},
   "outputs": [
    {
     "name": "stdout",
     "output_type": "stream",
     "text": [
      "what's wrong boo?\n"
     ]
    }
   ],
   "source": [
    "condition = 'nah'\n",
    "\n",
    "if condition== 'good':\n",
    "    print('good to hear')\n",
    "elif condition == 'ok':\n",
    "    print ('aight so you just ok?')\n",
    "else:\n",
    "    print(\"what's wrong boo?\")"
   ]
  },
  {
   "cell_type": "code",
   "execution_count": null,
   "metadata": {},
   "outputs": [],
   "source": []
  }
 ],
 "metadata": {
  "kernelspec": {
   "display_name": "Python 3",
   "language": "python",
   "name": "python3"
  },
  "language_info": {
   "codemirror_mode": {
    "name": "ipython",
    "version": 3
   },
   "file_extension": ".py",
   "mimetype": "text/x-python",
   "name": "python",
   "nbconvert_exporter": "python",
   "pygments_lexer": "ipython3",
   "version": "3.7.6"
  }
 },
 "nbformat": 4,
 "nbformat_minor": 4
}
