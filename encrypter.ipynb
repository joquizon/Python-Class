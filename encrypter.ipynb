{
 "cells": [
  {
   "cell_type": "code",
   "execution_count": 8,
   "metadata": {},
   "outputs": [
    {
     "name": "stdout",
     "output_type": "stream",
     "text": [
      "b'9Pz2EtueqW6hvlDaI1C2SFUzYVbWUetxscaLx18j5k4='\n"
     ]
    }
   ],
   "source": [
    "from cryptography.fernet import Fernet\n",
    "key = Fernet.generate_key()\n",
    "fkey = open('testdocs/filekey1.txt','wb')\n",
    "fkey.write(key)\n",
    "print (key)"
   ]
  },
  {
   "cell_type": "code",
   "execution_count": 5,
   "metadata": {},
   "outputs": [
    {
     "name": "stdout",
     "output_type": "stream",
     "text": [
      "b'gAAAAABfrxca3t3jDslE4xxurbw68jSuINvuXSkTbvJpo0dwahnf9nX5e5ZTUDpY9Xb4pmB9d2QpmbuJwSuYAam-Fv8D074AXMKkXBcT9M-7ee9K3UkO-Rs='\n"
     ]
    }
   ],
   "source": [
    "#this is encryption\n",
    "cipher = Fernet(key)\n",
    "encrypted_mssg = cipher.encrypt(b'this is secret!@!!')\n",
    "print (encrypted_mssg)"
   ]
  },
  {
   "cell_type": "code",
   "execution_count": 17,
   "metadata": {},
   "outputs": [
    {
     "name": "stdout",
     "output_type": "stream",
     "text": [
      "this is secret!@!!\n"
     ]
    }
   ],
   "source": [
    "# this is decryption\n",
    "decrypted_mssg = cipher.decrypt(encrypted_mssg)\n",
    "print(decrypted_mssg.decode())"
   ]
  },
  {
   "cell_type": "code",
   "execution_count": 22,
   "metadata": {},
   "outputs": [
    {
     "name": "stdout",
     "output_type": "stream",
     "text": [
      "b'eInZzczvLt6LOAFJ1PaHpED-uUyYMfnObMm09Bo1Olg='\n"
     ]
    }
   ],
   "source": [
    "from cryptography.fernet import Fernet\n",
    "key = Fernet.generate_key()\n",
    "fkey = open('testdocs/filekey3.txt','wb')\n",
    "fkey.write(key)\n",
    "print (key)"
   ]
  },
  {
   "cell_type": "code",
   "execution_count": 23,
   "metadata": {},
   "outputs": [
    {
     "name": "stdout",
     "output_type": "stream",
     "text": [
      "b'eInZzczvLt6LOAFJ1PaHpED-uUyYMfnObMm09Bo1Olg='\n"
     ]
    }
   ],
   "source": [
    "from cryptography.fernet import Fernet\n",
    "fkey = open('testdocs/filekey3.txt','rb')\n",
    "key = fkey.read()\n",
    "print (key)"
   ]
  },
  {
   "cell_type": "code",
   "execution_count": 20,
   "metadata": {},
   "outputs": [],
   "source": [
    "filename= 'testdocs/noclist.night'\n",
    "with open(filename,'rb')as f:\n",
    "    filetoencrypt = f.read()\n",
    "encryptedfile = cipher.encrypt(filetoencrypt)\n",
    "with open(filename+'encV','wb') as ef:\n",
    "    ef.write(encryptedfile)"
   ]
  },
  {
   "cell_type": "code",
   "execution_count": 21,
   "metadata": {},
   "outputs": [
    {
     "name": "stdout",
     "output_type": "stream",
     "text": [
      "b'gAAAAABfrxyeK7DktY8dVrUWnYTV_7R5rxOUL05msVV_8hO5HSb-uQyX8biN_KhNrfRoVWnaQ7EvEhUkVWDCf-cDDeU-tA4H0w=='\n",
      "chico\n"
     ]
    }
   ],
   "source": [
    "with open(filename+'encV','rb') as df:\n",
    "    encryptedfile = df.read()\n",
    "    \n",
    "decrypted_file = cipher.decrypt(encryptedfile)\n",
    "print(encryptedfile)\n",
    "print(decrypted_file.decode())"
   ]
  },
  {
   "cell_type": "code",
   "execution_count": null,
   "metadata": {},
   "outputs": [],
   "source": []
  }
 ],
 "metadata": {
  "kernelspec": {
   "display_name": "Python 3",
   "language": "python",
   "name": "python3"
  },
  "language_info": {
   "codemirror_mode": {
    "name": "ipython",
    "version": 3
   },
   "file_extension": ".py",
   "mimetype": "text/x-python",
   "name": "python",
   "nbconvert_exporter": "python",
   "pygments_lexer": "ipython3",
   "version": "3.7.6"
  }
 },
 "nbformat": 4,
 "nbformat_minor": 4
}
