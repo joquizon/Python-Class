{
 "cells": [
  {
   "cell_type": "code",
   "execution_count": 11,
   "metadata": {},
   "outputs": [
    {
     "name": "stdout",
     "output_type": "stream",
     "text": [
      "b'3xvlt4qp3b-LuBe0-SxVWPahUXJcA2XdxiyRYd5CclE='\n"
     ]
    }
   ],
   "source": [
    "from cryptography.fernet import Fernet\n",
    "key = Fernet.generate_key()\n",
    "fkey = open('Documents/Python-Class/testdocs/filekey.txt','wb')\n",
    "fkey.write(key)\n",
    "print (key)"
   ]
  },
  {
   "cell_type": "code",
   "execution_count": 5,
   "metadata": {},
   "outputs": [
    {
     "name": "stdout",
     "output_type": "stream",
     "text": [
      "b'gAAAAABfDdOf7l5378NOtRJGd7AB82waG53cl--G3upXIaXhoRtw51ifWvXKxXyA6z9l5lKAOM03DNuV0wPS7QpCzRJBb-rtdw=='\n"
     ]
    }
   ],
   "source": [
    "#this is encryption\n",
    "cipher = Fernet(key)\n",
    "encrypted_mssg = cipher.encrypt(b'this is secret')\n",
    "print (encrypted_mssg)"
   ]
  },
  {
   "cell_type": "code",
   "execution_count": 7,
   "metadata": {},
   "outputs": [
    {
     "name": "stdout",
     "output_type": "stream",
     "text": [
      "this is secret\n"
     ]
    }
   ],
   "source": [
    "# this is decryption\n",
    "decrypted_mssg = cipher.decrypt(encrypted_mssg)\n",
    "print(decrypted_mssg.decode())"
   ]
  },
  {
   "cell_type": "code",
   "execution_count": 12,
   "metadata": {},
   "outputs": [
    {
     "name": "stdout",
     "output_type": "stream",
     "text": [
      "b'sF0LmRYUL2wRyEhngOYx0rRO09_t0mNPUs-RBZLPRoA='\n"
     ]
    }
   ],
   "source": [
    "from cryptography.fernet import Fernet\n",
    "key = Fernet.generate_key()\n",
    "fkey = open('Documents/Python-Class/testdocs/filekey.txt','wb')\n",
    "fkey.write(key)\n",
    "print (key)"
   ]
  },
  {
   "cell_type": "code",
   "execution_count": 14,
   "metadata": {},
   "outputs": [
    {
     "name": "stdout",
     "output_type": "stream",
     "text": [
      "b'sF0LmRYUL2wRyEhngOYx0rRO09_t0mNPUs-RBZLPRoA='\n"
     ]
    }
   ],
   "source": [
    "from cryptography.fernet import Fernet\n",
    "fkey = open('Documents/Python-Class/testdocs/filekey.txt','rb')\n",
    "key = fkey.read()\n",
    "print (key)"
   ]
  },
  {
   "cell_type": "code",
   "execution_count": 18,
   "metadata": {},
   "outputs": [],
   "source": [
    "filename= 'Documents/Python-Class/testdocs/chicoquizon.txt'\n",
    "with open(filename,'rb')as f:\n",
    "    filetoencrypt = f.read()\n",
    "encryptedfile = cipher.encrypt(filetoencrypt)\n",
    "with open(filename+'encV','wb') as ef:\n",
    "    ef.write(encryptedfile)"
   ]
  },
  {
   "cell_type": "code",
   "execution_count": 21,
   "metadata": {},
   "outputs": [
    {
     "name": "stdout",
     "output_type": "stream",
     "text": [
      "b'gAAAAABfDdimTrDxhF6oelGLjQwx0YMiytx6KVyiZBa65NoHEyGj8_q28AQlKj9-AcM9123zB70UnXEgtlruraVekPhLHTp_xBmfEsZkNybHSU4maHVTnrUYNqH8Aky8v71UWDfYSS3bAgkLLZ9fZqOedS5uCvAdUWjigmbdqXXD_bIMZ1vn2WYuJyFjFYFLIohvmQD0jDYeydtdal0x1ULli04q4wOyLWJhjL48744Iai_rLXWGeFQGlwWo0NlMShSeXtbYrkvBXfCqqim6zP2bMZdwhFwTRg=='\n",
      "chico\r\n",
      "quizon\r\n",
      "123456789\r\n",
      "1234567890\r\n",
      "jat\r\n",
      "add\r\n",
      "ny\r\n",
      "NY\r\n",
      "11111\r\n",
      "07\r\n",
      "10\r\n",
      "2020\r\n",
      "FD\r\n",
      "*ntmgr\r\n",
      "28.365384615384613\r\n",
      "1134.6153846153845\r\n",
      "4538.461538461538\r\n",
      "59000.0\r\n",
      "\n"
     ]
    }
   ],
   "source": [
    "with open(filename+'encV','rb') as df:\n",
    "    encryptedfile = df.read()\n",
    "    \n",
    "decrypted_file = cipher.decrypt(encryptedfile)\n",
    "print(encryptedfile)\n",
    "print(decrypted_file.decode())"
   ]
  },
  {
   "cell_type": "code",
   "execution_count": null,
   "metadata": {},
   "outputs": [],
   "source": []
  }
 ],
 "metadata": {
  "kernelspec": {
   "display_name": "Python 3",
   "language": "python",
   "name": "python3"
  },
  "language_info": {
   "codemirror_mode": {
    "name": "ipython",
    "version": 3
   },
   "file_extension": ".py",
   "mimetype": "text/x-python",
   "name": "python",
   "nbconvert_exporter": "python",
   "pygments_lexer": "ipython3",
   "version": "3.7.6"
  }
 },
 "nbformat": 4,
 "nbformat_minor": 4
}
