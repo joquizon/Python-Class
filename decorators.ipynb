{
 "cells": [
  {
   "cell_type": "code",
   "execution_count": 1,
   "metadata": {},
   "outputs": [
    {
     "data": {
      "text/plain": [
       "<function __main__.printName()>"
      ]
     },
     "execution_count": 1,
     "metadata": {},
     "output_type": "execute_result"
    }
   ],
   "source": [
    "def printName():\n",
    "    x = input('what is your name: ')\n",
    "    print(x)\n",
    "    def welcomer():\n",
    "        print(\"welcome mav? where's goose?!\")\n",
    "    def callsigner():\n",
    "        y = input('what is your callsign: ')\n",
    "        print(y)\n",
    "    \n",
    "    \n",
    "    if x == 'pete mitchell':\n",
    "        return welcomer\n",
    "    else:\n",
    "        callsigner()\n",
    "        \n",
    "printName"
   ]
  },
  {
   "cell_type": "code",
   "execution_count": 7,
   "metadata": {},
   "outputs": [
    {
     "name": "stdout",
     "output_type": "stream",
     "text": [
      "what is your name: pete mitchell\n",
      "pete mitchell\n"
     ]
    }
   ],
   "source": [
    "interog = printName()"
   ]
  },
  {
   "cell_type": "code",
   "execution_count": 8,
   "metadata": {},
   "outputs": [
    {
     "data": {
      "text/plain": [
       "<function __main__.printName.<locals>.welcomer()>"
      ]
     },
     "execution_count": 8,
     "metadata": {},
     "output_type": "execute_result"
    }
   ],
   "source": [
    "interog"
   ]
  },
  {
   "cell_type": "code",
   "execution_count": 9,
   "metadata": {},
   "outputs": [
    {
     "name": "stdout",
     "output_type": "stream",
     "text": [
      "welcome mav? where's goose?!\n"
     ]
    }
   ],
   "source": [
    "interog()"
   ]
  },
  {
   "cell_type": "code",
   "execution_count": null,
   "metadata": {},
   "outputs": [],
   "source": []
  },
  {
   "cell_type": "code",
   "execution_count": 3,
   "metadata": {},
   "outputs": [
    {
     "name": "stdout",
     "output_type": "stream",
     "text": [
      "what is your name: pop\n",
      "pop\n",
      "pop289\n"
     ]
    }
   ],
   "source": [
    "# passing in func as argument\n",
    "import random\n",
    "\n",
    "def numAssign():\n",
    "    return random.randint(200,300)\n",
    "    \n",
    "def namer(func):\n",
    "    x = input('what is your name: ')\n",
    "    print(x)\n",
    "    callno = func()\n",
    "    print(x+str(callno))\n",
    "\n",
    "namer(numAssign)"
   ]
  },
  {
   "cell_type": "code",
   "execution_count": null,
   "metadata": {},
   "outputs": [],
   "source": [
    "# extrafuncs is a func that takes in a function as an argument and integrates it with extraIns so it does more stuff\n",
    "# namethatKiller is basic func that doesnt do much until extraFuncs takes it in as an argument\n",
    "# newfunc is a new name or variable assignment when extrafuncs is run =with  namethatkiller as the argument "
   ]
  },
  {
   "cell_type": "code",
   "execution_count": 11,
   "metadata": {},
   "outputs": [],
   "source": [
    "import random\n",
    "def extraFuncs(basefunc):\n",
    "    fakePre = ['johnson','smith','jones','goldberg']\n",
    "    fakeSuff = ['the grappler', 'the choker','the fister','the dragger']\n",
    "    \n",
    "    def extraIns():\n",
    "        x = random.randint(0,3)\n",
    "        print(f'{basefunc()} {fakePre[x]} {fakeSuff[x]}')\n",
    "    return extraIns"
   ]
  },
  {
   "cell_type": "code",
   "execution_count": 12,
   "metadata": {},
   "outputs": [],
   "source": [
    "def nameThatKiller():\n",
    "    z = input('what is your name: ')\n",
    "    return z"
   ]
  },
  {
   "cell_type": "code",
   "execution_count": 13,
   "metadata": {},
   "outputs": [
    {
     "data": {
      "text/plain": [
       "<function __main__.extraFuncs.<locals>.extraIns()>"
      ]
     },
     "execution_count": 13,
     "metadata": {},
     "output_type": "execute_result"
    }
   ],
   "source": [
    "extraFuncs(nameThatKiller)"
   ]
  },
  {
   "cell_type": "code",
   "execution_count": 14,
   "metadata": {},
   "outputs": [],
   "source": [
    "newFunc = extraFuncs(nameThatKiller)"
   ]
  },
  {
   "cell_type": "code",
   "execution_count": 15,
   "metadata": {},
   "outputs": [
    {
     "name": "stdout",
     "output_type": "stream",
     "text": [
      "what is your name: Lorna\n",
      "Lorna smith the choker\n"
     ]
    }
   ],
   "source": [
    "newFunc()"
   ]
  },
  {
   "cell_type": "code",
   "execution_count": 16,
   "metadata": {},
   "outputs": [],
   "source": [
    "#  or u could use the Decorator @\n",
    "@extraFuncs\n",
    "def nameThatKiller2():\n",
    "    z = input('what is your Killer name: ')\n",
    "    return z"
   ]
  },
  {
   "cell_type": "code",
   "execution_count": 18,
   "metadata": {},
   "outputs": [
    {
     "name": "stdout",
     "output_type": "stream",
     "text": [
      "what is your Killer name: judy\n",
      "judy goldberg the dragger\n"
     ]
    }
   ],
   "source": [
    "nameThatKiller2()"
   ]
  },
  {
   "cell_type": "code",
   "execution_count": null,
   "metadata": {},
   "outputs": [],
   "source": []
  }
 ],
 "metadata": {
  "kernelspec": {
   "display_name": "Python 3",
   "language": "python",
   "name": "python3"
  },
  "language_info": {
   "codemirror_mode": {
    "name": "ipython",
    "version": 3
   },
   "file_extension": ".py",
   "mimetype": "text/x-python",
   "name": "python",
   "nbconvert_exporter": "python",
   "pygments_lexer": "ipython3",
   "version": "3.7.6"
  }
 },
 "nbformat": 4,
 "nbformat_minor": 4
}
